{
 "cells": [
  {
   "cell_type": "code",
   "execution_count": 1,
   "metadata": {},
   "outputs": [],
   "source": [
    "import numpy as np\n",
    "import matplotlib.pyplot as plt\n",
    "%matplotlib inline "
   ]
  },
  {
   "cell_type": "markdown",
   "metadata": {},
   "source": [
    "## 【問題1】2×2マスのチェス盤の小麦の数\n",
    "2×2マスのチェス盤をndarrayによって表現し、各マスの小麦の数を計算してください。\n",
    "\n",
    "左上のマスに小麦を1つ置いた後、その右が2つ、左下が4つ、右下が8つという風に進みます。\n",
    "\n",
    "サンプルコードで作成したndarrayのshapeの変形を行ってください。"
   ]
  },
  {
   "cell_type": "code",
   "execution_count": 14,
   "metadata": {},
   "outputs": [
    {
     "name": "stdout",
     "output_type": "stream",
     "text": [
      "4マスの板に小麦を並べる（リスト）：[1, 2, 4, 8]\n"
     ]
    }
   ],
   "source": [
    "n_squares = 4\n",
    "small_board_list = [1]\n",
    "for _ in range(n_squares - 1):\n",
    "    small_board_list.append(2*small_board_list[-1])\n",
    "print(\"4マスの板に小麦を並べる（リスト）：{}\".format(small_board_list))"
   ]
  },
  {
   "cell_type": "code",
   "execution_count": 8,
   "metadata": {},
   "outputs": [
    {
     "name": "stdout",
     "output_type": "stream",
     "text": [
      "4マスの板に小麦を並べる（ndarray）：[1 2 4 8]\n"
     ]
    }
   ],
   "source": [
    "small_board_ndarray = np.array(small_board_list)\n",
    "print(\"4マスの板に小麦を並べる（ndarray）：{}\".format(small_board_ndarray))"
   ]
  },
  {
   "cell_type": "code",
   "execution_count": 23,
   "metadata": {},
   "outputs": [
    {
     "name": "stdout",
     "output_type": "stream",
     "text": [
      "【問題１】の答え\n",
      "\n",
      "[[1 2]\n",
      " [4 8]]\n"
     ]
    }
   ],
   "source": [
    "small_board_ndarray = small_board_ndarray.reshape(2,2)\n",
    "print(\"【問題１】の答え\\n\\n{}\".format(small_board_ndarray))"
   ]
  },
  {
   "cell_type": "markdown",
   "metadata": {},
   "source": [
    "## 【問題2】n×mマスへの拡張\n",
    "n×mマスのチェス盤の小麦の数を記したndarrayを返す関数を作成してください。\n",
    "\n",
    "そして、この関数を使い8×8マスのチェス盤の小麦の数を求めてください。\n",
    "\n"
   ]
  },
  {
   "cell_type": "code",
   "execution_count": 121,
   "metadata": {},
   "outputs": [
    {
     "name": "stdout",
     "output_type": "stream",
     "text": [
      "【問題２】の答え\n",
      "\n",
      "[[1.00000000e+00 2.00000000e+00 4.00000000e+00 8.00000000e+00\n",
      "  1.60000000e+01 3.20000000e+01 6.40000000e+01 1.28000000e+02]\n",
      " [2.56000000e+02 5.12000000e+02 1.02400000e+03 2.04800000e+03\n",
      "  4.09600000e+03 8.19200000e+03 1.63840000e+04 3.27680000e+04]\n",
      " [6.55360000e+04 1.31072000e+05 2.62144000e+05 5.24288000e+05\n",
      "  1.04857600e+06 2.09715200e+06 4.19430400e+06 8.38860800e+06]\n",
      " [1.67772160e+07 3.35544320e+07 6.71088640e+07 1.34217728e+08\n",
      "  2.68435456e+08 5.36870912e+08 1.07374182e+09 2.14748365e+09]\n",
      " [4.29496730e+09 8.58993459e+09 1.71798692e+10 3.43597384e+10\n",
      "  6.87194767e+10 1.37438953e+11 2.74877907e+11 5.49755814e+11]\n",
      " [1.09951163e+12 2.19902326e+12 4.39804651e+12 8.79609302e+12\n",
      "  1.75921860e+13 3.51843721e+13 7.03687442e+13 1.40737488e+14]\n",
      " [2.81474977e+14 5.62949953e+14 1.12589991e+15 2.25179981e+15\n",
      "  4.50359963e+15 9.00719925e+15 1.80143985e+16 3.60287970e+16]\n",
      " [7.20575940e+16 1.44115188e+17 2.88230376e+17 5.76460752e+17\n",
      "  1.15292150e+18 2.30584301e+18 4.61168602e+18 9.22337204e+18]]\n"
     ]
    }
   ],
   "source": [
    "def create_ndarray(n, m):\n",
    "    small_board_list = [1]\n",
    "    for _ in range(n*m - 1):\n",
    "        small_board_list.append(2*small_board_list[-1])\n",
    "        \n",
    "    small_board_ndarray = np.array(small_board_list).reshape(n, m)\n",
    "    return small_board_ndarray\n",
    "\n",
    "n, m = 8, 8\n",
    "print(\"【問題２】の答え\\n\\n{}\".format(create_ndarray(n, m)))\n"
   ]
  },
  {
   "cell_type": "markdown",
   "metadata": {},
   "source": [
    "## 【問題3】小麦の数の合計\n",
    "8×8マスのチェス盤の小麦の数の合計を求めてください。また、各列の平均を求め、それを棒グラフで可視化してください。\n",
    "\n",
    "\n",
    "棒グラフはサンプルコードを用意しています。"
   ]
  },
  {
   "cell_type": "code",
   "execution_count": 122,
   "metadata": {},
   "outputs": [
    {
     "name": "stdout",
     "output_type": "stream",
     "text": [
      "チェス盤の小麦の数の合計は 1.845e+19 個\n"
     ]
    }
   ],
   "source": [
    "small_board_array = create_ndarray(8, 8)\n",
    "\n",
    "#チェス盤の小麦の数の合計\n",
    "sum_small_board_array = np.sum(small_board_array)\n",
    "print(\"チェス盤の小麦の数の合計は {:.3e} 個\".format(sum_small_board_array))\n"
   ]
  },
  {
   "cell_type": "code",
   "execution_count": 123,
   "metadata": {},
   "outputs": [
    {
     "data": {
      "image/png": "[encoded data removed]",
      "text/plain": [
       "<Figure size 432x288 with 1 Axes>"
      ]
     },
     "metadata": {
      "needs_background": "light"
     },
     "output_type": "display_data"
    }
   ],
   "source": [
    "#各列の平均の棒グラフ\n",
    "mean_of_columns = np.mean(small_board_array, axis=0)\n",
    "X = np.arange(1, len(mean_of_columns) + 1)\n",
    "Y = mean_of_columns\n",
    "\n",
    "plt.bar(X, Y)\n",
    "plt.grid()\n",
    "plt.xlabel(\"column\")\n",
    "plt.ylabel(\"each_column_average\")\n",
    "plt.show()\n"
   ]
  },
  {
   "cell_type": "markdown",
   "metadata": {},
   "source": [
    "## 【問題4】小麦の数のヒートマップ\n",
    "8×8マスのチェス盤の小麦の数をヒートマップとして可視化してください。\n",
    "\n",
    "\n",
    "ヒートマップはサンプルコードを用意しています。\n",
    "\n",
    "\n",
    "《ヒートマップのサンプルコード》\n",
    "\n",
    "\n",
    "4行2列の配列のヒートマップです。値が小さいところが紫、大きいところが黄色になっています。\n",
    "\n",
    "```.python\n",
    "plt.xlabel(\"column\")\n",
    "plt.ylabel(\"row\")\n",
    "plt.title(\"heatmap\")\n",
    "plt.pcolor(np.array([0, 1, 3, 5, 7, 9, 11, 13]).reshape(4, 2))\n",
    "plt.show()\n",
    "\n",
    "```\n",
    "\n",
    "### 参考\n",
    "<a herf=\"https://matplotlib.org/3.1.0/api/_as_gen/matplotlib.pyplot.pcolor.html\"> matplotlib.pyplot.pcolor — Matplotlib 3.1.0 documentation"
   ]
  },
  {
   "cell_type": "code",
   "execution_count": 86,
   "metadata": {},
   "outputs": [
    {
     "data": {
      "image/png": "[encoded data removed]",
      "text/plain": [
       "<Figure size 432x288 with 2 Axes>"
      ]
     },
     "metadata": {
      "needs_background": "light"
     },
     "output_type": "display_data"
    }
   ],
   "source": [
    "\n",
    "plt.xlabel(\"column\")\n",
    "plt.ylabel(\"row\")\n",
    "plt.title(\"heatmap\")\n",
    "plt.pcolor(small_board_array, alpha=0.8)\n",
    "plt.colorbar()\n",
    "plt.show()\n"
   ]
  },
  {
   "cell_type": "markdown",
   "metadata": {},
   "source": [
    "## 【問題5】後半は前半の何倍か\n",
    "チェス盤の後半にある小麦の数は前半にある小麦の数の何倍かを求めてください。前半とは配列の0から3行目、後半は4から7行目です。\n"
   ]
  },
  {
   "cell_type": "code",
   "execution_count": 91,
   "metadata": {},
   "outputs": [
    {
     "name": "stdout",
     "output_type": "stream",
     "text": [
      "後半は前半の 4294967296.0 倍です\n"
     ]
    }
   ],
   "source": [
    "first_half  = np.sum(small_board_array[0:4,:])\n",
    "second_half = np.sum(small_board_array[4:,:])\n",
    "\n",
    "\n",
    "print(\"後半は前半の {} 倍です\".format(second_half / first_half))"
   ]
  },
  {
   "cell_type": "markdown",
   "metadata": {},
   "source": [
    "## 【問題6】他の計算方法によるn×mマスへの拡張\n",
    "問題2と同様の「n×mマスのチェス盤の小麦の数を記したndarrayを返す関数」を、np.append()を使ったものと、\n",
    "\n",
    "ブロードキャストを使ったもので新たに作成してください。\n",
    "\n",
    "それらの関数を使い8×8マスのチェス盤の小麦の数を再び求めてください。"
   ]
  },
  {
   "cell_type": "code",
   "execution_count": 112,
   "metadata": {},
   "outputs": [
    {
     "name": "stdout",
     "output_type": "stream",
     "text": [
      "np.append()を使った関数で8×8マスのチェス盤の小麦の数を計算した結果\n",
      "\n",
      "1.845e+19\n"
     ]
    }
   ],
   "source": [
    "def create_ndarray_npappend(n, m):\n",
    "    board_ndarray = np.array([1]).astype(np.uint64)\n",
    "    for _ in range(1, n * m):\n",
    "        board_ndarray = np.append(board_ndarray, 2 * board_ndarray[-1])\n",
    "    return board_ndarray.reshape(n, m)\n",
    "\n",
    "n, m = 8, 8\n",
    "sum_board_array = np.sum(create_ndarray_npappend(n, m))\n",
    "print(\"np.append()を使った関数で8×8マスのチェス盤の小麦の数を計算した結果\\n\\n{:.3e}\".format(sum_board_array))"
   ]
  },
  {
   "cell_type": "code",
   "execution_count": 115,
   "metadata": {},
   "outputs": [
    {
     "name": "stdout",
     "output_type": "stream",
     "text": [
      "ブロードキャストを使った関数で8×8マスのチェス盤の小麦の数を計算した結果\n",
      "\n",
      "1.845e+19\n"
     ]
    }
   ],
   "source": [
    "def create_ndarray_broadcast(n, m):\n",
    "    board_ndarray = np.arange(n*m).astype(np.uint64).reshape(n, m)\n",
    "    board_ndarray = 2**board_ndarray\n",
    "    \n",
    "    return board_ndarray\n",
    "\n",
    "n, m = 8, 8\n",
    "sum_board_array = np.sum(create_ndarray_broadcast(n, m))\n",
    "print(\"ブロードキャストを使った関数で8×8マスのチェス盤の小麦の数を計算した結果\\n\\n{:.3e}\".format(sum_board_array))\n"
   ]
  },
  {
   "cell_type": "markdown",
   "metadata": {},
   "source": [
    "## 【問題7】計算時間の比較\n",
    "3種類の方法を見てきました。それぞれの計算時間をJupyter Notebookの%%timeitを用いて計測し、比較と考察を行ってください。\n",
    "\n",
    "\n",
    "%%timeitはセル内のコードを複数回実行し、その平均実行時間を出力する働きをします。"
   ]
  },
  {
   "cell_type": "code",
   "execution_count": 127,
   "metadata": {},
   "outputs": [
    {
     "name": "stdout",
     "output_type": "stream",
     "text": [
      "19.4 µs ± 3.83 µs per loop (mean ± std. dev. of 7 runs, 100000 loops each)\n"
     ]
    }
   ],
   "source": [
    "%%timeit\n",
    "create_ndarray(8, 8) # ①リストのappendを用いる"
   ]
  },
  {
   "cell_type": "code",
   "execution_count": 128,
   "metadata": {},
   "outputs": [
    {
     "name": "stdout",
     "output_type": "stream",
     "text": [
      "254 µs ± 22.2 µs per loop (mean ± std. dev. of 7 runs, 1000 loops each)\n"
     ]
    }
   ],
   "source": [
    "%%timeit\n",
    "create_ndarray_npappend(8, 8) #②ndarrayのappendを用いる"
   ]
  },
  {
   "cell_type": "code",
   "execution_count": 129,
   "metadata": {},
   "outputs": [
    {
     "name": "stdout",
     "output_type": "stream",
     "text": [
      "4.77 µs ± 1.81 µs per loop (mean ± std. dev. of 7 runs, 100000 loops each)\n"
     ]
    }
   ],
   "source": [
    "%%timeit\n",
    "create_ndarray_broadcast(8, 8) #③ブロードキャストを用いる"
   ]
  },
  {
   "cell_type": "markdown",
   "metadata": {},
   "source": [
    "### 比較結果\n",
    "③ > ① >> ②　の順で計算が早い\n",
    "\n",
    "### 考察\n",
    "\n",
    "③ブロードキャストで全ての行列の値を一度に同じ処理をするため早いと考えられる\n",
    "\n",
    "①for文内で値を１個ずつappendしているため、③より計算量が多くなり遅いと考えられる\n",
    "\n",
    "②リストのappend処理よりndarrayのappend処理の方が遅いため①より遅いと考えられる"
   ]
  }
 ],
 "metadata": {
  "kernelspec": {
   "display_name": "Python 3",
   "language": "python",
   "name": "python3"
  },
  "language_info": {
   "codemirror_mode": {
    "name": "ipython",
    "version": 3
   },
   "file_extension": ".py",
   "mimetype": "text/x-python",
   "name": "python",
   "nbconvert_exporter": "python",
   "pygments_lexer": "ipython3",
   "version": "3.7.4"
  }
 },
 "nbformat": 4,
 "nbformat_minor": 2
}
