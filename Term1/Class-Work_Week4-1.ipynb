{
 "cells": [
  {
   "cell_type": "code",
   "execution_count": 3,
   "metadata": {},
   "outputs": [],
   "source": [
    "import numpy as np\n",
    "import pandas as pd\n",
    "import matplotlib.pyplot as plt\n",
    "%matplotlib inline\n",
    "import seaborn as sns\n",
    "from scipy import stats\n",
    "\n",
    "pd.set_option('display.max_rows', 100)\n",
    "pd.set_option(\"display.max_columns\", 100)\n",
    "\n",
    "from sklearn.linear_model import LinearRegression\n",
    "from sklearn.tree import DecisionTreeRegressor\n",
    "from sklearn.svm import SVC\n",
    "from sklearn.ensemble import RandomForestClassifier\n",
    "from sklearn.model_selection import train_test_split\n",
    "from sklearn.metrics import confusion_matrix"
   ]
  },
  {
   "cell_type": "markdown",
   "metadata": {},
   "source": [
    "## 【問題1】コンペティション内容の確認\n",
    "コンペティションのOverviewページ読み、「Home Credit Default Risk」について以下の観点について確認してください。\n",
    "\n",
    "* 何を学習し、何を予測するのか\n",
    "* どのようなファイルを作りKaggleに提出するか\n",
    "* 提出されたものはどういった指標値で評価されるのか"
   ]
  },
  {
   "cell_type": "markdown",
   "metadata": {},
   "source": [
    "* 何を学習し、何を予測するのか  \n",
    "過去の取引情報と信用調査会社の情報から、クライアントの真の返済能力を予測する\n",
    "\n",
    "\n",
    "* どのようなファイルを作りKaggleに提出するか  \n",
    "↓の通り\n",
    "\n",
    "\n",
    "* 提出されたものはどういった指標値で評価されるのか  \n",
    "予測された確率と観測されたターゲット間のROC曲線の領域で評価される\n"
   ]
  },
  {
   "cell_type": "code",
   "execution_count": 4,
   "metadata": {},
   "outputs": [
    {
     "data": {
      "text/html": [
       "<div>\n",
       "<style scoped>\n",
       "    .dataframe tbody tr th:only-of-type {\n",
       "        vertical-align: middle;\n",
       "    }\n",
       "\n",
       "    .dataframe tbody tr th {\n",
       "        vertical-align: top;\n",
       "    }\n",
       "\n",
       "    .dataframe thead th {\n",
       "        text-align: right;\n",
       "    }\n",
       "</style>\n",
       "<table border=\"1\" class=\"dataframe\">\n",
       "  <thead>\n",
       "    <tr style=\"text-align: right;\">\n",
       "      <th></th>\n",
       "      <th>SK_ID_CURR</th>\n",
       "      <th>TARGET</th>\n",
       "    </tr>\n",
       "  </thead>\n",
       "  <tbody>\n",
       "    <tr>\n",
       "      <td>0</td>\n",
       "      <td>100001</td>\n",
       "      <td>0.5</td>\n",
       "    </tr>\n",
       "    <tr>\n",
       "      <td>1</td>\n",
       "      <td>100005</td>\n",
       "      <td>0.5</td>\n",
       "    </tr>\n",
       "    <tr>\n",
       "      <td>2</td>\n",
       "      <td>100013</td>\n",
       "      <td>0.5</td>\n",
       "    </tr>\n",
       "    <tr>\n",
       "      <td>3</td>\n",
       "      <td>100028</td>\n",
       "      <td>0.5</td>\n",
       "    </tr>\n",
       "    <tr>\n",
       "      <td>4</td>\n",
       "      <td>100038</td>\n",
       "      <td>0.5</td>\n",
       "    </tr>\n",
       "  </tbody>\n",
       "</table>\n",
       "</div>"
      ],
      "text/plain": [
       "   SK_ID_CURR  TARGET\n",
       "0      100001     0.5\n",
       "1      100005     0.5\n",
       "2      100013     0.5\n",
       "3      100028     0.5\n",
       "4      100038     0.5"
      ]
     },
     "execution_count": 4,
     "metadata": {},
     "output_type": "execute_result"
    }
   ],
   "source": [
    "train = pd.read_csv(\"application_train.csv\")\n",
    "test = pd.read_csv(\"application_test.csv\")\n",
    "sample = pd.read_csv(\"sample_submission.csv\")\n",
    "sample.head()"
   ]
  },
  {
   "cell_type": "markdown",
   "metadata": {},
   "source": [
    "## 【問題2】学習と検証\n",
    "データを簡単に分析、前処理し、学習、検証するまでの一連の流れを作成・実行してください。\n",
    "\n",
    "検証にはこのコンペティションで使用される評価指標を用いるようにしてください。学習に用いる手法は指定しません。"
   ]
  },
  {
   "cell_type": "markdown",
   "metadata": {},
   "source": [
    "### 欠損処理"
   ]
  },
  {
   "cell_type": "code",
   "execution_count": 5,
   "metadata": {},
   "outputs": [],
   "source": [
    "#欠損テーブルを作成する関数\n",
    "def missing_data(data):\n",
    "    total = data.isnull().sum().sort_values(ascending = False)\n",
    "    percent = (data.isnull().sum()/data.isnull().count()*100).sort_values(ascending = False)\n",
    "    return pd.concat([total, percent], axis=1, keys=['Total', 'Percent'])"
   ]
  },
  {
   "cell_type": "code",
   "execution_count": 6,
   "metadata": {},
   "outputs": [],
   "source": [
    "train_na_cols = missing_data(train).query(\"Total > 0\").index\n",
    "test_na_cols = missing_data(test).query(\"Total > 0\").index\n",
    "\n",
    "missing_cols = set(train_na_cols | test_na_cols)"
   ]
  },
  {
   "cell_type": "code",
   "execution_count": 7,
   "metadata": {},
   "outputs": [],
   "source": [
    "train = train.drop(columns=missing_cols)\n",
    "test = test.drop(columns=missing_cols)"
   ]
  },
  {
   "cell_type": "markdown",
   "metadata": {},
   "source": [
    "### カテゴリ変数の数値化"
   ]
  },
  {
   "cell_type": "code",
   "execution_count": 8,
   "metadata": {},
   "outputs": [],
   "source": [
    "from sklearn.preprocessing import LabelEncoder\n",
    "\n",
    "categorical_feats = train.dtypes[train.dtypes == \"object\"].index\n",
    "\n",
    "for cols in categorical_feats:\n",
    "    le = LabelEncoder()\n",
    "    train[cols] = le.fit_transform(train[cols])\n",
    "    test[cols] = le.fit_transform(test[cols])"
   ]
  },
  {
   "cell_type": "code",
   "execution_count": 9,
   "metadata": {},
   "outputs": [],
   "source": [
    "X = train.drop(\"TARGET\", axis=1)\n",
    "y = train[\"TARGET\"]"
   ]
  },
  {
   "cell_type": "markdown",
   "metadata": {},
   "source": [
    "特徴量が多いと学習が終わらないので絞る"
   ]
  },
  {
   "cell_type": "code",
   "execution_count": 10,
   "metadata": {},
   "outputs": [],
   "source": [
    "attention_feats = [\"CODE_GENDER\", \"AMT_INCOME_TOTAL\", \"ORGANIZATION_TYPE\"]\n",
    "X = train[attention_feats]"
   ]
  },
  {
   "cell_type": "code",
   "execution_count": 11,
   "metadata": {},
   "outputs": [],
   "source": [
    "X_train, X_test, y_train, y_test = train_test_split(X, y, test_size=0.3, random_state=0)"
   ]
  },
  {
   "cell_type": "code",
   "execution_count": 12,
   "metadata": {},
   "outputs": [],
   "source": [
    "rfc = RandomForestClassifier().fit(X_train, y_train)\n",
    "pred_rfc = rfc.predict(X_test)"
   ]
  },
  {
   "cell_type": "markdown",
   "metadata": {},
   "source": [
    "### 推定と評価"
   ]
  },
  {
   "cell_type": "code",
   "execution_count": 13,
   "metadata": {},
   "outputs": [
    {
     "name": "stdout",
     "output_type": "stream",
     "text": [
      "[[84750   164]\n",
      " [ 7318    22]]\n",
      "0.918897825568539\n",
      "0.11827956989247312\n",
      "0.002997275204359673\n",
      "0.005846399149614669\n"
     ]
    }
   ],
   "source": [
    "from sklearn.metrics import accuracy_score, precision_score, recall_score, f1_score\n",
    "from sklearn.metrics import roc_curve, roc_auc_score\n",
    "\n",
    "print(confusion_matrix(y_test, pred_rfc))\n",
    "print(accuracy_score(y_test, pred_rfc))\n",
    "print(precision_score(y_test, pred_rfc))\n",
    "print(recall_score(y_test, pred_rfc))\n",
    "print(f1_score(y_test, pred_rfc))"
   ]
  },
  {
   "cell_type": "markdown",
   "metadata": {},
   "source": [
    "### ROC曲線を描く"
   ]
  },
  {
   "cell_type": "code",
   "execution_count": 14,
   "metadata": {},
   "outputs": [
    {
     "name": "stdout",
     "output_type": "stream",
     "text": [
      "0.500532954675925\n"
     ]
    },
    {
     "data": {
      "image/png": "[encoded data removed]",
      "text/plain": [
       "<Figure size 432x288 with 1 Axes>"
      ]
     },
     "metadata": {
      "needs_background": "light"
     },
     "output_type": "display_data"
    }
   ],
   "source": [
    "fpr, tpr, thresholds = roc_curve(y_test, pred_rfc)\n",
    "plt.plot(fpr, tpr, marker='o')\n",
    "plt.xlabel('FPR: False positive rate')\n",
    "plt.ylabel('TPR: True positive rate')\n",
    "plt.grid()\n",
    "\n",
    "print(roc_auc_score(y_test, pred_rfc))"
   ]
  },
  {
   "cell_type": "markdown",
   "metadata": {},
   "source": [
    "## 【問題3】テストデータに対する推定"
   ]
  },
  {
   "cell_type": "code",
   "execution_count": 15,
   "metadata": {},
   "outputs": [],
   "source": [
    "test = test[attention_feats]"
   ]
  },
  {
   "cell_type": "code",
   "execution_count": 16,
   "metadata": {},
   "outputs": [],
   "source": [
    "pred = rfc.predict_proba(test)\n",
    "sample[\"TARGET\"] = pred[:, 1]"
   ]
  },
  {
   "cell_type": "code",
   "execution_count": 17,
   "metadata": {},
   "outputs": [],
   "source": [
    "sample.to_csv(\"submit.csv\", index=None)"
   ]
  },
  {
   "cell_type": "markdown",
   "metadata": {},
   "source": [
    "## 【問題4】特徴量エンジニアリング\n",
    "精度を上げるために以下のような観点で 特徴量エンジニアリング（Feature Engineering） を行ってください。\n",
    "\n",
    "* どの特徴量を使うか\n",
    "* どう前処理をするか\n",
    "\n",
    "何をした時に検証データに対する評価指標がどのようになったかをまとめてください。\n",
    "\n",
    "最低5パターンの学習・検証を行ってください。\n",
    "\n",
    "精度が高かったものに関してはテストデータに対しても推定を行い、Kaggleに提出を行ってください"
   ]
  },
  {
   "cell_type": "markdown",
   "metadata": {},
   "source": [
    "### 共通処理・分析・考察"
   ]
  },
  {
   "cell_type": "code",
   "execution_count": 18,
   "metadata": {},
   "outputs": [],
   "source": [
    "train = pd.read_csv(\"application_train.csv\")\n",
    "test = pd.read_csv(\"application_test.csv\")\n",
    "sample = pd.read_csv(\"sample_submission.csv\")"
   ]
  },
  {
   "cell_type": "code",
   "execution_count": 19,
   "metadata": {},
   "outputs": [],
   "source": [
    "#学習データを特徴量と目的変数に分ける\n",
    "train_x = train.drop([\"TARGET\"], axis=1)\n",
    "train_y = train[\"TARGET\"]\n",
    "#テストデータは特徴量のみなので、そのままでいい\n",
    "test_x = test.copy()\n",
    "\n",
    "#SK_ID_CURRは除外する\n",
    "train_x = train_x.drop([\"SK_ID_CURR\"], axis=1)\n",
    "test_x  = test_x.drop([\"SK_ID_CURR\"], axis=1)"
   ]
  },
  {
   "cell_type": "code",
   "execution_count": 20,
   "metadata": {},
   "outputs": [
    {
     "data": {
      "image/png": "[encoded data removed]",
      "text/plain": [
       "<Figure size 432x288 with 1 Axes>"
      ]
     },
     "metadata": {
      "needs_background": "light"
     },
     "output_type": "display_data"
    }
   ],
   "source": [
    "#ターゲットの分布を確認\n",
    "train_y.plot.hist()\n",
    "plt.show()"
   ]
  },
  {
   "cell_type": "markdown",
   "metadata": {},
   "source": [
    "ターゲットの分布に偏りがあることが判明  \n",
    "ほとんどが返済能力ありと分類されていることが分かる"
   ]
  },
  {
   "cell_type": "code",
   "execution_count": 21,
   "metadata": {},
   "outputs": [],
   "source": [
    "#欠損を確認する\n",
    "def missing_data(data):\n",
    "    total = data.isnull().sum().sort_values(ascending = False)\n",
    "    percent = (data.isnull().sum()/data.isnull().count()*100).sort_values(ascending = False)\n",
    "    return pd.concat([total, percent], axis=1, keys=['Total', 'Percent'])"
   ]
  },
  {
   "cell_type": "code",
   "execution_count": 22,
   "metadata": {},
   "outputs": [
    {
     "data": {
      "text/html": [
       "<div>\n",
       "<style scoped>\n",
       "    .dataframe tbody tr th:only-of-type {\n",
       "        vertical-align: middle;\n",
       "    }\n",
       "\n",
       "    .dataframe tbody tr th {\n",
       "        vertical-align: top;\n",
       "    }\n",
       "\n",
       "    .dataframe thead th {\n",
       "        text-align: right;\n",
       "    }\n",
       "</style>\n",
       "<table border=\"1\" class=\"dataframe\">\n",
       "  <thead>\n",
       "    <tr style=\"text-align: right;\">\n",
       "      <th></th>\n",
       "      <th>Total</th>\n",
       "      <th>Percent</th>\n",
       "    </tr>\n",
       "  </thead>\n",
       "  <tbody>\n",
       "    <tr>\n",
       "      <td>COMMONAREA_MEDI</td>\n",
       "      <td>214865</td>\n",
       "      <td>69.872297</td>\n",
       "    </tr>\n",
       "    <tr>\n",
       "      <td>COMMONAREA_AVG</td>\n",
       "      <td>214865</td>\n",
       "      <td>69.872297</td>\n",
       "    </tr>\n",
       "    <tr>\n",
       "      <td>COMMONAREA_MODE</td>\n",
       "      <td>214865</td>\n",
       "      <td>69.872297</td>\n",
       "    </tr>\n",
       "    <tr>\n",
       "      <td>NONLIVINGAPARTMENTS_MODE</td>\n",
       "      <td>213514</td>\n",
       "      <td>69.432963</td>\n",
       "    </tr>\n",
       "    <tr>\n",
       "      <td>NONLIVINGAPARTMENTS_MEDI</td>\n",
       "      <td>213514</td>\n",
       "      <td>69.432963</td>\n",
       "    </tr>\n",
       "    <tr>\n",
       "      <td>NONLIVINGAPARTMENTS_AVG</td>\n",
       "      <td>213514</td>\n",
       "      <td>69.432963</td>\n",
       "    </tr>\n",
       "    <tr>\n",
       "      <td>FONDKAPREMONT_MODE</td>\n",
       "      <td>210295</td>\n",
       "      <td>68.386172</td>\n",
       "    </tr>\n",
       "    <tr>\n",
       "      <td>LIVINGAPARTMENTS_MEDI</td>\n",
       "      <td>210199</td>\n",
       "      <td>68.354953</td>\n",
       "    </tr>\n",
       "    <tr>\n",
       "      <td>LIVINGAPARTMENTS_MODE</td>\n",
       "      <td>210199</td>\n",
       "      <td>68.354953</td>\n",
       "    </tr>\n",
       "    <tr>\n",
       "      <td>LIVINGAPARTMENTS_AVG</td>\n",
       "      <td>210199</td>\n",
       "      <td>68.354953</td>\n",
       "    </tr>\n",
       "    <tr>\n",
       "      <td>FLOORSMIN_AVG</td>\n",
       "      <td>208642</td>\n",
       "      <td>67.848630</td>\n",
       "    </tr>\n",
       "    <tr>\n",
       "      <td>FLOORSMIN_MEDI</td>\n",
       "      <td>208642</td>\n",
       "      <td>67.848630</td>\n",
       "    </tr>\n",
       "    <tr>\n",
       "      <td>FLOORSMIN_MODE</td>\n",
       "      <td>208642</td>\n",
       "      <td>67.848630</td>\n",
       "    </tr>\n",
       "    <tr>\n",
       "      <td>YEARS_BUILD_MEDI</td>\n",
       "      <td>204488</td>\n",
       "      <td>66.497784</td>\n",
       "    </tr>\n",
       "    <tr>\n",
       "      <td>YEARS_BUILD_MODE</td>\n",
       "      <td>204488</td>\n",
       "      <td>66.497784</td>\n",
       "    </tr>\n",
       "    <tr>\n",
       "      <td>YEARS_BUILD_AVG</td>\n",
       "      <td>204488</td>\n",
       "      <td>66.497784</td>\n",
       "    </tr>\n",
       "    <tr>\n",
       "      <td>OWN_CAR_AGE</td>\n",
       "      <td>202929</td>\n",
       "      <td>65.990810</td>\n",
       "    </tr>\n",
       "    <tr>\n",
       "      <td>LANDAREA_AVG</td>\n",
       "      <td>182590</td>\n",
       "      <td>59.376738</td>\n",
       "    </tr>\n",
       "    <tr>\n",
       "      <td>LANDAREA_MEDI</td>\n",
       "      <td>182590</td>\n",
       "      <td>59.376738</td>\n",
       "    </tr>\n",
       "    <tr>\n",
       "      <td>LANDAREA_MODE</td>\n",
       "      <td>182590</td>\n",
       "      <td>59.376738</td>\n",
       "    </tr>\n",
       "    <tr>\n",
       "      <td>BASEMENTAREA_AVG</td>\n",
       "      <td>179943</td>\n",
       "      <td>58.515956</td>\n",
       "    </tr>\n",
       "    <tr>\n",
       "      <td>BASEMENTAREA_MODE</td>\n",
       "      <td>179943</td>\n",
       "      <td>58.515956</td>\n",
       "    </tr>\n",
       "    <tr>\n",
       "      <td>BASEMENTAREA_MEDI</td>\n",
       "      <td>179943</td>\n",
       "      <td>58.515956</td>\n",
       "    </tr>\n",
       "    <tr>\n",
       "      <td>EXT_SOURCE_1</td>\n",
       "      <td>173378</td>\n",
       "      <td>56.381073</td>\n",
       "    </tr>\n",
       "    <tr>\n",
       "      <td>NONLIVINGAREA_MEDI</td>\n",
       "      <td>169682</td>\n",
       "      <td>55.179164</td>\n",
       "    </tr>\n",
       "    <tr>\n",
       "      <td>NONLIVINGAREA_AVG</td>\n",
       "      <td>169682</td>\n",
       "      <td>55.179164</td>\n",
       "    </tr>\n",
       "    <tr>\n",
       "      <td>NONLIVINGAREA_MODE</td>\n",
       "      <td>169682</td>\n",
       "      <td>55.179164</td>\n",
       "    </tr>\n",
       "    <tr>\n",
       "      <td>ELEVATORS_AVG</td>\n",
       "      <td>163891</td>\n",
       "      <td>53.295980</td>\n",
       "    </tr>\n",
       "    <tr>\n",
       "      <td>ELEVATORS_MEDI</td>\n",
       "      <td>163891</td>\n",
       "      <td>53.295980</td>\n",
       "    </tr>\n",
       "    <tr>\n",
       "      <td>ELEVATORS_MODE</td>\n",
       "      <td>163891</td>\n",
       "      <td>53.295980</td>\n",
       "    </tr>\n",
       "    <tr>\n",
       "      <td>WALLSMATERIAL_MODE</td>\n",
       "      <td>156341</td>\n",
       "      <td>50.840783</td>\n",
       "    </tr>\n",
       "    <tr>\n",
       "      <td>APARTMENTS_MODE</td>\n",
       "      <td>156061</td>\n",
       "      <td>50.749729</td>\n",
       "    </tr>\n",
       "    <tr>\n",
       "      <td>APARTMENTS_MEDI</td>\n",
       "      <td>156061</td>\n",
       "      <td>50.749729</td>\n",
       "    </tr>\n",
       "    <tr>\n",
       "      <td>APARTMENTS_AVG</td>\n",
       "      <td>156061</td>\n",
       "      <td>50.749729</td>\n",
       "    </tr>\n",
       "    <tr>\n",
       "      <td>ENTRANCES_MEDI</td>\n",
       "      <td>154828</td>\n",
       "      <td>50.348768</td>\n",
       "    </tr>\n",
       "    <tr>\n",
       "      <td>ENTRANCES_MODE</td>\n",
       "      <td>154828</td>\n",
       "      <td>50.348768</td>\n",
       "    </tr>\n",
       "    <tr>\n",
       "      <td>ENTRANCES_AVG</td>\n",
       "      <td>154828</td>\n",
       "      <td>50.348768</td>\n",
       "    </tr>\n",
       "    <tr>\n",
       "      <td>LIVINGAREA_MEDI</td>\n",
       "      <td>154350</td>\n",
       "      <td>50.193326</td>\n",
       "    </tr>\n",
       "    <tr>\n",
       "      <td>LIVINGAREA_MODE</td>\n",
       "      <td>154350</td>\n",
       "      <td>50.193326</td>\n",
       "    </tr>\n",
       "    <tr>\n",
       "      <td>LIVINGAREA_AVG</td>\n",
       "      <td>154350</td>\n",
       "      <td>50.193326</td>\n",
       "    </tr>\n",
       "    <tr>\n",
       "      <td>HOUSETYPE_MODE</td>\n",
       "      <td>154297</td>\n",
       "      <td>50.176091</td>\n",
       "    </tr>\n",
       "    <tr>\n",
       "      <td>FLOORSMAX_AVG</td>\n",
       "      <td>153020</td>\n",
       "      <td>49.760822</td>\n",
       "    </tr>\n",
       "    <tr>\n",
       "      <td>FLOORSMAX_MEDI</td>\n",
       "      <td>153020</td>\n",
       "      <td>49.760822</td>\n",
       "    </tr>\n",
       "    <tr>\n",
       "      <td>FLOORSMAX_MODE</td>\n",
       "      <td>153020</td>\n",
       "      <td>49.760822</td>\n",
       "    </tr>\n",
       "    <tr>\n",
       "      <td>YEARS_BEGINEXPLUATATION_AVG</td>\n",
       "      <td>150007</td>\n",
       "      <td>48.781019</td>\n",
       "    </tr>\n",
       "    <tr>\n",
       "      <td>YEARS_BEGINEXPLUATATION_MEDI</td>\n",
       "      <td>150007</td>\n",
       "      <td>48.781019</td>\n",
       "    </tr>\n",
       "    <tr>\n",
       "      <td>YEARS_BEGINEXPLUATATION_MODE</td>\n",
       "      <td>150007</td>\n",
       "      <td>48.781019</td>\n",
       "    </tr>\n",
       "    <tr>\n",
       "      <td>TOTALAREA_MODE</td>\n",
       "      <td>148431</td>\n",
       "      <td>48.268517</td>\n",
       "    </tr>\n",
       "    <tr>\n",
       "      <td>EMERGENCYSTATE_MODE</td>\n",
       "      <td>145755</td>\n",
       "      <td>47.398304</td>\n",
       "    </tr>\n",
       "    <tr>\n",
       "      <td>OCCUPATION_TYPE</td>\n",
       "      <td>96391</td>\n",
       "      <td>31.345545</td>\n",
       "    </tr>\n",
       "    <tr>\n",
       "      <td>EXT_SOURCE_3</td>\n",
       "      <td>60965</td>\n",
       "      <td>19.825307</td>\n",
       "    </tr>\n",
       "    <tr>\n",
       "      <td>AMT_REQ_CREDIT_BUREAU_QRT</td>\n",
       "      <td>41519</td>\n",
       "      <td>13.501631</td>\n",
       "    </tr>\n",
       "    <tr>\n",
       "      <td>AMT_REQ_CREDIT_BUREAU_YEAR</td>\n",
       "      <td>41519</td>\n",
       "      <td>13.501631</td>\n",
       "    </tr>\n",
       "    <tr>\n",
       "      <td>AMT_REQ_CREDIT_BUREAU_MON</td>\n",
       "      <td>41519</td>\n",
       "      <td>13.501631</td>\n",
       "    </tr>\n",
       "    <tr>\n",
       "      <td>AMT_REQ_CREDIT_BUREAU_WEEK</td>\n",
       "      <td>41519</td>\n",
       "      <td>13.501631</td>\n",
       "    </tr>\n",
       "    <tr>\n",
       "      <td>AMT_REQ_CREDIT_BUREAU_HOUR</td>\n",
       "      <td>41519</td>\n",
       "      <td>13.501631</td>\n",
       "    </tr>\n",
       "    <tr>\n",
       "      <td>AMT_REQ_CREDIT_BUREAU_DAY</td>\n",
       "      <td>41519</td>\n",
       "      <td>13.501631</td>\n",
       "    </tr>\n",
       "    <tr>\n",
       "      <td>NAME_TYPE_SUITE</td>\n",
       "      <td>1292</td>\n",
       "      <td>0.420148</td>\n",
       "    </tr>\n",
       "    <tr>\n",
       "      <td>DEF_30_CNT_SOCIAL_CIRCLE</td>\n",
       "      <td>1021</td>\n",
       "      <td>0.332021</td>\n",
       "    </tr>\n",
       "    <tr>\n",
       "      <td>OBS_30_CNT_SOCIAL_CIRCLE</td>\n",
       "      <td>1021</td>\n",
       "      <td>0.332021</td>\n",
       "    </tr>\n",
       "    <tr>\n",
       "      <td>DEF_60_CNT_SOCIAL_CIRCLE</td>\n",
       "      <td>1021</td>\n",
       "      <td>0.332021</td>\n",
       "    </tr>\n",
       "    <tr>\n",
       "      <td>OBS_60_CNT_SOCIAL_CIRCLE</td>\n",
       "      <td>1021</td>\n",
       "      <td>0.332021</td>\n",
       "    </tr>\n",
       "    <tr>\n",
       "      <td>EXT_SOURCE_2</td>\n",
       "      <td>660</td>\n",
       "      <td>0.214626</td>\n",
       "    </tr>\n",
       "    <tr>\n",
       "      <td>AMT_GOODS_PRICE</td>\n",
       "      <td>278</td>\n",
       "      <td>0.090403</td>\n",
       "    </tr>\n",
       "    <tr>\n",
       "      <td>AMT_ANNUITY</td>\n",
       "      <td>12</td>\n",
       "      <td>0.003902</td>\n",
       "    </tr>\n",
       "    <tr>\n",
       "      <td>CNT_FAM_MEMBERS</td>\n",
       "      <td>2</td>\n",
       "      <td>0.000650</td>\n",
       "    </tr>\n",
       "    <tr>\n",
       "      <td>DAYS_LAST_PHONE_CHANGE</td>\n",
       "      <td>1</td>\n",
       "      <td>0.000325</td>\n",
       "    </tr>\n",
       "  </tbody>\n",
       "</table>\n",
       "</div>"
      ],
      "text/plain": [
       "                               Total    Percent\n",
       "COMMONAREA_MEDI               214865  69.872297\n",
       "COMMONAREA_AVG                214865  69.872297\n",
       "COMMONAREA_MODE               214865  69.872297\n",
       "NONLIVINGAPARTMENTS_MODE      213514  69.432963\n",
       "NONLIVINGAPARTMENTS_MEDI      213514  69.432963\n",
       "NONLIVINGAPARTMENTS_AVG       213514  69.432963\n",
       "FONDKAPREMONT_MODE            210295  68.386172\n",
       "LIVINGAPARTMENTS_MEDI         210199  68.354953\n",
       "LIVINGAPARTMENTS_MODE         210199  68.354953\n",
       "LIVINGAPARTMENTS_AVG          210199  68.354953\n",
       "FLOORSMIN_AVG                 208642  67.848630\n",
       "FLOORSMIN_MEDI                208642  67.848630\n",
       "FLOORSMIN_MODE                208642  67.848630\n",
       "YEARS_BUILD_MEDI              204488  66.497784\n",
       "YEARS_BUILD_MODE              204488  66.497784\n",
       "YEARS_BUILD_AVG               204488  66.497784\n",
       "OWN_CAR_AGE                   202929  65.990810\n",
       "LANDAREA_AVG                  182590  59.376738\n",
       "LANDAREA_MEDI                 182590  59.376738\n",
       "LANDAREA_MODE                 182590  59.376738\n",
       "BASEMENTAREA_AVG              179943  58.515956\n",
       "BASEMENTAREA_MODE             179943  58.515956\n",
       "BASEMENTAREA_MEDI             179943  58.515956\n",
       "EXT_SOURCE_1                  173378  56.381073\n",
       "NONLIVINGAREA_MEDI            169682  55.179164\n",
       "NONLIVINGAREA_AVG             169682  55.179164\n",
       "NONLIVINGAREA_MODE            169682  55.179164\n",
       "ELEVATORS_AVG                 163891  53.295980\n",
       "ELEVATORS_MEDI                163891  53.295980\n",
       "ELEVATORS_MODE                163891  53.295980\n",
       "WALLSMATERIAL_MODE            156341  50.840783\n",
       "APARTMENTS_MODE               156061  50.749729\n",
       "APARTMENTS_MEDI               156061  50.749729\n",
       "APARTMENTS_AVG                156061  50.749729\n",
       "ENTRANCES_MEDI                154828  50.348768\n",
       "ENTRANCES_MODE                154828  50.348768\n",
       "ENTRANCES_AVG                 154828  50.348768\n",
       "LIVINGAREA_MEDI               154350  50.193326\n",
       "LIVINGAREA_MODE               154350  50.193326\n",
       "LIVINGAREA_AVG                154350  50.193326\n",
       "HOUSETYPE_MODE                154297  50.176091\n",
       "FLOORSMAX_AVG                 153020  49.760822\n",
       "FLOORSMAX_MEDI                153020  49.760822\n",
       "FLOORSMAX_MODE                153020  49.760822\n",
       "YEARS_BEGINEXPLUATATION_AVG   150007  48.781019\n",
       "YEARS_BEGINEXPLUATATION_MEDI  150007  48.781019\n",
       "YEARS_BEGINEXPLUATATION_MODE  150007  48.781019\n",
       "TOTALAREA_MODE                148431  48.268517\n",
       "EMERGENCYSTATE_MODE           145755  47.398304\n",
       "OCCUPATION_TYPE                96391  31.345545\n",
       "EXT_SOURCE_3                   60965  19.825307\n",
       "AMT_REQ_CREDIT_BUREAU_QRT      41519  13.501631\n",
       "AMT_REQ_CREDIT_BUREAU_YEAR     41519  13.501631\n",
       "AMT_REQ_CREDIT_BUREAU_MON      41519  13.501631\n",
       "AMT_REQ_CREDIT_BUREAU_WEEK     41519  13.501631\n",
       "AMT_REQ_CREDIT_BUREAU_HOUR     41519  13.501631\n",
       "AMT_REQ_CREDIT_BUREAU_DAY      41519  13.501631\n",
       "NAME_TYPE_SUITE                 1292   0.420148\n",
       "DEF_30_CNT_SOCIAL_CIRCLE        1021   0.332021\n",
       "OBS_30_CNT_SOCIAL_CIRCLE        1021   0.332021\n",
       "DEF_60_CNT_SOCIAL_CIRCLE        1021   0.332021\n",
       "OBS_60_CNT_SOCIAL_CIRCLE        1021   0.332021\n",
       "EXT_SOURCE_2                     660   0.214626\n",
       "AMT_GOODS_PRICE                  278   0.090403\n",
       "AMT_ANNUITY                       12   0.003902\n",
       "CNT_FAM_MEMBERS                    2   0.000650\n",
       "DAYS_LAST_PHONE_CHANGE             1   0.000325"
      ]
     },
     "execution_count": 22,
     "metadata": {},
     "output_type": "execute_result"
    }
   ],
   "source": [
    "missing_data(train_x).query(\"Total > 0\")"
   ]
  },
  {
   "cell_type": "markdown",
   "metadata": {},
   "source": [
    "かなり欠損列が多い。その扱いについてはひとつひとつ確認する必要がありそう"
   ]
  },
  {
   "cell_type": "code",
   "execution_count": 23,
   "metadata": {},
   "outputs": [
    {
     "data": {
      "text/plain": [
       "NAME_CONTRACT_TYPE             2\n",
       "CODE_GENDER                    3\n",
       "FLAG_OWN_CAR                   2\n",
       "FLAG_OWN_REALTY                2\n",
       "NAME_TYPE_SUITE                7\n",
       "NAME_INCOME_TYPE               8\n",
       "NAME_EDUCATION_TYPE            5\n",
       "NAME_FAMILY_STATUS             6\n",
       "NAME_HOUSING_TYPE              6\n",
       "OCCUPATION_TYPE               18\n",
       "WEEKDAY_APPR_PROCESS_START     7\n",
       "ORGANIZATION_TYPE             58\n",
       "FONDKAPREMONT_MODE             4\n",
       "HOUSETYPE_MODE                 3\n",
       "WALLSMATERIAL_MODE             7\n",
       "EMERGENCYSTATE_MODE            2\n",
       "dtype: int64"
      ]
     },
     "execution_count": 23,
     "metadata": {},
     "output_type": "execute_result"
    }
   ],
   "source": [
    "#カテゴリ変数の確認\n",
    "train_x.select_dtypes('object').apply(pd.Series.nunique, axis = 0)"
   ]
  },
  {
   "cell_type": "markdown",
   "metadata": {},
   "source": [
    "カテゴリカル変数は１６個存在する。  \n",
    "機械学習が行える形への何らかな変換処理が必要"
   ]
  },
  {
   "cell_type": "code",
   "execution_count": 24,
   "metadata": {},
   "outputs": [
    {
     "data": {
      "text/html": [
       "<div>\n",
       "<style scoped>\n",
       "    .dataframe tbody tr th:only-of-type {\n",
       "        vertical-align: middle;\n",
       "    }\n",
       "\n",
       "    .dataframe tbody tr th {\n",
       "        vertical-align: top;\n",
       "    }\n",
       "\n",
       "    .dataframe thead th {\n",
       "        text-align: right;\n",
       "    }\n",
       "</style>\n",
       "<table border=\"1\" class=\"dataframe\">\n",
       "  <thead>\n",
       "    <tr style=\"text-align: right;\">\n",
       "      <th></th>\n",
       "      <th>CNT_CHILDREN</th>\n",
       "      <th>AMT_INCOME_TOTAL</th>\n",
       "      <th>AMT_CREDIT</th>\n",
       "      <th>AMT_ANNUITY</th>\n",
       "      <th>AMT_GOODS_PRICE</th>\n",
       "      <th>REGION_POPULATION_RELATIVE</th>\n",
       "      <th>DAYS_BIRTH</th>\n",
       "      <th>DAYS_EMPLOYED</th>\n",
       "      <th>DAYS_REGISTRATION</th>\n",
       "      <th>DAYS_ID_PUBLISH</th>\n",
       "      <th>OWN_CAR_AGE</th>\n",
       "      <th>FLAG_MOBIL</th>\n",
       "      <th>FLAG_EMP_PHONE</th>\n",
       "      <th>FLAG_WORK_PHONE</th>\n",
       "      <th>FLAG_CONT_MOBILE</th>\n",
       "      <th>FLAG_PHONE</th>\n",
       "      <th>FLAG_EMAIL</th>\n",
       "      <th>CNT_FAM_MEMBERS</th>\n",
       "      <th>REGION_RATING_CLIENT</th>\n",
       "      <th>REGION_RATING_CLIENT_W_CITY</th>\n",
       "      <th>HOUR_APPR_PROCESS_START</th>\n",
       "      <th>REG_REGION_NOT_LIVE_REGION</th>\n",
       "      <th>REG_REGION_NOT_WORK_REGION</th>\n",
       "      <th>LIVE_REGION_NOT_WORK_REGION</th>\n",
       "      <th>REG_CITY_NOT_LIVE_CITY</th>\n",
       "      <th>REG_CITY_NOT_WORK_CITY</th>\n",
       "      <th>LIVE_CITY_NOT_WORK_CITY</th>\n",
       "      <th>EXT_SOURCE_1</th>\n",
       "      <th>EXT_SOURCE_2</th>\n",
       "      <th>EXT_SOURCE_3</th>\n",
       "      <th>APARTMENTS_AVG</th>\n",
       "      <th>BASEMENTAREA_AVG</th>\n",
       "      <th>YEARS_BEGINEXPLUATATION_AVG</th>\n",
       "      <th>YEARS_BUILD_AVG</th>\n",
       "      <th>COMMONAREA_AVG</th>\n",
       "      <th>ELEVATORS_AVG</th>\n",
       "      <th>ENTRANCES_AVG</th>\n",
       "      <th>FLOORSMAX_AVG</th>\n",
       "      <th>FLOORSMIN_AVG</th>\n",
       "      <th>LANDAREA_AVG</th>\n",
       "      <th>LIVINGAPARTMENTS_AVG</th>\n",
       "      <th>LIVINGAREA_AVG</th>\n",
       "      <th>NONLIVINGAPARTMENTS_AVG</th>\n",
       "      <th>NONLIVINGAREA_AVG</th>\n",
       "      <th>APARTMENTS_MODE</th>\n",
       "      <th>BASEMENTAREA_MODE</th>\n",
       "      <th>YEARS_BEGINEXPLUATATION_MODE</th>\n",
       "      <th>YEARS_BUILD_MODE</th>\n",
       "      <th>COMMONAREA_MODE</th>\n",
       "      <th>ELEVATORS_MODE</th>\n",
       "      <th>...</th>\n",
       "      <th>LIVINGAPARTMENTS_MODE</th>\n",
       "      <th>LIVINGAREA_MODE</th>\n",
       "      <th>NONLIVINGAPARTMENTS_MODE</th>\n",
       "      <th>NONLIVINGAREA_MODE</th>\n",
       "      <th>APARTMENTS_MEDI</th>\n",
       "      <th>BASEMENTAREA_MEDI</th>\n",
       "      <th>YEARS_BEGINEXPLUATATION_MEDI</th>\n",
       "      <th>YEARS_BUILD_MEDI</th>\n",
       "      <th>COMMONAREA_MEDI</th>\n",
       "      <th>ELEVATORS_MEDI</th>\n",
       "      <th>ENTRANCES_MEDI</th>\n",
       "      <th>FLOORSMAX_MEDI</th>\n",
       "      <th>FLOORSMIN_MEDI</th>\n",
       "      <th>LANDAREA_MEDI</th>\n",
       "      <th>LIVINGAPARTMENTS_MEDI</th>\n",
       "      <th>LIVINGAREA_MEDI</th>\n",
       "      <th>NONLIVINGAPARTMENTS_MEDI</th>\n",
       "      <th>NONLIVINGAREA_MEDI</th>\n",
       "      <th>TOTALAREA_MODE</th>\n",
       "      <th>OBS_30_CNT_SOCIAL_CIRCLE</th>\n",
       "      <th>DEF_30_CNT_SOCIAL_CIRCLE</th>\n",
       "      <th>OBS_60_CNT_SOCIAL_CIRCLE</th>\n",
       "      <th>DEF_60_CNT_SOCIAL_CIRCLE</th>\n",
       "      <th>DAYS_LAST_PHONE_CHANGE</th>\n",
       "      <th>FLAG_DOCUMENT_2</th>\n",
       "      <th>FLAG_DOCUMENT_3</th>\n",
       "      <th>FLAG_DOCUMENT_4</th>\n",
       "      <th>FLAG_DOCUMENT_5</th>\n",
       "      <th>FLAG_DOCUMENT_6</th>\n",
       "      <th>FLAG_DOCUMENT_7</th>\n",
       "      <th>FLAG_DOCUMENT_8</th>\n",
       "      <th>FLAG_DOCUMENT_9</th>\n",
       "      <th>FLAG_DOCUMENT_10</th>\n",
       "      <th>FLAG_DOCUMENT_11</th>\n",
       "      <th>FLAG_DOCUMENT_12</th>\n",
       "      <th>FLAG_DOCUMENT_13</th>\n",
       "      <th>FLAG_DOCUMENT_14</th>\n",
       "      <th>FLAG_DOCUMENT_15</th>\n",
       "      <th>FLAG_DOCUMENT_16</th>\n",
       "      <th>FLAG_DOCUMENT_17</th>\n",
       "      <th>FLAG_DOCUMENT_18</th>\n",
       "      <th>FLAG_DOCUMENT_19</th>\n",
       "      <th>FLAG_DOCUMENT_20</th>\n",
       "      <th>FLAG_DOCUMENT_21</th>\n",
       "      <th>AMT_REQ_CREDIT_BUREAU_HOUR</th>\n",
       "      <th>AMT_REQ_CREDIT_BUREAU_DAY</th>\n",
       "      <th>AMT_REQ_CREDIT_BUREAU_WEEK</th>\n",
       "      <th>AMT_REQ_CREDIT_BUREAU_MON</th>\n",
       "      <th>AMT_REQ_CREDIT_BUREAU_QRT</th>\n",
       "      <th>AMT_REQ_CREDIT_BUREAU_YEAR</th>\n",
       "    </tr>\n",
       "  </thead>\n",
       "  <tbody>\n",
       "    <tr>\n",
       "      <td>count</td>\n",
       "      <td>307511.000000</td>\n",
       "      <td>3.075110e+05</td>\n",
       "      <td>3.075110e+05</td>\n",
       "      <td>307499.000000</td>\n",
       "      <td>3.072330e+05</td>\n",
       "      <td>307511.000000</td>\n",
       "      <td>307511.000000</td>\n",
       "      <td>307511.000000</td>\n",
       "      <td>307511.000000</td>\n",
       "      <td>307511.000000</td>\n",
       "      <td>104582.000000</td>\n",
       "      <td>307511.000000</td>\n",
       "      <td>307511.000000</td>\n",
       "      <td>307511.000000</td>\n",
       "      <td>307511.000000</td>\n",
       "      <td>307511.000000</td>\n",
       "      <td>307511.000000</td>\n",
       "      <td>307509.000000</td>\n",
       "      <td>307511.000000</td>\n",
       "      <td>307511.000000</td>\n",
       "      <td>307511.000000</td>\n",
       "      <td>307511.000000</td>\n",
       "      <td>307511.000000</td>\n",
       "      <td>307511.000000</td>\n",
       "      <td>307511.000000</td>\n",
       "      <td>307511.000000</td>\n",
       "      <td>307511.000000</td>\n",
       "      <td>134133.000000</td>\n",
       "      <td>3.068510e+05</td>\n",
       "      <td>246546.000000</td>\n",
       "      <td>151450.00000</td>\n",
       "      <td>127568.000000</td>\n",
       "      <td>157504.000000</td>\n",
       "      <td>103023.000000</td>\n",
       "      <td>92646.000000</td>\n",
       "      <td>143620.000000</td>\n",
       "      <td>152683.000000</td>\n",
       "      <td>154491.000000</td>\n",
       "      <td>98869.000000</td>\n",
       "      <td>124921.000000</td>\n",
       "      <td>97312.000000</td>\n",
       "      <td>153161.000000</td>\n",
       "      <td>93997.000000</td>\n",
       "      <td>137829.000000</td>\n",
       "      <td>151450.000000</td>\n",
       "      <td>127568.000000</td>\n",
       "      <td>157504.000000</td>\n",
       "      <td>103023.000000</td>\n",
       "      <td>92646.000000</td>\n",
       "      <td>143620.000000</td>\n",
       "      <td>...</td>\n",
       "      <td>97312.000000</td>\n",
       "      <td>153161.000000</td>\n",
       "      <td>93997.000000</td>\n",
       "      <td>137829.000000</td>\n",
       "      <td>151450.000000</td>\n",
       "      <td>127568.000000</td>\n",
       "      <td>157504.000000</td>\n",
       "      <td>103023.000000</td>\n",
       "      <td>92646.000000</td>\n",
       "      <td>143620.000000</td>\n",
       "      <td>152683.000000</td>\n",
       "      <td>154491.000000</td>\n",
       "      <td>98869.000000</td>\n",
       "      <td>124921.000000</td>\n",
       "      <td>97312.000000</td>\n",
       "      <td>153161.000000</td>\n",
       "      <td>93997.000000</td>\n",
       "      <td>137829.000000</td>\n",
       "      <td>159080.000000</td>\n",
       "      <td>306490.000000</td>\n",
       "      <td>306490.000000</td>\n",
       "      <td>306490.000000</td>\n",
       "      <td>306490.000000</td>\n",
       "      <td>307510.000000</td>\n",
       "      <td>307511.000000</td>\n",
       "      <td>307511.000000</td>\n",
       "      <td>307511.000000</td>\n",
       "      <td>307511.000000</td>\n",
       "      <td>307511.000000</td>\n",
       "      <td>307511.000000</td>\n",
       "      <td>307511.000000</td>\n",
       "      <td>307511.000000</td>\n",
       "      <td>307511.000000</td>\n",
       "      <td>307511.000000</td>\n",
       "      <td>307511.000000</td>\n",
       "      <td>307511.000000</td>\n",
       "      <td>307511.000000</td>\n",
       "      <td>307511.00000</td>\n",
       "      <td>307511.000000</td>\n",
       "      <td>307511.000000</td>\n",
       "      <td>307511.000000</td>\n",
       "      <td>307511.000000</td>\n",
       "      <td>307511.000000</td>\n",
       "      <td>307511.000000</td>\n",
       "      <td>265992.000000</td>\n",
       "      <td>265992.000000</td>\n",
       "      <td>265992.000000</td>\n",
       "      <td>265992.000000</td>\n",
       "      <td>265992.000000</td>\n",
       "      <td>265992.000000</td>\n",
       "    </tr>\n",
       "    <tr>\n",
       "      <td>mean</td>\n",
       "      <td>0.417052</td>\n",
       "      <td>1.687979e+05</td>\n",
       "      <td>5.990260e+05</td>\n",
       "      <td>27108.573909</td>\n",
       "      <td>5.383962e+05</td>\n",
       "      <td>0.020868</td>\n",
       "      <td>-16036.995067</td>\n",
       "      <td>63815.045904</td>\n",
       "      <td>-4986.120328</td>\n",
       "      <td>-2994.202373</td>\n",
       "      <td>12.061091</td>\n",
       "      <td>0.999997</td>\n",
       "      <td>0.819889</td>\n",
       "      <td>0.199368</td>\n",
       "      <td>0.998133</td>\n",
       "      <td>0.281066</td>\n",
       "      <td>0.056720</td>\n",
       "      <td>2.152665</td>\n",
       "      <td>2.052463</td>\n",
       "      <td>2.031521</td>\n",
       "      <td>12.063419</td>\n",
       "      <td>0.015144</td>\n",
       "      <td>0.050769</td>\n",
       "      <td>0.040659</td>\n",
       "      <td>0.078173</td>\n",
       "      <td>0.230454</td>\n",
       "      <td>0.179555</td>\n",
       "      <td>0.502130</td>\n",
       "      <td>5.143927e-01</td>\n",
       "      <td>0.510853</td>\n",
       "      <td>0.11744</td>\n",
       "      <td>0.088442</td>\n",
       "      <td>0.977735</td>\n",
       "      <td>0.752471</td>\n",
       "      <td>0.044621</td>\n",
       "      <td>0.078942</td>\n",
       "      <td>0.149725</td>\n",
       "      <td>0.226282</td>\n",
       "      <td>0.231894</td>\n",
       "      <td>0.066333</td>\n",
       "      <td>0.100775</td>\n",
       "      <td>0.107399</td>\n",
       "      <td>0.008809</td>\n",
       "      <td>0.028358</td>\n",
       "      <td>0.114231</td>\n",
       "      <td>0.087543</td>\n",
       "      <td>0.977065</td>\n",
       "      <td>0.759637</td>\n",
       "      <td>0.042553</td>\n",
       "      <td>0.074490</td>\n",
       "      <td>...</td>\n",
       "      <td>0.105645</td>\n",
       "      <td>0.105975</td>\n",
       "      <td>0.008076</td>\n",
       "      <td>0.027022</td>\n",
       "      <td>0.117850</td>\n",
       "      <td>0.087955</td>\n",
       "      <td>0.977752</td>\n",
       "      <td>0.755746</td>\n",
       "      <td>0.044595</td>\n",
       "      <td>0.078078</td>\n",
       "      <td>0.149213</td>\n",
       "      <td>0.225897</td>\n",
       "      <td>0.231625</td>\n",
       "      <td>0.067169</td>\n",
       "      <td>0.101954</td>\n",
       "      <td>0.108607</td>\n",
       "      <td>0.008651</td>\n",
       "      <td>0.028236</td>\n",
       "      <td>0.102547</td>\n",
       "      <td>1.422245</td>\n",
       "      <td>0.143421</td>\n",
       "      <td>1.405292</td>\n",
       "      <td>0.100049</td>\n",
       "      <td>-962.858788</td>\n",
       "      <td>0.000042</td>\n",
       "      <td>0.710023</td>\n",
       "      <td>0.000081</td>\n",
       "      <td>0.015115</td>\n",
       "      <td>0.088055</td>\n",
       "      <td>0.000192</td>\n",
       "      <td>0.081376</td>\n",
       "      <td>0.003896</td>\n",
       "      <td>0.000023</td>\n",
       "      <td>0.003912</td>\n",
       "      <td>0.000007</td>\n",
       "      <td>0.003525</td>\n",
       "      <td>0.002936</td>\n",
       "      <td>0.00121</td>\n",
       "      <td>0.009928</td>\n",
       "      <td>0.000267</td>\n",
       "      <td>0.008130</td>\n",
       "      <td>0.000595</td>\n",
       "      <td>0.000507</td>\n",
       "      <td>0.000335</td>\n",
       "      <td>0.006402</td>\n",
       "      <td>0.007000</td>\n",
       "      <td>0.034362</td>\n",
       "      <td>0.267395</td>\n",
       "      <td>0.265474</td>\n",
       "      <td>1.899974</td>\n",
       "    </tr>\n",
       "    <tr>\n",
       "      <td>std</td>\n",
       "      <td>0.722121</td>\n",
       "      <td>2.371231e+05</td>\n",
       "      <td>4.024908e+05</td>\n",
       "      <td>14493.737315</td>\n",
       "      <td>3.694465e+05</td>\n",
       "      <td>0.013831</td>\n",
       "      <td>4363.988632</td>\n",
       "      <td>141275.766519</td>\n",
       "      <td>3522.886321</td>\n",
       "      <td>1509.450419</td>\n",
       "      <td>11.944812</td>\n",
       "      <td>0.001803</td>\n",
       "      <td>0.384280</td>\n",
       "      <td>0.399526</td>\n",
       "      <td>0.043164</td>\n",
       "      <td>0.449521</td>\n",
       "      <td>0.231307</td>\n",
       "      <td>0.910682</td>\n",
       "      <td>0.509034</td>\n",
       "      <td>0.502737</td>\n",
       "      <td>3.265832</td>\n",
       "      <td>0.122126</td>\n",
       "      <td>0.219526</td>\n",
       "      <td>0.197499</td>\n",
       "      <td>0.268444</td>\n",
       "      <td>0.421124</td>\n",
       "      <td>0.383817</td>\n",
       "      <td>0.211062</td>\n",
       "      <td>1.910602e-01</td>\n",
       "      <td>0.194844</td>\n",
       "      <td>0.10824</td>\n",
       "      <td>0.082438</td>\n",
       "      <td>0.059223</td>\n",
       "      <td>0.113280</td>\n",
       "      <td>0.076036</td>\n",
       "      <td>0.134576</td>\n",
       "      <td>0.100049</td>\n",
       "      <td>0.144641</td>\n",
       "      <td>0.161380</td>\n",
       "      <td>0.081184</td>\n",
       "      <td>0.092576</td>\n",
       "      <td>0.110565</td>\n",
       "      <td>0.047732</td>\n",
       "      <td>0.069523</td>\n",
       "      <td>0.107936</td>\n",
       "      <td>0.084307</td>\n",
       "      <td>0.064575</td>\n",
       "      <td>0.110111</td>\n",
       "      <td>0.074445</td>\n",
       "      <td>0.132256</td>\n",
       "      <td>...</td>\n",
       "      <td>0.097880</td>\n",
       "      <td>0.111845</td>\n",
       "      <td>0.046276</td>\n",
       "      <td>0.070254</td>\n",
       "      <td>0.109076</td>\n",
       "      <td>0.082179</td>\n",
       "      <td>0.059897</td>\n",
       "      <td>0.112066</td>\n",
       "      <td>0.076144</td>\n",
       "      <td>0.134467</td>\n",
       "      <td>0.100368</td>\n",
       "      <td>0.145067</td>\n",
       "      <td>0.161934</td>\n",
       "      <td>0.082167</td>\n",
       "      <td>0.093642</td>\n",
       "      <td>0.112260</td>\n",
       "      <td>0.047415</td>\n",
       "      <td>0.070166</td>\n",
       "      <td>0.107462</td>\n",
       "      <td>2.400989</td>\n",
       "      <td>0.446698</td>\n",
       "      <td>2.379803</td>\n",
       "      <td>0.362291</td>\n",
       "      <td>826.808487</td>\n",
       "      <td>0.006502</td>\n",
       "      <td>0.453752</td>\n",
       "      <td>0.009016</td>\n",
       "      <td>0.122010</td>\n",
       "      <td>0.283376</td>\n",
       "      <td>0.013850</td>\n",
       "      <td>0.273412</td>\n",
       "      <td>0.062295</td>\n",
       "      <td>0.004771</td>\n",
       "      <td>0.062424</td>\n",
       "      <td>0.002550</td>\n",
       "      <td>0.059268</td>\n",
       "      <td>0.054110</td>\n",
       "      <td>0.03476</td>\n",
       "      <td>0.099144</td>\n",
       "      <td>0.016327</td>\n",
       "      <td>0.089798</td>\n",
       "      <td>0.024387</td>\n",
       "      <td>0.022518</td>\n",
       "      <td>0.018299</td>\n",
       "      <td>0.083849</td>\n",
       "      <td>0.110757</td>\n",
       "      <td>0.204685</td>\n",
       "      <td>0.916002</td>\n",
       "      <td>0.794056</td>\n",
       "      <td>1.869295</td>\n",
       "    </tr>\n",
       "    <tr>\n",
       "      <td>min</td>\n",
       "      <td>0.000000</td>\n",
       "      <td>2.565000e+04</td>\n",
       "      <td>4.500000e+04</td>\n",
       "      <td>1615.500000</td>\n",
       "      <td>4.050000e+04</td>\n",
       "      <td>0.000290</td>\n",
       "      <td>-25229.000000</td>\n",
       "      <td>-17912.000000</td>\n",
       "      <td>-24672.000000</td>\n",
       "      <td>-7197.000000</td>\n",
       "      <td>0.000000</td>\n",
       "      <td>0.000000</td>\n",
       "      <td>0.000000</td>\n",
       "      <td>0.000000</td>\n",
       "      <td>0.000000</td>\n",
       "      <td>0.000000</td>\n",
       "      <td>0.000000</td>\n",
       "      <td>1.000000</td>\n",
       "      <td>1.000000</td>\n",
       "      <td>1.000000</td>\n",
       "      <td>0.000000</td>\n",
       "      <td>0.000000</td>\n",
       "      <td>0.000000</td>\n",
       "      <td>0.000000</td>\n",
       "      <td>0.000000</td>\n",
       "      <td>0.000000</td>\n",
       "      <td>0.000000</td>\n",
       "      <td>0.014568</td>\n",
       "      <td>8.173617e-08</td>\n",
       "      <td>0.000527</td>\n",
       "      <td>0.00000</td>\n",
       "      <td>0.000000</td>\n",
       "      <td>0.000000</td>\n",
       "      <td>0.000000</td>\n",
       "      <td>0.000000</td>\n",
       "      <td>0.000000</td>\n",
       "      <td>0.000000</td>\n",
       "      <td>0.000000</td>\n",
       "      <td>0.000000</td>\n",
       "      <td>0.000000</td>\n",
       "      <td>0.000000</td>\n",
       "      <td>0.000000</td>\n",
       "      <td>0.000000</td>\n",
       "      <td>0.000000</td>\n",
       "      <td>0.000000</td>\n",
       "      <td>0.000000</td>\n",
       "      <td>0.000000</td>\n",
       "      <td>0.000000</td>\n",
       "      <td>0.000000</td>\n",
       "      <td>0.000000</td>\n",
       "      <td>...</td>\n",
       "      <td>0.000000</td>\n",
       "      <td>0.000000</td>\n",
       "      <td>0.000000</td>\n",
       "      <td>0.000000</td>\n",
       "      <td>0.000000</td>\n",
       "      <td>0.000000</td>\n",
       "      <td>0.000000</td>\n",
       "      <td>0.000000</td>\n",
       "      <td>0.000000</td>\n",
       "      <td>0.000000</td>\n",
       "      <td>0.000000</td>\n",
       "      <td>0.000000</td>\n",
       "      <td>0.000000</td>\n",
       "      <td>0.000000</td>\n",
       "      <td>0.000000</td>\n",
       "      <td>0.000000</td>\n",
       "      <td>0.000000</td>\n",
       "      <td>0.000000</td>\n",
       "      <td>0.000000</td>\n",
       "      <td>0.000000</td>\n",
       "      <td>0.000000</td>\n",
       "      <td>0.000000</td>\n",
       "      <td>0.000000</td>\n",
       "      <td>-4292.000000</td>\n",
       "      <td>0.000000</td>\n",
       "      <td>0.000000</td>\n",
       "      <td>0.000000</td>\n",
       "      <td>0.000000</td>\n",
       "      <td>0.000000</td>\n",
       "      <td>0.000000</td>\n",
       "      <td>0.000000</td>\n",
       "      <td>0.000000</td>\n",
       "      <td>0.000000</td>\n",
       "      <td>0.000000</td>\n",
       "      <td>0.000000</td>\n",
       "      <td>0.000000</td>\n",
       "      <td>0.000000</td>\n",
       "      <td>0.00000</td>\n",
       "      <td>0.000000</td>\n",
       "      <td>0.000000</td>\n",
       "      <td>0.000000</td>\n",
       "      <td>0.000000</td>\n",
       "      <td>0.000000</td>\n",
       "      <td>0.000000</td>\n",
       "      <td>0.000000</td>\n",
       "      <td>0.000000</td>\n",
       "      <td>0.000000</td>\n",
       "      <td>0.000000</td>\n",
       "      <td>0.000000</td>\n",
       "      <td>0.000000</td>\n",
       "    </tr>\n",
       "    <tr>\n",
       "      <td>25%</td>\n",
       "      <td>0.000000</td>\n",
       "      <td>1.125000e+05</td>\n",
       "      <td>2.700000e+05</td>\n",
       "      <td>16524.000000</td>\n",
       "      <td>2.385000e+05</td>\n",
       "      <td>0.010006</td>\n",
       "      <td>-19682.000000</td>\n",
       "      <td>-2760.000000</td>\n",
       "      <td>-7479.500000</td>\n",
       "      <td>-4299.000000</td>\n",
       "      <td>5.000000</td>\n",
       "      <td>1.000000</td>\n",
       "      <td>1.000000</td>\n",
       "      <td>0.000000</td>\n",
       "      <td>1.000000</td>\n",
       "      <td>0.000000</td>\n",
       "      <td>0.000000</td>\n",
       "      <td>2.000000</td>\n",
       "      <td>2.000000</td>\n",
       "      <td>2.000000</td>\n",
       "      <td>10.000000</td>\n",
       "      <td>0.000000</td>\n",
       "      <td>0.000000</td>\n",
       "      <td>0.000000</td>\n",
       "      <td>0.000000</td>\n",
       "      <td>0.000000</td>\n",
       "      <td>0.000000</td>\n",
       "      <td>0.334007</td>\n",
       "      <td>3.924574e-01</td>\n",
       "      <td>0.370650</td>\n",
       "      <td>0.05770</td>\n",
       "      <td>0.044200</td>\n",
       "      <td>0.976700</td>\n",
       "      <td>0.687200</td>\n",
       "      <td>0.007800</td>\n",
       "      <td>0.000000</td>\n",
       "      <td>0.069000</td>\n",
       "      <td>0.166700</td>\n",
       "      <td>0.083300</td>\n",
       "      <td>0.018700</td>\n",
       "      <td>0.050400</td>\n",
       "      <td>0.045300</td>\n",
       "      <td>0.000000</td>\n",
       "      <td>0.000000</td>\n",
       "      <td>0.052500</td>\n",
       "      <td>0.040700</td>\n",
       "      <td>0.976700</td>\n",
       "      <td>0.699400</td>\n",
       "      <td>0.007200</td>\n",
       "      <td>0.000000</td>\n",
       "      <td>...</td>\n",
       "      <td>0.054200</td>\n",
       "      <td>0.042700</td>\n",
       "      <td>0.000000</td>\n",
       "      <td>0.000000</td>\n",
       "      <td>0.058300</td>\n",
       "      <td>0.043700</td>\n",
       "      <td>0.976700</td>\n",
       "      <td>0.691400</td>\n",
       "      <td>0.007900</td>\n",
       "      <td>0.000000</td>\n",
       "      <td>0.069000</td>\n",
       "      <td>0.166700</td>\n",
       "      <td>0.083300</td>\n",
       "      <td>0.018700</td>\n",
       "      <td>0.051300</td>\n",
       "      <td>0.045700</td>\n",
       "      <td>0.000000</td>\n",
       "      <td>0.000000</td>\n",
       "      <td>0.041200</td>\n",
       "      <td>0.000000</td>\n",
       "      <td>0.000000</td>\n",
       "      <td>0.000000</td>\n",
       "      <td>0.000000</td>\n",
       "      <td>-1570.000000</td>\n",
       "      <td>0.000000</td>\n",
       "      <td>0.000000</td>\n",
       "      <td>0.000000</td>\n",
       "      <td>0.000000</td>\n",
       "      <td>0.000000</td>\n",
       "      <td>0.000000</td>\n",
       "      <td>0.000000</td>\n",
       "      <td>0.000000</td>\n",
       "      <td>0.000000</td>\n",
       "      <td>0.000000</td>\n",
       "      <td>0.000000</td>\n",
       "      <td>0.000000</td>\n",
       "      <td>0.000000</td>\n",
       "      <td>0.00000</td>\n",
       "      <td>0.000000</td>\n",
       "      <td>0.000000</td>\n",
       "      <td>0.000000</td>\n",
       "      <td>0.000000</td>\n",
       "      <td>0.000000</td>\n",
       "      <td>0.000000</td>\n",
       "      <td>0.000000</td>\n",
       "      <td>0.000000</td>\n",
       "      <td>0.000000</td>\n",
       "      <td>0.000000</td>\n",
       "      <td>0.000000</td>\n",
       "      <td>0.000000</td>\n",
       "    </tr>\n",
       "    <tr>\n",
       "      <td>50%</td>\n",
       "      <td>0.000000</td>\n",
       "      <td>1.471500e+05</td>\n",
       "      <td>5.135310e+05</td>\n",
       "      <td>24903.000000</td>\n",
       "      <td>4.500000e+05</td>\n",
       "      <td>0.018850</td>\n",
       "      <td>-15750.000000</td>\n",
       "      <td>-1213.000000</td>\n",
       "      <td>-4504.000000</td>\n",
       "      <td>-3254.000000</td>\n",
       "      <td>9.000000</td>\n",
       "      <td>1.000000</td>\n",
       "      <td>1.000000</td>\n",
       "      <td>0.000000</td>\n",
       "      <td>1.000000</td>\n",
       "      <td>0.000000</td>\n",
       "      <td>0.000000</td>\n",
       "      <td>2.000000</td>\n",
       "      <td>2.000000</td>\n",
       "      <td>2.000000</td>\n",
       "      <td>12.000000</td>\n",
       "      <td>0.000000</td>\n",
       "      <td>0.000000</td>\n",
       "      <td>0.000000</td>\n",
       "      <td>0.000000</td>\n",
       "      <td>0.000000</td>\n",
       "      <td>0.000000</td>\n",
       "      <td>0.505998</td>\n",
       "      <td>5.659614e-01</td>\n",
       "      <td>0.535276</td>\n",
       "      <td>0.08760</td>\n",
       "      <td>0.076300</td>\n",
       "      <td>0.981600</td>\n",
       "      <td>0.755200</td>\n",
       "      <td>0.021100</td>\n",
       "      <td>0.000000</td>\n",
       "      <td>0.137900</td>\n",
       "      <td>0.166700</td>\n",
       "      <td>0.208300</td>\n",
       "      <td>0.048100</td>\n",
       "      <td>0.075600</td>\n",
       "      <td>0.074500</td>\n",
       "      <td>0.000000</td>\n",
       "      <td>0.003600</td>\n",
       "      <td>0.084000</td>\n",
       "      <td>0.074600</td>\n",
       "      <td>0.981600</td>\n",
       "      <td>0.764800</td>\n",
       "      <td>0.019000</td>\n",
       "      <td>0.000000</td>\n",
       "      <td>...</td>\n",
       "      <td>0.077100</td>\n",
       "      <td>0.073100</td>\n",
       "      <td>0.000000</td>\n",
       "      <td>0.001100</td>\n",
       "      <td>0.086400</td>\n",
       "      <td>0.075800</td>\n",
       "      <td>0.981600</td>\n",
       "      <td>0.758500</td>\n",
       "      <td>0.020800</td>\n",
       "      <td>0.000000</td>\n",
       "      <td>0.137900</td>\n",
       "      <td>0.166700</td>\n",
       "      <td>0.208300</td>\n",
       "      <td>0.048700</td>\n",
       "      <td>0.076100</td>\n",
       "      <td>0.074900</td>\n",
       "      <td>0.000000</td>\n",
       "      <td>0.003100</td>\n",
       "      <td>0.068800</td>\n",
       "      <td>0.000000</td>\n",
       "      <td>0.000000</td>\n",
       "      <td>0.000000</td>\n",
       "      <td>0.000000</td>\n",
       "      <td>-757.000000</td>\n",
       "      <td>0.000000</td>\n",
       "      <td>1.000000</td>\n",
       "      <td>0.000000</td>\n",
       "      <td>0.000000</td>\n",
       "      <td>0.000000</td>\n",
       "      <td>0.000000</td>\n",
       "      <td>0.000000</td>\n",
       "      <td>0.000000</td>\n",
       "      <td>0.000000</td>\n",
       "      <td>0.000000</td>\n",
       "      <td>0.000000</td>\n",
       "      <td>0.000000</td>\n",
       "      <td>0.000000</td>\n",
       "      <td>0.00000</td>\n",
       "      <td>0.000000</td>\n",
       "      <td>0.000000</td>\n",
       "      <td>0.000000</td>\n",
       "      <td>0.000000</td>\n",
       "      <td>0.000000</td>\n",
       "      <td>0.000000</td>\n",
       "      <td>0.000000</td>\n",
       "      <td>0.000000</td>\n",
       "      <td>0.000000</td>\n",
       "      <td>0.000000</td>\n",
       "      <td>0.000000</td>\n",
       "      <td>1.000000</td>\n",
       "    </tr>\n",
       "    <tr>\n",
       "      <td>75%</td>\n",
       "      <td>1.000000</td>\n",
       "      <td>2.025000e+05</td>\n",
       "      <td>8.086500e+05</td>\n",
       "      <td>34596.000000</td>\n",
       "      <td>6.795000e+05</td>\n",
       "      <td>0.028663</td>\n",
       "      <td>-12413.000000</td>\n",
       "      <td>-289.000000</td>\n",
       "      <td>-2010.000000</td>\n",
       "      <td>-1720.000000</td>\n",
       "      <td>15.000000</td>\n",
       "      <td>1.000000</td>\n",
       "      <td>1.000000</td>\n",
       "      <td>0.000000</td>\n",
       "      <td>1.000000</td>\n",
       "      <td>1.000000</td>\n",
       "      <td>0.000000</td>\n",
       "      <td>3.000000</td>\n",
       "      <td>2.000000</td>\n",
       "      <td>2.000000</td>\n",
       "      <td>14.000000</td>\n",
       "      <td>0.000000</td>\n",
       "      <td>0.000000</td>\n",
       "      <td>0.000000</td>\n",
       "      <td>0.000000</td>\n",
       "      <td>0.000000</td>\n",
       "      <td>0.000000</td>\n",
       "      <td>0.675053</td>\n",
       "      <td>6.636171e-01</td>\n",
       "      <td>0.669057</td>\n",
       "      <td>0.14850</td>\n",
       "      <td>0.112200</td>\n",
       "      <td>0.986600</td>\n",
       "      <td>0.823200</td>\n",
       "      <td>0.051500</td>\n",
       "      <td>0.120000</td>\n",
       "      <td>0.206900</td>\n",
       "      <td>0.333300</td>\n",
       "      <td>0.375000</td>\n",
       "      <td>0.085600</td>\n",
       "      <td>0.121000</td>\n",
       "      <td>0.129900</td>\n",
       "      <td>0.003900</td>\n",
       "      <td>0.027700</td>\n",
       "      <td>0.143900</td>\n",
       "      <td>0.112400</td>\n",
       "      <td>0.986600</td>\n",
       "      <td>0.823600</td>\n",
       "      <td>0.049000</td>\n",
       "      <td>0.120800</td>\n",
       "      <td>...</td>\n",
       "      <td>0.131300</td>\n",
       "      <td>0.125200</td>\n",
       "      <td>0.003900</td>\n",
       "      <td>0.023100</td>\n",
       "      <td>0.148900</td>\n",
       "      <td>0.111600</td>\n",
       "      <td>0.986600</td>\n",
       "      <td>0.825600</td>\n",
       "      <td>0.051300</td>\n",
       "      <td>0.120000</td>\n",
       "      <td>0.206900</td>\n",
       "      <td>0.333300</td>\n",
       "      <td>0.375000</td>\n",
       "      <td>0.086800</td>\n",
       "      <td>0.123100</td>\n",
       "      <td>0.130300</td>\n",
       "      <td>0.003900</td>\n",
       "      <td>0.026600</td>\n",
       "      <td>0.127600</td>\n",
       "      <td>2.000000</td>\n",
       "      <td>0.000000</td>\n",
       "      <td>2.000000</td>\n",
       "      <td>0.000000</td>\n",
       "      <td>-274.000000</td>\n",
       "      <td>0.000000</td>\n",
       "      <td>1.000000</td>\n",
       "      <td>0.000000</td>\n",
       "      <td>0.000000</td>\n",
       "      <td>0.000000</td>\n",
       "      <td>0.000000</td>\n",
       "      <td>0.000000</td>\n",
       "      <td>0.000000</td>\n",
       "      <td>0.000000</td>\n",
       "      <td>0.000000</td>\n",
       "      <td>0.000000</td>\n",
       "      <td>0.000000</td>\n",
       "      <td>0.000000</td>\n",
       "      <td>0.00000</td>\n",
       "      <td>0.000000</td>\n",
       "      <td>0.000000</td>\n",
       "      <td>0.000000</td>\n",
       "      <td>0.000000</td>\n",
       "      <td>0.000000</td>\n",
       "      <td>0.000000</td>\n",
       "      <td>0.000000</td>\n",
       "      <td>0.000000</td>\n",
       "      <td>0.000000</td>\n",
       "      <td>0.000000</td>\n",
       "      <td>0.000000</td>\n",
       "      <td>3.000000</td>\n",
       "    </tr>\n",
       "    <tr>\n",
       "      <td>max</td>\n",
       "      <td>19.000000</td>\n",
       "      <td>1.170000e+08</td>\n",
       "      <td>4.050000e+06</td>\n",
       "      <td>258025.500000</td>\n",
       "      <td>4.050000e+06</td>\n",
       "      <td>0.072508</td>\n",
       "      <td>-7489.000000</td>\n",
       "      <td>365243.000000</td>\n",
       "      <td>0.000000</td>\n",
       "      <td>0.000000</td>\n",
       "      <td>91.000000</td>\n",
       "      <td>1.000000</td>\n",
       "      <td>1.000000</td>\n",
       "      <td>1.000000</td>\n",
       "      <td>1.000000</td>\n",
       "      <td>1.000000</td>\n",
       "      <td>1.000000</td>\n",
       "      <td>20.000000</td>\n",
       "      <td>3.000000</td>\n",
       "      <td>3.000000</td>\n",
       "      <td>23.000000</td>\n",
       "      <td>1.000000</td>\n",
       "      <td>1.000000</td>\n",
       "      <td>1.000000</td>\n",
       "      <td>1.000000</td>\n",
       "      <td>1.000000</td>\n",
       "      <td>1.000000</td>\n",
       "      <td>0.962693</td>\n",
       "      <td>8.549997e-01</td>\n",
       "      <td>0.896010</td>\n",
       "      <td>1.00000</td>\n",
       "      <td>1.000000</td>\n",
       "      <td>1.000000</td>\n",
       "      <td>1.000000</td>\n",
       "      <td>1.000000</td>\n",
       "      <td>1.000000</td>\n",
       "      <td>1.000000</td>\n",
       "      <td>1.000000</td>\n",
       "      <td>1.000000</td>\n",
       "      <td>1.000000</td>\n",
       "      <td>1.000000</td>\n",
       "      <td>1.000000</td>\n",
       "      <td>1.000000</td>\n",
       "      <td>1.000000</td>\n",
       "      <td>1.000000</td>\n",
       "      <td>1.000000</td>\n",
       "      <td>1.000000</td>\n",
       "      <td>1.000000</td>\n",
       "      <td>1.000000</td>\n",
       "      <td>1.000000</td>\n",
       "      <td>...</td>\n",
       "      <td>1.000000</td>\n",
       "      <td>1.000000</td>\n",
       "      <td>1.000000</td>\n",
       "      <td>1.000000</td>\n",
       "      <td>1.000000</td>\n",
       "      <td>1.000000</td>\n",
       "      <td>1.000000</td>\n",
       "      <td>1.000000</td>\n",
       "      <td>1.000000</td>\n",
       "      <td>1.000000</td>\n",
       "      <td>1.000000</td>\n",
       "      <td>1.000000</td>\n",
       "      <td>1.000000</td>\n",
       "      <td>1.000000</td>\n",
       "      <td>1.000000</td>\n",
       "      <td>1.000000</td>\n",
       "      <td>1.000000</td>\n",
       "      <td>1.000000</td>\n",
       "      <td>1.000000</td>\n",
       "      <td>348.000000</td>\n",
       "      <td>34.000000</td>\n",
       "      <td>344.000000</td>\n",
       "      <td>24.000000</td>\n",
       "      <td>0.000000</td>\n",
       "      <td>1.000000</td>\n",
       "      <td>1.000000</td>\n",
       "      <td>1.000000</td>\n",
       "      <td>1.000000</td>\n",
       "      <td>1.000000</td>\n",
       "      <td>1.000000</td>\n",
       "      <td>1.000000</td>\n",
       "      <td>1.000000</td>\n",
       "      <td>1.000000</td>\n",
       "      <td>1.000000</td>\n",
       "      <td>1.000000</td>\n",
       "      <td>1.000000</td>\n",
       "      <td>1.000000</td>\n",
       "      <td>1.00000</td>\n",
       "      <td>1.000000</td>\n",
       "      <td>1.000000</td>\n",
       "      <td>1.000000</td>\n",
       "      <td>1.000000</td>\n",
       "      <td>1.000000</td>\n",
       "      <td>1.000000</td>\n",
       "      <td>4.000000</td>\n",
       "      <td>9.000000</td>\n",
       "      <td>8.000000</td>\n",
       "      <td>27.000000</td>\n",
       "      <td>261.000000</td>\n",
       "      <td>25.000000</td>\n",
       "    </tr>\n",
       "  </tbody>\n",
       "</table>\n",
       "<p>8 rows × 104 columns</p>\n",
       "</div>"
      ],
      "text/plain": [
       "        CNT_CHILDREN  AMT_INCOME_TOTAL    AMT_CREDIT    AMT_ANNUITY  \\\n",
       "count  307511.000000      3.075110e+05  3.075110e+05  307499.000000   \n",
       "mean        0.417052      1.687979e+05  5.990260e+05   27108.573909   \n",
       "std         0.722121      2.371231e+05  4.024908e+05   14493.737315   \n",
       "min         0.000000      2.565000e+04  4.500000e+04    1615.500000   \n",
       "25%         0.000000      1.125000e+05  2.700000e+05   16524.000000   \n",
       "50%         0.000000      1.471500e+05  5.135310e+05   24903.000000   \n",
       "75%         1.000000      2.025000e+05  8.086500e+05   34596.000000   \n",
       "max        19.000000      1.170000e+08  4.050000e+06  258025.500000   \n",
       "\n",
       "       AMT_GOODS_PRICE  REGION_POPULATION_RELATIVE     DAYS_BIRTH  \\\n",
       "count     3.072330e+05               307511.000000  307511.000000   \n",
       "mean      5.383962e+05                    0.020868  -16036.995067   \n",
       "std       3.694465e+05                    0.013831    4363.988632   \n",
       "min       4.050000e+04                    0.000290  -25229.000000   \n",
       "25%       2.385000e+05                    0.010006  -19682.000000   \n",
       "50%       4.500000e+05                    0.018850  -15750.000000   \n",
       "75%       6.795000e+05                    0.028663  -12413.000000   \n",
       "max       4.050000e+06                    0.072508   -7489.000000   \n",
       "\n",
       "       DAYS_EMPLOYED  DAYS_REGISTRATION  DAYS_ID_PUBLISH    OWN_CAR_AGE  \\\n",
       "count  307511.000000      307511.000000    307511.000000  104582.000000   \n",
       "mean    63815.045904       -4986.120328     -2994.202373      12.061091   \n",
       "std    141275.766519        3522.886321      1509.450419      11.944812   \n",
       "min    -17912.000000      -24672.000000     -7197.000000       0.000000   \n",
       "25%     -2760.000000       -7479.500000     -4299.000000       5.000000   \n",
       "50%     -1213.000000       -4504.000000     -3254.000000       9.000000   \n",
       "75%      -289.000000       -2010.000000     -1720.000000      15.000000   \n",
       "max    365243.000000           0.000000         0.000000      91.000000   \n",
       "\n",
       "          FLAG_MOBIL  FLAG_EMP_PHONE  FLAG_WORK_PHONE  FLAG_CONT_MOBILE  \\\n",
       "count  307511.000000   307511.000000    307511.000000     307511.000000   \n",
       "mean        0.999997        0.819889         0.199368          0.998133   \n",
       "std         0.001803        0.384280         0.399526          0.043164   \n",
       "min         0.000000        0.000000         0.000000          0.000000   \n",
       "25%         1.000000        1.000000         0.000000          1.000000   \n",
       "50%         1.000000        1.000000         0.000000          1.000000   \n",
       "75%         1.000000        1.000000         0.000000          1.000000   \n",
       "max         1.000000        1.000000         1.000000          1.000000   \n",
       "\n",
       "          FLAG_PHONE     FLAG_EMAIL  CNT_FAM_MEMBERS  REGION_RATING_CLIENT  \\\n",
       "count  307511.000000  307511.000000    307509.000000         307511.000000   \n",
       "mean        0.281066       0.056720         2.152665              2.052463   \n",
       "std         0.449521       0.231307         0.910682              0.509034   \n",
       "min         0.000000       0.000000         1.000000              1.000000   \n",
       "25%         0.000000       0.000000         2.000000              2.000000   \n",
       "50%         0.000000       0.000000         2.000000              2.000000   \n",
       "75%         1.000000       0.000000         3.000000              2.000000   \n",
       "max         1.000000       1.000000        20.000000              3.000000   \n",
       "\n",
       "       REGION_RATING_CLIENT_W_CITY  HOUR_APPR_PROCESS_START  \\\n",
       "count                307511.000000            307511.000000   \n",
       "mean                      2.031521                12.063419   \n",
       "std                       0.502737                 3.265832   \n",
       "min                       1.000000                 0.000000   \n",
       "25%                       2.000000                10.000000   \n",
       "50%                       2.000000                12.000000   \n",
       "75%                       2.000000                14.000000   \n",
       "max                       3.000000                23.000000   \n",
       "\n",
       "       REG_REGION_NOT_LIVE_REGION  REG_REGION_NOT_WORK_REGION  \\\n",
       "count               307511.000000               307511.000000   \n",
       "mean                     0.015144                    0.050769   \n",
       "std                      0.122126                    0.219526   \n",
       "min                      0.000000                    0.000000   \n",
       "25%                      0.000000                    0.000000   \n",
       "50%                      0.000000                    0.000000   \n",
       "75%                      0.000000                    0.000000   \n",
       "max                      1.000000                    1.000000   \n",
       "\n",
       "       LIVE_REGION_NOT_WORK_REGION  REG_CITY_NOT_LIVE_CITY  \\\n",
       "count                307511.000000           307511.000000   \n",
       "mean                      0.040659                0.078173   \n",
       "std                       0.197499                0.268444   \n",
       "min                       0.000000                0.000000   \n",
       "25%                       0.000000                0.000000   \n",
       "50%                       0.000000                0.000000   \n",
       "75%                       0.000000                0.000000   \n",
       "max                       1.000000                1.000000   \n",
       "\n",
       "       REG_CITY_NOT_WORK_CITY  LIVE_CITY_NOT_WORK_CITY   EXT_SOURCE_1  \\\n",
       "count           307511.000000            307511.000000  134133.000000   \n",
       "mean                 0.230454                 0.179555       0.502130   \n",
       "std                  0.421124                 0.383817       0.211062   \n",
       "min                  0.000000                 0.000000       0.014568   \n",
       "25%                  0.000000                 0.000000       0.334007   \n",
       "50%                  0.000000                 0.000000       0.505998   \n",
       "75%                  0.000000                 0.000000       0.675053   \n",
       "max                  1.000000                 1.000000       0.962693   \n",
       "\n",
       "       EXT_SOURCE_2   EXT_SOURCE_3  APARTMENTS_AVG  BASEMENTAREA_AVG  \\\n",
       "count  3.068510e+05  246546.000000    151450.00000     127568.000000   \n",
       "mean   5.143927e-01       0.510853         0.11744          0.088442   \n",
       "std    1.910602e-01       0.194844         0.10824          0.082438   \n",
       "min    8.173617e-08       0.000527         0.00000          0.000000   \n",
       "25%    3.924574e-01       0.370650         0.05770          0.044200   \n",
       "50%    5.659614e-01       0.535276         0.08760          0.076300   \n",
       "75%    6.636171e-01       0.669057         0.14850          0.112200   \n",
       "max    8.549997e-01       0.896010         1.00000          1.000000   \n",
       "\n",
       "       YEARS_BEGINEXPLUATATION_AVG  YEARS_BUILD_AVG  COMMONAREA_AVG  \\\n",
       "count                157504.000000    103023.000000    92646.000000   \n",
       "mean                      0.977735         0.752471        0.044621   \n",
       "std                       0.059223         0.113280        0.076036   \n",
       "min                       0.000000         0.000000        0.000000   \n",
       "25%                       0.976700         0.687200        0.007800   \n",
       "50%                       0.981600         0.755200        0.021100   \n",
       "75%                       0.986600         0.823200        0.051500   \n",
       "max                       1.000000         1.000000        1.000000   \n",
       "\n",
       "       ELEVATORS_AVG  ENTRANCES_AVG  FLOORSMAX_AVG  FLOORSMIN_AVG  \\\n",
       "count  143620.000000  152683.000000  154491.000000   98869.000000   \n",
       "mean        0.078942       0.149725       0.226282       0.231894   \n",
       "std         0.134576       0.100049       0.144641       0.161380   \n",
       "min         0.000000       0.000000       0.000000       0.000000   \n",
       "25%         0.000000       0.069000       0.166700       0.083300   \n",
       "50%         0.000000       0.137900       0.166700       0.208300   \n",
       "75%         0.120000       0.206900       0.333300       0.375000   \n",
       "max         1.000000       1.000000       1.000000       1.000000   \n",
       "\n",
       "        LANDAREA_AVG  LIVINGAPARTMENTS_AVG  LIVINGAREA_AVG  \\\n",
       "count  124921.000000          97312.000000   153161.000000   \n",
       "mean        0.066333              0.100775        0.107399   \n",
       "std         0.081184              0.092576        0.110565   \n",
       "min         0.000000              0.000000        0.000000   \n",
       "25%         0.018700              0.050400        0.045300   \n",
       "50%         0.048100              0.075600        0.074500   \n",
       "75%         0.085600              0.121000        0.129900   \n",
       "max         1.000000              1.000000        1.000000   \n",
       "\n",
       "       NONLIVINGAPARTMENTS_AVG  NONLIVINGAREA_AVG  APARTMENTS_MODE  \\\n",
       "count             93997.000000      137829.000000    151450.000000   \n",
       "mean                  0.008809           0.028358         0.114231   \n",
       "std                   0.047732           0.069523         0.107936   \n",
       "min                   0.000000           0.000000         0.000000   \n",
       "25%                   0.000000           0.000000         0.052500   \n",
       "50%                   0.000000           0.003600         0.084000   \n",
       "75%                   0.003900           0.027700         0.143900   \n",
       "max                   1.000000           1.000000         1.000000   \n",
       "\n",
       "       BASEMENTAREA_MODE  YEARS_BEGINEXPLUATATION_MODE  YEARS_BUILD_MODE  \\\n",
       "count      127568.000000                 157504.000000     103023.000000   \n",
       "mean            0.087543                      0.977065          0.759637   \n",
       "std             0.084307                      0.064575          0.110111   \n",
       "min             0.000000                      0.000000          0.000000   \n",
       "25%             0.040700                      0.976700          0.699400   \n",
       "50%             0.074600                      0.981600          0.764800   \n",
       "75%             0.112400                      0.986600          0.823600   \n",
       "max             1.000000                      1.000000          1.000000   \n",
       "\n",
       "       COMMONAREA_MODE  ELEVATORS_MODE  ...  LIVINGAPARTMENTS_MODE  \\\n",
       "count     92646.000000   143620.000000  ...           97312.000000   \n",
       "mean          0.042553        0.074490  ...               0.105645   \n",
       "std           0.074445        0.132256  ...               0.097880   \n",
       "min           0.000000        0.000000  ...               0.000000   \n",
       "25%           0.007200        0.000000  ...               0.054200   \n",
       "50%           0.019000        0.000000  ...               0.077100   \n",
       "75%           0.049000        0.120800  ...               0.131300   \n",
       "max           1.000000        1.000000  ...               1.000000   \n",
       "\n",
       "       LIVINGAREA_MODE  NONLIVINGAPARTMENTS_MODE  NONLIVINGAREA_MODE  \\\n",
       "count    153161.000000              93997.000000       137829.000000   \n",
       "mean          0.105975                  0.008076            0.027022   \n",
       "std           0.111845                  0.046276            0.070254   \n",
       "min           0.000000                  0.000000            0.000000   \n",
       "25%           0.042700                  0.000000            0.000000   \n",
       "50%           0.073100                  0.000000            0.001100   \n",
       "75%           0.125200                  0.003900            0.023100   \n",
       "max           1.000000                  1.000000            1.000000   \n",
       "\n",
       "       APARTMENTS_MEDI  BASEMENTAREA_MEDI  YEARS_BEGINEXPLUATATION_MEDI  \\\n",
       "count    151450.000000      127568.000000                 157504.000000   \n",
       "mean          0.117850           0.087955                      0.977752   \n",
       "std           0.109076           0.082179                      0.059897   \n",
       "min           0.000000           0.000000                      0.000000   \n",
       "25%           0.058300           0.043700                      0.976700   \n",
       "50%           0.086400           0.075800                      0.981600   \n",
       "75%           0.148900           0.111600                      0.986600   \n",
       "max           1.000000           1.000000                      1.000000   \n",
       "\n",
       "       YEARS_BUILD_MEDI  COMMONAREA_MEDI  ELEVATORS_MEDI  ENTRANCES_MEDI  \\\n",
       "count     103023.000000     92646.000000   143620.000000   152683.000000   \n",
       "mean           0.755746         0.044595        0.078078        0.149213   \n",
       "std            0.112066         0.076144        0.134467        0.100368   \n",
       "min            0.000000         0.000000        0.000000        0.000000   \n",
       "25%            0.691400         0.007900        0.000000        0.069000   \n",
       "50%            0.758500         0.020800        0.000000        0.137900   \n",
       "75%            0.825600         0.051300        0.120000        0.206900   \n",
       "max            1.000000         1.000000        1.000000        1.000000   \n",
       "\n",
       "       FLOORSMAX_MEDI  FLOORSMIN_MEDI  LANDAREA_MEDI  LIVINGAPARTMENTS_MEDI  \\\n",
       "count   154491.000000    98869.000000  124921.000000           97312.000000   \n",
       "mean         0.225897        0.231625       0.067169               0.101954   \n",
       "std          0.145067        0.161934       0.082167               0.093642   \n",
       "min          0.000000        0.000000       0.000000               0.000000   \n",
       "25%          0.166700        0.083300       0.018700               0.051300   \n",
       "50%          0.166700        0.208300       0.048700               0.076100   \n",
       "75%          0.333300        0.375000       0.086800               0.123100   \n",
       "max          1.000000        1.000000       1.000000               1.000000   \n",
       "\n",
       "       LIVINGAREA_MEDI  NONLIVINGAPARTMENTS_MEDI  NONLIVINGAREA_MEDI  \\\n",
       "count    153161.000000              93997.000000       137829.000000   \n",
       "mean          0.108607                  0.008651            0.028236   \n",
       "std           0.112260                  0.047415            0.070166   \n",
       "min           0.000000                  0.000000            0.000000   \n",
       "25%           0.045700                  0.000000            0.000000   \n",
       "50%           0.074900                  0.000000            0.003100   \n",
       "75%           0.130300                  0.003900            0.026600   \n",
       "max           1.000000                  1.000000            1.000000   \n",
       "\n",
       "       TOTALAREA_MODE  OBS_30_CNT_SOCIAL_CIRCLE  DEF_30_CNT_SOCIAL_CIRCLE  \\\n",
       "count   159080.000000             306490.000000             306490.000000   \n",
       "mean         0.102547                  1.422245                  0.143421   \n",
       "std          0.107462                  2.400989                  0.446698   \n",
       "min          0.000000                  0.000000                  0.000000   \n",
       "25%          0.041200                  0.000000                  0.000000   \n",
       "50%          0.068800                  0.000000                  0.000000   \n",
       "75%          0.127600                  2.000000                  0.000000   \n",
       "max          1.000000                348.000000                 34.000000   \n",
       "\n",
       "       OBS_60_CNT_SOCIAL_CIRCLE  DEF_60_CNT_SOCIAL_CIRCLE  \\\n",
       "count             306490.000000             306490.000000   \n",
       "mean                   1.405292                  0.100049   \n",
       "std                    2.379803                  0.362291   \n",
       "min                    0.000000                  0.000000   \n",
       "25%                    0.000000                  0.000000   \n",
       "50%                    0.000000                  0.000000   \n",
       "75%                    2.000000                  0.000000   \n",
       "max                  344.000000                 24.000000   \n",
       "\n",
       "       DAYS_LAST_PHONE_CHANGE  FLAG_DOCUMENT_2  FLAG_DOCUMENT_3  \\\n",
       "count           307510.000000    307511.000000    307511.000000   \n",
       "mean              -962.858788         0.000042         0.710023   \n",
       "std                826.808487         0.006502         0.453752   \n",
       "min              -4292.000000         0.000000         0.000000   \n",
       "25%              -1570.000000         0.000000         0.000000   \n",
       "50%               -757.000000         0.000000         1.000000   \n",
       "75%               -274.000000         0.000000         1.000000   \n",
       "max                  0.000000         1.000000         1.000000   \n",
       "\n",
       "       FLAG_DOCUMENT_4  FLAG_DOCUMENT_5  FLAG_DOCUMENT_6  FLAG_DOCUMENT_7  \\\n",
       "count    307511.000000    307511.000000    307511.000000    307511.000000   \n",
       "mean          0.000081         0.015115         0.088055         0.000192   \n",
       "std           0.009016         0.122010         0.283376         0.013850   \n",
       "min           0.000000         0.000000         0.000000         0.000000   \n",
       "25%           0.000000         0.000000         0.000000         0.000000   \n",
       "50%           0.000000         0.000000         0.000000         0.000000   \n",
       "75%           0.000000         0.000000         0.000000         0.000000   \n",
       "max           1.000000         1.000000         1.000000         1.000000   \n",
       "\n",
       "       FLAG_DOCUMENT_8  FLAG_DOCUMENT_9  FLAG_DOCUMENT_10  FLAG_DOCUMENT_11  \\\n",
       "count    307511.000000    307511.000000     307511.000000     307511.000000   \n",
       "mean          0.081376         0.003896          0.000023          0.003912   \n",
       "std           0.273412         0.062295          0.004771          0.062424   \n",
       "min           0.000000         0.000000          0.000000          0.000000   \n",
       "25%           0.000000         0.000000          0.000000          0.000000   \n",
       "50%           0.000000         0.000000          0.000000          0.000000   \n",
       "75%           0.000000         0.000000          0.000000          0.000000   \n",
       "max           1.000000         1.000000          1.000000          1.000000   \n",
       "\n",
       "       FLAG_DOCUMENT_12  FLAG_DOCUMENT_13  FLAG_DOCUMENT_14  FLAG_DOCUMENT_15  \\\n",
       "count     307511.000000     307511.000000     307511.000000      307511.00000   \n",
       "mean           0.000007          0.003525          0.002936           0.00121   \n",
       "std            0.002550          0.059268          0.054110           0.03476   \n",
       "min            0.000000          0.000000          0.000000           0.00000   \n",
       "25%            0.000000          0.000000          0.000000           0.00000   \n",
       "50%            0.000000          0.000000          0.000000           0.00000   \n",
       "75%            0.000000          0.000000          0.000000           0.00000   \n",
       "max            1.000000          1.000000          1.000000           1.00000   \n",
       "\n",
       "       FLAG_DOCUMENT_16  FLAG_DOCUMENT_17  FLAG_DOCUMENT_18  FLAG_DOCUMENT_19  \\\n",
       "count     307511.000000     307511.000000     307511.000000     307511.000000   \n",
       "mean           0.009928          0.000267          0.008130          0.000595   \n",
       "std            0.099144          0.016327          0.089798          0.024387   \n",
       "min            0.000000          0.000000          0.000000          0.000000   \n",
       "25%            0.000000          0.000000          0.000000          0.000000   \n",
       "50%            0.000000          0.000000          0.000000          0.000000   \n",
       "75%            0.000000          0.000000          0.000000          0.000000   \n",
       "max            1.000000          1.000000          1.000000          1.000000   \n",
       "\n",
       "       FLAG_DOCUMENT_20  FLAG_DOCUMENT_21  AMT_REQ_CREDIT_BUREAU_HOUR  \\\n",
       "count     307511.000000     307511.000000               265992.000000   \n",
       "mean           0.000507          0.000335                    0.006402   \n",
       "std            0.022518          0.018299                    0.083849   \n",
       "min            0.000000          0.000000                    0.000000   \n",
       "25%            0.000000          0.000000                    0.000000   \n",
       "50%            0.000000          0.000000                    0.000000   \n",
       "75%            0.000000          0.000000                    0.000000   \n",
       "max            1.000000          1.000000                    4.000000   \n",
       "\n",
       "       AMT_REQ_CREDIT_BUREAU_DAY  AMT_REQ_CREDIT_BUREAU_WEEK  \\\n",
       "count              265992.000000               265992.000000   \n",
       "mean                    0.007000                    0.034362   \n",
       "std                     0.110757                    0.204685   \n",
       "min                     0.000000                    0.000000   \n",
       "25%                     0.000000                    0.000000   \n",
       "50%                     0.000000                    0.000000   \n",
       "75%                     0.000000                    0.000000   \n",
       "max                     9.000000                    8.000000   \n",
       "\n",
       "       AMT_REQ_CREDIT_BUREAU_MON  AMT_REQ_CREDIT_BUREAU_QRT  \\\n",
       "count              265992.000000              265992.000000   \n",
       "mean                    0.267395                   0.265474   \n",
       "std                     0.916002                   0.794056   \n",
       "min                     0.000000                   0.000000   \n",
       "25%                     0.000000                   0.000000   \n",
       "50%                     0.000000                   0.000000   \n",
       "75%                     0.000000                   0.000000   \n",
       "max                    27.000000                 261.000000   \n",
       "\n",
       "       AMT_REQ_CREDIT_BUREAU_YEAR  \n",
       "count               265992.000000  \n",
       "mean                     1.899974  \n",
       "std                      1.869295  \n",
       "min                      0.000000  \n",
       "25%                      0.000000  \n",
       "50%                      1.000000  \n",
       "75%                      3.000000  \n",
       "max                     25.000000  \n",
       "\n",
       "[8 rows x 104 columns]"
      ]
     },
     "execution_count": 24,
     "metadata": {},
     "output_type": "execute_result"
    }
   ],
   "source": [
    "train_x.describe()"
   ]
  },
  {
   "cell_type": "markdown",
   "metadata": {},
   "source": [
    "気になったこと  \n",
    "* CNT_CHILDREN：マックスで１９人子供がいる人がいる。ほとんどの家庭は１人\n",
    "* DAYS_XXX：値がマイナスになっているのはなぜ？\n",
    "* DAYS_EMPLOYED：最大値がプラスのものがある。\n",
    "* CNT_FAM_MEMBERS：２０人家族がいる。家族構成が不明な人を２０と値づけしてないか疑う\n",
    "\n",
    "試したいこと  \n",
    "* 収入に対する年金の割合を特徴量として作成\n",
    "* 収入に対するローン借入額を特徴量として作成"
   ]
  },
  {
   "cell_type": "code",
   "execution_count": 25,
   "metadata": {},
   "outputs": [],
   "source": [
    "attention_cols = [\"CNT_CHILDREN\", \"DAYS_BIRTH\"]"
   ]
  },
  {
   "cell_type": "code",
   "execution_count": 26,
   "metadata": {},
   "outputs": [
    {
     "data": {
      "image/png": "[encoded data removed]",
      "text/plain": [
       "<Figure size 432x288 with 1 Axes>"
      ]
     },
     "metadata": {
      "needs_background": "light"
     },
     "output_type": "display_data"
    }
   ],
   "source": [
    "# 子供の数を確認\n",
    "train_x[\"CNT_CHILDREN\"].plot.hist()\n",
    "plt.show()"
   ]
  },
  {
   "cell_type": "markdown",
   "metadata": {},
   "source": [
    "19人のひとは単なる外れ値（珍しい人）で不明等の意味を表すものではなかった"
   ]
  },
  {
   "cell_type": "code",
   "execution_count": 27,
   "metadata": {},
   "outputs": [
    {
     "data": {
      "image/png": "[encoded data removed]",
      "text/plain": [
       "<Figure size 432x288 with 1 Axes>"
      ]
     },
     "metadata": {
      "needs_background": "light"
     },
     "output_type": "display_data"
    }
   ],
   "source": [
    "# 申込日時点ので日齢を確認\n",
    "(train_x[\"DAYS_BIRTH\"] / -365).plot.hist(bins=50)\n",
    "plt.show()"
   ]
  },
  {
   "cell_type": "markdown",
   "metadata": {},
   "source": [
    "20歳～70歳がこのデータセットには含まれるということが分かる  \n",
    "マイナス値なのは特に意味はなさそう"
   ]
  },
  {
   "cell_type": "code",
   "execution_count": 28,
   "metadata": {},
   "outputs": [
    {
     "data": {
      "image/png": "[encoded data removed]",
      "text/plain": [
       "<Figure size 432x288 with 1 Axes>"
      ]
     },
     "metadata": {
      "needs_background": "light"
     },
     "output_type": "display_data"
    }
   ],
   "source": [
    "train_x[\"DAYS_EMPLOYED\"].plot.hist()\n",
    "plt.show()"
   ]
  },
  {
   "cell_type": "code",
   "execution_count": 29,
   "metadata": {},
   "outputs": [
    {
     "name": "stdout",
     "output_type": "stream",
     "text": [
      "['Laborers' 'Core staff' 'Accountants' 'Managers' nan 'Drivers'\n",
      " 'Sales staff' 'Cleaning staff' 'Cooking staff' 'Private service staff'\n",
      " 'Medicine staff' 'Security staff' 'High skill tech staff'\n",
      " 'Waiters/barmen staff' 'Low-skill Laborers' 'Realty agents' 'Secretaries'\n",
      " 'IT staff' 'HR staff']\n"
     ]
    },
    {
     "data": {
      "text/html": [
       "<div>\n",
       "<style scoped>\n",
       "    .dataframe tbody tr th:only-of-type {\n",
       "        vertical-align: middle;\n",
       "    }\n",
       "\n",
       "    .dataframe tbody tr th {\n",
       "        vertical-align: top;\n",
       "    }\n",
       "\n",
       "    .dataframe thead th {\n",
       "        text-align: right;\n",
       "    }\n",
       "</style>\n",
       "<table border=\"1\" class=\"dataframe\">\n",
       "  <thead>\n",
       "    <tr style=\"text-align: right;\">\n",
       "      <th></th>\n",
       "      <th>DAYS_EMPLOYED</th>\n",
       "      <th>OCCUPATION_TYPE</th>\n",
       "    </tr>\n",
       "  </thead>\n",
       "  <tbody>\n",
       "    <tr>\n",
       "      <td>8</td>\n",
       "      <td>365243</td>\n",
       "      <td>NaN</td>\n",
       "    </tr>\n",
       "    <tr>\n",
       "      <td>11</td>\n",
       "      <td>365243</td>\n",
       "      <td>NaN</td>\n",
       "    </tr>\n",
       "    <tr>\n",
       "      <td>23</td>\n",
       "      <td>365243</td>\n",
       "      <td>NaN</td>\n",
       "    </tr>\n",
       "    <tr>\n",
       "      <td>38</td>\n",
       "      <td>365243</td>\n",
       "      <td>NaN</td>\n",
       "    </tr>\n",
       "    <tr>\n",
       "      <td>43</td>\n",
       "      <td>365243</td>\n",
       "      <td>NaN</td>\n",
       "    </tr>\n",
       "    <tr>\n",
       "      <td>...</td>\n",
       "      <td>...</td>\n",
       "      <td>...</td>\n",
       "    </tr>\n",
       "    <tr>\n",
       "      <td>307469</td>\n",
       "      <td>365243</td>\n",
       "      <td>NaN</td>\n",
       "    </tr>\n",
       "    <tr>\n",
       "      <td>307483</td>\n",
       "      <td>365243</td>\n",
       "      <td>NaN</td>\n",
       "    </tr>\n",
       "    <tr>\n",
       "      <td>307487</td>\n",
       "      <td>365243</td>\n",
       "      <td>NaN</td>\n",
       "    </tr>\n",
       "    <tr>\n",
       "      <td>307505</td>\n",
       "      <td>365243</td>\n",
       "      <td>NaN</td>\n",
       "    </tr>\n",
       "    <tr>\n",
       "      <td>307507</td>\n",
       "      <td>365243</td>\n",
       "      <td>NaN</td>\n",
       "    </tr>\n",
       "  </tbody>\n",
       "</table>\n",
       "<p>55374 rows × 2 columns</p>\n",
       "</div>"
      ],
      "text/plain": [
       "        DAYS_EMPLOYED OCCUPATION_TYPE\n",
       "8              365243             NaN\n",
       "11             365243             NaN\n",
       "23             365243             NaN\n",
       "38             365243             NaN\n",
       "43             365243             NaN\n",
       "...               ...             ...\n",
       "307469         365243             NaN\n",
       "307483         365243             NaN\n",
       "307487         365243             NaN\n",
       "307505         365243             NaN\n",
       "307507         365243             NaN\n",
       "\n",
       "[55374 rows x 2 columns]"
      ]
     },
     "execution_count": 29,
     "metadata": {},
     "output_type": "execute_result"
    }
   ],
   "source": [
    "print(train_x[\"OCCUPATION_TYPE\"].unique())\n",
    "train_x[train_x[\"DAYS_EMPLOYED\"] == 365243][[\"DAYS_EMPLOYED\",\"OCCUPATION_TYPE\"]]"
   ]
  },
  {
   "cell_type": "markdown",
   "metadata": {},
   "source": [
    "雇用期間が365523になっている人は無職 or 不明な人  \n",
    "365523は意味合いとしては実質０なので欠損値を代入すると性能はあがるかも"
   ]
  },
  {
   "cell_type": "code",
   "execution_count": 30,
   "metadata": {},
   "outputs": [
    {
     "data": {
      "image/png": "[encoded data removed]",
      "text/plain": [
       "<Figure size 432x288 with 1 Axes>"
      ]
     },
     "metadata": {
      "needs_background": "light"
     },
     "output_type": "display_data"
    }
   ],
   "source": [
    "train_x[\"CNT_FAM_MEMBERS\"].plot.hist()\n",
    "plt.show()"
   ]
  },
  {
   "cell_type": "markdown",
   "metadata": {},
   "source": [
    "子供の分布と似ていて期待通り。外れ値もただ単に珍しいだけ"
   ]
  },
  {
   "cell_type": "markdown",
   "metadata": {},
   "source": [
    "### 方針\n",
    "\n",
    "以上の分析・考察より、以下のパターンで前処理・特徴量選択を進めモデル精度を検証する。  \n",
    "なお、今回使用するモデルは**light-GBM**をつかう（欠損をそのまま扱えるため）\n",
    "\n",
    "1. 欠損のある列をすべて削除し、残りの全ての特徴量を用いて学習・推定を行う  \n",
    "2. 欠損列を残したまま全ての特徴量を用いて学習・推定を行う\n",
    "3. 2.のモデルで算出された重要度の高い上位20個の特徴で学習・推定を行う\n",
    "4. 既存の特徴量を加工して学習・推定を行う（DAYS_EMPLOYEDの加工）\n",
    "5. 新しい特徴量を追加して学習・推定を行う\n",
    "\n",
    "予想としては5＞4＞3＞2＞1 の順番でスコアが高くなると思う"
   ]
  },
  {
   "cell_type": "markdown",
   "metadata": {},
   "source": [
    "### 実践"
   ]
  },
  {
   "cell_type": "markdown",
   "metadata": {
    "heading_collapsed": true
   },
   "source": [
    "#### 欠損のある列をすべて削除し、残りの全ての特徴量を用いて学習・推定を行う"
   ]
  },
  {
   "cell_type": "code",
   "execution_count": 31,
   "metadata": {
    "hidden": true
   },
   "outputs": [
    {
     "name": "stdout",
     "output_type": "stream",
     "text": [
      "(307511, 53)\n",
      "(48744, 56)\n"
     ]
    }
   ],
   "source": [
    "#まずは事前処理したデータセットをコピー\n",
    "train_x1 = train_x.copy()\n",
    "train_y1 = train_y.copy()\n",
    "test_x1 = test_x.copy()\n",
    "\n",
    "#訓練データとテストデータどちらも欠損列を削除\n",
    "train_x1.dropna(axis=1, inplace=True)\n",
    "test_x1.dropna(axis=1, inplace=True)\n",
    "\n",
    "#行列の数を確認\n",
    "print(train_x1.shape)\n",
    "print(test_x1.shape)"
   ]
  },
  {
   "cell_type": "code",
   "execution_count": 32,
   "metadata": {
    "hidden": true
   },
   "outputs": [
    {
     "name": "stdout",
     "output_type": "stream",
     "text": [
      "(307511, 53)\n",
      "(48744, 53)\n"
     ]
    }
   ],
   "source": [
    "#列数を少ない方にあわせる\n",
    "train_x1, test_x1 = train_x1.align(test_x1, join=\"inner\", axis=1)\n",
    "\n",
    "#行列の数を確認\n",
    "print(train_x1.shape)\n",
    "print(test_x1.shape)"
   ]
  },
  {
   "cell_type": "code",
   "execution_count": 33,
   "metadata": {
    "hidden": true
   },
   "outputs": [
    {
     "name": "stdout",
     "output_type": "stream",
     "text": [
      "3 columns were label encoded.\n",
      "Training Features shape:  (307511, 139)\n",
      "Testing Features shape:  (48744, 136)\n"
     ]
    }
   ],
   "source": [
    "#フィーチャー数が２つのものはラベルエンコーダー、3つ以上はワンホットエンコーダー\n",
    "from sklearn.preprocessing import LabelEncoder\n",
    "\n",
    "le = LabelEncoder()\n",
    "le_count = 0\n",
    "\n",
    "for col in train_x1:\n",
    "    if train_x1[col].dtype == 'object':\n",
    "        # フィーチャー数が２以上のものはラベルエンコーディング\n",
    "        if len(list(train_x1[col].unique())) <= 2:\n",
    "            # 訓練データをつかって学習\n",
    "            le.fit(train_x1[col])\n",
    "            # 訓練データとテストデータを変換\n",
    "            train_x1[col] = le.transform(train_x1[col])\n",
    "            test_x1[col] = le.transform(test_x1[col])\n",
    "            \n",
    "            # ラベルエンコーディングしたカウントを保持\n",
    "            le_count += 1\n",
    "            \n",
    "print('%d columns were label encoded.' % le_count)\n",
    "\n",
    "# 他のカテゴリ変数についてはホットエンコーディング処理\n",
    "train_x1 = pd.get_dummies(train_x1)\n",
    "test_x1 = pd.get_dummies(test_x1)\n",
    "\n",
    "print('Training Features shape: ', train_x1.shape)\n",
    "print('Testing Features shape: ', test_x1.shape)"
   ]
  },
  {
   "cell_type": "code",
   "execution_count": 34,
   "metadata": {
    "hidden": true
   },
   "outputs": [
    {
     "name": "stdout",
     "output_type": "stream",
     "text": [
      "Training Features shape:  (307511, 136)\n",
      "Testing Features shape:  (48744, 136)\n"
     ]
    }
   ],
   "source": [
    "#列数を少ない方にあわせる\n",
    "train_x1, test_x1 = train_x1.align(test_x1, join=\"inner\", axis=1)\n",
    "\n",
    "print('Training Features shape: ', train_x1.shape)\n",
    "print('Testing Features shape: ', test_x1.shape)"
   ]
  },
  {
   "cell_type": "code",
   "execution_count": 35,
   "metadata": {
    "hidden": true
   },
   "outputs": [],
   "source": [
    "#訓練データを学習データと検証データに分割\n",
    "from sklearn.model_selection import train_test_split\n",
    "X1_train, X1_test, y1_train, y1_test = train_test_split(train_x1, train_y1, random_state=1)"
   ]
  },
  {
   "cell_type": "code",
   "execution_count": 36,
   "metadata": {
    "hidden": true
   },
   "outputs": [
    {
     "name": "stdout",
     "output_type": "stream",
     "text": [
      "auc: 0.6789\n"
     ]
    }
   ],
   "source": [
    "import lightgbm as lgb\n",
    "import re\n",
    "from sklearn.metrics import roc_auc_score\n",
    "\n",
    "#列名にJSON文字が入っているとダメみたいなので前処理\n",
    "X1_train = X1_train.rename(columns = lambda x:re.sub('[^A-Za-z0-9_]+', '', x))\n",
    "X1_test = X1_test.rename(columns = lambda x:re.sub('[^A-Za-z0-9_]+', '', x))\n",
    "\n",
    "#LGB用のデータに変形\n",
    "lgb1_train = lgb.Dataset(X1_train, y1_train)\n",
    "lgb1_eval = lgb.Dataset(X1_test, y1_test)\n",
    "\n",
    "#パラメータを指定\n",
    "params = {\"objective\": \"binary\", \"seed\": 1, \"verbose\": 0, \"metrics\": \"binary-logloss\"}\n",
    "num_round = 100\n",
    "\n",
    "#学習の実行\n",
    "lgb1 = lgb.train(params, lgb1_train, num_boost_round=num_round)\n",
    "\n",
    "#バリデーションスコアの確認\n",
    "lgb1_pred = lgb1.predict(X1_test)\n",
    "score = roc_auc_score(y1_test, lgb1_pred)\n",
    "print(f\"auc: {score:.4f}\")"
   ]
  },
  {
   "cell_type": "code",
   "execution_count": 37,
   "metadata": {
    "hidden": true
   },
   "outputs": [
    {
     "name": "stdout",
     "output_type": "stream",
     "text": [
      "[0.679421621771531, 0.6797208613524053, 0.6752812138209117, 0.6797363503804343]\n",
      "0.6785400118313205\n"
     ]
    }
   ],
   "source": [
    "from sklearn.model_selection import KFold\n",
    "scores = []\n",
    "kf = KFold(n_splits=4, shuffle=True, random_state=1)\n",
    "\n",
    "for tr_idx, va_idx in kf.split(train_x1):\n",
    "    tr_x1, va_x1 = train_x1.iloc[tr_idx], train_x1.iloc[va_idx]\n",
    "    tr_y1, va_y1 = train_y1.iloc[tr_idx], train_y1.iloc[va_idx]\n",
    "    \n",
    "    #列名にJSON文字が入っているとダメみたいなので前処理\n",
    "    tr_x1 = tr_x1.rename(columns = lambda x:re.sub('[^A-Za-z0-9_]+', '', x))\n",
    "    va_x1 = va_x1.rename(columns = lambda x:re.sub('[^A-Za-z0-9_]+', '', x))\n",
    "    \n",
    "    #LGB用のデータに変形\n",
    "    lgb1_train = lgb.Dataset(tr_x1, tr_y1)\n",
    "    lgb1_eval = lgb.Dataset(va_x1, va_y1)\n",
    "    \n",
    "    #パラメータを指定\n",
    "    params = {\"objective\": \"binary\", \"seed\": 1, \"verbose\": 0, \"metrics\": \"binary-logloss\"}\n",
    "    num_round = 100\n",
    "\n",
    "    lgb1 = lgb.train(params, lgb1_train, num_boost_round=num_round)\n",
    "    \n",
    "    lgb1_pred = lgb1.predict(va_x1)\n",
    "    score = roc_auc_score(va_y1, lgb1_pred)\n",
    "    scores.append(score)\n",
    "    \n",
    "print(scores)\n",
    "print(sum(scores)/len(scores))"
   ]
  },
  {
   "cell_type": "code",
   "execution_count": 38,
   "metadata": {
    "hidden": true
   },
   "outputs": [
    {
     "data": {
      "text/plain": [
       "<matplotlib.axes._subplots.AxesSubplot at 0x2a011dfed88>"
      ]
     },
     "execution_count": 38,
     "metadata": {},
     "output_type": "execute_result"
    },
    {
     "data": {
      "image/png": "[encoded data removed]",
      "text/plain": [
       "<Figure size 432x288 with 1 Axes>"
      ]
     },
     "metadata": {
      "needs_background": "light"
     },
     "output_type": "display_data"
    }
   ],
   "source": [
    "lgb1_importance = pd.DataFrame(data=lgb1.feature_importance(), index=lgb1.feature_name())\n",
    "k = 20\n",
    "lgb1_importance.nlargest(k, 0).plot.barh()"
   ]
  },
  {
   "cell_type": "code",
   "execution_count": 39,
   "metadata": {
    "hidden": true
   },
   "outputs": [],
   "source": [
    "#Kaggleに提出するために推定と整形\n",
    "pred = lgb1.predict(test_x1)\n",
    "sample[\"TARGET\"] = pred\n",
    "sample.to_csv(\"submit_del_nan_features.csv\", index=None)"
   ]
  },
  {
   "attachments": {
    "image.png": {
     "image/png": "[encoded data removed]"
    }
   },
   "cell_type": "markdown",
   "metadata": {
    "hidden": true
   },
   "source": [
    "**結果**\n",
    "\n",
    "![image.png](attachment:image.png)\n",
    "\n",
    "決して良いスコアとはいえない。。。"
   ]
  },
  {
   "cell_type": "markdown",
   "metadata": {},
   "source": [
    "#### 欠損列を残したまま全ての特徴量を用いて学習・推定を行う"
   ]
  },
  {
   "cell_type": "code",
   "execution_count": 40,
   "metadata": {},
   "outputs": [
    {
     "name": "stdout",
     "output_type": "stream",
     "text": [
      "(307511, 120)\n",
      "(48744, 120)\n"
     ]
    }
   ],
   "source": [
    "#まずは事前処理したデータセットをコピー\n",
    "train_x2 = train_x.copy()\n",
    "train_y2 = train_y.copy()\n",
    "test_x2 = test_x.copy()\n",
    "\n",
    "#行列の数を確認\n",
    "print(train_x2.shape)\n",
    "print(test_x2.shape)"
   ]
  },
  {
   "cell_type": "code",
   "execution_count": 41,
   "metadata": {},
   "outputs": [
    {
     "name": "stdout",
     "output_type": "stream",
     "text": [
      "3 columns were label encoded.\n",
      "Training Features shape:  (307511, 241)\n",
      "Testing Features shape:  (48744, 238)\n"
     ]
    }
   ],
   "source": [
    "le = LabelEncoder()\n",
    "le_count = 0\n",
    "\n",
    "for col in train_x2:\n",
    "    if train_x2[col].dtype == 'object':\n",
    "        # フィーチャー数が２以上のものはラベルエンコーディング\n",
    "        if len(list(train_x2[col].unique())) <= 2:\n",
    "            # 訓練データをつかって学習\n",
    "            le.fit(train_x2[col])\n",
    "            # 訓練データとテストデータを変換\n",
    "            train_x2[col] = le.transform(train_x2[col])\n",
    "            test_x2[col] = le.transform(test_x2[col])\n",
    "            \n",
    "            # ラベルエンコーディングしたカウントを保持\n",
    "            le_count += 1\n",
    "            \n",
    "print('%d columns were label encoded.' % le_count)\n",
    "\n",
    "# 他のカテゴリ変数についてはホットエンコーディング処理\n",
    "train_x2 = pd.get_dummies(train_x2)\n",
    "test_x2 = pd.get_dummies(test_x2)\n",
    "\n",
    "print('Training Features shape: ', train_x2.shape)\n",
    "print('Testing Features shape: ', test_x2.shape)"
   ]
  },
  {
   "cell_type": "code",
   "execution_count": 42,
   "metadata": {},
   "outputs": [
    {
     "name": "stdout",
     "output_type": "stream",
     "text": [
      "Training Features shape:  (307511, 238)\n",
      "Testing Features shape:  (48744, 238)\n"
     ]
    }
   ],
   "source": [
    "#列数を少ない方に合わせる\n",
    "train_x2, test_x2 = train_x2.align(test_x2, join=\"inner\", axis=1)\n",
    "\n",
    "print('Training Features shape: ', train_x2.shape)\n",
    "print('Testing Features shape: ', test_x2.shape)"
   ]
  },
  {
   "cell_type": "code",
   "execution_count": 53,
   "metadata": {},
   "outputs": [
    {
     "name": "stdout",
     "output_type": "stream",
     "text": [
      "[0.7530690021679505, 0.7602015945285586, 0.7499008816114492, 0.7491412070566155]\n",
      "0.7530781713411434\n"
     ]
    }
   ],
   "source": [
    "X2_train, X2_test, y2_train, y2_test = train_test_split(train_x2, train_y2, random_state=1)\n",
    "scores = []\n",
    "\n",
    "kf = KFold(n_splits=4, shuffle=True, random_state=1)\n",
    "for tr_idx, va_idx in kf.split(X2_train):\n",
    "    tr_x2, va_x2 = X2_train.iloc[tr_idx], X2_train.iloc[va_idx]\n",
    "    tr_y2, va_y2 = y2_train.iloc[tr_idx], y2_train.iloc[va_idx]\n",
    "\n",
    "    tr_x2 = tr_x2.rename(columns= lambda x:re.sub(\"[^A-Za-z0-9_]+\", \"\", x))\n",
    "    va_x2 = va_x2.rename(columns= lambda x:re.sub(\"[^A-Za-z0-9_]+\", \"\", x))\n",
    "    \n",
    "    lgb2_train = lgb.Dataset(tr_x2, tr_y2)\n",
    "    num_round = 100\n",
    "\n",
    "    params = {\"objective\": \"binary\", \"seed\": 1, \"metrics\": \"auc\"}\n",
    "    lgb2 = lgb.train(params, lgb2_train, num_boost_round=num_round)\n",
    "    \n",
    "    pred = lgb2.predict(va_x2)\n",
    "    score = roc_auc_score(va_y2, pred)\n",
    "    scores.append(score)\n",
    "\n",
    "print(scores)\n",
    "print(sum(scores) / len(scores))\n"
   ]
  },
  {
   "cell_type": "code",
   "execution_count": 44,
   "metadata": {},
   "outputs": [
    {
     "data": {
      "text/plain": [
       "<matplotlib.axes._subplots.AxesSubplot at 0x2a0142f69c8>"
      ]
     },
     "execution_count": 44,
     "metadata": {},
     "output_type": "execute_result"
    },
    {
     "data": {
      "image/png": "[encoded data removed]",
      "text/plain": [
       "<Figure size 432x288 with 1 Axes>"
      ]
     },
     "metadata": {
      "needs_background": "light"
     },
     "output_type": "display_data"
    }
   ],
   "source": [
    "#重要度トップ２０を確認してみる\n",
    "lgb2_importance = pd.DataFrame(data=lgb2.feature_importance(),\n",
    "                               index=lgb2.feature_name()).sort_values(by=0, ascending=False)\n",
    "\n",
    "k = 20\n",
    "lgb2_importance.nlargest(k, 0).plot.barh()"
   ]
  },
  {
   "cell_type": "code",
   "execution_count": 45,
   "metadata": {},
   "outputs": [],
   "source": [
    "#テストデータに対して推定とKaggle提出\n",
    "pred = lgb2.predict(test_x2)\n",
    "sample[\"TARGET\"] = pred\n",
    "sample.to_csv(\"submit_all_features.csv\", index=None)"
   ]
  },
  {
   "attachments": {
    "image.png": {
     "image/png": "[encoded data removed]"
    }
   },
   "cell_type": "markdown",
   "metadata": {},
   "source": [
    "**結果**\n",
    "\n",
    "![image.png](attachment:image.png)\n",
    "\n",
    "欠損列をすべて削除する手法より精度が高かった。  \n",
    "欠損が含まれる列には、ターゲットを予測するには重要度の高い特徴が存在することが言える  \n",
    "前回、学習に使う特徴から外した「EXT_SOURCE_X」が非常に有効な特徴であった。\n"
   ]
  },
  {
   "cell_type": "markdown",
   "metadata": {},
   "source": [
    "#### 重要度の高い上位20個の特徴で学習・推定を行う"
   ]
  },
  {
   "cell_type": "code",
   "execution_count": 46,
   "metadata": {},
   "outputs": [],
   "source": [
    "#まずは事前処理したデータセットをコピー\n",
    "train_x3 = train_x.copy()\n",
    "train_y3 = train_y.copy()\n",
    "test_x3 = test_x.copy()\n"
   ]
  },
  {
   "cell_type": "code",
   "execution_count": 47,
   "metadata": {},
   "outputs": [
    {
     "name": "stdout",
     "output_type": "stream",
     "text": [
      "(307511, 20)\n",
      "(48744, 20)\n"
     ]
    }
   ],
   "source": [
    "#重要度の高い上位２０特徴を選択\n",
    "k = 20\n",
    "conv_dict = {\"NAME_EDUCATION_TYPE_Highereducation\":\"NAME_EDUCATION_TYPE\", \"CODE_GENDER_F\":\"CODE_GENDER\"}\n",
    "\n",
    "important_feats = lgb2_importance.nlargest(k, 0).rename(index=conv_dict).index\n",
    "train_x3 = train_x3[important_feats]\n",
    "test_x3 = test_x3[important_feats]\n",
    "\n",
    "print(train_x3.shape)\n",
    "print(test_x3.shape)"
   ]
  },
  {
   "cell_type": "code",
   "execution_count": 48,
   "metadata": {},
   "outputs": [
    {
     "name": "stdout",
     "output_type": "stream",
     "text": [
      "0 columns were label encoded.\n",
      "Training Features shape:  (307511, 26)\n",
      "Testing Features shape:  (48744, 25)\n"
     ]
    }
   ],
   "source": [
    "le = LabelEncoder()\n",
    "le_count = 0\n",
    "\n",
    "for col in train_x3:\n",
    "    if train_x3[col].dtype == 'object':\n",
    "        # フィーチャー数が２以上のものはラベルエンコーディング\n",
    "        if len(list(train_x3[col].unique())) <= 2:\n",
    "            # 訓練データをつかって学習\n",
    "            le.fit(train_x3[col])\n",
    "            # 訓練データとテストデータを変換\n",
    "            train_x3[col] = le.transform(train_x3[col])\n",
    "            test_x3[col] = le.transform(test_x3[col])\n",
    "            \n",
    "            # ラベルエンコーディングしたカウントを保持\n",
    "            le_count += 1\n",
    "            \n",
    "print('%d columns were label encoded.' % le_count)\n",
    "\n",
    "# 他のカテゴリ変数についてはホットエンコーディング処理\n",
    "train_x3 = pd.get_dummies(train_x3)\n",
    "test_x3 = pd.get_dummies(test_x3)\n",
    "\n",
    "print('Training Features shape: ', train_x3.shape)\n",
    "print('Testing Features shape: ', test_x3.shape)"
   ]
  },
  {
   "cell_type": "code",
   "execution_count": 49,
   "metadata": {},
   "outputs": [
    {
     "name": "stdout",
     "output_type": "stream",
     "text": [
      "Training Features shape:  (307511, 25)\n",
      "Testing Features shape:  (48744, 25)\n"
     ]
    }
   ],
   "source": [
    "train_x3, test_x3 = train_x3.align(test_x3, join=\"inner\", axis=1)\n",
    "\n",
    "print('Training Features shape: ', train_x3.shape)\n",
    "print('Testing Features shape: ', test_x3.shape)"
   ]
  },
  {
   "cell_type": "code",
   "execution_count": 50,
   "metadata": {},
   "outputs": [
    {
     "name": "stdout",
     "output_type": "stream",
     "text": [
      "[0.7513506187066641, 0.7578688077200005, 0.7475489966271603, 0.7461224210676055]\n",
      "0.7507227110303576\n"
     ]
    }
   ],
   "source": [
    "X3_train, X3_test, y3_train, y3_test = train_test_split(train_x3, train_y3, random_state=1)\n",
    "scores = []\n",
    "\n",
    "kf = KFold(n_splits=4, shuffle=True, random_state=1)\n",
    "for tr_idx, va_idx in kf.split(X3_train):\n",
    "    tr_x3, va_x3 = X3_train.iloc[tr_idx], X3_train.iloc[va_idx]\n",
    "    tr_y3, va_y3 = y3_train.iloc[tr_idx], y3_train.iloc[va_idx]\n",
    "\n",
    "    tr_x3 = tr_x3.rename(columns= lambda x:re.sub(\"[^A-Za-z0-9_]+\", \"\", x))\n",
    "    va_x3 = va_x3.rename(columns= lambda x:re.sub(\"[^A-Za-z0-9_]+\", \"\", x))\n",
    "    \n",
    "    lgb3_train = lgb.Dataset(tr_x3, tr_y3)\n",
    "    num_round = 100\n",
    "\n",
    "    params = {\"objective\": \"binary\", \"seed\": 1, \"metrics\": \"binary-logless\"}\n",
    "    lgb3 = lgb.train(params, lgb3_train, num_boost_round=num_round)\n",
    "    \n",
    "    pred = lgb3.predict(va_x3)\n",
    "    score = roc_auc_score(va_y3, pred)\n",
    "    scores.append(score)\n",
    "\n",
    "print(scores)\n",
    "print(sum(scores) / len(scores))"
   ]
  },
  {
   "cell_type": "code",
   "execution_count": 51,
   "metadata": {},
   "outputs": [],
   "source": [
    "#テストデータに対して推定とKaggle提出\n",
    "pred = lgb3.predict(test_x3)\n",
    "sample[\"TARGET\"] = pred\n",
    "sample.to_csv(\"submit_only_important_features.csv\", index=None)"
   ]
  },
  {
   "attachments": {
    "image.png": {
     "image/png": "[encoded data removed]"
    }
   },
   "cell_type": "markdown",
   "metadata": {},
   "source": [
    "**結果**\n",
    "\n",
    "![image.png](attachment:image.png)\n",
    "\n",
    "特徴量を重要度の高いものだけに減らした場合、少し精度が落ちた。  "
   ]
  },
  {
   "cell_type": "markdown",
   "metadata": {},
   "source": [
    "#### 既存の特徴量を加工して学習・推定を行う（DAYS_EMPLOYEDの加工）"
   ]
  },
  {
   "cell_type": "code",
   "execution_count": 52,
   "metadata": {},
   "outputs": [],
   "source": [
    "#まずは事前処理したデータセットをコピー\n",
    "train_x4 = train_x.copy()\n",
    "train_y4 = train_y.copy()\n",
    "test_x4 = test_x.copy()"
   ]
  },
  {
   "cell_type": "code",
   "execution_count": 61,
   "metadata": {},
   "outputs": [],
   "source": [
    "train_x4[\"DAYS_EMPLOYED\"] = train_x4[\"DAYS_EMPLOYED\"].replace({365243:np.nan})"
   ]
  },
  {
   "cell_type": "code",
   "execution_count": 62,
   "metadata": {},
   "outputs": [
    {
     "data": {
      "text/plain": [
       "<matplotlib.axes._subplots.AxesSubplot at 0x2a097cf34c8>"
      ]
     },
     "execution_count": 62,
     "metadata": {},
     "output_type": "execute_result"
    },
    {
     "data": {
      "image/png": "[encoded data removed]",
      "text/plain": [
       "<Figure size 432x288 with 1 Axes>"
      ]
     },
     "metadata": {
      "needs_background": "light"
     },
     "output_type": "display_data"
    }
   ],
   "source": [
    "train_x4[\"DAYS_EMPLOYED\"].plot.hist()"
   ]
  },
  {
   "cell_type": "code",
   "execution_count": 63,
   "metadata": {},
   "outputs": [
    {
     "name": "stdout",
     "output_type": "stream",
     "text": [
      "3 columns were label encoded.\n",
      "Training Features shape:  (307511, 241)\n",
      "Testing Features shape:  (48744, 238)\n"
     ]
    }
   ],
   "source": [
    "le = LabelEncoder()\n",
    "le_count = 0\n",
    "\n",
    "for col in train_x4:\n",
    "    if train_x4[col].dtype == 'object':\n",
    "        # フィーチャー数が２以上のものはラベルエンコーディング\n",
    "        if len(list(train_x4[col].unique())) <= 2:\n",
    "            # 訓練データをつかって学習\n",
    "            le.fit(train_x4[col])\n",
    "            # 訓練データとテストデータを変換\n",
    "            train_x4[col] = le.transform(train_x4[col])\n",
    "            test_x4[col] = le.transform(test_x4[col])\n",
    "            \n",
    "            # ラベルエンコーディングしたカウントを保持\n",
    "            le_count += 1\n",
    "            \n",
    "print('%d columns were label encoded.' % le_count)\n",
    "\n",
    "# 他のカテゴリ変数についてはホットエンコーディング処理\n",
    "train_x4 = pd.get_dummies(train_x4)\n",
    "test_x4 = pd.get_dummies(test_x4)\n",
    "\n",
    "print('Training Features shape: ', train_x4.shape)\n",
    "print('Testing Features shape: ', test_x4.shape)"
   ]
  },
  {
   "cell_type": "code",
   "execution_count": 65,
   "metadata": {},
   "outputs": [
    {
     "name": "stdout",
     "output_type": "stream",
     "text": [
      "Training Features shape:  (307511, 238)\n",
      "Testing Features shape:  (48744, 238)\n"
     ]
    }
   ],
   "source": [
    "train_x4, test_x4 = train_x4.align(test_x4, join=\"inner\", axis=1)\n",
    "\n",
    "print('Training Features shape: ', train_x4.shape)\n",
    "print('Testing Features shape: ', test_x4.shape)"
   ]
  },
  {
   "cell_type": "code",
   "execution_count": 66,
   "metadata": {},
   "outputs": [
    {
     "name": "stdout",
     "output_type": "stream",
     "text": [
      "[0.7518247044105665, 0.760712051885396, 0.7494924080854066, 0.749290345971187]\n",
      "0.752829877588139\n"
     ]
    }
   ],
   "source": [
    "X4_train, X4_test, y4_train, y4_test = train_test_split(train_x4, train_y4, random_state=1)\n",
    "scores = []\n",
    "\n",
    "kf = KFold(n_splits=4, shuffle=True, random_state=1)\n",
    "for tr_idx, va_idx in kf.split(X4_train):\n",
    "    tr_x4, va_x4 = X4_train.iloc[tr_idx], X4_train.iloc[va_idx]\n",
    "    tr_y4, va_y4 = y4_train.iloc[tr_idx], y4_train.iloc[va_idx]\n",
    "\n",
    "    tr_x4 = tr_x4.rename(columns= lambda x:re.sub(\"[^A-Za-z0-9_]+\", \"\", x))\n",
    "    va_x4 = va_x4.rename(columns= lambda x:re.sub(\"[^A-Za-z0-9_]+\", \"\", x))\n",
    "    \n",
    "    lgb4_train = lgb.Dataset(tr_x4, tr_y4)\n",
    "    num_round = 100\n",
    "\n",
    "    params = {\"objective\": \"binary\", \"seed\": 1, \"metrics\": \"auc\"}\n",
    "    lgb4 = lgb.train(params, lgb4_train, num_boost_round=num_round)\n",
    "    \n",
    "    pred = lgb4.predict(va_x4)\n",
    "    score = roc_auc_score(va_y4, pred)\n",
    "    scores.append(score)\n",
    "\n",
    "print(scores)\n",
    "print(sum(scores) / len(scores))"
   ]
  },
  {
   "cell_type": "code",
   "execution_count": 68,
   "metadata": {},
   "outputs": [
    {
     "data": {
      "text/plain": [
       "<matplotlib.axes._subplots.AxesSubplot at 0x2a096099cc8>"
      ]
     },
     "execution_count": 68,
     "metadata": {},
     "output_type": "execute_result"
    },
    {
     "data": {
      "image/png": "[encoded data removed]",
      "text/plain": [
       "<Figure size 432x288 with 1 Axes>"
      ]
     },
     "metadata": {
      "needs_background": "light"
     },
     "output_type": "display_data"
    }
   ],
   "source": [
    "#重要度トップ２０を確認してみる\n",
    "lgb4_importance = pd.DataFrame(data=lgb4.feature_importance(),\n",
    "                               index=lgb4.feature_name()).sort_values(by=0, ascending=False)\n",
    "\n",
    "k = 20\n",
    "lgb4_importance.nlargest(k, 0).plot.barh()"
   ]
  },
  {
   "cell_type": "code",
   "execution_count": 69,
   "metadata": {},
   "outputs": [],
   "source": [
    "#テストデータに対して推定とKaggle提出\n",
    "pred = lgb4.predict(test_x4)\n",
    "sample[\"TARGET\"] = pred\n",
    "sample.to_csv(\"submit_processing_days-employ_features.csv\", index=None)"
   ]
  },
  {
   "attachments": {
    "image.png": {
     "image/png": "[encoded data removed]"
    }
   },
   "cell_type": "markdown",
   "metadata": {},
   "source": [
    "**結果**\n",
    "\n",
    "![image.png](attachment:image.png)\n",
    "\n",
    "加工処理を行ったことで重要度も高い値になっているのに、予測精度はさがってしまった。。  \n",
    "理由がわからない。。。"
   ]
  },
  {
   "cell_type": "code",
   "execution_count": 73,
   "metadata": {},
   "outputs": [
    {
     "data": {
      "text/plain": [
       "(5, 0)"
      ]
     },
     "execution_count": 73,
     "metadata": {},
     "output_type": "execute_result"
    },
    {
     "data": {
      "image/png": "[encoded data removed]",
      "text/plain": [
       "<Figure size 432x288 with 2 Axes>"
      ]
     },
     "metadata": {
      "needs_background": "light"
     },
     "output_type": "display_data"
    }
   ],
   "source": [
    "cols = [\"EXT_SOURCE_1\", \"EXT_SOURCE_2\", \"EXT_SOURCE_3\", \"DAYS_EMPLOYED\", \"DAYS_BIRTH\"]\n",
    "sns.heatmap(train_x4[cols].corr(), annot=True)\n",
    "plt.ylim(len(train_x4[cols].corr()), 0)"
   ]
  },
  {
   "cell_type": "markdown",
   "metadata": {},
   "source": [
    "#### 新しい特徴量を追加して学習・推定を行う"
   ]
  },
  {
   "cell_type": "code",
   "execution_count": 74,
   "metadata": {},
   "outputs": [],
   "source": [
    "#まずは事前処理したデータセットをコピー\n",
    "train_x5 = train_x.copy()\n",
    "train_y5 = train_y.copy()\n",
    "test_x5 = test_x.copy()\n",
    "\n",
    "train_x5[\"DAYS_EMPLOYED\"] = train_x5[\"DAYS_EMPLOYED\"].replace({365243:np.nan})"
   ]
  },
  {
   "cell_type": "markdown",
   "metadata": {},
   "source": [
    "* 収入に対する年金の割合を特徴量として作成\n",
    "* 収入に対する借入額を特徴量として作成\n",
    "* 家族１人あたりの年収"
   ]
  },
  {
   "cell_type": "code",
   "execution_count": 80,
   "metadata": {},
   "outputs": [],
   "source": [
    "#新たな特徴量を作成\n",
    "train_x5[\"ANNUITY_PER_INCOME\"] = train_x5[\"AMT_ANNUITY\"] / train_x5[\"AMT_INCOME_TOTAL\"]\n",
    "train_x5[\"CREDIT_PER_INCOME\"] = train_x5[\"AMT_CREDIT\"] / train_x5[\"AMT_INCOME_TOTAL\"]\n",
    "train_x5[\"INCOME_PER_FAMILY\"] = train_x5[\"AMT_INCOME_TOTAL\"] / train_x5[\"CNT_FAM_MEMBERS\"]\n",
    "\n",
    "test_x5[\"ANNUITY_PER_INCOME\"] = test_x5[\"AMT_ANNUITY\"] / test_x5[\"AMT_INCOME_TOTAL\"]\n",
    "test_x5[\"CREDIT_PER_INCOME\"] = test_x5[\"AMT_CREDIT\"] / test_x5[\"AMT_INCOME_TOTAL\"]\n",
    "test_x5[\"INCOME_PER_FAMILY\"] = test_x5[\"AMT_INCOME_TOTAL\"] / test_x5[\"CNT_FAM_MEMBERS\"]"
   ]
  },
  {
   "cell_type": "code",
   "execution_count": 81,
   "metadata": {},
   "outputs": [
    {
     "name": "stdout",
     "output_type": "stream",
     "text": [
      "0 columns were label encoded.\n",
      "Training Features shape:  (307511, 241)\n",
      "Testing Features shape:  (48744, 241)\n"
     ]
    }
   ],
   "source": [
    "le = LabelEncoder()\n",
    "le_count = 0\n",
    "\n",
    "for col in train_x5:\n",
    "    if train_x5[col].dtype == 'object':\n",
    "        # フィーチャー数が２以上のものはラベルエンコーディング\n",
    "        if len(list(train_x5[col].unique())) <= 2:\n",
    "            # 訓練データをつかって学習\n",
    "            le.fit(train_x5[col])\n",
    "            # 訓練データとテストデータを変換\n",
    "            train_x5[col] = le.transform(train_x5[col])\n",
    "            test_x5[col] = le.transform(test_x5[col])\n",
    "            \n",
    "            # ラベルエンコーディングしたカウントを保持\n",
    "            le_count += 1\n",
    "            \n",
    "print('%d columns were label encoded.' % le_count)\n",
    "\n",
    "# 他のカテゴリ変数についてはホットエンコーディング処理\n",
    "train_x5 = pd.get_dummies(train_x5)\n",
    "test_x5 = pd.get_dummies(test_x5)\n",
    "\n",
    "print('Training Features shape: ', train_x5.shape)\n",
    "print('Testing Features shape: ', test_x5.shape)"
   ]
  },
  {
   "cell_type": "code",
   "execution_count": 82,
   "metadata": {},
   "outputs": [
    {
     "name": "stdout",
     "output_type": "stream",
     "text": [
      "Training Features shape:  (307511, 241)\n",
      "Testing Features shape:  (48744, 241)\n"
     ]
    }
   ],
   "source": [
    "train_x5, test_x5 = train_x5.align(test_x5, join=\"inner\", axis=1)\n",
    "\n",
    "print('Training Features shape: ', train_x5.shape)\n",
    "print('Testing Features shape: ', test_x5.shape)"
   ]
  },
  {
   "cell_type": "code",
   "execution_count": 86,
   "metadata": {},
   "outputs": [
    {
     "name": "stdout",
     "output_type": "stream",
     "text": [
      "[0.754301502611806, 0.7566581417368841, 0.7552294479116045, 0.7552533968592237, 0.7496233733001663]\n",
      "0.754213172483937\n"
     ]
    }
   ],
   "source": [
    "X5_train, X5_test, y5_train, y5_test = train_test_split(train_x5, train_y5, random_state=1)\n",
    "scores = []\n",
    "\n",
    "kf = KFold(n_splits=5, shuffle=True, random_state=1)\n",
    "for tr_idx, va_idx in kf.split(X5_train):\n",
    "    tr_x5, va_x5 = X5_train.iloc[tr_idx], X5_train.iloc[va_idx]\n",
    "    tr_y5, va_y5 = y5_train.iloc[tr_idx], y5_train.iloc[va_idx]\n",
    "\n",
    "    tr_x5 = tr_x5.rename(columns= lambda x:re.sub(\"[^A-Za-z0-9_]+\", \"\", x))\n",
    "    va_x5 = va_x5.rename(columns= lambda x:re.sub(\"[^A-Za-z0-9_]+\", \"\", x))\n",
    "    \n",
    "    lgb5_train = lgb.Dataset(tr_x5, tr_y5)\n",
    "    num_round = 100\n",
    "\n",
    "    params = {\"objective\": \"binary\", \"seed\": 1, \"metrics\": \"auc\"}\n",
    "    lgb5 = lgb.train(params, lgb5_train, num_boost_round=num_round)\n",
    "    \n",
    "    pred = lgb5.predict(va_x5)\n",
    "    score = roc_auc_score(va_y5, pred)\n",
    "    scores.append(score)\n",
    "\n",
    "print(scores)\n",
    "print(sum(scores) / len(scores))"
   ]
  },
  {
   "cell_type": "code",
   "execution_count": 84,
   "metadata": {},
   "outputs": [
    {
     "data": {
      "text/plain": [
       "<matplotlib.axes._subplots.AxesSubplot at 0x2a09686c148>"
      ]
     },
     "execution_count": 84,
     "metadata": {},
     "output_type": "execute_result"
    },
    {
     "data": {
      "image/png": "[encoded data removed]",
      "text/plain": [
       "<Figure size 432x288 with 1 Axes>"
      ]
     },
     "metadata": {
      "needs_background": "light"
     },
     "output_type": "display_data"
    }
   ],
   "source": [
    "#重要度トップ２０を確認してみる\n",
    "lgb5_importance = pd.DataFrame(data=lgb5.feature_importance(),\n",
    "                               index=lgb5.feature_name()).sort_values(by=0, ascending=False)\n",
    "\n",
    "k = 20\n",
    "lgb5_importance.nlargest(k, 0).plot.barh()"
   ]
  },
  {
   "cell_type": "code",
   "execution_count": 87,
   "metadata": {},
   "outputs": [],
   "source": [
    "#テストデータに対して推定とKaggle提出\n",
    "pred = lgb5.predict(test_x5)\n",
    "sample[\"TARGET\"] = pred\n",
    "sample.to_csv(\"submit_add_features.csv\", index=None)"
   ]
  },
  {
   "attachments": {
    "image.png": {
     "image/png": "[encoded data removed]"
    }
   },
   "cell_type": "markdown",
   "metadata": {},
   "source": [
    "**結果**\n",
    "\n",
    "![image.png](attachment:image.png)\n",
    "\n",
    "検証では一番精度が高かったが、Kaggleに提出してみるとそれほど良い結果は得られかった  \n",
    "過学習を起こしたのか。。。"
   ]
  },
  {
   "cell_type": "markdown",
   "metadata": {},
   "source": [
    "### まとめ"
   ]
  },
  {
   "cell_type": "markdown",
   "metadata": {},
   "source": [
    "\n",
    "<<実践パターン>>\n",
    "1. 欠損のある列をすべて削除し、残りの全ての特徴量を用いて学習・推定を行う  \n",
    "2. 欠損列を残したまま全ての特徴量を用いて学習・推定を行う\n",
    "3. 2.のモデルで算出された重要度の高い上位20個の特徴で学習・推定を行う\n",
    "4. 既存の特徴量を加工して学習・推定を行う（DAYS_EMPLOYEDの加工）\n",
    "5. 新しい特徴量を追加して学習・推定を行う\n",
    "\n",
    "<<結果>>\n",
    "\n",
    "2 > 3 > 5 > 4 > 1  の順番に良い結果が得られた\n",
    "\n",
    "<<今回分かったこと>>\n",
    "* 1と2の結果を比較して、欠損が多く含まれる列でも重要な特徴が含まれることが分かった\n",
    "* 2と3の結果を比較して、重要な特徴を選択して学習すれば、全ての特徴量を使った場合に比べ精度にそれほど差はない\n",
    "* 3と4の結果を比較して、異常値を正したからといってモデル全体の精度が高くなるとは限らない\n",
    "* 4と5の結果を比較して、新たな特徴量を追加しても必ず精度が上がるとは限らない\n",
    "\n",
    "多重共線性の影響？"
   ]
  },
  {
   "cell_type": "code",
   "execution_count": null,
   "metadata": {},
   "outputs": [],
   "source": []
  }
 ],
 "metadata": {
  "kernelspec": {
   "display_name": "Python 3",
   "language": "python",
   "name": "python3"
  },
  "toc": {
   "base_numbering": 1,
   "nav_menu": {},
   "number_sections": true,
   "sideBar": true,
   "skip_h1_title": false,
   "title_cell": "Table of Contents",
   "title_sidebar": "Contents",
   "toc_cell": false,
   "toc_position": {
    "height": "calc(100% - 180px)",
    "left": "10px",
    "top": "150px",
    "width": "208.996px"
   },
   "toc_section_display": true,
   "toc_window_display": true
  },
  "varInspector": {
   "cols": {
    "lenName": 16,
    "lenType": 16,
    "lenVar": 40
   },
   "kernels_config": {
    "python": {
     "delete_cmd_postfix": "",
     "delete_cmd_prefix": "del ",
     "library": "var_list.py",
     "varRefreshCmd": "print(var_dic_list())"
    },
    "r": {
     "delete_cmd_postfix": ") ",
     "delete_cmd_prefix": "rm(",
     "library": "var_list.r",
     "varRefreshCmd": "cat(var_dic_list()) "
    }
   },
   "types_to_exclude": [
    "module",
    "function",
    "builtin_function_or_method",
    "instance",
    "_Feature"
   ],
   "window_display": false
  }
 },
 "nbformat": 4,
 "nbformat_minor": 2
}
