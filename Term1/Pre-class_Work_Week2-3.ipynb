{
 "cells": [
  {
   "cell_type": "markdown",
   "metadata": {},
   "source": [
    "# 2.行列積\n",
    "\n",
    "以下のような行列A、Bを考えます。\n",
    "\n",
    "\n",
    "A = $\\displaystyle \\left(\\begin{array}{ccc} -1 & 2 & 3\\\\ 4 & -5 & 6 \\\\ 7 & 8 & -9 \\end{array}\\right),B = \\left(\\begin{array}{ccc} 0 & 2 & 1\\\\ 0 & 2 & -8 \\\\ 2 & 9 & -1 \\\\ \\end{array}\\right)$\n",
    "\n",
    "NumPyで表すと次のようになります。"
   ]
  },
  {
   "cell_type": "code",
   "execution_count": 99,
   "metadata": {},
   "outputs": [],
   "source": [
    "import numpy as np\n",
    "a_ndarray = np.array([[-1, 2, 3], [4, -5, 6], [7, 8, -9]])\n",
    "b_ndarray = np.array([[0, 2, 1], [0, 2, -8], [2, 9, -1]])"
   ]
  },
  {
   "cell_type": "markdown",
   "metadata": {},
   "source": [
    "## 【問題1】行列積を手計算する\n",
    "AとBの行列積を手計算で解いてください。\n",
    "\n",
    "計算過程もマークダウンテキストを用いて説明してください。"
   ]
  },
  {
   "cell_type": "markdown",
   "metadata": {},
   "source": [
    "### <span style=\"color: blue;\">【答え】 </span>\n",
    "\n",
    "以下に計算過程を示す\n",
    "\n",
    "AB = $\\displaystyle \\left(\\begin{array}{ccc} a & b & c\\\\ d & e & f \\\\ g & h & i \\\\ \\end{array}\\right)$ と定義すると、各行列値の計算は以下のようになる。\n",
    "\n",
    "\n",
    "a = (-1) × 0 + 2 × 0 + 3 × 2\n",
    "\n",
    "b = (-1) × 2 + 2 × 2 + 3 × 9\n",
    "\n",
    "c = (-1) × 1 + 2 × (-8) + 3 × (-1)\n",
    "\n",
    "d = 4 × 0 + (-5) × 0 + 6 × 2\n",
    "\n",
    "e = 4 × 2 + (-5) × 2 + 6 × 9\n",
    "\n",
    "f = 4 × 1 + (-5) × (-8) + 6 × (-1)\n",
    "\n",
    "g = 7 × 0 + 8 × 0 + (-9) × 2\n",
    "\n",
    "h = 7 × 2 + 8 × 2 + (-9) × 9\n",
    "\n",
    "i = 7 × 1 + 8 × (-8) + (-9) × (-1)\n",
    "\n",
    "よって、\n",
    "\n",
    "AB = $\\displaystyle \\left(\\begin{array}{ccc} 6 & 29 & -20\\\\ 12 & 52 & 38 \\\\ -18 & -51 & -48 \\\\ \\end{array}\\right)$ \n"
   ]
  },
  {
   "cell_type": "markdown",
   "metadata": {},
   "source": [
    "## 【問題2】NumPyの関数による計算\n",
    "この行列積はNumPyのnp.matmul()やnp.dot()、または@演算子を使うことで簡単に計算できます。\n",
    "\n",
    "これらを使い行列積を計算してください。"
   ]
  },
  {
   "cell_type": "code",
   "execution_count": 100,
   "metadata": {},
   "outputs": [
    {
     "name": "stdout",
     "output_type": "stream",
     "text": [
      "np.matmul()：\n",
      "[[  6  29 -20]\n",
      " [ 12  52  38]\n",
      " [-18 -51 -48]]\n",
      "\n",
      "np.dot()：\n",
      "[[  6  29 -20]\n",
      " [ 12  52  38]\n",
      " [-18 -51 -48]]\n",
      "\n",
      "np.dot()：\n",
      "[[  6  29 -20]\n",
      " [ 12  52  38]\n",
      " [-18 -51 -48]]\n"
     ]
    }
   ],
   "source": [
    "# np.matmul()\n",
    "print(\"np.matmul()：\\n{}\".format(np.matmul(a_ndarray, b_ndarray)))\n",
    "\n",
    "print()\n",
    "# np.dot()\n",
    "print(\"np.dot()：\\n{}\".format(np.dot(a_ndarray, b_ndarray)))\n",
    "\n",
    "print()\n",
    "# @演算子\n",
    "print(\"np.dot()：\\n{}\".format(a_ndarray @ b_ndarray))\n"
   ]
  },
  {
   "cell_type": "markdown",
   "metadata": {},
   "source": [
    "# 3.行列積のスクラッチ実装"
   ]
  },
  {
   "cell_type": "markdown",
   "metadata": {},
   "source": [
    "## 【問題3】ある要素の計算を実装\n",
    "\n",
    "手計算をする際はまず行列Aの0行目と行列Bの0列目に注目し、以下の計算を行ったかと思います。\n",
    "<br>\n",
    "\n",
    "<ol>\n",
    "    <li>行列Aの(0,0)の要素 $a_{0, 0}$ と行列Bの(0,0)の要素 $b_{0, 0}$ を掛け合わせる</li>\n",
    "    <li>行列Aの(0,1)の要素 $a_{0, 1}$ と行列Bの(1,0)の要素 $b_{1, 0}$ を掛け合わせる</li>\n",
    "    <li>行列Aの(0,2)の要素 $a_{0, 2}$ と行列Bの(2,0)の要素 $b_{2, 0}$ を掛け合わせる</li>\n",
    "    <li>それらの値を全て足し合わせる</li>\n",
    "</ol>\n",
    "\n",
    "\n",
    "数式で表すと\n",
    "\n",
    "　　　　　　　　　　　　　　　　　　　　　　　　$\\displaystyle \\sum_{k=0}^{2}a_{0, k}b_{0, k}$  \n",
    "\n",
    "です。\n",
    "\n",
    "\n",
    "この計算をnp.matmul()やnp.dot()、または@演算子を使わずに行うコードを書いてください。"
   ]
  },
  {
   "cell_type": "code",
   "execution_count": 101,
   "metadata": {},
   "outputs": [
    {
     "name": "stdout",
     "output_type": "stream",
     "text": [
      "行列Aの0行目と行列Bの0列目の積和は 6 です\n"
     ]
    }
   ],
   "source": [
    "k = a_ndarray.shape[0]\n",
    "ans = 0\n",
    "\n",
    "for i in range(k):\n",
    "    ans += a_ndarray[0][i] * b_ndarray[i][0]\n",
    "\n",
    "print(\"行列Aの0行目と行列Bの0列目の積和は {} です\".format(ans))"
   ]
  },
  {
   "cell_type": "markdown",
   "metadata": {},
   "source": [
    "## 【問題4】行列積を行う関数の作成\n",
    "問題3のコードを拡張し、行列積のスクラッチ実装を完成させてください。行列AとBを引数に受け取り、行列積を返す関数としてください。\n",
    "\n",
    "\n",
    "行列積を計算する場合は、問題3の計算を異なる行や列に対して繰り返していくことになります。\n",
    "\n",
    "\n",
    "計算結果である $3 \\times 3$ の行列Cの各要素 $c_{i, j}$ は数式で表すと次のようになります。\n",
    "\n",
    "\n",
    "\n",
    "for文を使い、ndarrayのインデックスを動かしていくことで、合計9つの要素が計算できます。\n",
    "\n",
    "インデックス $i$ や $j$ を1増やすと、次の行や列に移ることができます。"
   ]
  },
  {
   "cell_type": "code",
   "execution_count": 102,
   "metadata": {},
   "outputs": [
    {
     "name": "stdout",
     "output_type": "stream",
     "text": [
      "[[  6.  29. -20.]\n",
      " [ 12.  52.  38.]\n",
      " [-18. -51. -48.]]\n"
     ]
    }
   ],
   "source": [
    "def compute_inner_product(A, B):\n",
    "    \"\"\"\n",
    "    行列ABの内積を計算する関数です。\n",
    "    \n",
    "    ＜引数＞\n",
    "        A：ndarray\n",
    "        B：ndarray\n",
    "    \n",
    "    ＜内部変数＞\n",
    "        n: 行列Aの行数\n",
    "        m: 行列Bの列数\n",
    "\n",
    "        array：返り値\n",
    "\n",
    "    \"\"\"\n",
    "    n = A.shape[0]\n",
    "    m = B.shape[1]\n",
    "    \n",
    "    array = np.zeros((n, m))\n",
    "    \n",
    "    for row in range(n):\n",
    "        for col in range(m):\n",
    "            c = 0\n",
    "            for i in range(n):\n",
    "                c += A[row][i] * B[i][col]\n",
    "        \n",
    "            array[row][col] = c\n",
    "        \n",
    "    return array\n",
    "\n",
    "print(compute_inner_product(a_ndarray, b_ndarray))"
   ]
  },
  {
   "cell_type": "markdown",
   "metadata": {},
   "source": [
    "# 4.行列積が定義されない組み合わせの行列"
   ]
  },
  {
   "cell_type": "markdown",
   "metadata": {},
   "source": [
    "次に以下のような行列A、Bを考えます。\n",
    "\n",
    "\n",
    "D = $\\displaystyle \\left(\\begin{array}{ccc} -1 & 2 & 3\\\\ 4 & -5 & 6 \\end{array}\\right),E = \\left(\\begin{array}{ccc} -9 & 8 & 7\\\\ 6 & -5 & 4 \\\\\\end{array}\\right)$\n",
    "\n",
    "行列積DEはDの列数とEの行数が等しい場合に定義されていますから、この例では計算ができません。"
   ]
  },
  {
   "cell_type": "code",
   "execution_count": 103,
   "metadata": {},
   "outputs": [],
   "source": [
    "d_ndarray = np.array([[-1, 2, 3], [4, -5, 6]])\n",
    "e_ndarray = np.array([[-9, 8, 7], [6, -5, 4]])"
   ]
  },
  {
   "cell_type": "code",
   "execution_count": 104,
   "metadata": {},
   "outputs": [
    {
     "name": "stdout",
     "output_type": "stream",
     "text": [
      "2行 3列と2行 3列の行列の内積の計算はできません\n",
      "None\n"
     ]
    }
   ],
   "source": [
    "def compute_inner_product_after(A, B):\n",
    "    \"\"\"\n",
    "    行列ABの内積を計算する関数です。\n",
    "    A\n",
    "    \n",
    "    ＜引数＞\n",
    "        A：ndarray\n",
    "        B：ndarray\n",
    "    \n",
    "    ＜内部変数＞\n",
    "        A_n: 行列Aの行数\n",
    "        A_m: 行列Aの列数\n",
    "        B_n: 行列Bの行数\n",
    "        B_m: 行列Bの列数\n",
    "\n",
    "        array：返り値\n",
    "\n",
    "    \"\"\"\n",
    "    A_n, A_m = A.shape\n",
    "    B_n, B_m = B.shape\n",
    "    \n",
    "    if A_m != B_n:\n",
    "        return print(\"{}行 {}列と{}行 {}列の行列の内積の計算はできません\".format(A_n, A_m, B_n, B_m ))\n",
    "        \n",
    "    array = np.zeros((A_n, B_m))\n",
    "    \n",
    "    for row in range(A_n):\n",
    "        for col in range(B_m):\n",
    "            c = 0\n",
    "            for i in range(A_n):\n",
    "                c += A[row][i] * B[i][col]\n",
    "        \n",
    "            array[row][col] = c\n",
    "        \n",
    "    return array\n",
    "\n",
    "print(compute_inner_product_after(d_ndarray, e_ndarray))"
   ]
  },
  {
   "cell_type": "markdown",
   "metadata": {},
   "source": [
    "## 【問題6】転置\n",
    "片方の行列を転置することで、行列積が計算できるようになります。\n",
    "\n",
    "np.transpose()や.Tアトリビュートを用いて転置し、行列積を計算してください。"
   ]
  },
  {
   "cell_type": "code",
   "execution_count": 105,
   "metadata": {},
   "outputs": [
    {
     "name": "stdout",
     "output_type": "stream",
     "text": [
      "[[ 46  -4]\n",
      " [-34  73]]\n",
      "\n",
      "[[ 46  -4]\n",
      " [-34  73]]\n"
     ]
    }
   ],
   "source": [
    "#np.transpose() を用いるパターン\n",
    "print(d_ndarray @ np.transpose(e_ndarray))\n",
    "\n",
    "print()\n",
    "\n",
    "#.T を用いるパターン\n",
    "print(d_ndarray @ e_ndarray.T)"
   ]
  }
 ],
 "metadata": {
  "kernelspec": {
   "display_name": "Python 3",
   "language": "python",
   "name": "python3"
  },
  "language_info": {
   "codemirror_mode": {
    "name": "ipython",
    "version": 3
   },
   "file_extension": ".py",
   "mimetype": "text/x-python",
   "name": "python",
   "nbconvert_exporter": "python",
   "pygments_lexer": "ipython3",
   "version": "3.7.4"
  }
 },
 "nbformat": 4,
 "nbformat_minor": 2
}
