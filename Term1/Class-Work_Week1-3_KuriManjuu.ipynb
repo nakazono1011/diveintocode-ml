{
 "cells": [
  {
   "cell_type": "code",
   "execution_count": 122,
   "metadata": {},
   "outputs": [],
   "source": [
    "#ライブラリ読み込み\n",
    "import math\n",
    "import matplotlib.pyplot as plt\n",
    "%matplotlib inline"
   ]
  },
  {
   "cell_type": "markdown",
   "metadata": {},
   "source": [
    "# 【問題】栗まんじゅうが太陽系を覆う日\n",
    "1個の栗まんじゅうにバイバインを振りかけた場合、太陽系が栗まんじゅうで覆われるのは何分後でしょうか。\n",
    "\n",
    "これを計算するプログラムを作成してください。\n",
    "\n",
    "\n",
    "栗まんじゅうや太陽系の体積を調査した上で仮定して計算してください。栗まんじゅうの隙間や重力などは考えず、問題を単純化して構いません。\n",
    "\n",
    "\n",
    "ボールにバイバインを振りかけた時、東京ドームが一杯になる時間など他の状況にも適用できるような汎用的なプログラムを作成してください。\n",
    "\n",
    "また、グラフを表示するなど分かりやすいノートブックを作成してください。"
   ]
  },
  {
   "cell_type": "code",
   "execution_count": 123,
   "metadata": {},
   "outputs": [],
   "source": [
    "# 栗饅頭と太陽系の体積を定数にセット\n",
    "VOLUME_MANJU = 0.04**3\n",
    "VOLUME_SOLAR_SYSTEM = 4/3 * math.pi * (28000 * 9.461 * 10**15)**3"
   ]
  },
  {
   "cell_type": "code",
   "execution_count": 124,
   "metadata": {},
   "outputs": [],
   "source": [
    "#関数を作成\n",
    "def compute_minute(Volume1, Volume2):\n",
    "    \"\"\"\n",
    "    ＜引数＞\n",
    "    Volume1: int\n",
    "        バイバインかけられる物体の体積\n",
    "    Volume2: int\n",
    "        Volume1によって覆われる空間の体積\n",
    "    \n",
    "    ＜返り値＞\n",
    "    time： int\n",
    "        Volume1がVolume2を覆いつくす時間（分）\n",
    "    total_volume_list: list\n",
    "        5分毎のVolume1の体積量\n",
    "    \n",
    "    \"\"\"\n",
    "    num_division = 0\n",
    "    total_volume = Volume1\n",
    "    total_volume_list = [total_volume]\n",
    "    \n",
    "    while True:\n",
    "        if total_volume > Volume2:\n",
    "            break\n",
    "\n",
    "        num_division += 1\n",
    "        total_volume *= 2\n",
    "        total_volume_list.append(total_volume)\n",
    "    \n",
    "    time = num_division * 5\n",
    "    \n",
    "    return time, total_volume_list\n"
   ]
  },
  {
   "cell_type": "code",
   "execution_count": 125,
   "metadata": {},
   "outputs": [
    {
     "name": "stdout",
     "output_type": "stream",
     "text": [
      "栗まんじゅうで太陽系を覆いつくす時間は 1100 分後です。\n"
     ]
    }
   ],
   "source": [
    "# 栗まんじゅうで太陽系を覆い尽くす時間\n",
    "time, total_volume_list = compute_minute(VOLUME_MANJU, VOLUME_SOLAR_SYSTEM)\n",
    "print(\"栗まんじゅうで太陽系を覆いつくす時間は {} 分後です。\".format(time))\n"
   ]
  },
  {
   "cell_type": "code",
   "execution_count": 126,
   "metadata": {},
   "outputs": [
    {
     "data": {
      "image/png": "[encoded data removed]",
      "text/plain": [
       "<Figure size 432x288 with 1 Axes>"
      ]
     },
     "metadata": {
      "needs_background": "light"
     },
     "output_type": "display_data"
    }
   ],
   "source": [
    "#X軸とY軸を設定\n",
    "X = [i for i in range(time+1) if i % 5 == 0] # X軸\n",
    "Y = total_volume_list # Y軸\n",
    "\n",
    "#グラフ描画\n",
    "plt.plot(X, Y, label=\"Volume_of_KuriManjuu\", marker='o', c=\"r\")\n",
    "plt.hlines(y=Y_SOLAR_SYSTEM, xmin=0, xmax=max(X)+100, color=\"b\", ls=\"--\", label=\"Volume_of_Solar_System\")\n",
    "plt.xlabel(\"minutes\")\n",
    "plt.ylabel(\"Volume\")\n",
    "plt.legend(loc=\"upper left\")\n",
    "plt.text(X[-1], Y[-1], '({x}m, {y:.2e})'.format(x=X[-1], y=Y[-1]), fontsize=12)\n",
    "plt.text(X[-2], Y[-2], '({x}m, {y:.2e})'.format(x=X[-2], y=Y[-2]), fontsize=12)\n",
    "plt.xlim(1050, 1120)\n",
    "\n",
    "plt.show()\n"
   ]
  }
 ],
 "metadata": {
  "kernelspec": {
   "display_name": "Python 3",
   "language": "python",
   "name": "python3"
  },
  "language_info": {
   "codemirror_mode": {
    "name": "ipython",
    "version": 3
   },
   "file_extension": ".py",
   "mimetype": "text/x-python",
   "name": "python",
   "nbconvert_exporter": "python",
   "pygments_lexer": "ipython3",
   "version": "3.7.4"
  }
 },
 "nbformat": 4,
 "nbformat_minor": 4
}
