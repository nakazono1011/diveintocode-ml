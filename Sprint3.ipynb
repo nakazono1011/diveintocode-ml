{
 "cells": [
  {
   "cell_type": "code",
   "execution_count": 61,
   "metadata": {},
   "outputs": [],
   "source": [
    "import numpy as np\n",
    "import pandas as pd\n",
    "import matplotlib.pyplot as plt\n",
    "%matplotlib inline"
   ]
  },
  {
   "cell_type": "markdown",
   "metadata": {},
   "source": [
    "# 線形回帰スクラッチ"
   ]
  },
  {
   "cell_type": "code",
   "execution_count": 354,
   "metadata": {},
   "outputs": [],
   "source": [
    "class ScratchLinearRegression():\n",
    "    \"\"\"\n",
    "    線形回帰のスクラッチ実装\n",
    "\n",
    "    Parameters\n",
    "    ----------\n",
    "    num_iter : int\n",
    "      イテレーション数\n",
    "    lr : float\n",
    "      学習率\n",
    "    no_bias : bool\n",
    "      バイアス項を入れない場合はTrue\n",
    "    verbose : bool\n",
    "      学習過程を出力する場合はTrue\n",
    "\n",
    "    Attributes\n",
    "    ----------\n",
    "    self.coef_ : 次の形のndarray, shape (n_features,)\n",
    "      パラメータ\n",
    "    self.loss : 次の形のndarray, shape (self.iter,)\n",
    "      訓練データに対する損失の記録\n",
    "    self.val_loss : 次の形のndarray, shape (self.iter,)\n",
    "      検証データに対する損失の記録\n",
    "\n",
    "    \"\"\"\n",
    "    def __init__(self, num_iter=50, lr=0.01, no_bias=False, verbose=False, debug=False):\n",
    "        # ハイパーパラメータを属性として記録\n",
    "        self.iter = num_iter\n",
    "        self.lr = lr\n",
    "        self.no_bias = no_bias\n",
    "        self.verbose = verbose\n",
    "        \n",
    "        #自分デバッグ用\n",
    "        self.debug = debug\n",
    "        self.test_data = np.array([0.0212, 0.0251, 0.555])  #検証用のテストデータ\n",
    "        \n",
    "        # 損失を記録する配列を用意\n",
    "        self.loss = np.zeros(self.iter)\n",
    "        self.val_loss = np.zeros(self.iter)\n",
    "    \n",
    "    def _data_processing(self, X, y=None):\n",
    "        \n",
    "        # データセットがDataFrame, Seriesの場合ndarrayに変換する\n",
    "        if isinstance(X, (pd.DataFrame, pd.Series)):\n",
    "            X = X.values\n",
    "        if isinstance(y, (pd.DataFrame, pd.Series)):\n",
    "            y = y.values\n",
    "        \n",
    "        # データセットが1次元の場合、2次元に変換する\n",
    "        if X.shape[0] == X.size:\n",
    "            X = X.reshape(-1, 1)\n",
    "        \n",
    "        if y is not None:\n",
    "            y = y.reshape(-1, 1)\n",
    "\n",
    "        # 特徴量のサンプル数をセット\n",
    "        m = X.shape[0]\n",
    "        \n",
    "        # バイアス項の追加\n",
    "        if self.no_bias:\n",
    "            n = X.shape[1]\n",
    "        else:\n",
    "            n = X.shape[1] + 1\n",
    "            # Xに切片の(x=1)を追加\n",
    "            X = np.concatenate((np.ones((m, 1)), X), axis=1)\n",
    "\n",
    "        return X, y\n",
    "        \n",
    "    def fit(self, X, y, X_val=None, y_val=None):\n",
    "        \"\"\"\n",
    "        線形回帰を学習する。検証データが入力された場合はそれに対する損失と精度もイテレーションごとに計算する。\n",
    "\n",
    "        Parameters\n",
    "        ----------\n",
    "        X : 次の形のndarray, shape (n_samples, n_features)\n",
    "            訓練データの特徴量\n",
    "        y : 次の形のndarray, shape (n_samples, )\n",
    "            訓練データの正解値\n",
    "        X_val : 次の形のndarray, shape (n_samples, n_features)\n",
    "            検証データの特徴量\n",
    "        y_val : 次の形のndarray, shape (n_samples, )\n",
    "            検証データの正解値\n",
    "        \"\"\"\n",
    "        # 検証データの計算を行うかどうか\n",
    "        is_val_calc = (X_val is not None) and (y_val is not None)\n",
    "        \n",
    "        # データ前処理\n",
    "        X, y  = self._data_processing(X, y)\n",
    "        if is_val_calc:\n",
    "            X_val, y_val  = self._data_processing(X_val, y_val)\n",
    "        \n",
    "        #パラメータθを特徴量数に合わせて作成\n",
    "        if self.debug:\n",
    "            self.coef_ = self.test_data\n",
    "        else:\n",
    "            self.coef_ = np.array(np.random.rand(X.shape[1]))\n",
    "        \n",
    "        # イテレータ数,学習を繰り返す\n",
    "        for i in range(self.iter):\n",
    "            self._gradient_descent(X, y, alpha=self.lr)\n",
    "            self.loss[i] = self._loss(X, y)\n",
    "            \n",
    "            # 検証データが渡されたときは、検証データでの損失関数値を記録する\n",
    "            if is_val_calc:\n",
    "                self.val_loss[i] = self._loss(X_val, y_val)\n",
    "            \n",
    "            if self.verbose:\n",
    "                #verboseをTrueにした際は学習過程を出力\n",
    "                print(\"|train| iter: {}  coef:{}\".format(i+1, self.coef_))\n",
    "        \n",
    "    def predict(self, X):\n",
    "        \"\"\"\n",
    "        線形回帰を使い推定する。\n",
    "\n",
    "        Parameters\n",
    "        ----------\n",
    "        X : 次の形のndarray, shape (n_samples, n_features)\n",
    "            サンプル\n",
    "\n",
    "        Returns\n",
    "        -------\n",
    "            次の形のndarray, shape (n_samples, 1)\n",
    "            線形回帰による推定結果\n",
    "        \"\"\"\n",
    "        \n",
    "        X, _ = self._data_processing(X)\n",
    "        theta = self.coef_.reshape(1, -1)\n",
    "        \n",
    "        pred = np.sum(X @ theta.T, axis=1).reshape(-1, 1)\n",
    "        \n",
    "        return pred\n",
    "    \n",
    "    def _linear_hypothesis(self, X):\n",
    "        \"\"\"\n",
    "        線形の仮定関数を計算する\n",
    "\n",
    "        Parameters\n",
    "        ----------\n",
    "        X : 次の形のndarray, shape (n_samples, n_features)\n",
    "          訓練データ\n",
    "\n",
    "        Returns\n",
    "        -------\n",
    "          次の形のndarray, shape (n_samples, 1)\n",
    "          線形の仮定関数による推定結果\n",
    "\n",
    "        \"\"\"\n",
    "        #仮説関数を定式化\n",
    "        h_theta = np.sum(self.coef_* X, axis=1).reshape(-1, 1)\n",
    "        return h_theta\n",
    " \n",
    "    def _error(self, X, y):\n",
    "        \"\"\"\n",
    "        予測値と実際値の誤差を計算する関数\n",
    "\n",
    "        Parameters\n",
    "        ----------\n",
    "        X : 次の形のndarray, shape (n_samples, n_features)\n",
    "          訓練データ\n",
    "        y : 次の形のndarray, shape (n_samples, )\n",
    "            訓練データの正解値\n",
    "        \n",
    "        Returns\n",
    "        -------\n",
    "          次の形のndarray, shape (n_samples, 1)\n",
    "          予測値と実際値の誤差\n",
    "\n",
    "        \"\"\"\n",
    "        return self._linear_hypothesis(X) - y\n",
    "    \n",
    "    def _gradient_descent(self, X, y, alpha):\n",
    "        \"\"\"\n",
    "        パラメータθを勾配方向に更新する\n",
    "        \n",
    "         Parameters\n",
    "        ----------\n",
    "        X : 次の形のndarray, shape (n_samples, n_features)\n",
    "          訓練データ\n",
    "        y : 次の形のndarray, shape (n_samples, )\n",
    "          訓練データの正解値\n",
    "\n",
    "        \"\"\"\n",
    "        \n",
    "        grad = np.average(self._error(X, y) * X, axis=0)\n",
    "        self.coef_ = self.coef_ - alpha * grad\n",
    "\n",
    "    def _loss(self, X, y):\n",
    "        \"\"\"\n",
    "        損失関数を計算する\n",
    "\n",
    "         Parameters\n",
    "        ----------\n",
    "        X : 次の形のndarray, shape (n_samples, n_features)\n",
    "          訓練データ\n",
    "        y : 次の形のndarray, shape (n_samples, )\n",
    "          訓練データの正解値\n",
    "\n",
    "        \"\"\"\n",
    "        loss =  0.5 * np.average(self._error(X, y) ** 2)\n",
    "        return loss\n",
    "        "
   ]
  },
  {
   "cell_type": "markdown",
   "metadata": {},
   "source": [
    "## 【問題1】仮定関数\n",
    "以下の数式で表される線形回帰の仮定関数を実装してください。メソッドの雛形を用意してあります。\n",
    "\n",
    "$h_θ(x) = θ_0x_0+θ_1x_1+θ_2x_2･･･θ_nx_n.(x_0=1)$\n",
    "\n",
    "\n",
    "$x$ : 特徴量ベクトル\n",
    "\n",
    "\n",
    "$\\theta$ : パラメータベクトル\n",
    "\n",
    "\n",
    "$n$ : 特徴量の数\n",
    "\n",
    "\n",
    "$x_j$ : j番目の特徴量\n",
    "\n",
    "\n",
    "$\\theta_j$ : j番目のパラメータ（重み）\n"
   ]
  },
  {
   "cell_type": "markdown",
   "metadata": {},
   "source": [
    "## 【問題2】最急降下法\n",
    "最急降下法により学習させる実装を行なってください。\n",
    "\n",
    "以下の式で表されるパラメータの更新式のメソッド_gradient_descentを追加し、fit\n",
    "メソッドから呼び出すようにしてください。\n",
    "\n",
    "$\\theta_j := \\theta_j - \\alpha \\frac{1}{m} \\sum_{i=1}^{m}[(h_\\theta(x^{(i)}) - y^{(i)} )x_{j}^{(i)}]$\n",
    "\n",
    "\n",
    "\n",
    "$\\alpha$ : 学習率\n",
    "\n",
    "$i$ : サンプルのインデックス\n",
    "\n",
    "$j$ : 特徴量のインデックス"
   ]
  },
  {
   "cell_type": "markdown",
   "metadata": {},
   "source": [
    "## 【問題3】推定\n",
    "推定する仕組みを実装してください。ScratchLinearRegressionクラスの雛形に含まれるpredictメソッドに書き加えてください。\n",
    "\n",
    "仮定関数 $h_\\theta(x)$ の出力が推定結果です。"
   ]
  },
  {
   "cell_type": "markdown",
   "metadata": {},
   "source": [
    "## 【問題4】平均二乗誤差\n",
    "線形回帰の指標値として用いられる平均二乗誤差（mean square error, MSE）の関数を作成してください。\n",
    "\n",
    "平均二乗誤差関数は回帰問題全般で使える関数のため、ScratchLinearRegressionクラスのメソッドではなく、別の関数として作成してください。\n",
    "\n",
    "平均二乗誤差は以下の数式で表されます。\n",
    "\n",
    "$J(\\theta)=  \\frac{1 }{ m}  \\sum_{i=1}^{m} (h_\\theta(x^{(i)})-y^{(i)})^2.$\n",
    "\n",
    "$h_\\theta()$ : 仮定関数\n",
    "\n",
    "$x^{(i)}$ : i番目のサンプルの特徴量ベクトル\n",
    "\n",
    "$y^{(i)}$ : i番目のサンプルの正解値\n",
    "\n",
    "なお、最急降下法のための目的関数（損失関数）としては、これを2で割ったものを使用します。（問題5, 9）"
   ]
  },
  {
   "attachments": {
    "image.png": {
     "image/png": "[encoded data removed]"
    }
   },
   "cell_type": "markdown",
   "metadata": {},
   "source": [
    "## 【検証１～４】 \n",
    "\n",
    "クラスの実装はすべてまとめて2段目に記載する。\n",
    "\n",
    "以降の処理はクラス実装が問題なく行えているか検証したもの。エクセルで計算した理論値と一致するかを確認する。\n",
    "\n",
    "検証に用いる、数字・特徴量の条件は以下のとおり。説明変数は2個、サンプル数は3個として考える\n",
    "\n",
    "![image.png](attachment:image.png)"
   ]
  },
  {
   "cell_type": "code",
   "execution_count": 338,
   "metadata": {},
   "outputs": [
    {
     "name": "stdout",
     "output_type": "stream",
     "text": [
      "X:\n",
      " [[2000  120]\n",
      " [3000  200]\n",
      " [2500   50]]\n",
      "y:\n",
      " [100 120  50]\n"
     ]
    }
   ],
   "source": [
    "# テストデータ\n",
    "X = np.array([[2000, 120], [3000, 200], [2500, 50]])\n",
    "y = np.array([100, 120, 50])\n",
    "alpha = 0.1\n",
    "\n",
    "print(\"X:\\n\", X)\n",
    "print(\"y:\\n\", y)\n",
    "\n",
    "lr = ScratchLinearRegression(num_iter=1, lr=alpha ,verbose=True, debug=True) #デバッグモードTrue\n"
   ]
  },
  {
   "cell_type": "code",
   "execution_count": 339,
   "metadata": {},
   "outputs": [
    {
     "name": "stdout",
     "output_type": "stream",
     "text": [
      "|train| iter: 1  coef:[    -4.101 -11130.275   -576.406]\n"
     ]
    }
   ],
   "source": [
    "np.set_printoptions(suppress=True, precision=3)\n",
    "lr.fit(X, y)"
   ]
  },
  {
   "cell_type": "code",
   "execution_count": 340,
   "metadata": {},
   "outputs": [
    {
     "name": "stdout",
     "output_type": "stream",
     "text": [
      "一度だけ学習を行った後の予測値：\n",
      " [[-22329722.677]\n",
      " [-33506110.094]\n",
      " [-27854511.674]]\n"
     ]
    }
   ],
   "source": [
    "pred = lr.predict(X)\n",
    "print(\"一度だけ学習を行った後の予測値：\\n\", pred)"
   ]
  },
  {
   "cell_type": "code",
   "execution_count": 341,
   "metadata": {},
   "outputs": [],
   "source": [
    "def MSE(y_pred, y):\n",
    "    \"\"\"\n",
    "    平均二乗誤差の計算\n",
    "\n",
    "    Parameters\n",
    "    ----------\n",
    "    y_pred : 次の形のndarray, shape (n_samples,)\n",
    "      推定した値\n",
    "    y : 次の形のndarray, shape (n_samples,)\n",
    "      正解値\n",
    "\n",
    "    Returns\n",
    "    ----------\n",
    "    mse : numpy.float\n",
    "      平均二乗誤差\n",
    "    \"\"\"\n",
    "\n",
    "    if len(y_pred) != len(y):\n",
    "        raise Exception(\"要素が不一致\")\n",
    "\n",
    "    if isinstance(y_pred, (pd.DataFrame, pd.Series)):\n",
    "        y_pred = y_pred.values\n",
    "    \n",
    "    if isinstance(y, (pd.DataFrame, pd.Series)):\n",
    "        y = y.values\n",
    "        \n",
    "    #計算前に形状加工\n",
    "    m = len(y_pred)\n",
    "    y_pred =  y_pred.reshape(-1,1)\n",
    "    y = y.reshape(-1, 1)\n",
    "    \n",
    "    mse = np.average((y_pred - y)**2)\n",
    "    \n",
    "    return mse"
   ]
  },
  {
   "cell_type": "code",
   "execution_count": 342,
   "metadata": {},
   "outputs": [
    {
     "name": "stdout",
     "output_type": "stream",
     "text": [
      "MSE: 799055013992173.6\n",
      "objective: [3.995e+14]\n"
     ]
    }
   ],
   "source": [
    "mse = MSE(pred, y)\n",
    "print(\"MSE:\", mse)\n",
    "print(\"objective:\", lr.loss)"
   ]
  },
  {
   "cell_type": "markdown",
   "metadata": {},
   "source": [
    "理論値とすべて同じ値になったため実装は問題なさそう"
   ]
  },
  {
   "cell_type": "markdown",
   "metadata": {},
   "source": [
    "## 【問題5】目的関数\n",
    "以下の数式で表される線形回帰の 目的関数（損失関数） を実装してください。\n",
    "\n",
    "そして、これをself.loss, self.val_lossに記録するようにしてください。\n",
    "\n",
    "\n",
    "目的関数（損失関数） $J(\\theta)$ は次の式です。\n",
    "\n",
    "$J(\\theta)=  \\frac{1 }{ 2m}  \\sum_{i=1}^{m} (h_\\theta(x^{(i)})-y^{(i)})^2.$\n",
    "\n",
    "$m$ : 入力されるデータの数\n",
    "\n",
    "$h_\\theta()$ : 仮定関数\n",
    "\n",
    "\n",
    "$x^{(i)}$ : i番目のサンプルの特徴量ベクトル\n",
    "\n",
    "\n",
    "$y^{(i)}$ : i番目のサンプルの正解値"
   ]
  },
  {
   "cell_type": "markdown",
   "metadata": {},
   "source": [
    "## 【問題6】学習と推定\n",
    "機械学習スクラッチ入門のSprintで用意したHouse Pricesコンペティションのデータに対してスクラッチ実装の学習と推定を行なってください。\n",
    "\n",
    "scikit-learnによる実装と比べ、正しく動いているかを確認してください。"
   ]
  },
  {
   "cell_type": "code",
   "execution_count": 378,
   "metadata": {},
   "outputs": [
    {
     "data": {
      "text/html": [
       "<div>\n",
       "<style scoped>\n",
       "    .dataframe tbody tr th:only-of-type {\n",
       "        vertical-align: middle;\n",
       "    }\n",
       "\n",
       "    .dataframe tbody tr th {\n",
       "        vertical-align: top;\n",
       "    }\n",
       "\n",
       "    .dataframe thead th {\n",
       "        text-align: right;\n",
       "    }\n",
       "</style>\n",
       "<table border=\"1\" class=\"dataframe\">\n",
       "  <thead>\n",
       "    <tr style=\"text-align: right;\">\n",
       "      <th></th>\n",
       "      <th>model</th>\n",
       "      <th>sklearn_mse</th>\n",
       "      <th>scratch_mse</th>\n",
       "    </tr>\n",
       "  </thead>\n",
       "  <tbody>\n",
       "    <tr>\n",
       "      <th>0</th>\n",
       "      <td>sklearn_LinearRegression</td>\n",
       "      <td>1.88679e+09</td>\n",
       "      <td>1.88679e+09</td>\n",
       "    </tr>\n",
       "    <tr>\n",
       "      <th>1</th>\n",
       "      <td>scrach_LinearRegression</td>\n",
       "      <td>4.81278e+09</td>\n",
       "      <td>4.81278e+09</td>\n",
       "    </tr>\n",
       "  </tbody>\n",
       "</table>\n",
       "</div>"
      ],
      "text/plain": [
       "                      model  sklearn_mse  scratch_mse\n",
       "0  sklearn_LinearRegression  1.88679e+09  1.88679e+09\n",
       "1   scrach_LinearRegression  4.81278e+09  4.81278e+09"
      ]
     },
     "metadata": {},
     "output_type": "display_data"
    }
   ],
   "source": [
    "from sklearn.linear_model import LinearRegression\n",
    "from sklearn.model_selection import train_test_split\n",
    "from sklearn.metrics import mean_squared_error\n",
    "from sklearn.preprocessing import MinMaxScaler\n",
    "\n",
    "#データの読み込み\n",
    "train = pd.read_csv(\"train.csv\")\n",
    "train_x = train[[\"GrLivArea\", \"YearBuilt\"]]\n",
    "train_y = train[\"SalePrice\"]\n",
    "\n",
    "#訓練データを分割\n",
    "X_train, X_test, y_train, y_test = train_test_split(train_x, train_y, random_state=1)\n",
    "\n",
    "#標準化\n",
    "scaler = MinMaxScaler()\n",
    "scaler.fit(X_train)\n",
    "\n",
    "X_train = scaler.transform(X_train)\n",
    "X_test  = scaler.transform(X_test)\n",
    "\n",
    "#sklearnとスクラッチとのモデル比較\n",
    "sklearn_lr = LinearRegression()\n",
    "scrach_lr  = ScratchLinearRegression(num_iter=5000, lr=0.001)\n",
    "\n",
    "model = {\"sklearn_LinearRegression\": sklearn_lr, \"scrach_LinearRegression\": scrach_lr}\n",
    "\n",
    "#結果比較用のdfを作成\n",
    "results = pd.DataFrame(columns=[\"model\", \"sklearn_mse\", \"scratch_mse\"], index=list(range(len(model))))\n",
    "i = 0\n",
    "\n",
    "for name, model in model.items():\n",
    "    model.fit(X_train, y_train)\n",
    "    y_pred = model.predict(X_test)\n",
    "    sklearn_mse = mean_squared_error(y_pred, y_test)\n",
    "    scratch_mse = MSE(y_pred, y_test)\n",
    "    results.loc[i, :] = [name, sklearn_mse, scratch_mse]\n",
    "    i += 1\n",
    "\n",
    "display(results)\n",
    "    "
   ]
  },
  {
   "cell_type": "markdown",
   "metadata": {},
   "source": [
    "**結果**  \n",
    "sklearnと同じ結果にはならず...  \n",
    "学習率やイテレータ、正則化項などのハイパーパラメータ値の違いによるものか"
   ]
  },
  {
   "cell_type": "markdown",
   "metadata": {},
   "source": [
    "## 【問題7】学習曲線のプロット\n",
    "学習曲線を表示する関数を作成し、実行してください。グラフを見て損失が適切に下がっているかどうか確認してください。\n",
    "\n",
    "線形回帰クラスの雛形ではself.loss, self.val_lossに損失を記録しておくようになっているため、入力にはこれを利用してください"
   ]
  },
  {
   "cell_type": "code",
   "execution_count": 379,
   "metadata": {},
   "outputs": [
    {
     "data": {
      "image/png": "[encoded data removed]",
      "text/plain": [
       "<Figure size 432x288 with 1 Axes>"
      ]
     },
     "metadata": {
      "needs_background": "light"
     },
     "output_type": "display_data"
    },
    {
     "name": "stdout",
     "output_type": "stream",
     "text": [
      "coef: [103273.357  46743.387  98471.111]\n",
      "MSE: 4812787993.357906\n"
     ]
    }
   ],
   "source": [
    "# 検証データ込みで学習を行う\n",
    "scrach_val_lr = ScratchLinearRegression(num_iter=5000, lr=0.001)\n",
    "scrach_val_lr.fit(X_train, y_train, X_test, y_test)\n",
    "y_pred = scrach_val_lr.predict(X_test)\n",
    "mse = MSE(y_pred, y_test)\n",
    "\n",
    "iter_list = list(range(scrach_val_lr.iter))\n",
    "loss_list = scrach_val_lr.loss\n",
    "val_loss_list = scrach_val_lr.val_loss\n",
    "\n",
    "# 学習曲線を可視化\n",
    "plt.scatter(iter_list, loss_list, label=\"train_loss\")\n",
    "plt.scatter(iter_list, val_loss_list, label=\"val_loss\")\n",
    "\n",
    "plt.xlabel(\"iter\")\n",
    "plt.ylabel(\"loss\")\n",
    "plt.title(\"model loss\")\n",
    "plt.legend()\n",
    "plt.show()\n",
    "\n",
    "print(\"coef:\", scrach_val_lr.coef_)\n",
    "print(\"MSE:\", mse)\n"
   ]
  },
  {
   "cell_type": "markdown",
   "metadata": {},
   "source": [
    "## 【問題8】（アドバンス課題）バイアス項の除去\n",
    "バイアス項 $\\theta_0$ を抜くと学習がどう変化するか検証してください。\n",
    "\n",
    "また、線形回帰モデルにおけるバイアス項の役割の考察・調査を行ってください。"
   ]
  },
  {
   "cell_type": "code",
   "execution_count": 380,
   "metadata": {},
   "outputs": [
    {
     "data": {
      "image/png": "[encoded data removed]",
      "text/plain": [
       "<Figure size 864x288 with 2 Axes>"
      ]
     },
     "metadata": {
      "needs_background": "light"
     },
     "output_type": "display_data"
    },
    {
     "name": "stdout",
     "output_type": "stream",
     "text": [
      "infomation have-bias:\n",
      "coef: [ 91583.804  66146.975 108339.854]\n",
      "\n",
      "infomation no-bias:\n",
      "coef: [107369.314 217143.161]\n"
     ]
    }
   ],
   "source": [
    "num_iter = 10000\n",
    "alpha = 0.001\n",
    "\n",
    "# バイアス項なしで学習を行う\n",
    "scrach_no_bias_lr = ScratchLinearRegression(num_iter=num_iter, lr=alpha, no_bias=True, verbose=False)\n",
    "scrach_no_bias_lr.fit(X_train, y_train, X_test, y_test)\n",
    "\n",
    "# バイアス項ありで学習を行う\n",
    "scrach_have_bias_lr = ScratchLinearRegression(num_iter=num_iter, lr=alpha, verbose=False)\n",
    "scrach_have_bias_lr.fit(X_train, y_train, X_test, y_test)\n",
    "\n",
    "# 各モデルにおけるコスト関数の値を取り出す\n",
    "iter_list = list(range(scrach_no_bias_lr.iter))\n",
    "\n",
    "no_bias_loss_list = scrach_no_bias_lr.loss\n",
    "no_bias_val_loss_list = scrach_no_bias_lr.val_loss\n",
    "\n",
    "have_bias_loss_list  = scrach_have_bias_lr.loss\n",
    "have_bias_val_loss_list  = scrach_have_bias_lr.val_loss\n",
    "\n",
    "# 学習曲線を可視化\n",
    "fig, (ax1, ax2) = plt.subplots(1, 2, figsize=(12, 4))\n",
    "\n",
    "ax1.scatter(iter_list, no_bias_loss_list, label=\"train_loss (no-bias)\")\n",
    "ax1.scatter(iter_list, have_bias_loss_list, label=\"train_loss (have-bias)\")\n",
    "\n",
    "ax2.scatter(iter_list, no_bias_val_loss_list, label=\"val_loss (no-bias)\")\n",
    "ax2.scatter(iter_list, have_bias_val_loss_list, label=\"val_loss (have-bias)\")\n",
    "\n",
    "ax1.set_xlabel(\"iter\")\n",
    "ax1.set_ylabel(\"loss\")\n",
    "ax1.set_title(\"model train-loss\")\n",
    "\n",
    "ax2.set_xlabel(\"iter\")\n",
    "ax2.set_ylabel(\"loss\")\n",
    "ax2.set_title(\"model val-loss\")\n",
    "\n",
    "ax1.legend()\n",
    "ax2.legend()\n",
    "plt.show()\n",
    "\n",
    "print(\"infomation have-bias:\")\n",
    "print(\"coef:\", scrach_have_bias_lr.coef_)\n",
    "print()\n",
    "print(\"infomation no-bias:\")\n",
    "print(\"coef:\", scrach_no_bias_lr.coef_)\n"
   ]
  },
  {
   "cell_type": "markdown",
   "metadata": {},
   "source": [
    "**<u>結果・考察</u>**\n",
    "\n",
    "バイアス項を除去すると原点を通る線形式に回帰することを意味する。  \n",
    "つまり、特徴量が全て０のとき、目的変数の値も０に回帰される。  \n",
    "\n",
    "検証結果より、バイアス項を除去したモデルは、そうでないモデルと比較して学習スピードが緩やかになる。  \n",
    "しかし、学習の回数を重ねると、バイアス項のあるモデルより、精度の高いモデルが出来上がった。  \n",
    "(学習回数3,500回付近でバイアス項ありのモデルより評価関数の結果が良くなっている）\n",
    "\n",
    "今回、特徴量に用いた変数は「住宅のリビング面積」と「築年数」。  \n",
    "変数「住宅のリビング面積」の性質に着目すると、値０は住宅として全く価値のないことを意味し、  \n",
    "その場合、目的変数「住宅価格」も０になることが予想される。\n",
    "\n",
    "そのため、バイアス項を除去した原点を通る線形回帰モデルの方が、より精度の高い結果となったと考えられる。"
   ]
  },
  {
   "cell_type": "markdown",
   "metadata": {},
   "source": [
    "## 【問題9】（アドバンス課題）特徴量の多次元化\n",
    "特徴量の二乗や三乗を入力に利用すると学習結果がどう変化するか検証してください。"
   ]
  },
  {
   "cell_type": "markdown",
   "metadata": {},
   "source": [
    "**まずは特徴量1つのみで検証**"
   ]
  },
  {
   "cell_type": "code",
   "execution_count": 381,
   "metadata": {},
   "outputs": [],
   "source": [
    "train_x1 = train[\"GrLivArea\"]\n",
    "train_x2 = train[\"GrLivArea\"]**2\n",
    "train_x3 = train[\"GrLivArea\"]**3\n",
    "train_y = train[\"SalePrice\"]\n",
    "\n",
    "data = {\"feature x\": train_x1, \"feature x^2\": train_x2, \"feature x^3\": train_x3}\n",
    "\n",
    "for name, tr in data.items():\n",
    "    X_train, X_test, y_train, y_test = train_test_split(tr, train_y, random_state=1)\n",
    "    X_train, X_test, y_train, y_test = map(np.array, (X_train, X_test, y_train, y_test))\n",
    "    \n",
    "    X_train = X_train.reshape(-1, 1)\n",
    "    X_test  = X_test.reshape(-1, 1)\n",
    "    \n",
    "    #スケーリング\n",
    "    scaler = MinMaxScaler()\n",
    "    scaler.fit(X_train)\n",
    "    X_train = scaler.transform(X_train)\n",
    "    X_test  = scaler.transform(X_test)\n",
    "    \n",
    "    lr = ScratchLinearRegression(num_iter=5000, lr=0.001)\n",
    "    lr.fit(X_train, y_train)\n",
    "    y_pred = lr.predict(X_test)\n",
    "    mse = MSE(y_pred, y_test)\n",
    "    \n",
    "    results.loc[i, :] = [name, np.nan, mse]\n",
    "    i += 1\n"
   ]
  },
  {
   "cell_type": "markdown",
   "metadata": {},
   "source": [
    "特徴量を2つに増やして検証"
   ]
  },
  {
   "cell_type": "code",
   "execution_count": 382,
   "metadata": {},
   "outputs": [],
   "source": [
    "train_x1 = train[[\"GrLivArea\", \"YearBuilt\"]]\n",
    "train_x2 = train[[\"GrLivArea\", \"YearBuilt\"]]**2\n",
    "train_x3 = train[[\"GrLivArea\", \"YearBuilt\"]]**3\n",
    "train_y = train[\"SalePrice\"]\n",
    "\n",
    "data = {\"two features x\": train_x1, \"two features x^2\": train_x2, \"two features x^3\": train_x3}\n",
    "\n",
    "for name, tr in data.items():\n",
    "    X_train, X_test, y_train, y_test = train_test_split(tr, train_y, random_state=1)\n",
    "    X_train, X_test, y_train, y_test = map(np.array, (X_train, X_test, y_train, y_test))\n",
    "    \n",
    "    #スケーリング\n",
    "    scaler = MinMaxScaler()\n",
    "    scaler.fit(X_train)\n",
    "    X_train = scaler.transform(X_train)\n",
    "    X_test  = scaler.transform(X_test)\n",
    "    \n",
    "    lr = ScratchLinearRegression(num_iter=5000, lr=0.001)\n",
    "    lr.fit(X_train, y_train)\n",
    "    y_pred = lr.predict(X_test)\n",
    "    mse = MSE(y_pred, y_test)\n",
    "    \n",
    "    results.loc[i, :] = [name, np.nan, mse]\n",
    "    i += 1\n"
   ]
  },
  {
   "cell_type": "code",
   "execution_count": 383,
   "metadata": {},
   "outputs": [
    {
     "data": {
      "text/html": [
       "<div>\n",
       "<style scoped>\n",
       "    .dataframe tbody tr th:only-of-type {\n",
       "        vertical-align: middle;\n",
       "    }\n",
       "\n",
       "    .dataframe tbody tr th {\n",
       "        vertical-align: top;\n",
       "    }\n",
       "\n",
       "    .dataframe thead th {\n",
       "        text-align: right;\n",
       "    }\n",
       "</style>\n",
       "<table border=\"1\" class=\"dataframe\">\n",
       "  <thead>\n",
       "    <tr style=\"text-align: right;\">\n",
       "      <th></th>\n",
       "      <th>model</th>\n",
       "      <th>sklearn_mse</th>\n",
       "      <th>scratch_mse</th>\n",
       "    </tr>\n",
       "  </thead>\n",
       "  <tbody>\n",
       "    <tr>\n",
       "      <th>0</th>\n",
       "      <td>sklearn_LinearRegression</td>\n",
       "      <td>1.88679e+09</td>\n",
       "      <td>1.88679e+09</td>\n",
       "    </tr>\n",
       "    <tr>\n",
       "      <th>1</th>\n",
       "      <td>scrach_LinearRegression</td>\n",
       "      <td>4.81278e+09</td>\n",
       "      <td>4.81278e+09</td>\n",
       "    </tr>\n",
       "    <tr>\n",
       "      <th>2</th>\n",
       "      <td>feature x</td>\n",
       "      <td>NaN</td>\n",
       "      <td>6.01664e+09</td>\n",
       "    </tr>\n",
       "    <tr>\n",
       "      <th>3</th>\n",
       "      <td>feature x^2</td>\n",
       "      <td>NaN</td>\n",
       "      <td>6.50498e+09</td>\n",
       "    </tr>\n",
       "    <tr>\n",
       "      <th>4</th>\n",
       "      <td>feature x^3</td>\n",
       "      <td>NaN</td>\n",
       "      <td>6.67151e+09</td>\n",
       "    </tr>\n",
       "    <tr>\n",
       "      <th>5</th>\n",
       "      <td>two features x</td>\n",
       "      <td>NaN</td>\n",
       "      <td>4.81279e+09</td>\n",
       "    </tr>\n",
       "    <tr>\n",
       "      <th>6</th>\n",
       "      <td>two features x^2</td>\n",
       "      <td>NaN</td>\n",
       "      <td>5.08494e+09</td>\n",
       "    </tr>\n",
       "    <tr>\n",
       "      <th>7</th>\n",
       "      <td>two features x^3</td>\n",
       "      <td>NaN</td>\n",
       "      <td>5.17889e+09</td>\n",
       "    </tr>\n",
       "  </tbody>\n",
       "</table>\n",
       "</div>"
      ],
      "text/plain": [
       "                      model  sklearn_mse  scratch_mse\n",
       "0  sklearn_LinearRegression  1.88679e+09  1.88679e+09\n",
       "1   scrach_LinearRegression  4.81278e+09  4.81278e+09\n",
       "2                 feature x          NaN  6.01664e+09\n",
       "3               feature x^2          NaN  6.50498e+09\n",
       "4               feature x^3          NaN  6.67151e+09\n",
       "5            two features x          NaN  4.81279e+09\n",
       "6          two features x^2          NaN  5.08494e+09\n",
       "7          two features x^3          NaN  5.17889e+09"
      ]
     },
     "execution_count": 383,
     "metadata": {},
     "output_type": "execute_result"
    }
   ],
   "source": [
    "results"
   ]
  },
  {
   "cell_type": "markdown",
   "metadata": {},
   "source": [
    "**<u>結果</u>**\n",
    "\n",
    "二乗や三乗を特徴量の入力に使用した場合、そうでない場合と比較して、精度が落ちた。"
   ]
  },
  {
   "cell_type": "markdown",
   "metadata": {},
   "source": [
    "## 【問題10】（アドバンス課題）更新式の導出\n",
    "最急降下法の更新式は以下でした。この式が導出される過程を説明してください。\n",
    "\n",
    "$\\theta_j := \\theta_j - \\alpha \\frac{1}{m} \\sum_{i=1}^{m}[(h_\\theta(x^{(i)}) - y^{(i)} )x_{j}^{(i)}]$\n",
    "\n",
    "以下の式から説明をはじめることができます。\n",
    "\n",
    "$\\theta_j := \\theta_j - \\frac{\\partial}{\\partial \\theta_j}J(\\theta) \\$\n",
    "\n",
    "目的関数（損失関数） $J(\\theta)$ は次の式です。\n",
    "\n",
    "$J(\\theta)=  \\frac{1 }{ 2m}  \\sum_{i=1}^{m} (h_\\theta(x^{(i)})-y^{(i)})^2.$"
   ]
  },
  {
   "cell_type": "markdown",
   "metadata": {},
   "source": [
    "**【解答】**\n",
    "\n",
    "線形回帰の指標値として用いられる平均二乗誤差の関数は次の式①で求まる。\n",
    "\n",
    "$J(\\theta)=  \\frac{1 }{ 2m}  \\sum_{i=1}^{m} (h_\\theta(x^{(i)})-y^{(i)})^2.$ 　…①\n",
    "\n",
    "①を微分すると得られる②の式は、点θにおける勾配を意味する。\n",
    "\n",
    "$ \\frac{1}{m} \\sum_{i=1}^{m}[(h_\\theta(x^{(i)}) - y^{(i)} )x_{j}^{(i)}]$   …②\n",
    "\n",
    "①が極値をとるときのθは、②の式が０になる点θとなる。\n",
    "\n",
    "変数が多い場合、②＝０の式を解くのは計算コストが高いため、ランダムにθを選択しその点における勾配を、元のθから減算すれば極値に近づくことになる。以上のことを計算式で表現すると次の式③となる。\n",
    "\n",
    "$\\theta := \\theta - \\alpha \\frac{1}{m} \\sum_{i=1}^{m}[(h_\\theta(x^{(i)}) - y^{(i)} )x^{(i)}]$ …③\n",
    "\n",
    "③の式を各パラメータθに対して繰り返すので\n",
    "\n",
    "$\\theta_j := \\theta_j - \\alpha \\frac{1}{m} \\sum_{i=1}^{m}[(h_\\theta(x^{(i)}) - y^{(i)} )x_{j}^{(i)}]$ …（Ans）\n"
   ]
  },
  {
   "cell_type": "markdown",
   "metadata": {},
   "source": [
    "## 【問題11】（アドバンス課題）局所最適解の問題\n",
    "最急降下法には一般的に局所最適解の問題があります。\n",
    "\n",
    "しかし、線形回帰では学習を続ければ必ず最適解を求めることができます。\n",
    "\n",
    "それはなぜか数式やグラフを用いて説明してください。"
   ]
  },
  {
   "cell_type": "markdown",
   "metadata": {},
   "source": [
    "**【解答】**\n",
    "\n",
    "線形回帰の仮定関数は以下の式で定義される。\n",
    "\n",
    "$h_\\theta(x) =  \\theta_0 x_0 + \\theta_1 x_1 + ... + \\theta_j x_j + ... +\\theta_n x_n.   (x_0 = 1)$ ---①\n",
    "\n",
    "仮定関数①はn次元の変数$\\theta_j$の関数であるが、$\\theta$の次数はすべて１である。\n",
    "\n",
    "また、目的関数である$J(\\theta)$は仮定関数①の二乗の関数である。\n",
    "\n",
    "$J(\\theta)=  \\frac{1 }{ 2m}  \\sum_{i=1}^{m} (h_\\theta(x^{(i)})-y^{(i)})^2.$　---②\n",
    "\n",
    "②は$\\theta$の２次方程式となるため、各$\\theta$における極値は１点しか持たない。\n",
    "\n",
    "そのため、すべてのθにおいて偏微分を行うことで、$J(\\theta)$が最小となる極小点が必ず１つ求まる\n",
    "\n",
    "つまり、局所的最適解に陥ることはない。\n",
    "\n"
   ]
  }
 ],
 "metadata": {
  "kernelspec": {
   "display_name": "Python 3",
   "language": "python",
   "name": "python3"
  },
  "language_info": {
   "codemirror_mode": {
    "name": "ipython",
    "version": 3
   },
   "file_extension": ".py",
   "mimetype": "text/x-python",
   "name": "python",
   "nbconvert_exporter": "python",
   "pygments_lexer": "ipython3",
   "version": "3.8.3"
  },
  "toc": {
   "base_numbering": 1,
   "nav_menu": {},
   "number_sections": true,
   "sideBar": true,
   "skip_h1_title": false,
   "title_cell": "Table of Contents",
   "title_sidebar": "Contents",
   "toc_cell": false,
   "toc_position": {
    "height": "calc(100% - 180px)",
    "left": "10px",
    "top": "150px",
    "width": "189.838px"
   },
   "toc_section_display": true,
   "toc_window_display": true
  }
 },
 "nbformat": 4,
 "nbformat_minor": 4
}
