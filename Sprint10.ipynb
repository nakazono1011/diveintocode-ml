{
 "cells": [
  {
   "cell_type": "code",
   "execution_count": 1,
   "metadata": {},
   "outputs": [],
   "source": [
    "import numpy as np\n",
    "import pandas as pd\n",
    "import matplotlib.pyplot as plt\n",
    "%matplotlib inline\n",
    "\n",
    "from sklearn.model_selection import train_test_split\n",
    "from sklearn.metrics import accuracy_score\n",
    "\n",
    "from keras.datasets import mnist\n",
    "(X_train, y_train), (X_test, y_test) = mnist.load_data()"
   ]
  },
  {
   "cell_type": "code",
   "execution_count": 2,
   "metadata": {},
   "outputs": [],
   "source": [
    "X_train = X_train.reshape(-1, 784)\n",
    "X_test = X_test.reshape(-1, 784)\n",
    "\n",
    "X_train = X_train.astype(np.float)\n",
    "X_test = X_test.astype(np.float)\n",
    "X_train /= 255\n",
    "X_test /= 255\n",
    "\n",
    "X_train, X_val, y_train, y_val = train_test_split(X_train, y_train, test_size=0.2)\n"
   ]
  },
  {
   "cell_type": "code",
   "execution_count": 3,
   "metadata": {},
   "outputs": [],
   "source": [
    "class GetMiniBatch:\n",
    "    \"\"\"\n",
    "    ミニバッチを取得するイテレータ\n",
    "\n",
    "    Parameters\n",
    "    ----------\n",
    "    X : 次の形のndarray, shape (n_samples, n_features)\n",
    "      訓練データ\n",
    "    y : 次の形のndarray, shape (n_samples, 1)\n",
    "      正解値\n",
    "    batch_size : int\n",
    "      バッチサイズ\n",
    "    seed : int\n",
    "      NumPyの乱数のシード\n",
    "    \"\"\"\n",
    "    def __init__(self, X, y, batch_size = 20, seed=0):\n",
    "        self.batch_size = batch_size\n",
    "        np.random.seed(seed)\n",
    "        shuffle_index = np.random.permutation(np.arange(X.shape[0]))\n",
    "        self._X = X[shuffle_index]\n",
    "        self._y = y[shuffle_index]\n",
    "        self._stop = np.ceil(X.shape[0]/self.batch_size).astype(np.int)\n",
    "    def __len__(self):\n",
    "        return self._stop\n",
    "    def __getitem__(self,item):\n",
    "        p0 = item*self.batch_size\n",
    "        p1 = item*self.batch_size + self.batch_size\n",
    "        return self._X[p0:p1], self._y[p0:p1]        \n",
    "    def __iter__(self):\n",
    "        self._counter = 0\n",
    "        return self\n",
    "    def __next__(self):\n",
    "        if self._counter >= self._stop:\n",
    "            raise StopIteration()\n",
    "        p0 = self._counter*self.batch_size\n",
    "        p1 = self._counter*self.batch_size + self.batch_size\n",
    "        self._counter += 1\n",
    "        return self._X[p0:p1], self._y[p0:p1]"
   ]
  },
  {
   "cell_type": "markdown",
   "metadata": {},
   "source": [
    "# ディープニューラルネットワークスクラッチ"
   ]
  },
  {
   "cell_type": "markdown",
   "metadata": {},
   "source": [
    "## 【問題1】全結合層のクラス化\n",
    "全結合層のクラス化を行なってください。\n",
    "\n",
    "以下に雛形を載せました。コンストラクタで重みやバイアスの初期化をして、あとはフォワードとバックワードのメソッドを用意します。重みW、バイアスB、およびフォワード時の入力Xをインスタンス変数として保持しておくことで、煩雑な入出力は不要になります。\n",
    "\n",
    "なお、インスタンスも引数として渡すことができます。そのため、初期化方法のインスタンスinitializerをコンストラクタで受け取れば、それにより初期化が行われます。渡すインスタンスを変えれば、初期化方法が変えられます。\n",
    "\n",
    "また、引数として自身のインスタンスselfを渡すこともできます。これを利用してself.optimizer.update(self)という風に層の重みの更新が可能です。更新に必要な値は複数ありますが、全て全結合層が持つインスタンス変数にすることができます。\n",
    "\n",
    "初期化方法と最適化手法のクラスについては後述します。"
   ]
  },
  {
   "cell_type": "code",
   "execution_count": 4,
   "metadata": {},
   "outputs": [],
   "source": [
    "class FC:\n",
    "    \"\"\"\n",
    "    ノード数n_nodes1からn_nodes2への全結合層\n",
    "    Parameters\n",
    "    ----------\n",
    "    n_nodes1 : int\n",
    "      前の層のノード数\n",
    "    n_nodes2 : int\n",
    "      後の層のノード数\n",
    "    initializer : 初期化方法のインスタンス\n",
    "    optimizer : 最適化手法のインスタンス\n",
    "    \"\"\"\n",
    "    def __init__(self, n_nodes1, n_nodes2, initializer, optimizer):\n",
    "        # ノードの最適化・初期化インスタンス\n",
    "        self.optimizer = optimizer\n",
    "        self.initializer = initializer\n",
    "\n",
    "        # ノード内の重みとバイアスを初期化\n",
    "        self.W = self.initializer.W(n_nodes1, n_nodes2)\n",
    "        self.B = self.initializer.B(n_nodes2, )\n",
    "        \n",
    "    def forward(self, X):\n",
    "        self.X_prev = X\n",
    "        A = X @ self.W + self.B\n",
    "        return A\n",
    "\n",
    "    def backward(self, dA):\n",
    "        # 勾配計算\n",
    "        self.dB = np.sum(dA, axis=0)\n",
    "        self.dW = self.X_prev.T @ dA\n",
    "        \n",
    "        # 重み・バイアスの更新\n",
    "        self.optimizer.update(self)\n",
    "        dZ = dA @ self.W.T\n",
    "        \n",
    "        return dZ"
   ]
  },
  {
   "cell_type": "markdown",
   "metadata": {},
   "source": [
    "## 【問題2】初期化方法のクラス化\n",
    "初期化を行うコードをクラス化してください。\n",
    "\n",
    "前述のように、全結合層のコンストラクタに初期化方法のインスタンスを渡せるようにします。\n",
    "以下の雛形に必要なコードを書き加えていってください。\n",
    "標準偏差の値（sigma）はコンストラクタで受け取るようにすることで、全結合層のクラス内にこの値（sigma）を渡さなくてすむようになります。\n",
    "\n",
    "これまで扱ってきた初期化方法はSimpleInitializerクラスと名付けることにします。"
   ]
  },
  {
   "cell_type": "code",
   "execution_count": 5,
   "metadata": {},
   "outputs": [],
   "source": [
    "class SimpleInitializer:\n",
    "    def __init__(self, sigma):\n",
    "        self.sigma = sigma\n",
    "        \n",
    "    def W(self, n_nodes1, n_nodes2):\n",
    "        W = self.sigma * np.random.randn(n_nodes1, n_nodes2)\n",
    "        return W\n",
    "    \n",
    "    def B(self, n_nodes2):\n",
    "        B = self.sigma * np.random.randn(n_nodes2, )\n",
    "        return B"
   ]
  },
  {
   "cell_type": "markdown",
   "metadata": {},
   "source": [
    "## 【問題3】最適化手法のクラス化\n",
    "最適化手法のクラス化を行なってください。\n",
    "\n",
    "最適化手法に関しても初期化方法同様に全結合層にインスタンスとして渡します。\n",
    "\n",
    "バックワードのときにself.optimizer.update(self)のように更新できるようにします。\n",
    "\n",
    "以下の雛形に必要なコードを書き加えていってください。\n",
    "\n",
    "これまで扱ってきた最適化手法はSGDクラス（Stochastic Gradient Descent、確率的勾配降下法）として作成します。"
   ]
  },
  {
   "cell_type": "code",
   "execution_count": 6,
   "metadata": {},
   "outputs": [],
   "source": [
    "class SGD:\n",
    "    def __init__(self, lr):\n",
    "        self.lr = lr\n",
    "    def update(self, layer):\n",
    "        layer.B -= self.lr * layer.dB\n",
    "        layer.W -= self.lr * layer.dW\n"
   ]
  },
  {
   "cell_type": "markdown",
   "metadata": {},
   "source": [
    "## 【問題4】活性化関数のクラス化\n",
    "活性化関数のクラス化を行なってください。\n",
    "\n",
    "ソフトマックス関数のバックプロパゲーションには交差エントロピー誤差の計算も含む実装を行うことで計算が簡略化されます。"
   ]
  },
  {
   "cell_type": "code",
   "execution_count": 7,
   "metadata": {},
   "outputs": [],
   "source": [
    "class Sigmoid:\n",
    "    \"\"\"\n",
    "    Sigmoid関数のクラス\n",
    "    \"\"\"  \n",
    "    def __init__(self):\n",
    "        pass\n",
    "    \n",
    "    def forward(self, X):\n",
    "        self.A = X\n",
    "        return 1 / (1 + np.exp(-X))\n",
    "    \n",
    "    def backward(self, X):\n",
    "        return X * (1- self.forward(self.A)) * self.forward(self.A)"
   ]
  },
  {
   "cell_type": "code",
   "execution_count": 8,
   "metadata": {},
   "outputs": [],
   "source": [
    "class Tanh:\n",
    "    \"\"\"\n",
    "    Tanh関数のクラス\n",
    "    \"\"\"\n",
    "    def __init__(self):\n",
    "        pass\n",
    "    \n",
    "    def forward(self, X):\n",
    "        self.A = X\n",
    "        return np.tanh(X)\n",
    "    \n",
    "    def backward(self, X):\n",
    "        return X * (1 - self.forward(self.A)**2)"
   ]
  },
  {
   "cell_type": "code",
   "execution_count": 9,
   "metadata": {},
   "outputs": [],
   "source": [
    "class Softmax:\n",
    "    def __init__(self):\n",
    "        pass\n",
    "    \n",
    "    def forward(self, X):\n",
    "        X = X - np.max(X)\n",
    "        return np.exp(X) / np.sum(np.exp(X), axis=1, keepdims=True)\n",
    "    \n",
    "    def backward(self, X, y):\n",
    "        batch_size = len(X)\n",
    "        delta = 1e-7\n",
    "        \n",
    "        self.loss = -np.sum(y * np.log(X+delta)) / batch_size\n",
    "        return X - y"
   ]
  },
  {
   "cell_type": "markdown",
   "metadata": {},
   "source": [
    "## 【問題5】ReLUクラスの作成\n",
    "現在一般的に使われている活性化関数であるReLU（Rectified Linear Unit）をReLUクラスとして実装してください。\n",
    "\n",
    "ReLUは以下の数式です。\n",
    "\n",
    "$f(x) = ReLU(x) = \\begin{cases}\n",
    "x  & \\text{if $x>0$,}\\\\\n",
    "0 & \\text{if $x\\leqq0$.}\n",
    "\\end{cases}$\n",
    "\n",
    "$x$ : ある特徴量。スカラー\n",
    "\n",
    "\n",
    "実装上はnp.maximumを使い配列に対してまとめて計算が可能です。\n",
    "\n",
    "\n",
    "numpy.maximum — NumPy v1.15 Manual\n",
    "\n",
    "\n",
    "一方、バックプロパゲーションのための $x$ に関する $f(x)$ の微分は以下のようになります。\n",
    "\n",
    "$\\frac{\\partial f(x)}{\\partial x} = \\begin{cases}\n",
    "1  & \\text{if $x>0$,}\\\\\n",
    "0 & \\text{if $x\\leqq0$.}\n",
    "\\end{cases}$\n",
    "\n",
    "\n",
    "数学的には微分可能ではないですが、 $x=0$ のとき $0$ とすることで対応しています。\n",
    "\n",
    "フォワード時の $x$ の正負により、勾配を逆伝播するかどうかが決まるということになります。"
   ]
  },
  {
   "cell_type": "code",
   "execution_count": 10,
   "metadata": {},
   "outputs": [],
   "source": [
    "class ReLU:\n",
    "    \"\"\"\n",
    "    ReLU関数のクラス\n",
    "    \"\"\"\n",
    "    def forward(self, X):\n",
    "        self.A = X\n",
    "        return np.maximum(0, X)\n",
    "    \n",
    "    def backward(self, X):\n",
    "        return X * (self.A > 0)"
   ]
  },
  {
   "cell_type": "markdown",
   "metadata": {},
   "source": [
    "## 【問題6】重みの初期値\n",
    "ここまでは重みやバイアスの初期値は単純にガウス分布で、標準偏差をハイパーパラメータとして扱ってきました。\n",
    "\n",
    "しかし、どのような値にすると良いかが知られています。\n",
    "\n",
    "シグモイド関数やハイパボリックタンジェント関数のときは Xavierの初期値 （またはGlorotの初期値）、ReLUのときは Heの初期値 が使われます。\n",
    "\n",
    "XavierInitializerクラスと、HeInitializerクラスを作成してください。\n",
    "\n",
    "**<Xavierの初期値>**\n",
    "\n",
    "Xavierの初期値における標準偏差 $\\sigma$ は次の式で求められます。\n",
    "\n",
    "$\\sigma = \\frac{1}{\\sqrt{n}}$\n",
    "\n",
    "$n$ : 前の層のノード数\n",
    "\n",
    "**<Heの初期値>**\n",
    "\n",
    "Heの初期値における標準偏差 $\\sigma$ は次の式で求められます。\n",
    "\n",
    "$\\sigma = \\sqrt{\\frac{2}{n}}$\n",
    "\n",
    "$n$ : 前の層のノード数\n",
    "\n"
   ]
  },
  {
   "cell_type": "code",
   "execution_count": 11,
   "metadata": {},
   "outputs": [],
   "source": [
    "class XavierInitializer:\n",
    "    def W(self, n_nodes1, n_nodes2):\n",
    "        sigma = 1 / np.sqrt(n_nodes1)\n",
    "        W = sigma * np.random.randn(n_nodes1, n_nodes2)\n",
    "        \n",
    "        return W\n",
    "    \n",
    "    def B(self, n_nodes2):\n",
    "        B = np.zeros(n_nodes2, )\n",
    "        return B"
   ]
  },
  {
   "cell_type": "code",
   "execution_count": 12,
   "metadata": {},
   "outputs": [],
   "source": [
    "class HeInitializer:\n",
    "    def W(self, n_nodes1, n_nodes2):\n",
    "        sigma = np.sqrt(2 / n_nodes1)\n",
    "        W = sigma * np.random.randn(n_nodes1, n_nodes2)\n",
    "        return W\n",
    "    \n",
    "    def B(self, n_nodes2):\n",
    "        B = np.zeros(n_nodes2, )\n",
    "        return B"
   ]
  },
  {
   "cell_type": "markdown",
   "metadata": {},
   "source": [
    "## 【問題7】最適化手法\n",
    "最適化手法には様々なものがあります。発展的なものの中でも比較的実装が簡単なAdaGradを実装してみましょう。"
   ]
  },
  {
   "cell_type": "code",
   "execution_count": 13,
   "metadata": {},
   "outputs": [],
   "source": [
    "class AdaGrad:\n",
    "    def __init__(self, lr):\n",
    "        self.lr = lr\n",
    "        self.HB = None\n",
    "        self.HW = None\n",
    "        \n",
    "    def update(self, layer):\n",
    "        delta = 1e-7\n",
    "        \n",
    "        if self.HB is None:\n",
    "            self.HB = np.zeros_like(layer.B)\n",
    "            \n",
    "        if self.HW is None:\n",
    "            self.HW = np.zeros_like(layer.W)\n",
    "        \n",
    "        self.HB += layer.dB ** 2\n",
    "        self.HW += layer.dW ** 2\n",
    "        \n",
    "        layer.B -= self.lr * layer.dB / (np.sqrt(self.HB)+delta)\n",
    "        layer.W -= self.lr * layer.dW / (np.sqrt(self.HW)+delta)"
   ]
  },
  {
   "cell_type": "markdown",
   "metadata": {},
   "source": [
    "## 【問題8】クラスの完成\n",
    "\n",
    "任意の構成で学習と推定が行えるScratchDeepNeuralNetrowkClassifierクラスを完成させてください。"
   ]
  },
  {
   "cell_type": "code",
   "execution_count": 14,
   "metadata": {},
   "outputs": [],
   "source": [
    "from sklearn.preprocessing import OneHotEncoder\n",
    "class ScratchDeepNeuralNetrowkClassifier():\n",
    "    def __init__(self, hidden, lr=0.01, sigma=0.01, activation=\"sigmoid\", optimizer=\"adagrad\", verbose = True):\n",
    "        self.hidden = hidden\n",
    "        self.lr = lr\n",
    "        self.sigma = sigma\n",
    "        self.verbose = verbose\n",
    "        self.FC = []\n",
    "        self.activation = []\n",
    "\n",
    "        #初期化クラスを活性化関数によってセット\n",
    "        if activation == \"sigmoid\":\n",
    "            self.initializer = XavierInitializer()\n",
    "            self.activefunc = Sigmoid\n",
    "        elif activation == \"tanh\":\n",
    "            self.initializer = XavierInitializer()\n",
    "            self.activefunc = Tanh\n",
    "        elif activation == \"ReLU\":\n",
    "            self.initializer = HeInitializer()\n",
    "            self.activefunc = ReLU\n",
    "        else:\n",
    "            self.initializer = SimpleInitializer(self.sigma)\n",
    "        \n",
    "        #最適化手法\n",
    "        if optimizer == \"adagrad\":\n",
    "            self.optimizer = AdaGrad\n",
    "        elif optimizer == \"sgd\":\n",
    "            self.optimizer = SGD\n",
    "        else:\n",
    "            raise ValueError(\"No such a optimizer !!\")\n",
    "        \n",
    "        # 損失関数記録リスト\n",
    "        self.train_loss = []\n",
    "        self.val_loss = []\n",
    "        \n",
    "    def fit(self, X, y, X_val=None, y_val=None, epoch=5, batch_size=20):\n",
    "        \n",
    "        #検証データの損失関数の記録を行うか\n",
    "        calc_val = (X_val is not None) & (y_val is not None)\n",
    "        \n",
    "        #目的変数のone_hot変換\n",
    "        y = self._one_hot_encoding(y) \n",
    "        if calc_val:\n",
    "            y_val = self._one_hot_encoding(y_val) \n",
    "        \n",
    "        #ミニバッチオブジェクト定義\n",
    "        get_mini_batch = GetMiniBatch(X, y, batch_size=batch_size)\n",
    "        \n",
    "        #入力層と出力層のノード数をセット\n",
    "        self.n_features = X.shape[1] \n",
    "        self.n_output = y.shape[1]\n",
    "        \n",
    "        #＝＝全結合層を作成＝＝＝＝＝＝＝＝＝＝＝＝＝＝＝＝＝＝＝＝＝＝＝＝＝＝＝＝＝＝＝＝＝＝＝＝＝＝＝\n",
    "        #入力層を作成\n",
    "        self.FC.append(FC(self.n_features, self.hidden[0], self.initializer, self.optimizer(self.lr)))\n",
    "        self.activation.append(self.activefunc())\n",
    "        #隠れ層を作成\n",
    "        for i in range(len(self.hidden)-1):\n",
    "            new_FC = FC(self.hidden[i], self.hidden[i+1], self.initializer, self.optimizer(self.lr))\n",
    "            self.FC.append(new_FC)\n",
    "            \n",
    "            new_activefunc = self.activefunc()\n",
    "            self.activation.append(new_activefunc)\n",
    "        #出力層を作成\n",
    "        self.FC.append(FC(self.hidden[-1], self.n_output, self.initializer, self.optimizer(self.lr)))\n",
    "        self.activation.append(Softmax())    \n",
    "        #＝＝＝＝＝＝＝＝＝＝＝＝＝＝＝＝＝＝＝＝＝＝＝＝＝＝＝＝＝＝＝＝＝＝＝＝＝＝＝＝＝＝＝＝＝＝＝＝\n",
    "        \n",
    "        #学習\n",
    "        for ep in range(epoch):\n",
    "            for mini_X, mini_y in get_mini_batch:\n",
    "                self.level = 0\n",
    "                #順伝播＝＝＝＝＝＝＝＝＝＝＝＝＝＝＝＝＝＝\n",
    "                Z_output = self._forward_propagation(mini_X)\n",
    "                #＝＝＝＝＝＝＝＝＝＝＝＝＝＝＝＝＝＝＝＝＝＝\n",
    "                \n",
    "                # 交差エントロピー計算＝＝＝＝＝＝＝＝＝＝＝＝＝＝＝\n",
    "                dA_output = self.activation[self.level].backward(Z_output, mini_y)\n",
    "                dZ_output = self.FC[self.level].backward(dA_output)\n",
    "                self.level -= 1\n",
    "                #＝＝＝＝＝＝＝＝＝＝＝＝＝＝＝＝＝＝＝＝＝＝＝＝＝＝＝\n",
    "                \n",
    "                #逆伝播＝＝＝＝＝＝＝＝＝＝＝＝＝＝＝＝＝＝\n",
    "                dZ0 = self._back_propagation(dZ_output)\n",
    "                #＝＝＝＝＝＝＝＝＝＝＝＝＝＝＝＝＝＝＝＝＝\n",
    "                \n",
    "            #損失の記録\n",
    "            tr_loss = self._cross_entropy(self.predict_prob(X), y)\n",
    "            self.train_loss.append(tr_loss)\n",
    "            \n",
    "            if self.verbose:\n",
    "                    print(\"Train loss of epoch {}: {}\".format(ep, tr_loss))\n",
    "            \n",
    "            if calc_val:\n",
    "                va_loss = self._cross_entropy(self.predict_prob(X_val), y_val)\n",
    "                self.val_loss.append(va_loss)\n",
    "                \n",
    "                \n",
    "    def predict_prob(self, X):\n",
    "        self.level=0\n",
    "        return self._forward_propagation(X)\n",
    "                \n",
    "    def predict(self, X):\n",
    "        y = np.argmax(self.predict_prob(X), axis=1)\n",
    "        return y\n",
    "    \n",
    "    def _one_hot_encoding(self, y):\n",
    "        enc = OneHotEncoder(handle_unknown='ignore', sparse=False)\n",
    "        y_one_hot = enc.fit_transform(y[:, np.newaxis])\n",
    "        return y_one_hot\n",
    "\n",
    "    def _cross_entropy(self, X, y):\n",
    "        batch_size = len(X)\n",
    "        delta = 1e-7\n",
    "        return -np.sum(y * np.log(X+delta)) / batch_size\n",
    "    \n",
    "    def _forward_propagation(self, X):\n",
    "        max_level = len(self.hidden)\n",
    "        \n",
    "        A = self.FC[self.level].forward(X)\n",
    "        Z = self.activation[self.level].forward(A)\n",
    "        \n",
    "        if self.level == max_level:\n",
    "            return Z\n",
    "        else:\n",
    "            self.level += 1\n",
    "            return self._forward_propagation(Z)\n",
    "    \n",
    "    def _back_propagation(self, X):\n",
    "        min_level = 0\n",
    "\n",
    "        dA = self.activation[self.level].backward(X)\n",
    "        dZ = self.FC[self.level].backward(dA)\n",
    "\n",
    "        if self.level == min_level:\n",
    "            return dZ\n",
    "        else:\n",
    "            self.level -= 1\n",
    "            return self._back_propagation(dZ)\n",
    "        \n",
    "    "
   ]
  },
  {
   "cell_type": "markdown",
   "metadata": {},
   "source": [
    "## 【問題9】学習と推定\n",
    "ノード数や層の数、活性化関数を変えたネットワークを作成して、それぞれの結果を比較してみてください。"
   ]
  },
  {
   "cell_type": "code",
   "execution_count": 15,
   "metadata": {},
   "outputs": [
    {
     "name": "stdout",
     "output_type": "stream",
     "text": [
      "Train loss of epoch 0: 0.9606109303698213\n",
      "Train loss of epoch 1: 0.717924179788388\n",
      "Train loss of epoch 2: 0.6083362084955172\n",
      "Train loss of epoch 3: 0.5438486627782637\n",
      "Train loss of epoch 4: 0.5006865987795874\n",
      "Train loss of epoch 5: 0.46945370998760194\n",
      "Train loss of epoch 6: 0.4456270561248112\n",
      "Train loss of epoch 7: 0.4267408162816622\n",
      "Train loss of epoch 8: 0.4113283205084048\n",
      "Train loss of epoch 9: 0.3984589444262628\n"
     ]
    }
   ],
   "source": [
    "dnn = ScratchDeepNeuralNetrowkClassifier([400, 200], lr=1e-3, activation=\"sigmoid\", optimizer=\"adagrad\")\n",
    "dnn.fit(X_train, y_train, X_val, y_val, epoch=10, batch_size=20)"
   ]
  },
  {
   "cell_type": "code",
   "execution_count": 16,
   "metadata": {},
   "outputs": [
    {
     "name": "stdout",
     "output_type": "stream",
     "text": [
      "accuracy score: 0.9013\n"
     ]
    },
    {
     "data": {
      "image/png": "[encoded data removed]",
      "text/plain": [
       "<Figure size 432x288 with 1 Axes>"
      ]
     },
     "metadata": {
      "needs_background": "light"
     },
     "output_type": "display_data"
    }
   ],
   "source": [
    "y_pred = dnn.predict(X_test)\n",
    "print(\"accuracy score:\", accuracy_score(y_test, y_pred))\n",
    "\n",
    "plt.plot(dnn.train_loss, marker=\"o\", label=\"train_loss\")\n",
    "plt.plot(dnn.val_loss, marker=\"^\", label=\"val_loss\")\n",
    "plt.xlabel(\"epoch\")\n",
    "plt.ylabel(\"loss\")\n",
    "plt.title(\"n_hidden_layer = 2 (400, 200) | activation = sigmoid\")\n",
    "plt.show()"
   ]
  },
  {
   "cell_type": "code",
   "execution_count": 17,
   "metadata": {},
   "outputs": [
    {
     "name": "stdout",
     "output_type": "stream",
     "text": [
      "Train loss of epoch 0: 1.8386158890113344\n",
      "Train loss of epoch 1: 1.6184735115809215\n",
      "Train loss of epoch 2: 1.481516637837168\n",
      "Train loss of epoch 3: 1.3718197437502446\n",
      "Train loss of epoch 4: 1.2786065799999609\n",
      "Train loss of epoch 5: 1.1989894853529564\n",
      "Train loss of epoch 6: 1.131057840066452\n",
      "Train loss of epoch 7: 1.0728424421877603\n",
      "Train loss of epoch 8: 1.0224983768984077\n",
      "Train loss of epoch 9: 0.9784616703885224\n"
     ]
    }
   ],
   "source": [
    "dnn_5 = ScratchDeepNeuralNetrowkClassifier([500, 300, 150, 100, 50], lr=1e-3, activation=\"sigmoid\", optimizer=\"adagrad\")\n",
    "dnn_5.fit(X_train, y_train, X_val, y_val, epoch=10, batch_size=20)"
   ]
  },
  {
   "cell_type": "code",
   "execution_count": 18,
   "metadata": {},
   "outputs": [
    {
     "name": "stdout",
     "output_type": "stream",
     "text": [
      "accuracy score: 0.8108\n"
     ]
    },
    {
     "data": {
      "image/png": "[encoded data removed]",
      "text/plain": [
       "<Figure size 432x288 with 1 Axes>"
      ]
     },
     "metadata": {
      "needs_background": "light"
     },
     "output_type": "display_data"
    }
   ],
   "source": [
    "print(\"accuracy score:\", accuracy_score(y_test, dnn_5.predict(X_test)))\n",
    "\n",
    "plt.plot(dnn_5.train_loss, marker=\"o\", label=\"train_loss\")\n",
    "plt.plot(dnn_5.val_loss, marker=\"^\", label=\"val_loss\")\n",
    "plt.xlabel(\"epoch\")\n",
    "plt.ylabel(\"loss\")\n",
    "plt.title(\"n_hidden_layer = 5 (500, 300, 150, 100, 50) | activation = sigmoid\")\n",
    "plt.show()"
   ]
  },
  {
   "cell_type": "code",
   "execution_count": 19,
   "metadata": {},
   "outputs": [
    {
     "name": "stdout",
     "output_type": "stream",
     "text": [
      "Train loss of epoch 0: 0.2774113166898513\n",
      "Train loss of epoch 1: 0.2375631273255876\n",
      "Train loss of epoch 2: 0.2158769557484801\n",
      "Train loss of epoch 3: 0.20091059232135436\n",
      "Train loss of epoch 4: 0.18952379831280208\n",
      "Train loss of epoch 5: 0.1804029338223447\n",
      "Train loss of epoch 6: 0.1727937884145334\n",
      "Train loss of epoch 7: 0.1662534410698058\n",
      "Train loss of epoch 8: 0.16053135160177015\n",
      "Train loss of epoch 9: 0.15544829189776865\n"
     ]
    }
   ],
   "source": [
    "dnn_ReLU = ScratchDeepNeuralNetrowkClassifier([400, 200], lr=1e-3, activation=\"ReLU\", optimizer=\"adagrad\")\n",
    "dnn_ReLU.fit(X_train, y_train, X_val, y_val, epoch=10, batch_size=20)"
   ]
  },
  {
   "cell_type": "code",
   "execution_count": 20,
   "metadata": {},
   "outputs": [
    {
     "name": "stdout",
     "output_type": "stream",
     "text": [
      "accuracy score: 0.9529\n"
     ]
    },
    {
     "data": {
      "image/png": "[encoded data removed]",
      "text/plain": [
       "<Figure size 432x288 with 1 Axes>"
      ]
     },
     "metadata": {
      "needs_background": "light"
     },
     "output_type": "display_data"
    }
   ],
   "source": [
    "print(\"accuracy score:\", accuracy_score(y_test, dnn_ReLU.predict(X_test)))\n",
    "\n",
    "plt.plot(dnn_ReLU.train_loss, marker=\"o\", label=\"train_loss\")\n",
    "plt.plot(dnn_ReLU.val_loss, marker=\"^\", label=\"val_loss\")\n",
    "plt.xlabel(\"epoch\")\n",
    "plt.ylabel(\"loss\")\n",
    "plt.title(\"n_hidden_layer = 2 (400, 200) | activation = ReLU\")\n",
    "plt.legend()\n",
    "plt.show()"
   ]
  },
  {
   "cell_type": "code",
   "execution_count": 29,
   "metadata": {},
   "outputs": [
    {
     "name": "stdout",
     "output_type": "stream",
     "text": [
      "Train loss of epoch 0: 0.23660128625261528\n",
      "Train loss of epoch 1: 0.19996662754003475\n",
      "Train loss of epoch 2: 0.1799498282131801\n",
      "Train loss of epoch 3: 0.1661554928588723\n",
      "Train loss of epoch 4: 0.1557097361070078\n",
      "Train loss of epoch 5: 0.147316191588935\n",
      "Train loss of epoch 6: 0.14024193631875553\n",
      "Train loss of epoch 7: 0.13410870452875995\n",
      "Train loss of epoch 8: 0.12876449493514613\n",
      "Train loss of epoch 9: 0.12404344266694306\n"
     ]
    }
   ],
   "source": [
    "dnn_large = ScratchDeepNeuralNetrowkClassifier([600, 300], lr=1e-3, activation=\"ReLU\", optimizer=\"adagrad\")\n",
    "dnn_large.fit(X_train, y_train, X_val, y_val, epoch=10, batch_size=20)"
   ]
  },
  {
   "cell_type": "code",
   "execution_count": 30,
   "metadata": {},
   "outputs": [
    {
     "name": "stdout",
     "output_type": "stream",
     "text": [
      "accuracy score: 0.9587\n"
     ]
    },
    {
     "data": {
      "image/png": "[encoded data removed]",
      "text/plain": [
       "<Figure size 432x288 with 1 Axes>"
      ]
     },
     "metadata": {
      "needs_background": "light"
     },
     "output_type": "display_data"
    }
   ],
   "source": [
    "print(\"accuracy score:\", accuracy_score(y_test, dnn_large.predict(X_test)))\n",
    "\n",
    "plt.plot(dnn_large.train_loss, marker=\"o\", label=\"train_loss\")\n",
    "plt.plot(dnn_large.val_loss, marker=\"^\", label=\"val_loss\")\n",
    "plt.xlabel(\"epoch\")\n",
    "plt.ylabel(\"loss\")\n",
    "plt.title(\"n_hidden_layer = 2 (600, 300) | activation = ReLU\")\n",
    "plt.legend()\n",
    "plt.show()"
   ]
  },
  {
   "cell_type": "code",
   "execution_count": 31,
   "metadata": {},
   "outputs": [
    {
     "name": "stdout",
     "output_type": "stream",
     "text": [
      "Train loss of epoch 0: 0.2255981895351473\n",
      "Train loss of epoch 1: 0.18854402748526886\n",
      "Train loss of epoch 2: 0.1684087975071021\n",
      "Train loss of epoch 3: 0.15469565497690205\n",
      "Train loss of epoch 4: 0.1443624850339777\n",
      "Train loss of epoch 5: 0.13602726496057582\n",
      "Train loss of epoch 6: 0.129124087469942\n",
      "Train loss of epoch 7: 0.12322247627850788\n",
      "Train loss of epoch 8: 0.11805395933213295\n",
      "Train loss of epoch 9: 0.11349566663951864\n"
     ]
    }
   ],
   "source": [
    "dnn_3 = ScratchDeepNeuralNetrowkClassifier([512, 256, 128], lr=1e-3, activation=\"ReLU\", optimizer=\"adagrad\")\n",
    "dnn_3.fit(X_train, y_train, X_val, y_val, epoch=10, batch_size=20)"
   ]
  },
  {
   "cell_type": "code",
   "execution_count": 33,
   "metadata": {},
   "outputs": [
    {
     "name": "stdout",
     "output_type": "stream",
     "text": [
      "accuracy score: 0.962\n"
     ]
    },
    {
     "data": {
      "image/png": "[encoded data removed]",
      "text/plain": [
       "<Figure size 432x288 with 1 Axes>"
      ]
     },
     "metadata": {
      "needs_background": "light"
     },
     "output_type": "display_data"
    }
   ],
   "source": [
    "print(\"accuracy score:\", accuracy_score(y_test, dnn_3.predict(X_test)))\n",
    "\n",
    "plt.plot(dnn_3.train_loss, marker=\"o\", label=\"train_loss\")\n",
    "plt.plot(dnn_3.val_loss, marker=\"^\", label=\"val_loss\")\n",
    "plt.xlabel(\"epoch\")\n",
    "plt.ylabel(\"loss\")\n",
    "plt.title(\"n_hidden_layer = 3 (512, 256, 128) | activation = ReLU\")\n",
    "plt.legend()\n",
    "plt.show()"
   ]
  },
  {
   "cell_type": "markdown",
   "metadata": {},
   "source": [
    "### まとめ"
   ]
  },
  {
   "cell_type": "markdown",
   "metadata": {},
   "source": [
    "1. ニューロン数を大きくしたとき\n",
    "2. 隠れ層の数を増やしたとき\n",
    "3. 活性化関数をSigmoid ⇒ ReLUに変えたとき"
   ]
  },
  {
   "cell_type": "code",
   "execution_count": 52,
   "metadata": {},
   "outputs": [
    {
     "data": {
      "image/png": "[encoded data removed]",
      "text/plain": [
       "<Figure size 864x288 with 2 Axes>"
      ]
     },
     "metadata": {
      "needs_background": "light"
     },
     "output_type": "display_data"
    }
   ],
   "source": [
    "fig, axes = plt.subplots(1,2, figsize=(12,4))\n",
    "\n",
    "axes[0].plot(dnn_ReLU.train_loss, marker=\"o\", label=\"train_loss\")\n",
    "axes[0].plot(dnn_ReLU.val_loss, marker=\"^\", label=\"val_loss\")\n",
    "axes[0].set_xlabel(\"epoch\")\n",
    "axes[0].set_ylabel(\"loss\")\n",
    "axes[0].set_title(\"n_hidden_layer = 2 (400, 200) | activation = ReLU\")\n",
    "axes[0].legend()\n",
    "\n",
    "\n",
    "axes[1].plot(dnn_large.train_loss, marker=\"o\", label=\"train_loss\")\n",
    "axes[1].plot(dnn_large.val_loss, marker=\"^\", label=\"val_loss\")\n",
    "axes[1].set_xlabel(\"epoch\")\n",
    "axes[1].set_ylabel(\"loss\")\n",
    "axes[1].set_title(\"n_hidden_layer = 2 (600, 300) | activation = ReLU\")\n",
    "axes[1].legend()\n",
    "\n",
    "y_min0, y_max0 = axes[0].get_ylim()\n",
    "y_min1, y_max1 = axes[1].get_ylim()\n",
    "\n",
    "y_min = min(y_min0, y_min1)\n",
    "y_max = max(y_max0, y_max1)\n",
    "\n",
    "axes[0].set_ylim(y_min, y_max)\n",
    "axes[1].set_ylim(y_min, y_max)\n",
    "\n",
    "plt.show()"
   ]
  },
  {
   "cell_type": "markdown",
   "metadata": {},
   "source": [
    "ニューロンの数を大きくするとより複雑な問題に適合できる"
   ]
  },
  {
   "cell_type": "code",
   "execution_count": 54,
   "metadata": {},
   "outputs": [
    {
     "data": {
      "image/png": "[encoded data removed]",
      "text/plain": [
       "<Figure size 864x288 with 2 Axes>"
      ]
     },
     "metadata": {
      "needs_background": "light"
     },
     "output_type": "display_data"
    }
   ],
   "source": [
    "fig, axes = plt.subplots(1,2, figsize=(12,4))\n",
    "\n",
    "axes[0].plot(dnn_ReLU.train_loss, marker=\"o\", label=\"train_loss\")\n",
    "axes[0].plot(dnn_ReLU.val_loss, marker=\"^\", label=\"val_loss\")\n",
    "axes[0].set_xlabel(\"epoch\")\n",
    "axes[0].set_ylabel(\"loss\")\n",
    "axes[0].set_title(\"n_hidden_layer = 2 (400, 200) | activation = ReLU\")\n",
    "axes[0].legend()\n",
    "\n",
    "\n",
    "axes[1].plot(dnn_3.train_loss, marker=\"o\", label=\"train_loss\")\n",
    "axes[1].plot(dnn_3.val_loss, marker=\"^\", label=\"val_loss\")\n",
    "axes[1].set_xlabel(\"epoch\")\n",
    "axes[1].set_ylabel(\"loss\")\n",
    "axes[1].set_title(\"n_hidden_layer = 3 (512, 256, 128) | activation = ReLU\")\n",
    "axes[1].legend()\n",
    "\n",
    "y_min0, y_max0 = axes[0].get_ylim()\n",
    "y_min1, y_max1 = axes[1].get_ylim()\n",
    "\n",
    "y_min = min(y_min0, y_min1)\n",
    "y_max = max(y_max0, y_max1)\n",
    "\n",
    "axes[0].set_ylim(y_min, y_max)\n",
    "axes[1].set_ylim(y_min, y_max)\n",
    "\n",
    "plt.show()"
   ]
  },
  {
   "cell_type": "markdown",
   "metadata": {},
   "source": [
    "層の数を増やすとより精度があがる"
   ]
  },
  {
   "cell_type": "code",
   "execution_count": 46,
   "metadata": {},
   "outputs": [
    {
     "data": {
      "image/png": "[encoded data removed]",
      "text/plain": [
       "<Figure size 864x288 with 2 Axes>"
      ]
     },
     "metadata": {
      "needs_background": "light"
     },
     "output_type": "display_data"
    }
   ],
   "source": [
    "fig, axes = plt.subplots(1,2, figsize=(12,4))\n",
    "\n",
    "axes[0].plot(dnn.train_loss, marker=\"o\", label=\"train_loss\")\n",
    "axes[0].plot(dnn.val_loss, marker=\"^\", label=\"val_loss\")\n",
    "axes[0].set_xlabel(\"epoch\")\n",
    "axes[0].set_ylabel(\"loss\")\n",
    "axes[0].set_title(\"n_hidden_layer = 2 (400, 200) | activation = sigmoid\")\n",
    "y_min, y_max = axes[0].get_ylim()\n",
    "axes[0].set_ylim(0, y_max)\n",
    "axes[0].legend()\n",
    "\n",
    "axes[1].plot(dnn_ReLU.train_loss, marker=\"o\", label=\"train_loss\")\n",
    "axes[1].plot(dnn_ReLU.val_loss, marker=\"^\", label=\"val_loss\")\n",
    "axes[1].set_xlabel(\"epoch\")\n",
    "axes[1].set_ylabel(\"loss\")\n",
    "axes[1].set_title(\"n_hidden_layer = 2 (400, 200) | activation = ReLU\")\n",
    "axes[1].set_ylim(0, y_max)\n",
    "axes[1].legend()\n",
    "plt.show()"
   ]
  },
  {
   "cell_type": "markdown",
   "metadata": {},
   "source": [
    "活性化関数の種類を変えることで精度に大きな差がある"
   ]
  },
  {
   "cell_type": "markdown",
   "metadata": {},
   "source": [
    "# テスト"
   ]
  },
  {
   "cell_type": "code",
   "execution_count": null,
   "metadata": {},
   "outputs": [],
   "source": [
    "class TestInitializer1:\n",
    "    def W(self, n_nodes1, n_nodes2):\n",
    "        W = np.array([[5, 3, 1], [4, 2, 0]], dtype=np.float)\n",
    "        return W\n",
    "    \n",
    "    def B(self, n_nodes2):\n",
    "        B = np.array([-20, -10, -12], dtype=np.float)\n",
    "        return B\n",
    "\n",
    "    \n",
    "class TestInitializer2:\n",
    "    def W(self, n_nodes1, n_nodes2):\n",
    "        W = np.array([[-4, 3], [-6, 1], [-8, 5]], dtype=np.float)\n",
    "        return W\n",
    "    \n",
    "    def B(self, n_nodes2):\n",
    "        B = np.array([10, 15], dtype=np.float)\n",
    "        return B\n",
    "\n",
    "class TestInitializer3:\n",
    "    def W(self, n_nodes1, n_nodes2):\n",
    "        W = np.array([[-4, 3, -3, 5], [-6, 1, -2, 2]], dtype=np.float)\n",
    "        return W\n",
    "    \n",
    "    def B(self, n_nodes2):\n",
    "        B = np.array([10, 15, -10, -5], dtype=np.float)\n",
    "        return B\n"
   ]
  },
  {
   "cell_type": "code",
   "execution_count": null,
   "metadata": {},
   "outputs": [],
   "source": [
    "XX = np.array([[1,2],[3,4],[5,6],[7,8]], dtype=np.float)\n",
    "yy = np.array([0,1,2,3])\n",
    "\n",
    "enc = OneHotEncoder(handle_unknown='ignore', sparse=False)\n",
    "yy_one_hot = enc.fit_transform(yy[:, np.newaxis])\n",
    "\n",
    "n_nodes1 = 3\n",
    "n_nodes2 = 2\n",
    "n_output = yy_one_hot.shape[1]\n",
    "n_features = XX.shape[1]\n",
    "lr = 0.01\n",
    "sigma = 0.1\n",
    "\n",
    "optimizer = SGD(lr)\n",
    "FC1 = FC(n_features, n_nodes1, TestInitializer1(), optimizer)\n",
    "activation1 = Sigmoid()\n",
    "FC2 = FC(n_nodes1, n_nodes2, TestInitializer2(), optimizer)\n",
    "activation2 = Sigmoid()\n",
    "FC3 = FC(n_nodes2, n_output, TestInitializer3(), optimizer)\n",
    "activation3 = Softmax()\n",
    "\n",
    "A1 = FC1.forward(XX)\n",
    "Z1 = activation1.forward(A1)\n",
    "A2 = FC2.forward(Z1)\n",
    "Z2 = activation2.forward(A2)\n",
    "A3 = FC3.forward(Z2)\n",
    "Z3 = activation3.forward(A3)\n",
    "\n",
    "dA3 = activation3.backward(Z3, yy_one_hot) \n",
    "dZ2 = FC3.backward(dA3)\n",
    "dA2 = activation2.backward(dZ2)\n",
    "dZ1 = FC2.backward(dA2)\n",
    "dA1 = activation1.backward(dZ1)\n",
    "dZ0 = FC1.backward(dA1) # dZ0は使用しない\n",
    "\n"
   ]
  }
 ],
 "metadata": {
  "hide_input": false,
  "kernelspec": {
   "display_name": "Python 3",
   "language": "python",
   "name": "python3"
  },
  "language_info": {
   "codemirror_mode": {
    "name": "ipython",
    "version": 3
   },
   "file_extension": ".py",
   "mimetype": "text/x-python",
   "name": "python",
   "nbconvert_exporter": "python",
   "pygments_lexer": "ipython3",
   "version": "3.8.3"
  },
  "toc": {
   "base_numbering": 1,
   "nav_menu": {},
   "number_sections": true,
   "sideBar": true,
   "skip_h1_title": false,
   "title_cell": "Table of Contents",
   "title_sidebar": "Contents",
   "toc_cell": false,
   "toc_position": {
    "height": "calc(100% - 180px)",
    "left": "10px",
    "top": "150px",
    "width": "256px"
   },
   "toc_section_display": true,
   "toc_window_display": false
  },
  "varInspector": {
   "cols": {
    "lenName": 16,
    "lenType": 16,
    "lenVar": 40
   },
   "kernels_config": {
    "python": {
     "delete_cmd_postfix": "",
     "delete_cmd_prefix": "del ",
     "library": "var_list.py",
     "varRefreshCmd": "print(var_dic_list())"
    },
    "r": {
     "delete_cmd_postfix": ") ",
     "delete_cmd_prefix": "rm(",
     "library": "var_list.r",
     "varRefreshCmd": "cat(var_dic_list()) "
    }
   },
   "types_to_exclude": [
    "module",
    "function",
    "builtin_function_or_method",
    "instance",
    "_Feature"
   ],
   "window_display": false
  }
 },
 "nbformat": 4,
 "nbformat_minor": 4
}
