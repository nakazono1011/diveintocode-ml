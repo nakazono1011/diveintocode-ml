{
 "cells": [
  {
   "cell_type": "code",
   "execution_count": 1,
   "metadata": {},
   "outputs": [],
   "source": [
    "#ライブラリの読み込み\n",
    "import numpy as np"
   ]
  },
  {
   "cell_type": "markdown",
   "metadata": {},
   "source": [
    "# 【問題1】富士山を超える最小の折る回数\n",
    "厚さが「富士山(3776m)」を超えるのは何回紙を折った時か計算するプログラムを作成してください"
   ]
  },
  {
   "cell_type": "code",
   "execution_count": 4,
   "metadata": {},
   "outputs": [
    {
     "name": "stdout",
     "output_type": "stream",
     "text": [
      "厚さが「富士山(3776m)」を超えるには 26 回紙を折る必要があります\n"
     ]
    }
   ],
   "source": [
    "FUJI = 3776\n",
    "THICNESS = 0.00008\n",
    "paper_thickness = THICNESS\n",
    "cnt = 0\n",
    "\n",
    "while paper_thickness < FUJI:\n",
    "    paper_thickness *= 2\n",
    "    cnt += 1\n",
    "    \n",
    "print(\"厚さが「富士山(3776m)」を超えるには {:,} 回紙を折る必要があります\".format(cnt))\n"
   ]
  },
  {
   "cell_type": "markdown",
   "metadata": {},
   "source": [
    "# 【問題2】任意の厚さに対応した関数を作成\n",
    "距離を入力すると、何回折った時に超えるかを出力する関数を作成してください。\n",
    "\n",
    "引数として、折る前の厚さ $t_{0}$ も設定できるようにしましょう。\n",
    "\n",
    "\n",
    "この関数を利用して、「最も近い太陽以外の恒星」に到達するには紙を何回折る必要があるか計算してください。\n",
    "\n",
    "「最も近い太陽以外の恒星」の距離は調査してください。"
   ]
  },
  {
   "cell_type": "code",
   "execution_count": 5,
   "metadata": {},
   "outputs": [
    {
     "name": "stdout",
     "output_type": "stream",
     "text": [
      "「最も近い太陽以外の恒星」に到達するには紙を 69 回折る必要があります\n"
     ]
    }
   ],
   "source": [
    "# 距離を入力すると、何回折った時に超えるかを出力する関数\n",
    "def compute_count_fold_paper(thickness, length):\n",
    "    paper_thickness = thickness\n",
    "    cnt = 0\n",
    "    \n",
    "    while paper_thickness < length:\n",
    "        paper_thickness *= 2\n",
    "        cnt += 1\n",
    "    \n",
    "    return cnt\n",
    "\n",
    "#「最も近い太陽以外の恒星」\n",
    "FIXED_STAR = 4.01 * (10 ** 16)\n",
    "print(\"「最も近い太陽以外の恒星」に到達するには紙を {:,} 回折る必要があります\".format(compute_count_fold_paper(THICNESS, FIXED_STAR)))\n"
   ]
  },
  {
   "cell_type": "markdown",
   "metadata": {},
   "source": [
    "# 【問題3】必要な紙の長さ\n",
    "実際のところ身近にある紙は43回はおろか10回も折れません。\n",
    "\n",
    "しかし、大きな紙ほどたくさん折ることができ、トイレットペーパーのような長い紙を一方向に折ることを考えた時の折れる回数を求める公式が存在します。\n",
    "\n",
    "\n",
    "厚さ $t_{0}$ の紙をn回折るために必要な紙の長さLは以下の公式で求まります。\n",
    "\n",
    "\n",
    "L\n",
    "=\n",
    "π\n",
    "t\n",
    "0\n",
    "6\n",
    "(\n",
    "2\n",
    "n\n",
    "+\n",
    "4\n",
    ")\n",
    "(\n",
    "2\n",
    "n\n",
    "−\n",
    "1\n",
    ")\n",
    "\n",
    "この公式を利用して、実際に紙を折り任意の厚さに到達するために必要な紙の長さを求める関数を作成してください。\n",
    "\n",
    "\n",
    "そしてこれを使って「月」「富士山」「最も近い太陽以外の恒星」に届くために必要な紙の長さを求めてください。"
   ]
  },
  {
   "cell_type": "code",
   "execution_count": 6,
   "metadata": {},
   "outputs": [
    {
     "name": "stdout",
     "output_type": "stream",
     "text": [
      "月に届くために必要な紙の長さは 3.24e+21 メートルです\n",
      "富士山に届くために必要な紙の長さは 1.89e+11 メートルです\n",
      "恒星に届くために必要な紙の長さは 1.46e+37 メートルです\n"
     ]
    }
   ],
   "source": [
    "# 実際に紙を折り任意の厚さに到達するために必要な紙の長さを求める関数\n",
    "def compute_length_of_paper(thickness, length):\n",
    "    cnt = compute_count_fold_paper(thickness, length)\n",
    "    L = (np.pi * thickness) * (2 ** cnt + 4) * (2 ** cnt  -1) / 6\n",
    "    return L\n",
    "\n",
    "#月に届くために必要な紙の長さ\n",
    "MOON = 384400 * 10 ** 3\n",
    "print(\"月に届くために必要な紙の長さは {:.2e} メートルです\".format(compute_length_of_paper(THICNESS, MOON)))\n",
    "\n",
    "#富士山に届くために必要な紙の長さ\n",
    "print(\"富士山に届くために必要な紙の長さは {:.2e} メートルです\".format(compute_length_of_paper(THICNESS, FUJI)))\n",
    "\n",
    "#恒星に届くために必要な紙の長さ\n",
    "FIXED_STAR = 4.01 * (10 ** 16)\n",
    "print(\"恒星に届くために必要な紙の長さは {:.2e} メートルです\".format(compute_length_of_paper(THICNESS, FIXED_STAR)))\n"
   ]
  }
 ],
 "metadata": {
  "kernelspec": {
   "display_name": "Python 3",
   "language": "python",
   "name": "python3"
  },
  "language_info": {
   "codemirror_mode": {
    "name": "ipython",
    "version": 3
   },
   "file_extension": ".py",
   "mimetype": "text/x-python",
   "name": "python",
   "nbconvert_exporter": "python",
   "pygments_lexer": "ipython3",
   "version": "3.7.4"
  }
 },
 "nbformat": 4,
 "nbformat_minor": 2
}
