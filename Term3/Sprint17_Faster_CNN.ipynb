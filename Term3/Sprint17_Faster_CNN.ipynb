{
  "nbformat": 4,
  "nbformat_minor": 0,
  "metadata": {
    "colab": {
      "name": "Sprint17_Faster-CNN.ipynb",
      "provenance": [],
      "collapsed_sections": []
    },
    "kernelspec": {
      "name": "python3",
      "display_name": "Python 3"
    },
    "accelerator": "GPU"
  },
  "cells": [
    {
      "cell_type": "markdown",
      "metadata": {
        "id": "KrUITHv7xwD-",
        "colab_type": "text"
      },
      "source": [
        "# Faster R-CNN"
      ]
    },
    {
      "cell_type": "markdown",
      "metadata": {
        "id": "_iC0xl-Wv--M",
        "colab_type": "text"
      },
      "source": [
        "## 下準備"
      ]
    },
    {
      "cell_type": "code",
      "metadata": {
        "id": "zYwQjWfFKpPC",
        "colab_type": "code",
        "colab": {}
      },
      "source": [
        "!pip install tensorflow==1.5.0"
      ],
      "execution_count": null,
      "outputs": []
    },
    {
      "cell_type": "code",
      "metadata": {
        "id": "Wdn9jTnIrHW7",
        "colab_type": "code",
        "colab": {}
      },
      "source": [
        "import tensorflow"
      ],
      "execution_count": null,
      "outputs": []
    },
    {
      "cell_type": "code",
      "metadata": {
        "id": "AuSdSYe4rN9o",
        "colab_type": "code",
        "colab": {
          "base_uri": "https://localhost:8080/",
          "height": 35
        },
        "outputId": "efa18bd4-79ee-48e2-ecea-d9a65af35d56"
      },
      "source": [
        "tensorflow.__version__"
      ],
      "execution_count": null,
      "outputs": [
        {
          "output_type": "execute_result",
          "data": {
            "application/vnd.google.colaboratory.intrinsic+json": {
              "type": "string"
            },
            "text/plain": [
              "'1.5.0'"
            ]
          },
          "metadata": {
            "tags": []
          },
          "execution_count": 29
        }
      ]
    },
    {
      "cell_type": "code",
      "metadata": {
        "id": "5Zo958VcYK7D",
        "colab_type": "code",
        "colab": {}
      },
      "source": [
        "!pip install kaggle"
      ],
      "execution_count": null,
      "outputs": []
    },
    {
      "cell_type": "code",
      "metadata": {
        "id": "NmusYUjgX5Rf",
        "colab_type": "code",
        "colab": {
          "base_uri": "https://localhost:8080/",
          "height": 34
        },
        "outputId": "6bfb1c57-9060-420d-a2af-b59763e7ef9f"
      },
      "source": [
        "# 自分のマイドライブにマウントする\n",
        "\n",
        "from google.colab import drive\n",
        "drive.mount('/content/drive/')"
      ],
      "execution_count": null,
      "outputs": [
        {
          "output_type": "stream",
          "text": [
            "Mounted at /content/drive/\n"
          ],
          "name": "stdout"
        }
      ]
    },
    {
      "cell_type": "code",
      "metadata": {
        "id": "Lz94s0BqX50p",
        "colab_type": "code",
        "colab": {}
      },
      "source": [
        "mkdir .kaggle"
      ],
      "execution_count": null,
      "outputs": []
    },
    {
      "cell_type": "code",
      "metadata": {
        "id": "QOb2_xktYC8f",
        "colab_type": "code",
        "colab": {
          "base_uri": "https://localhost:8080/",
          "height": 34
        },
        "outputId": "9ef4b733-7101-43f0-8f4d-ed2ee58f6b8b"
      },
      "source": [
        "ls -a"
      ],
      "execution_count": null,
      "outputs": [
        {
          "output_type": "stream",
          "text": [
            "\u001b[0m\u001b[01;34m.\u001b[0m/  \u001b[01;34m..\u001b[0m/  \u001b[01;34m.config\u001b[0m/  \u001b[01;34mdrive\u001b[0m/  \u001b[01;34m.kaggle\u001b[0m/  \u001b[01;34msample_data\u001b[0m/\n"
          ],
          "name": "stdout"
        }
      ]
    },
    {
      "cell_type": "code",
      "metadata": {
        "id": "8oXwgTW8Ctl8",
        "colab_type": "code",
        "colab": {}
      },
      "source": [
        "#cd drive/\"My Drive\""
      ],
      "execution_count": null,
      "outputs": []
    },
    {
      "cell_type": "code",
      "metadata": {
        "id": "UbrlwyoYayv7",
        "colab_type": "code",
        "colab": {}
      },
      "source": [
        "# https://www.kaggle.com/　へアクセスし、ログイン後に右上のプロフィール画像をクリック、さらに\"My Account\"をクリックする\n",
        "# このサイトの「API」項目にある\"Create New API Token\"をクリックすると、kaggle.jsonファイルが自動的にダウンロードされる\n",
        "# ローカルで、kaggle.json（ダウンロードフォルダにあるはず）をエディターで開く。\n",
        "# このセルの以下のコードにある token = {'username':'***','key':'***'} における「***」部分を、\n",
        "# ダウンロードしたkaggle.jsonを参照して書き換え、このセルを実行する\n",
        "\n",
        "import json\n",
        "\n",
        "token = {\"username\":\"knakazono\",\"key\":\"------\"}\n",
        "with open('/content/.kaggle/kaggle.json', 'w') as file:\n",
        "    json.dump(token, file)"
      ],
      "execution_count": null,
      "outputs": []
    },
    {
      "cell_type": "code",
      "metadata": {
        "id": "fGVfODKNc2ua",
        "colab_type": "code",
        "colab": {
          "base_uri": "https://localhost:8080/",
          "height": 34
        },
        "outputId": "5bc8a520-091a-4cb2-c3f0-3622a0942653"
      },
      "source": [
        "ls .kaggle/"
      ],
      "execution_count": null,
      "outputs": [
        {
          "output_type": "stream",
          "text": [
            "kaggle.json\n"
          ],
          "name": "stdout"
        }
      ]
    },
    {
      "cell_type": "code",
      "metadata": {
        "id": "c0YHd6LcbSJn",
        "colab_type": "code",
        "colab": {}
      },
      "source": [
        "!chmod 600 /content/.kaggle/kaggle.json"
      ],
      "execution_count": null,
      "outputs": []
    },
    {
      "cell_type": "code",
      "metadata": {
        "id": "9TgiYOStY72u",
        "colab_type": "code",
        "colab": {
          "base_uri": "https://localhost:8080/",
          "height": 35
        },
        "outputId": "d92fe87e-cac3-4d60-c4e2-5c6dc3451faa"
      },
      "source": [
        "pwd"
      ],
      "execution_count": null,
      "outputs": [
        {
          "output_type": "execute_result",
          "data": {
            "application/vnd.google.colaboratory.intrinsic+json": {
              "type": "string"
            },
            "text/plain": [
              "'/content'"
            ]
          },
          "metadata": {
            "tags": []
          },
          "execution_count": 18
        }
      ]
    },
    {
      "cell_type": "code",
      "metadata": {
        "id": "UYHvHU68PFsL",
        "colab_type": "code",
        "colab": {
          "base_uri": "https://localhost:8080/",
          "height": 34
        },
        "outputId": "8b9c92c7-3e31-48bc-8a5c-e2df8a487ed3"
      },
      "source": [
        "ls -a"
      ],
      "execution_count": null,
      "outputs": [
        {
          "output_type": "stream",
          "text": [
            "\u001b[0m\u001b[01;34m.\u001b[0m/  \u001b[01;34m..\u001b[0m/  \u001b[01;34m.config\u001b[0m/  \u001b[01;34mdrive\u001b[0m/  \u001b[01;34m.kaggle\u001b[0m/  \u001b[01;34msample_data\u001b[0m/\n"
          ],
          "name": "stdout"
        }
      ]
    },
    {
      "cell_type": "code",
      "metadata": {
        "id": "67WCst_X0Qjt",
        "colab_type": "code",
        "colab": {}
      },
      "source": [
        "mkdir　/root/.kaggle/"
      ],
      "execution_count": null,
      "outputs": []
    },
    {
      "cell_type": "code",
      "metadata": {
        "id": "2E9gx_jSa9tJ",
        "colab_type": "code",
        "colab": {}
      },
      "source": [
        "!cp -R /content/.kaggle/kaggle.json /root/.kaggle/"
      ],
      "execution_count": null,
      "outputs": []
    },
    {
      "cell_type": "code",
      "metadata": {
        "id": "-QKa7HD1bUcC",
        "colab_type": "code",
        "colab": {
          "base_uri": "https://localhost:8080/",
          "height": 34
        },
        "outputId": "8d5557b2-6d4f-4bd8-fa35-dfc9a44e1760"
      },
      "source": [
        "!ls -a /root/.kaggle/"
      ],
      "execution_count": null,
      "outputs": [
        {
          "output_type": "stream",
          "text": [
            ".  ..  kaggle.json\n"
          ],
          "name": "stdout"
        }
      ]
    },
    {
      "cell_type": "code",
      "metadata": {
        "id": "ADlTo5WyxveO",
        "colab_type": "code",
        "colab": {
          "base_uri": "https://localhost:8080/",
          "height": 409
        },
        "outputId": "e088ea30-50c3-4492-c388-824d77ba19cf"
      },
      "source": [
        "# kaggle APIコマンドが使えるかどうかを確認\n",
        "\n",
        "\n",
        "!kaggle competitions list"
      ],
      "execution_count": null,
      "outputs": [
        {
          "output_type": "stream",
          "text": [
            "Warning: Looks like you're using an outdated API Version, please consider updating (server 1.5.6 / client 1.5.4)\n",
            "ref                                            deadline             category            reward  teamCount  userHasEntered  \n",
            "---------------------------------------------  -------------------  ---------------  ---------  ---------  --------------  \n",
            "contradictory-my-dear-watson                   2030-07-01 23:59:00  Getting Started     Prizes        280           False  \n",
            "gan-getting-started                            2030-07-01 23:59:00  Getting Started     Prizes        118           False  \n",
            "tpu-getting-started                            2030-06-03 23:59:00  Getting Started  Knowledge        367           False  \n",
            "digit-recognizer                               2030-01-01 00:00:00  Getting Started  Knowledge       2408           False  \n",
            "titanic                                        2030-01-01 00:00:00  Getting Started  Knowledge      18410            True  \n",
            "house-prices-advanced-regression-techniques    2030-01-01 00:00:00  Getting Started  Knowledge       4758            True  \n",
            "connectx                                       2030-01-01 00:00:00  Getting Started  Knowledge        490           False  \n",
            "nlp-getting-started                            2030-01-01 00:00:00  Getting Started  Knowledge       1347            True  \n",
            "competitive-data-science-predict-future-sales  2020-12-31 23:59:00  Playground           Kudos       8828            True  \n",
            "halite-iv-playground                           2020-12-31 23:59:00  Playground       Knowledge          1           False  \n",
            "hashcode-drone-delivery                        2020-12-14 23:59:00  Playground       Knowledge         41           False  \n",
            "lish-moa                                       2020-11-30 23:59:00  Research           $30,000       1579            True  \n",
            "conways-reverse-game-of-life-2020              2020-11-30 23:59:00  Playground            Swag         75           False  \n",
            "lyft-motion-prediction-autonomous-vehicles     2020-11-25 23:59:00  Featured           $30,000        448           False  \n",
            "rsna-str-pulmonary-embolism-detection          2020-10-26 23:59:00  Featured           $30,000        189           False  \n",
            "osic-pulmonary-fibrosis-progression            2020-10-06 23:59:00  Featured           $55,000       1899           False  \n",
            "stanford-covid-vaccine                         2020-10-05 23:59:00  Research           $25,000       1178           False  \n",
            "landmark-recognition-2020                      2020-09-29 23:59:00  Research           $25,000        720           False  \n",
            "halite                                         2020-09-22 23:59:00  Featured              Swag       1139           False  \n",
            "birdsong-recognition                           2020-09-15 23:59:00  Research           $25,000       1390           False  \n"
          ],
          "name": "stdout"
        }
      ]
    },
    {
      "cell_type": "code",
      "metadata": {
        "id": "ot7Tqrikc0-W",
        "colab_type": "code",
        "colab": {
          "base_uri": "https://localhost:8080/",
          "height": 34
        },
        "outputId": "17c35f34-d685-4a04-8cc2-b3e1320f7a80"
      },
      "source": [
        "# カレントディレクトリの変更\n",
        "\n",
        "import os\n",
        "\n",
        "os.chdir('/content/drive/My Drive/')\n",
        "\n",
        "# カレントディレクトリの取得\n",
        "print(os.getcwd())"
      ],
      "execution_count": null,
      "outputs": [
        {
          "output_type": "stream",
          "text": [
            "/content/drive/My Drive\n"
          ],
          "name": "stdout"
        }
      ]
    },
    {
      "cell_type": "code",
      "metadata": {
        "id": "Erk54BOPbZdd",
        "colab_type": "code",
        "colab": {
          "base_uri": "https://localhost:8080/",
          "height": 68
        },
        "outputId": "987887a9-f3a3-4c9a-a3b3-a4748f529602"
      },
      "source": [
        "# simpsonデータセットのAPIコマンドでデータセットをダウンロードする\n",
        "# APIコマンドはこちらのサイトを参照。https://www.kaggle.com/alexattia/the-simpsons-characters-dataset\n",
        "\n",
        "!kaggle datasets download -d alexattia/the-simpsons-characters-dataset --force"
      ],
      "execution_count": null,
      "outputs": [
        {
          "output_type": "stream",
          "text": [
            "Downloading the-simpsons-characters-dataset.zip to /content/drive/My Drive\n",
            "100% 1.08G/1.08G [00:16<00:00, 96.8MB/s]\n",
            "100% 1.08G/1.08G [00:16<00:00, 69.4MB/s]\n"
          ],
          "name": "stdout"
        }
      ]
    },
    {
      "cell_type": "code",
      "metadata": {
        "id": "aT_EoanXb1C2",
        "colab_type": "code",
        "colab": {}
      },
      "source": [
        "!unzip /content/drive/'My Drive'/the-simpsons-characters-dataset.zip  -d Simpsons"
      ],
      "execution_count": null,
      "outputs": []
    },
    {
      "cell_type": "code",
      "metadata": {
        "id": "wYbGZqzJ0tXk",
        "colab_type": "code",
        "colab": {
          "base_uri": "https://localhost:8080/",
          "height": 34
        },
        "outputId": "080ae39e-4110-42da-f9cf-d3df2ce5be12"
      },
      "source": [
        "from google.colab import drive\n",
        "drive.mount('/content/drive')"
      ],
      "execution_count": 1,
      "outputs": [
        {
          "output_type": "stream",
          "text": [
            "Mounted at /content/drive\n"
          ],
          "name": "stdout"
        }
      ]
    },
    {
      "cell_type": "code",
      "metadata": {
        "id": "N7rYrfC9d1wr",
        "colab_type": "code",
        "colab": {
          "base_uri": "https://localhost:8080/",
          "height": 119
        },
        "outputId": "77b22948-2bd7-47ec-fee1-3962af000668"
      },
      "source": [
        "!git clone https://github.com/duckrabbits/ObjectDetection.git"
      ],
      "execution_count": null,
      "outputs": [
        {
          "output_type": "stream",
          "text": [
            "Cloning into 'ObjectDetection'...\n",
            "remote: Enumerating objects: 18, done.\u001b[K\n",
            "remote: Counting objects: 100% (18/18), done.\u001b[K\n",
            "remote: Compressing objects: 100% (17/17), done.\u001b[K\n",
            "remote: Total 46 (delta 3), reused 6 (delta 1), pack-reused 28\u001b[K\n",
            "Unpacking objects: 100% (46/46), done.\n"
          ],
          "name": "stdout"
        }
      ]
    },
    {
      "cell_type": "code",
      "metadata": {
        "id": "URsloMb5fjeN",
        "colab_type": "code",
        "colab": {}
      },
      "source": [
        "# https://github.com/duckrabbits/ObjectDetection/tree/master\n",
        "# この後、上述のgithubのreadmeに沿って、simpsons_datasetフォルダをプロジェクトフォルダ配下に格納しましょう。\n",
        "# testデータなども同様に準備してみよう。"
      ],
      "execution_count": null,
      "outputs": []
    },
    {
      "cell_type": "code",
      "metadata": {
        "id": "Ro3s37En2cqD",
        "colab_type": "code",
        "colab": {
          "base_uri": "https://localhost:8080/",
          "height": 34
        },
        "outputId": "4c500af5-5916-4a5a-fae9-1c68ef137909"
      },
      "source": [
        "mv Simpsons/simpsons_dataset ObjectDetection/"
      ],
      "execution_count": null,
      "outputs": [
        {
          "output_type": "stream",
          "text": [
            "mv: cannot stat 'Simpsons/simpsons_dataset': No such file or directory\n"
          ],
          "name": "stdout"
        }
      ]
    },
    {
      "cell_type": "code",
      "metadata": {
        "id": "02W_iUAFV7D_",
        "colab_type": "code",
        "colab": {
          "base_uri": "https://localhost:8080/",
          "height": 34
        },
        "outputId": "08eee25e-5f69-4cbc-a7e7-8aa76ecfb6b9"
      },
      "source": [
        "cd My Drive"
      ],
      "execution_count": null,
      "outputs": [
        {
          "output_type": "stream",
          "text": [
            "/content/drive/My Drive\n"
          ],
          "name": "stdout"
        }
      ]
    },
    {
      "cell_type": "code",
      "metadata": {
        "id": "zdbIZHs5UamY",
        "colab_type": "code",
        "colab": {
          "base_uri": "https://localhost:8080/",
          "height": 51
        },
        "outputId": "a85ca346-9b16-4da4-f6b2-e6a81dcc722e"
      },
      "source": [
        "cd ObjectDetection/"
      ],
      "execution_count": null,
      "outputs": [
        {
          "output_type": "stream",
          "text": [
            "[Errno 2] No such file or directory: 'ObjectDetection/'\n",
            "/content\n"
          ],
          "name": "stdout"
        }
      ]
    },
    {
      "cell_type": "markdown",
      "metadata": {
        "id": "A6WtjpwBvkDB",
        "colab_type": "text"
      },
      "source": [
        "## 【問題1】学習と推定\n",
        "READMEを参考に上記実装を動かしてください。"
      ]
    },
    {
      "cell_type": "code",
      "metadata": {
        "id": "Y1ljrgpR7thV",
        "colab_type": "code",
        "colab": {
          "base_uri": "https://localhost:8080/",
          "height": 1000
        },
        "outputId": "0cc70055-d8ab-43f7-b60f-50f845ed557d"
      },
      "source": [
        "!python train.py -p annotation.txt"
      ],
      "execution_count": null,
      "outputs": [
        {
          "output_type": "stream",
          "text": [
            "Using TensorFlow backend.\n",
            "/usr/local/lib/python3.6/dist-packages/tensorflow/python/framework/dtypes.py:493: FutureWarning: Passing (type, 1) or '1type' as a synonym of type is deprecated; in a future version of numpy, it will be understood as (type, (1,)) / '(1,)type'.\n",
            "  _np_qint8 = np.dtype([(\"qint8\", np.int8, 1)])\n",
            "/usr/local/lib/python3.6/dist-packages/tensorflow/python/framework/dtypes.py:494: FutureWarning: Passing (type, 1) or '1type' as a synonym of type is deprecated; in a future version of numpy, it will be understood as (type, (1,)) / '(1,)type'.\n",
            "  _np_quint8 = np.dtype([(\"quint8\", np.uint8, 1)])\n",
            "/usr/local/lib/python3.6/dist-packages/tensorflow/python/framework/dtypes.py:495: FutureWarning: Passing (type, 1) or '1type' as a synonym of type is deprecated; in a future version of numpy, it will be understood as (type, (1,)) / '(1,)type'.\n",
            "  _np_qint16 = np.dtype([(\"qint16\", np.int16, 1)])\n",
            "/usr/local/lib/python3.6/dist-packages/tensorflow/python/framework/dtypes.py:496: FutureWarning: Passing (type, 1) or '1type' as a synonym of type is deprecated; in a future version of numpy, it will be understood as (type, (1,)) / '(1,)type'.\n",
            "  _np_quint16 = np.dtype([(\"quint16\", np.uint16, 1)])\n",
            "/usr/local/lib/python3.6/dist-packages/tensorflow/python/framework/dtypes.py:497: FutureWarning: Passing (type, 1) or '1type' as a synonym of type is deprecated; in a future version of numpy, it will be understood as (type, (1,)) / '(1,)type'.\n",
            "  _np_qint32 = np.dtype([(\"qint32\", np.int32, 1)])\n",
            "/usr/local/lib/python3.6/dist-packages/tensorflow/python/framework/dtypes.py:502: FutureWarning: Passing (type, 1) or '1type' as a synonym of type is deprecated; in a future version of numpy, it will be understood as (type, (1,)) / '(1,)type'.\n",
            "  np_resource = np.dtype([(\"resource\", np.ubyte, 1)])\n",
            "Parsing annotation files\n",
            "Training images per class (19 classes) :\n",
            "{'abraham_grampa_simpson': 687,\n",
            " 'apu_nahasapeemapetilon': 206,\n",
            " 'bart_simpson': 650,\n",
            " 'bg': 0,\n",
            " 'charles_montgomery_burns': 650,\n",
            " 'chief_wiggum': 209,\n",
            " 'comic_book_guy': 208,\n",
            " 'edna_krabappel': 212,\n",
            " 'homer_simpson': 718,\n",
            " 'kent_brockman': 213,\n",
            " 'krusty_the_clown': 429,\n",
            " 'lisa_simpson': 756,\n",
            " 'marge_simpson': 629,\n",
            " 'milhouse_van_houten': 210,\n",
            " 'moe_szyslak': 403,\n",
            " 'ned_flanders': 675,\n",
            " 'nelson_muntz': 219,\n",
            " 'principal_skinner': 614,\n",
            " 'sideshow_bob': 201}\n",
            "-------------------------------\n",
            "path to config file : ./save/train_20200924-024453_config.pickle\n",
            "-------------------------------\n",
            "__________________________________________________________________________________________________\n",
            "Layer (type)                    Output Shape         Param #     Connected to                     \n",
            "==================================================================================================\n",
            "input_1 (InputLayer)            (None, None, None, 3 0                                            \n",
            "__________________________________________________________________________________________________\n",
            "zero_padding2d_1 (ZeroPadding2D (None, None, None, 3 0           input_1[0][0]                    \n",
            "__________________________________________________________________________________________________\n",
            "conv1 (Conv2D)                  (None, None, None, 6 9472        zero_padding2d_1[0][0]           \n",
            "__________________________________________________________________________________________________\n",
            "bn_conv1 (FixedBatchNormalizati (None, None, None, 6 256         conv1[0][0]                      \n",
            "__________________________________________________________________________________________________\n",
            "activation_1 (Activation)       (None, None, None, 6 0           bn_conv1[0][0]                   \n",
            "__________________________________________________________________________________________________\n",
            "max_pooling2d_1 (MaxPooling2D)  (None, None, None, 6 0           activation_1[0][0]               \n",
            "__________________________________________________________________________________________________\n",
            "res2a_branch2a (Conv2D)         (None, None, None, 6 4160        max_pooling2d_1[0][0]            \n",
            "__________________________________________________________________________________________________\n",
            "bn2a_branch2a (FixedBatchNormal (None, None, None, 6 256         res2a_branch2a[0][0]             \n",
            "__________________________________________________________________________________________________\n",
            "activation_2 (Activation)       (None, None, None, 6 0           bn2a_branch2a[0][0]              \n",
            "__________________________________________________________________________________________________\n",
            "res2a_branch2b (Conv2D)         (None, None, None, 6 36928       activation_2[0][0]               \n",
            "__________________________________________________________________________________________________\n",
            "bn2a_branch2b (FixedBatchNormal (None, None, None, 6 256         res2a_branch2b[0][0]             \n",
            "__________________________________________________________________________________________________\n",
            "activation_3 (Activation)       (None, None, None, 6 0           bn2a_branch2b[0][0]              \n",
            "__________________________________________________________________________________________________\n",
            "res2a_branch2c (Conv2D)         (None, None, None, 2 16640       activation_3[0][0]               \n",
            "__________________________________________________________________________________________________\n",
            "res2a_branch1 (Conv2D)          (None, None, None, 2 16640       max_pooling2d_1[0][0]            \n",
            "__________________________________________________________________________________________________\n",
            "bn2a_branch2c (FixedBatchNormal (None, None, None, 2 1024        res2a_branch2c[0][0]             \n",
            "__________________________________________________________________________________________________\n",
            "bn2a_branch1 (FixedBatchNormali (None, None, None, 2 1024        res2a_branch1[0][0]              \n",
            "__________________________________________________________________________________________________\n",
            "add_1 (Add)                     (None, None, None, 2 0           bn2a_branch2c[0][0]              \n",
            "                                                                 bn2a_branch1[0][0]               \n",
            "__________________________________________________________________________________________________\n",
            "activation_4 (Activation)       (None, None, None, 2 0           add_1[0][0]                      \n",
            "__________________________________________________________________________________________________\n",
            "res2b_branch2a (Conv2D)         (None, None, None, 6 16448       activation_4[0][0]               \n",
            "__________________________________________________________________________________________________\n",
            "bn2b_branch2a (FixedBatchNormal (None, None, None, 6 256         res2b_branch2a[0][0]             \n",
            "__________________________________________________________________________________________________\n",
            "activation_5 (Activation)       (None, None, None, 6 0           bn2b_branch2a[0][0]              \n",
            "__________________________________________________________________________________________________\n",
            "res2b_branch2b (Conv2D)         (None, None, None, 6 36928       activation_5[0][0]               \n",
            "__________________________________________________________________________________________________\n",
            "bn2b_branch2b (FixedBatchNormal (None, None, None, 6 256         res2b_branch2b[0][0]             \n",
            "__________________________________________________________________________________________________\n",
            "activation_6 (Activation)       (None, None, None, 6 0           bn2b_branch2b[0][0]              \n",
            "__________________________________________________________________________________________________\n",
            "res2b_branch2c (Conv2D)         (None, None, None, 2 16640       activation_6[0][0]               \n",
            "__________________________________________________________________________________________________\n",
            "bn2b_branch2c (FixedBatchNormal (None, None, None, 2 1024        res2b_branch2c[0][0]             \n",
            "__________________________________________________________________________________________________\n",
            "add_2 (Add)                     (None, None, None, 2 0           bn2b_branch2c[0][0]              \n",
            "                                                                 activation_4[0][0]               \n",
            "__________________________________________________________________________________________________\n",
            "activation_7 (Activation)       (None, None, None, 2 0           add_2[0][0]                      \n",
            "__________________________________________________________________________________________________\n",
            "res2c_branch2a (Conv2D)         (None, None, None, 6 16448       activation_7[0][0]               \n",
            "__________________________________________________________________________________________________\n",
            "bn2c_branch2a (FixedBatchNormal (None, None, None, 6 256         res2c_branch2a[0][0]             \n",
            "__________________________________________________________________________________________________\n",
            "activation_8 (Activation)       (None, None, None, 6 0           bn2c_branch2a[0][0]              \n",
            "__________________________________________________________________________________________________\n",
            "res2c_branch2b (Conv2D)         (None, None, None, 6 36928       activation_8[0][0]               \n",
            "__________________________________________________________________________________________________\n",
            "bn2c_branch2b (FixedBatchNormal (None, None, None, 6 256         res2c_branch2b[0][0]             \n",
            "__________________________________________________________________________________________________\n",
            "activation_9 (Activation)       (None, None, None, 6 0           bn2c_branch2b[0][0]              \n",
            "__________________________________________________________________________________________________\n",
            "res2c_branch2c (Conv2D)         (None, None, None, 2 16640       activation_9[0][0]               \n",
            "__________________________________________________________________________________________________\n",
            "bn2c_branch2c (FixedBatchNormal (None, None, None, 2 1024        res2c_branch2c[0][0]             \n",
            "__________________________________________________________________________________________________\n",
            "add_3 (Add)                     (None, None, None, 2 0           bn2c_branch2c[0][0]              \n",
            "                                                                 activation_7[0][0]               \n",
            "__________________________________________________________________________________________________\n",
            "activation_10 (Activation)      (None, None, None, 2 0           add_3[0][0]                      \n",
            "__________________________________________________________________________________________________\n",
            "res3a_branch2a (Conv2D)         (None, None, None, 1 32896       activation_10[0][0]              \n",
            "__________________________________________________________________________________________________\n",
            "bn3a_branch2a (FixedBatchNormal (None, None, None, 1 512         res3a_branch2a[0][0]             \n",
            "__________________________________________________________________________________________________\n",
            "activation_11 (Activation)      (None, None, None, 1 0           bn3a_branch2a[0][0]              \n",
            "__________________________________________________________________________________________________\n",
            "res3a_branch2b (Conv2D)         (None, None, None, 1 147584      activation_11[0][0]              \n",
            "__________________________________________________________________________________________________\n",
            "bn3a_branch2b (FixedBatchNormal (None, None, None, 1 512         res3a_branch2b[0][0]             \n",
            "__________________________________________________________________________________________________\n",
            "activation_12 (Activation)      (None, None, None, 1 0           bn3a_branch2b[0][0]              \n",
            "__________________________________________________________________________________________________\n",
            "res3a_branch2c (Conv2D)         (None, None, None, 5 66048       activation_12[0][0]              \n",
            "__________________________________________________________________________________________________\n",
            "res3a_branch1 (Conv2D)          (None, None, None, 5 131584      activation_10[0][0]              \n",
            "__________________________________________________________________________________________________\n",
            "bn3a_branch2c (FixedBatchNormal (None, None, None, 5 2048        res3a_branch2c[0][0]             \n",
            "__________________________________________________________________________________________________\n",
            "bn3a_branch1 (FixedBatchNormali (None, None, None, 5 2048        res3a_branch1[0][0]              \n",
            "__________________________________________________________________________________________________\n",
            "add_4 (Add)                     (None, None, None, 5 0           bn3a_branch2c[0][0]              \n",
            "                                                                 bn3a_branch1[0][0]               \n",
            "__________________________________________________________________________________________________\n",
            "activation_13 (Activation)      (None, None, None, 5 0           add_4[0][0]                      \n",
            "__________________________________________________________________________________________________\n",
            "res3b_branch2a (Conv2D)         (None, None, None, 1 65664       activation_13[0][0]              \n",
            "__________________________________________________________________________________________________\n",
            "bn3b_branch2a (FixedBatchNormal (None, None, None, 1 512         res3b_branch2a[0][0]             \n",
            "__________________________________________________________________________________________________\n",
            "activation_14 (Activation)      (None, None, None, 1 0           bn3b_branch2a[0][0]              \n",
            "__________________________________________________________________________________________________\n",
            "res3b_branch2b (Conv2D)         (None, None, None, 1 147584      activation_14[0][0]              \n",
            "__________________________________________________________________________________________________\n",
            "bn3b_branch2b (FixedBatchNormal (None, None, None, 1 512         res3b_branch2b[0][0]             \n",
            "__________________________________________________________________________________________________\n",
            "activation_15 (Activation)      (None, None, None, 1 0           bn3b_branch2b[0][0]              \n",
            "__________________________________________________________________________________________________\n",
            "res3b_branch2c (Conv2D)         (None, None, None, 5 66048       activation_15[0][0]              \n",
            "__________________________________________________________________________________________________\n",
            "bn3b_branch2c (FixedBatchNormal (None, None, None, 5 2048        res3b_branch2c[0][0]             \n",
            "__________________________________________________________________________________________________\n",
            "add_5 (Add)                     (None, None, None, 5 0           bn3b_branch2c[0][0]              \n",
            "                                                                 activation_13[0][0]              \n",
            "__________________________________________________________________________________________________\n",
            "activation_16 (Activation)      (None, None, None, 5 0           add_5[0][0]                      \n",
            "__________________________________________________________________________________________________\n",
            "res3c_branch2a (Conv2D)         (None, None, None, 1 65664       activation_16[0][0]              \n",
            "__________________________________________________________________________________________________\n",
            "bn3c_branch2a (FixedBatchNormal (None, None, None, 1 512         res3c_branch2a[0][0]             \n",
            "__________________________________________________________________________________________________\n",
            "activation_17 (Activation)      (None, None, None, 1 0           bn3c_branch2a[0][0]              \n",
            "__________________________________________________________________________________________________\n",
            "res3c_branch2b (Conv2D)         (None, None, None, 1 147584      activation_17[0][0]              \n",
            "__________________________________________________________________________________________________\n",
            "bn3c_branch2b (FixedBatchNormal (None, None, None, 1 512         res3c_branch2b[0][0]             \n",
            "__________________________________________________________________________________________________\n",
            "activation_18 (Activation)      (None, None, None, 1 0           bn3c_branch2b[0][0]              \n",
            "__________________________________________________________________________________________________\n",
            "res3c_branch2c (Conv2D)         (None, None, None, 5 66048       activation_18[0][0]              \n",
            "__________________________________________________________________________________________________\n",
            "bn3c_branch2c (FixedBatchNormal (None, None, None, 5 2048        res3c_branch2c[0][0]             \n",
            "__________________________________________________________________________________________________\n",
            "add_6 (Add)                     (None, None, None, 5 0           bn3c_branch2c[0][0]              \n",
            "                                                                 activation_16[0][0]              \n",
            "__________________________________________________________________________________________________\n",
            "activation_19 (Activation)      (None, None, None, 5 0           add_6[0][0]                      \n",
            "__________________________________________________________________________________________________\n",
            "res3d_branch2a (Conv2D)         (None, None, None, 1 65664       activation_19[0][0]              \n",
            "__________________________________________________________________________________________________\n",
            "bn3d_branch2a (FixedBatchNormal (None, None, None, 1 512         res3d_branch2a[0][0]             \n",
            "__________________________________________________________________________________________________\n",
            "activation_20 (Activation)      (None, None, None, 1 0           bn3d_branch2a[0][0]              \n",
            "__________________________________________________________________________________________________\n",
            "res3d_branch2b (Conv2D)         (None, None, None, 1 147584      activation_20[0][0]              \n",
            "__________________________________________________________________________________________________\n",
            "bn3d_branch2b (FixedBatchNormal (None, None, None, 1 512         res3d_branch2b[0][0]             \n",
            "__________________________________________________________________________________________________\n",
            "activation_21 (Activation)      (None, None, None, 1 0           bn3d_branch2b[0][0]              \n",
            "__________________________________________________________________________________________________\n",
            "res3d_branch2c (Conv2D)         (None, None, None, 5 66048       activation_21[0][0]              \n",
            "__________________________________________________________________________________________________\n",
            "bn3d_branch2c (FixedBatchNormal (None, None, None, 5 2048        res3d_branch2c[0][0]             \n",
            "__________________________________________________________________________________________________\n",
            "add_7 (Add)                     (None, None, None, 5 0           bn3d_branch2c[0][0]              \n",
            "                                                                 activation_19[0][0]              \n",
            "__________________________________________________________________________________________________\n",
            "activation_22 (Activation)      (None, None, None, 5 0           add_7[0][0]                      \n",
            "__________________________________________________________________________________________________\n",
            "res4a_branch2a (Conv2D)         (None, None, None, 2 131328      activation_22[0][0]              \n",
            "__________________________________________________________________________________________________\n",
            "bn4a_branch2a (FixedBatchNormal (None, None, None, 2 1024        res4a_branch2a[0][0]             \n",
            "__________________________________________________________________________________________________\n",
            "activation_23 (Activation)      (None, None, None, 2 0           bn4a_branch2a[0][0]              \n",
            "__________________________________________________________________________________________________\n",
            "res4a_branch2b (Conv2D)         (None, None, None, 2 590080      activation_23[0][0]              \n",
            "__________________________________________________________________________________________________\n",
            "bn4a_branch2b (FixedBatchNormal (None, None, None, 2 1024        res4a_branch2b[0][0]             \n",
            "__________________________________________________________________________________________________\n",
            "activation_24 (Activation)      (None, None, None, 2 0           bn4a_branch2b[0][0]              \n",
            "__________________________________________________________________________________________________\n",
            "res4a_branch2c (Conv2D)         (None, None, None, 1 263168      activation_24[0][0]              \n",
            "__________________________________________________________________________________________________\n",
            "res4a_branch1 (Conv2D)          (None, None, None, 1 525312      activation_22[0][0]              \n",
            "__________________________________________________________________________________________________\n",
            "bn4a_branch2c (FixedBatchNormal (None, None, None, 1 4096        res4a_branch2c[0][0]             \n",
            "__________________________________________________________________________________________________\n",
            "bn4a_branch1 (FixedBatchNormali (None, None, None, 1 4096        res4a_branch1[0][0]              \n",
            "__________________________________________________________________________________________________\n",
            "add_8 (Add)                     (None, None, None, 1 0           bn4a_branch2c[0][0]              \n",
            "                                                                 bn4a_branch1[0][0]               \n",
            "__________________________________________________________________________________________________\n",
            "activation_25 (Activation)      (None, None, None, 1 0           add_8[0][0]                      \n",
            "__________________________________________________________________________________________________\n",
            "res4b_branch2a (Conv2D)         (None, None, None, 2 262400      activation_25[0][0]              \n",
            "__________________________________________________________________________________________________\n",
            "bn4b_branch2a (FixedBatchNormal (None, None, None, 2 1024        res4b_branch2a[0][0]             \n",
            "__________________________________________________________________________________________________\n",
            "activation_26 (Activation)      (None, None, None, 2 0           bn4b_branch2a[0][0]              \n",
            "__________________________________________________________________________________________________\n",
            "res4b_branch2b (Conv2D)         (None, None, None, 2 590080      activation_26[0][0]              \n",
            "__________________________________________________________________________________________________\n",
            "bn4b_branch2b (FixedBatchNormal (None, None, None, 2 1024        res4b_branch2b[0][0]             \n",
            "__________________________________________________________________________________________________\n",
            "activation_27 (Activation)      (None, None, None, 2 0           bn4b_branch2b[0][0]              \n",
            "__________________________________________________________________________________________________\n",
            "res4b_branch2c (Conv2D)         (None, None, None, 1 263168      activation_27[0][0]              \n",
            "__________________________________________________________________________________________________\n",
            "bn4b_branch2c (FixedBatchNormal (None, None, None, 1 4096        res4b_branch2c[0][0]             \n",
            "__________________________________________________________________________________________________\n",
            "add_9 (Add)                     (None, None, None, 1 0           bn4b_branch2c[0][0]              \n",
            "                                                                 activation_25[0][0]              \n",
            "__________________________________________________________________________________________________\n",
            "activation_28 (Activation)      (None, None, None, 1 0           add_9[0][0]                      \n",
            "__________________________________________________________________________________________________\n",
            "res4c_branch2a (Conv2D)         (None, None, None, 2 262400      activation_28[0][0]              \n",
            "__________________________________________________________________________________________________\n",
            "bn4c_branch2a (FixedBatchNormal (None, None, None, 2 1024        res4c_branch2a[0][0]             \n",
            "__________________________________________________________________________________________________\n",
            "activation_29 (Activation)      (None, None, None, 2 0           bn4c_branch2a[0][0]              \n",
            "__________________________________________________________________________________________________\n",
            "res4c_branch2b (Conv2D)         (None, None, None, 2 590080      activation_29[0][0]              \n",
            "__________________________________________________________________________________________________\n",
            "bn4c_branch2b (FixedBatchNormal (None, None, None, 2 1024        res4c_branch2b[0][0]             \n",
            "__________________________________________________________________________________________________\n",
            "activation_30 (Activation)      (None, None, None, 2 0           bn4c_branch2b[0][0]              \n",
            "__________________________________________________________________________________________________\n",
            "res4c_branch2c (Conv2D)         (None, None, None, 1 263168      activation_30[0][0]              \n",
            "__________________________________________________________________________________________________\n",
            "bn4c_branch2c (FixedBatchNormal (None, None, None, 1 4096        res4c_branch2c[0][0]             \n",
            "__________________________________________________________________________________________________\n",
            "add_10 (Add)                    (None, None, None, 1 0           bn4c_branch2c[0][0]              \n",
            "                                                                 activation_28[0][0]              \n",
            "__________________________________________________________________________________________________\n",
            "activation_31 (Activation)      (None, None, None, 1 0           add_10[0][0]                     \n",
            "__________________________________________________________________________________________________\n",
            "res4d_branch2a (Conv2D)         (None, None, None, 2 262400      activation_31[0][0]              \n",
            "__________________________________________________________________________________________________\n",
            "bn4d_branch2a (FixedBatchNormal (None, None, None, 2 1024        res4d_branch2a[0][0]             \n",
            "__________________________________________________________________________________________________\n",
            "activation_32 (Activation)      (None, None, None, 2 0           bn4d_branch2a[0][0]              \n",
            "__________________________________________________________________________________________________\n",
            "res4d_branch2b (Conv2D)         (None, None, None, 2 590080      activation_32[0][0]              \n",
            "__________________________________________________________________________________________________\n",
            "bn4d_branch2b (FixedBatchNormal (None, None, None, 2 1024        res4d_branch2b[0][0]             \n",
            "__________________________________________________________________________________________________\n",
            "activation_33 (Activation)      (None, None, None, 2 0           bn4d_branch2b[0][0]              \n",
            "__________________________________________________________________________________________________\n",
            "res4d_branch2c (Conv2D)         (None, None, None, 1 263168      activation_33[0][0]              \n",
            "__________________________________________________________________________________________________\n",
            "bn4d_branch2c (FixedBatchNormal (None, None, None, 1 4096        res4d_branch2c[0][0]             \n",
            "__________________________________________________________________________________________________\n",
            "add_11 (Add)                    (None, None, None, 1 0           bn4d_branch2c[0][0]              \n",
            "                                                                 activation_31[0][0]              \n",
            "__________________________________________________________________________________________________\n",
            "activation_34 (Activation)      (None, None, None, 1 0           add_11[0][0]                     \n",
            "__________________________________________________________________________________________________\n",
            "res4e_branch2a (Conv2D)         (None, None, None, 2 262400      activation_34[0][0]              \n",
            "__________________________________________________________________________________________________\n",
            "bn4e_branch2a (FixedBatchNormal (None, None, None, 2 1024        res4e_branch2a[0][0]             \n",
            "__________________________________________________________________________________________________\n",
            "activation_35 (Activation)      (None, None, None, 2 0           bn4e_branch2a[0][0]              \n",
            "__________________________________________________________________________________________________\n",
            "res4e_branch2b (Conv2D)         (None, None, None, 2 590080      activation_35[0][0]              \n",
            "__________________________________________________________________________________________________\n",
            "bn4e_branch2b (FixedBatchNormal (None, None, None, 2 1024        res4e_branch2b[0][0]             \n",
            "__________________________________________________________________________________________________\n",
            "activation_36 (Activation)      (None, None, None, 2 0           bn4e_branch2b[0][0]              \n",
            "__________________________________________________________________________________________________\n",
            "res4e_branch2c (Conv2D)         (None, None, None, 1 263168      activation_36[0][0]              \n",
            "__________________________________________________________________________________________________\n",
            "bn4e_branch2c (FixedBatchNormal (None, None, None, 1 4096        res4e_branch2c[0][0]             \n",
            "__________________________________________________________________________________________________\n",
            "add_12 (Add)                    (None, None, None, 1 0           bn4e_branch2c[0][0]              \n",
            "                                                                 activation_34[0][0]              \n",
            "__________________________________________________________________________________________________\n",
            "activation_37 (Activation)      (None, None, None, 1 0           add_12[0][0]                     \n",
            "__________________________________________________________________________________________________\n",
            "res4f_branch2a (Conv2D)         (None, None, None, 2 262400      activation_37[0][0]              \n",
            "__________________________________________________________________________________________________\n",
            "bn4f_branch2a (FixedBatchNormal (None, None, None, 2 1024        res4f_branch2a[0][0]             \n",
            "__________________________________________________________________________________________________\n",
            "activation_38 (Activation)      (None, None, None, 2 0           bn4f_branch2a[0][0]              \n",
            "__________________________________________________________________________________________________\n",
            "res4f_branch2b (Conv2D)         (None, None, None, 2 590080      activation_38[0][0]              \n",
            "__________________________________________________________________________________________________\n",
            "bn4f_branch2b (FixedBatchNormal (None, None, None, 2 1024        res4f_branch2b[0][0]             \n",
            "__________________________________________________________________________________________________\n",
            "activation_39 (Activation)      (None, None, None, 2 0           bn4f_branch2b[0][0]              \n",
            "__________________________________________________________________________________________________\n",
            "res4f_branch2c (Conv2D)         (None, None, None, 1 263168      activation_39[0][0]              \n",
            "__________________________________________________________________________________________________\n",
            "bn4f_branch2c (FixedBatchNormal (None, None, None, 1 4096        res4f_branch2c[0][0]             \n",
            "__________________________________________________________________________________________________\n",
            "add_13 (Add)                    (None, None, None, 1 0           bn4f_branch2c[0][0]              \n",
            "                                                                 activation_37[0][0]              \n",
            "__________________________________________________________________________________________________\n",
            "activation_40 (Activation)      (None, None, None, 1 0           add_13[0][0]                     \n",
            "__________________________________________________________________________________________________\n",
            "input_2 (InputLayer)            (None, 4, 4)         0                                            \n",
            "__________________________________________________________________________________________________\n",
            "roi_pooling_conv_1 (RoiPoolingC (None, 4, 14, 14, 10 0           activation_40[0][0]              \n",
            "                                                                 input_2[0][0]                    \n",
            "__________________________________________________________________________________________________\n",
            "res5a_branch2a (TimeDistributed (None, 4, 7, 7, 512) 524800      roi_pooling_conv_1[0][0]         \n",
            "__________________________________________________________________________________________________\n",
            "bn5a_branch2a (TimeDistributed) (None, 4, 7, 7, 512) 2048        res5a_branch2a[0][0]             \n",
            "__________________________________________________________________________________________________\n",
            "activation_41 (Activation)      (None, 4, 7, 7, 512) 0           bn5a_branch2a[0][0]              \n",
            "__________________________________________________________________________________________________\n",
            "res5a_branch2b (TimeDistributed (None, 4, 7, 7, 512) 2359808     activation_41[0][0]              \n",
            "__________________________________________________________________________________________________\n",
            "bn5a_branch2b (TimeDistributed) (None, 4, 7, 7, 512) 2048        res5a_branch2b[0][0]             \n",
            "__________________________________________________________________________________________________\n",
            "activation_42 (Activation)      (None, 4, 7, 7, 512) 0           bn5a_branch2b[0][0]              \n",
            "__________________________________________________________________________________________________\n",
            "res5a_branch2c (TimeDistributed (None, 4, 7, 7, 2048 1050624     activation_42[0][0]              \n",
            "__________________________________________________________________________________________________\n",
            "res5a_branch1 (TimeDistributed) (None, 4, 7, 7, 2048 2099200     roi_pooling_conv_1[0][0]         \n",
            "__________________________________________________________________________________________________\n",
            "bn5a_branch2c (TimeDistributed) (None, 4, 7, 7, 2048 8192        res5a_branch2c[0][0]             \n",
            "__________________________________________________________________________________________________\n",
            "bn5a_branch1 (TimeDistributed)  (None, 4, 7, 7, 2048 8192        res5a_branch1[0][0]              \n",
            "__________________________________________________________________________________________________\n",
            "add_14 (Add)                    (None, 4, 7, 7, 2048 0           bn5a_branch2c[0][0]              \n",
            "                                                                 bn5a_branch1[0][0]               \n",
            "__________________________________________________________________________________________________\n",
            "activation_43 (Activation)      (None, 4, 7, 7, 2048 0           add_14[0][0]                     \n",
            "__________________________________________________________________________________________________\n",
            "res5b_branch2a (TimeDistributed (None, 4, 7, 7, 512) 1049088     activation_43[0][0]              \n",
            "__________________________________________________________________________________________________\n",
            "bn5b_branch2a (TimeDistributed) (None, 4, 7, 7, 512) 2048        res5b_branch2a[0][0]             \n",
            "__________________________________________________________________________________________________\n",
            "activation_44 (Activation)      (None, 4, 7, 7, 512) 0           bn5b_branch2a[0][0]              \n",
            "__________________________________________________________________________________________________\n",
            "res5b_branch2b (TimeDistributed (None, 4, 7, 7, 512) 2359808     activation_44[0][0]              \n",
            "__________________________________________________________________________________________________\n",
            "bn5b_branch2b (TimeDistributed) (None, 4, 7, 7, 512) 2048        res5b_branch2b[0][0]             \n",
            "__________________________________________________________________________________________________\n",
            "activation_45 (Activation)      (None, 4, 7, 7, 512) 0           bn5b_branch2b[0][0]              \n",
            "__________________________________________________________________________________________________\n",
            "res5b_branch2c (TimeDistributed (None, 4, 7, 7, 2048 1050624     activation_45[0][0]              \n",
            "__________________________________________________________________________________________________\n",
            "bn5b_branch2c (TimeDistributed) (None, 4, 7, 7, 2048 8192        res5b_branch2c[0][0]             \n",
            "__________________________________________________________________________________________________\n",
            "add_15 (Add)                    (None, 4, 7, 7, 2048 0           bn5b_branch2c[0][0]              \n",
            "                                                                 activation_43[0][0]              \n",
            "__________________________________________________________________________________________________\n",
            "activation_46 (Activation)      (None, 4, 7, 7, 2048 0           add_15[0][0]                     \n",
            "__________________________________________________________________________________________________\n",
            "res5c_branch2a (TimeDistributed (None, 4, 7, 7, 512) 1049088     activation_46[0][0]              \n",
            "__________________________________________________________________________________________________\n",
            "bn5c_branch2a (TimeDistributed) (None, 4, 7, 7, 512) 2048        res5c_branch2a[0][0]             \n",
            "__________________________________________________________________________________________________\n",
            "activation_47 (Activation)      (None, 4, 7, 7, 512) 0           bn5c_branch2a[0][0]              \n",
            "__________________________________________________________________________________________________\n",
            "res5c_branch2b (TimeDistributed (None, 4, 7, 7, 512) 2359808     activation_47[0][0]              \n",
            "__________________________________________________________________________________________________\n",
            "bn5c_branch2b (TimeDistributed) (None, 4, 7, 7, 512) 2048        res5c_branch2b[0][0]             \n",
            "__________________________________________________________________________________________________\n",
            "activation_48 (Activation)      (None, 4, 7, 7, 512) 0           bn5c_branch2b[0][0]              \n",
            "__________________________________________________________________________________________________\n",
            "res5c_branch2c (TimeDistributed (None, 4, 7, 7, 2048 1050624     activation_48[0][0]              \n",
            "__________________________________________________________________________________________________\n",
            "bn5c_branch2c (TimeDistributed) (None, 4, 7, 7, 2048 8192        res5c_branch2c[0][0]             \n",
            "__________________________________________________________________________________________________\n",
            "add_16 (Add)                    (None, 4, 7, 7, 2048 0           bn5c_branch2c[0][0]              \n",
            "                                                                 activation_46[0][0]              \n",
            "__________________________________________________________________________________________________\n",
            "activation_49 (Activation)      (None, 4, 7, 7, 2048 0           add_16[0][0]                     \n",
            "__________________________________________________________________________________________________\n",
            "avg_pool (TimeDistributed)      (None, 4, 1, 1, 2048 0           activation_49[0][0]              \n",
            "__________________________________________________________________________________________________\n",
            "rpn_conv1 (Conv2D)              (None, None, None, 5 4719104     activation_40[0][0]              \n",
            "__________________________________________________________________________________________________\n",
            "time_distributed_1 (TimeDistrib (None, 4, 2048)      0           avg_pool[0][0]                   \n",
            "__________________________________________________________________________________________________\n",
            "rpn_out_class (Conv2D)          (None, None, None, 1 6156        rpn_conv1[0][0]                  \n",
            "__________________________________________________________________________________________________\n",
            "rpn_out_regress (Conv2D)        (None, None, None, 4 24624       rpn_conv1[0][0]                  \n",
            "__________________________________________________________________________________________________\n",
            "dense_class_19 (TimeDistributed (None, 4, 19)        38931       time_distributed_1[0][0]         \n",
            "__________________________________________________________________________________________________\n",
            "dense_regress_19 (TimeDistribut (None, 4, 72)        147528      time_distributed_1[0][0]         \n",
            "==================================================================================================\n",
            "Total params: 28,524,055\n",
            "Trainable params: 28,417,815\n",
            "Non-trainable params: 106,240\n",
            "__________________________________________________________________________________________________\n",
            "None\n",
            "Epoch 1/10\n",
            "2020-09-24 02:45:33.400912: I tensorflow/core/platform/cpu_feature_guard.cc:137] Your CPU supports instructions that this TensorFlow binary was not compiled to use: SSE4.1 SSE4.2 AVX AVX2 FMA\n",
            "10/10 [==============================] - 93s 9s/step - rpn_cls: 5.7343 - rpn_regr: 0.4323 - detector_cls: 6.5474 - detector_regr: 0.6113\n",
            "Average number of overlapping bounding boxes from RPN = 8.2 for 10 previous iterations\n",
            "Mean number of bounding boxes from RPN overlapping ground truth boxes: 7.909090909090909\n",
            "Classifier accuracy for bounding boxes from RPN: 0.45\n",
            "Loss RPN classifier: 4.991076391426924\n",
            "Loss RPN regression: 0.8287365697324276\n",
            "Loss Detector classifier: 6.776392662525177\n",
            "Loss Detector regression: 0.5090891867876053\n",
            "Elapsed time: 101.50758624076843[s]\n",
            "Total loss decreased from inf to 13.105294810472135, saving weights\n",
            "Epoch 2/10\n",
            " 7/10 [====================>.........] - ETA: 26s - rpn_cls: 3.4266 - rpn_regr: 0.4109 - detector_cls: 8.0590 - detector_regr: 1574.3888Exception: 'NoneType' object is not subscriptable\n",
            " 9/10 [==========================>...] - ETA: 9s - rpn_cls: 3.5188 - rpn_regr: 0.3889 - detector_cls: 8.0590 - detector_regr: 1383.9301 Average number of overlapping bounding boxes from RPN = 10.3 for 10 previous iterations\n",
            "10/10 [==============================] - 92s 9s/step - rpn_cls: 3.5177 - rpn_regr: 0.3772 - detector_cls: 7.9785 - detector_regr: 1306.3390\n",
            "Mean number of bounding boxes from RPN overlapping ground truth boxes: 9.0\n",
            "Classifier accuracy for bounding boxes from RPN: 0.55\n",
            "Loss RPN classifier: 3.507911829390536\n",
            "Loss RPN regression: 0.2722283203154802\n",
            "Loss Detector classifier: 7.253142940998077\n",
            "Loss Detector regression: 608.0188778400421\n",
            "Elapsed time: 106.56339740753174[s]\n",
            "Epoch 3/10\n",
            " 8/10 [=======================>......] - ETA: 17s - rpn_cls: 2.7216 - rpn_regr: 0.2109 - detector_cls: 6.3285 - detector_regr: 1.2416Average number of overlapping bounding boxes from RPN = 6.5 for 10 previous iterations\n",
            "10/10 [==============================] - 85s 8s/step - rpn_cls: 2.8692 - rpn_regr: 0.2071 - detector_cls: 6.3343 - detector_regr: 1.4219\n",
            "Mean number of bounding boxes from RPN overlapping ground truth boxes: 7.090909090909091\n",
            "Classifier accuracy for bounding boxes from RPN: 0.6\n",
            "Loss RPN classifier: 3.6079046266427426\n",
            "Loss RPN regression: 0.19723593890666963\n",
            "Loss Detector classifier: 6.447238183021545\n",
            "Loss Detector regression: 2.0509210020303725\n",
            "Elapsed time: 93.65613842010498[s]\n",
            "Total loss decreased from 13.105294810472135 to 12.303299750601331, saving weights\n",
            "Epoch 4/10\n",
            " 7/10 [====================>.........] - ETA: 26s - rpn_cls: 0.8871 - rpn_regr: 0.1046 - detector_cls: 7.3040 - detector_regr: 2.7634Average number of overlapping bounding boxes from RPN = 10.9 for 10 previous iterations\n",
            "10/10 [==============================] - 85s 9s/step - rpn_cls: 1.0142 - rpn_regr: 0.1067 - detector_cls: 6.9217 - detector_regr: 2.6162\n",
            "Mean number of bounding boxes from RPN overlapping ground truth boxes: 14.545454545454545\n",
            "Classifier accuracy for bounding boxes from RPN: 0.5\n",
            "Loss RPN classifier: 1.2174353915254712\n",
            "Loss RPN regression: 0.11014995574951172\n",
            "Loss Detector classifier: 5.745497465133667\n",
            "Loss Detector regression: 2.1761750131845474\n",
            "Elapsed time: 94.80743622779846[s]\n",
            "Total loss decreased from 12.303299750601331 to 9.249257825593197, saving weights\n",
            "Epoch 5/10\n",
            " 6/10 [=================>............] - ETA: 33s - rpn_cls: 0.1697 - rpn_regr: 0.0676 - detector_cls: 2.9840 - detector_regr: 2.0114    Average number of overlapping bounding boxes from RPN = 20.7 for 10 previous iterations\n",
            "10/10 [==============================] - 85s 8s/step - rpn_cls: 0.8358 - rpn_regr: 0.0820 - detector_cls: 2.8014 - detector_regr: 1.7135\n",
            "Mean number of bounding boxes from RPN overlapping ground truth boxes: 18.545454545454547\n",
            "Classifier accuracy for bounding boxes from RPN: 0.5\n",
            "Loss RPN classifier: 2.2304326086511708\n",
            "Loss RPN regression: 0.1066900247707963\n",
            "Loss Detector classifier: 2.4761114358901977\n",
            "Loss Detector regression: 1.1871981382369996\n",
            "Elapsed time: 94.11015558242798[s]\n",
            "Total loss decreased from 9.249257825593197 to 6.000432207549164, saving weights\n",
            "Epoch 6/10\n",
            " 5/10 [==============>...............] - ETA: 45s - rpn_cls: 0.7849 - rpn_regr: 0.0958 - detector_cls: 2.3469 - detector_regr: 0.6877Average number of overlapping bounding boxes from RPN = 15.7 for 10 previous iterations\n",
            "10/10 [==============================] - 85s 8s/step - rpn_cls: 1.3520 - rpn_regr: 0.1034 - detector_cls: 2.3426 - detector_regr: 0.6844\n",
            "Mean number of bounding boxes from RPN overlapping ground truth boxes: 17.545454545454547\n",
            "Classifier accuracy for bounding boxes from RPN: 0.55\n",
            "Loss RPN classifier: 1.5855077189589593\n",
            "Loss RPN regression: 0.10991873405873775\n",
            "Loss Detector classifier: 2.358892297744751\n",
            "Loss Detector regression: 0.8453945338726043\n",
            "Elapsed time: 94.07752990722656[s]\n",
            "Total loss decreased from 6.000432207549164 to 4.899713284635053, saving weights\n",
            "Epoch 7/10\n",
            " 4/10 [===========>..................] - ETA: 47s - rpn_cls: 3.1676 - rpn_regr: 0.1692 - detector_cls: 1.9922 - detector_regr: 0.4287Average number of overlapping bounding boxes from RPN = 12.8 for 10 previous iterations\n",
            "10/10 [==============================] - 83s 8s/step - rpn_cls: 2.6035 - rpn_regr: 0.1479 - detector_cls: 1.9248 - detector_regr: 0.5062\n",
            "Mean number of bounding boxes from RPN overlapping ground truth boxes: 9.818181818181818\n",
            "Classifier accuracy for bounding boxes from RPN: 0.575\n",
            "Loss RPN classifier: 2.1126591005294815\n",
            "Loss RPN regression: 0.1504333781078458\n",
            "Loss Detector classifier: 1.8877899169921875\n",
            "Loss Detector regression: 0.6463448375463485\n",
            "Elapsed time: 92.71239352226257[s]\n",
            "Total loss decreased from 4.899713284635053 to 4.797227233175864, saving weights\n",
            "Epoch 8/10\n",
            " 3/10 [========>.....................] - ETA: 59s - rpn_cls: 2.9178 - rpn_regr: 0.0580 - detector_cls: 1.8059 - detector_regr: 0.6695 Average number of overlapping bounding boxes from RPN = 11.7 for 10 previous iterations\n",
            "10/10 [==============================] - 82s 8s/step - rpn_cls: 3.1917 - rpn_regr: 0.0845 - detector_cls: 1.7356 - detector_regr: 0.5720\n",
            "Mean number of bounding boxes from RPN overlapping ground truth boxes: 10.272727272727273\n",
            "Classifier accuracy for bounding boxes from RPN: 0.55\n",
            "Loss RPN classifier: 3.73911037735367\n",
            "Loss RPN regression: 0.09744606576859952\n",
            "Loss Detector classifier: 1.7962823450565337\n",
            "Loss Detector regression: 0.4602384455502033\n",
            "Elapsed time: 93.37950563430786[s]\n",
            "Epoch 9/10\n",
            " 2/10 [=====>........................] - ETA: 1:05 - rpn_cls: 2.8211 - rpn_regr: 0.1137 - detector_cls: 2.1273 - detector_regr: 0.4401Average number of overlapping bounding boxes from RPN = 11.1 for 10 previous iterations\n",
            "10/10 [==============================] - 86s 9s/step - rpn_cls: 1.4363 - rpn_regr: 0.1426 - detector_cls: 2.2034 - detector_regr: 0.5474\n",
            "Mean number of bounding boxes from RPN overlapping ground truth boxes: 10.909090909090908\n",
            "Classifier accuracy for bounding boxes from RPN: 0.5\n",
            "Loss RPN classifier: 1.0979211176241392\n",
            "Loss RPN regression: 0.13842657376080753\n",
            "Loss Detector classifier: 2.171017622947693\n",
            "Loss Detector regression: 0.5521610349416732\n",
            "Elapsed time: 93.84343934059143[s]\n",
            "Total loss decreased from 4.797227233175864 to 3.959526349274313, saving weights\n",
            "Epoch 10/10\n",
            " 1/10 [==>...........................] - ETA: 1:18 - rpn_cls: 1.2095e-05 - rpn_regr: 0.0909 - detector_cls: 2.2494 - detector_regr: 0.5580Average number of overlapping bounding boxes from RPN = 9.6 for 10 previous iterations\n",
            "10/10 [==============================] - 87s 9s/step - rpn_cls: 1.2674 - rpn_regr: 0.1248 - detector_cls: 2.2747 - detector_regr: 0.5513\n",
            "Mean number of bounding boxes from RPN overlapping ground truth boxes: 14.272727272727273\n",
            "Classifier accuracy for bounding boxes from RPN: 0.5\n",
            "Loss RPN classifier: 1.2218086641966537\n",
            "Loss RPN regression: 0.11388541553169489\n",
            "Loss Detector classifier: 2.4850385546684266\n",
            "Loss Detector regression: 0.49995883032679556\n",
            "Elapsed time: 95.98648309707642[s]\n",
            "training is done\n",
            "-------------------------------\n",
            "path to config file : ./save/train_20200924-024453_config.pickle\n",
            "-------------------------------\n"
          ],
          "name": "stdout"
        }
      ]
    },
    {
      "cell_type": "code",
      "metadata": {
        "id": "yE9dKNhy_zML",
        "colab_type": "code",
        "colab": {}
      },
      "source": [
        "!mv Simpsons/kaggle_simpson_testset/kaggle_simpson_testset/ ObjectDetection/"
      ],
      "execution_count": null,
      "outputs": []
    },
    {
      "cell_type": "code",
      "metadata": {
        "id": "EKsBahkmLwTo",
        "colab_type": "code",
        "colab": {}
      },
      "source": [
        "!python predict.py -i ./kaggle_simpson_testset/ -c save/train_20200924-024453_config.pickle"
      ],
      "execution_count": null,
      "outputs": []
    },
    {
      "cell_type": "markdown",
      "metadata": {
        "id": "2cyQwySfMMTX",
        "colab_type": "text"
      },
      "source": [
        "## 【問題2】コードリーディング\n",
        "上記実装のコードリーディングを行ってください。\n",
        "\n",
        "\n",
        "まず、Faster R-CNN[1]において重要だと考えた部分を列挙してください。そして、それに対応するコードを見つけてください。\n",
        "\n",
        "1. RPN：領域提案を高速化する手法\n",
        "2. RoIプーリング：計算コストを効率化するため、RPNとRーCNN間で畳み込み層を共有。そのために、RoIプーリング層で様々なサイズの提案領域を固定サイズにして出力している\n",
        "3. IOU：提案領域を決めるためにグランドトゥルースとアンカーの重なりであるIOUを算出している\n",
        "\n",
        "該当箇所は下記train.py中にインラインで記載"
      ]
    },
    {
      "cell_type": "markdown",
      "metadata": {
        "id": "ycdl1-T9CM_h",
        "colab_type": "text"
      },
      "source": [
        "### メインにおけるそれぞれの実装箇所"
      ]
    },
    {
      "cell_type": "markdown",
      "metadata": {
        "id": "tAWgj3DNwITp",
        "colab_type": "text"
      },
      "source": [
        "```python\n",
        "from __future__ import division\n",
        "\n",
        "import os\n",
        "import sys\n",
        "import time\n",
        "import argparse\n",
        "from datetime import datetime\n",
        "\n",
        "import numpy as np\n",
        "\n",
        "import pickle\n",
        "\n",
        "from model import faster_rcnn\n",
        "##1)RPN:faster_rcnn.py内のmodelをimportしている\n",
        "\n",
        "from model import config, data_generators\n",
        "\n",
        "from model.parser import get_data\n",
        "import model.roi_helpers as roi_helpers\n",
        "##2)Poiプーリング：roi_helpers.py内のmodelをimportしている\n",
        "\n",
        "from keras import backend as K\n",
        "from keras.utils import generic_utils\n",
        "\n",
        "sys.setrecursionlimit(10000)\n",
        "\n",
        "parser = argparse.ArgumentParser(formatter_class=argparse.RawTextHelpFormatter, description='Object Detection')\n",
        "parser.add_argument(\"-p\", \"--path\", default=None, help=\"path to annotation file\")\n",
        "parser.add_argument(\"--save_dir\", default=\"./save\", help=\"path to save directory\")\n",
        "parser.add_argument('--n_epochs', default=10, type=int, metavar='N',\n",
        "                    help='number of epochs')\n",
        "parser.add_argument('--n_iters', default=100, type=int, metavar='N',\n",
        "                    help='number of iterations')\n",
        "parser.add_argument('--horizontal_flips', action='store_true',\n",
        "                    help='augument with horizontal flips (Default:False)')\n",
        "parser.add_argument('--vertical_flips', action='store_true',\n",
        "                    help='augument with horizontal flips (Default:False)')\n",
        "parser.add_argument('--rot_90', action='store_true',\n",
        "                    help='augument with 90 degree rotations (Default:False)')\n",
        "\n",
        "def main():\n",
        "    args = parser.parse_args()\n",
        "    time_stamp = \"{0:%Y%m%d-%H%M%S}\".format(datetime.now())\n",
        "    save_name = os.path.join(args.save_dir, \"train_{}\".format(time_stamp))\n",
        "\n",
        "    if not(os.path.isdir(args.save_dir)):\n",
        "        os.makedirs(args.save_dir)\n",
        "    if args.path == None:\n",
        "        raise OSError(\"path to annotation file must be required.\")\n",
        "    C = config.Config()\n",
        "    C.config_filename = save_name + \"_config.pickle\"\n",
        "    C.model_path = save_name + \"_model.hdf5\"\n",
        "    C.use_horizontal_flips = bool(args.horizontal_flips)\n",
        "    C.use_vertical_flips = bool(args.vertical_flips)\n",
        "    C.rot_90 = bool(args.rot_90)\n",
        "    all_imgs, classes_count, class_mapping = get_data(args.path)\n",
        "    C.class_mapping = class_mapping\n",
        "\n",
        "    with open(C.config_filename, 'wb') as config_f:\n",
        "        pickle.dump(C,config_f)\n",
        "        print(\"-------------------------------\")\n",
        "        print('path to config file : {}'.format(C.config_filename))\n",
        "        print(\"-------------------------------\")\n",
        "\n",
        "    train_imgs = [s for s in all_imgs if s['imageset'] == 'trainval']\n",
        "    val_imgs = [s for s in all_imgs if s['imageset'] == 'test']\n",
        "\n",
        "    data_gen_train = data_generators.get_anchor_gt(train_imgs, classes_count, C, K.image_dim_ordering(), mode='train')\n",
        "    data_gen_val = data_generators.get_anchor_gt(val_imgs, classes_count, C, K.image_dim_ordering(), mode='val')\n",
        "\n",
        "    model_rpn, model_classifier, model_all = faster_rcnn.get_model(C, classes_count)\n",
        "\n",
        "    ## 1)RPN:faster_rcnn.pyからmodel_rpnをget_modelしている\n",
        "    \n",
        "    losses = np.zeros((args.n_iters, 5))\n",
        "    rpn_accuracy_rpn_monitor, rpn_accuracy_for_epoch = [], []\n",
        "\n",
        "    best_loss = np.Inf\n",
        "\n",
        "    with open('out.csv', 'w') as f:\n",
        "        f.write('Accuracy,RPN classifier,RPN regression,Detector classifier,Detector regression,Total')\n",
        "        f.write('\\t')\n",
        "\n",
        "    iter_num = 0\n",
        "\n",
        "    t0 = start_time = time.time()\n",
        "    try:\n",
        "        for epoch_num in range(args.n_epochs):\n",
        "            progbar = generic_utils.Progbar(args.n_iters)\n",
        "            print('Epoch {}/{}'.format(epoch_num + 1, args.n_epochs))\n",
        "\n",
        "            while True:\n",
        "                try:\n",
        "                    if len(rpn_accuracy_rpn_monitor) == args.n_iters and C.verbose:\n",
        "                        mean_overlapping_bboxes = float(sum(rpn_accuracy_rpn_monitor))/len(rpn_accuracy_rpn_monitor)\n",
        "                        rpn_accuracy_rpn_monitor = []\n",
        "                        print('Average number of overlapping bounding boxes from RPN = {} for {} previous iterations'.format(mean_overlapping_bboxes, args.n_iters))\n",
        "                        if mean_overlapping_bboxes == 0:\n",
        "                            print('RPN is not producing bounding boxes that overlap the ground truth boxes. Check RPN settings or keep training.')\n",
        "                    X, Y, img_data = next(data_gen_train)\n",
        "                    loss_rpn = model_rpn.train_on_batch(X, Y)\n",
        "                    P_rpn = model_rpn.predict_on_batch(X)\n",
        "                    R = roi_helpers.rpn_to_roi(P_rpn[0], P_rpn[1], C, K.image_dim_ordering(), use_regr=True, overlap_thresh=0.7, max_boxes=300)\n",
        "\n",
        "                    ## 2)RPNモデルの学習、推定を行い、Roiプーリングに送っている \n",
        "                    ## 3)しきい値を0.７と定め、iouを算出している。提案領域ボックスのマックス数を３００と決めている。\n",
        "                    \n",
        "                    # note: calc_iou converts from (x1,y1,x2,y2) to (x,y,w,h) format\n",
        "                    X2, Y1, Y2 = roi_helpers.calc_iou(R, img_data, C, class_mapping)\n",
        "                    \n",
        "\n",
        "\n",
        "                    neg_samples = np.where(Y1[0, :, -1] == 1)\n",
        "                    pos_samples = np.where(Y1[0, :, -1] == 0)\n",
        "                    if len(neg_samples) > 0:\n",
        "                        neg_samples = neg_samples[0]\n",
        "                    else:\n",
        "                        neg_samples = []\n",
        "\n",
        "                    if len(pos_samples) > 0:\n",
        "                        pos_samples = pos_samples[0]\n",
        "                    else:\n",
        "                        pos_samples = []\n",
        "\n",
        "                    rpn_accuracy_rpn_monitor.append(len(pos_samples))\n",
        "                    rpn_accuracy_for_epoch.append((len(pos_samples)))\n",
        "                    if len(pos_samples) < C.num_rois//2:\n",
        "                        selected_pos_samples = pos_samples.tolist()\n",
        "                    else:\n",
        "                        selected_pos_samples = np.random.choice(pos_samples, C.num_rois//2, replace=False).tolist()\n",
        "                    try:\n",
        "                        selected_neg_samples = np.random.choice(neg_samples, C.num_rois - len(selected_pos_samples), replace=False).tolist()\n",
        "                    except:\n",
        "                        selected_neg_samples = np.random.choice(neg_samples, C.num_rois - len(selected_pos_samples), replace=True).tolist()\n",
        "\n",
        "                    sel_samples = selected_pos_samples + selected_neg_samples\n",
        "\n",
        "                    loss_class = model_classifier.train_on_batch([X, X2[:, sel_samples, :]], [Y1[:, sel_samples, :], Y2[:, sel_samples, :]])\n",
        "\n",
        "                    if iter_num == args.n_iters:\n",
        "                        loss_rpn_cls = np.mean(losses[:, 0])\n",
        "                        loss_rpn_regr = np.mean(losses[:, 1])\n",
        "                        loss_class_cls = np.mean(losses[:, 2])\n",
        "                        loss_class_regr = np.mean(losses[:, 3])\n",
        "                        class_acc = np.mean(losses[:, 4])\n",
        "\n",
        "                        mean_overlapping_bboxes = float(sum(rpn_accuracy_for_epoch)) / len(rpn_accuracy_for_epoch)\n",
        "                        rpn_accuracy_for_epoch = []\n",
        "\n",
        "                        if C.verbose:\n",
        "                            print('Mean number of bounding boxes from RPN overlapping ground truth boxes: {}'.format(mean_overlapping_bboxes))\n",
        "                            print('Classifier accuracy for bounding boxes from RPN: {}'.format(class_acc))\n",
        "                            print('Loss RPN classifier: {}'.format(loss_rpn_cls))\n",
        "                            print('Loss RPN regression: {}'.format(loss_rpn_regr))\n",
        "                            print('Loss Detector classifier: {}'.format(loss_class_cls))\n",
        "                            print('Loss Detector regression: {}'.format(loss_class_regr))\n",
        "                            print('Elapsed time: {}[s]'.format(time.time() - start_time))\n",
        "\n",
        "                        target_text_file = open('out.csv', 'a')\n",
        "                        target_text_file.write('{},{},{},{},{},{}'.format(class_acc, loss_rpn_cls,\n",
        "                                                loss_rpn_regr, loss_class_cls, loss_class_regr,\n",
        "                                                loss_rpn_cls + loss_rpn_regr + loss_class_cls + loss_class_regr))\n",
        "                        target_text_file.write('\\t')\n",
        "\n",
        "                        curr_loss = loss_rpn_cls + loss_rpn_regr + loss_class_cls + loss_class_regr\n",
        "                        iter_num = 0\n",
        "                        start_time = time.time()\n",
        "\n",
        "                        if curr_loss < best_loss:\n",
        "                            if C.verbose:\n",
        "                                print('Total loss decreased from {} to {}, saving weights'.format(best_loss,curr_loss))\n",
        "                            best_loss = curr_loss\n",
        "                            model_all.save_weights(C.model_path)\n",
        "                        break\n",
        "\n",
        "                    losses[iter_num, 0] = loss_rpn[1]\n",
        "                    losses[iter_num, 1] = loss_rpn[2]\n",
        "                    losses[iter_num, 2] = loss_class[1]\n",
        "                    losses[iter_num, 3] = loss_class[2]\n",
        "                    losses[iter_num, 4] = loss_class[3]\n",
        "                    iter_num += 1\n",
        "\n",
        "                    progbar.update(iter_num, [('rpn_cls', np.mean(losses[:iter_num, 0])), ('rpn_regr', np.mean(losses[:iter_num, 1])),\n",
        "                                              ('detector_cls', np.mean(losses[:iter_num, 2])), ('detector_regr', np.mean(losses[:iter_num, 3]))])\n",
        "\n",
        "                except Exception as e:\n",
        "                    print('Exception: {}'.format(e))\n",
        "                    continue\n",
        "\n",
        "    except KeyboardInterrupt:\n",
        "        t1 = time.time()\n",
        "        print('\\nIt took {:.2f}s'.format(t1-t0))\n",
        "        sys.exit('Keyboard Interrupt')\n",
        "\n",
        "    print(\"training is done\")\n",
        "    print(\"-------------------------------\")\n",
        "    print('path to config file : {}'.format(C.config_filename))\n",
        "    print(\"-------------------------------\")\n",
        "\n",
        "if __name__ == '__main__':\n",
        "    main()\n",
        "```"
      ]
    },
    {
      "cell_type": "markdown",
      "metadata": {
        "id": "jfSaY-LKBj8X",
        "colab_type": "text"
      },
      "source": [
        "### 1. RPNの実装箇所"
      ]
    },
    {
      "cell_type": "markdown",
      "metadata": {
        "id": "zhE-1TzqBpYv",
        "colab_type": "text"
      },
      "source": [
        "```python\n",
        "# falster_rcnn.pyより\n",
        "def get_model(C, classes_count):\n",
        "    img_input = Input(shape=(None, None, 3))\n",
        "    roi_input = Input(shape=(C.num_rois, 4))\n",
        "\n",
        "    # define the base network (resnet here)\n",
        "    shared_layers = nn.nn_base(img_input, trainable=True)\n",
        "\n",
        "    # define the RPN, built on the base layers\n",
        "    num_anchors = len(C.anchor_box_scales) * len(C.anchor_box_ratios)\n",
        "    rpn = nn.rpn(shared_layers, num_anchors)\n",
        "\n",
        "    # define the classifer, built on the base layers\n",
        "    classifier = nn.classifier(shared_layers, roi_input, C.num_rois, nb_classes=len(classes_count), trainable=True)\n",
        "\n",
        "    # defining the models and a model that holds both the RPN and the classifier\n",
        "    model_rpn = Model(img_input, rpn[:2])\n",
        "    model_classifier = Model([img_input, roi_input], classifier)\n",
        "    model_all = Model([img_input, roi_input], rpn[:2] + classifier)\n",
        "\n",
        "    model_rpn.compile(optimizer=Adam(lr=1e-4), loss=[losses.rpn_loss_cls(num_anchors), losses.rpn_loss_regr(num_anchors)])\n",
        "    model_classifier.compile(optimizer=Adam(lr=1e-4), loss=[losses.class_loss_cls, losses.class_loss_regr(len(classes_count)-1)], metrics={'dense_class_{}'.format(len(classes_count)): 'accuracy'})\n",
        "    model_all.compile(optimizer='sgd', loss='mae')\n",
        "\n",
        "    return model_rpn, model_classifier, model_all\n",
        "\n",
        "```"
      ]
    },
    {
      "cell_type": "markdown",
      "metadata": {
        "id": "1bjqEFdcBJIX",
        "colab_type": "text"
      },
      "source": [
        "### 2. ROIプーリングの実装箇所"
      ]
    },
    {
      "cell_type": "markdown",
      "metadata": {
        "id": "O9imQ8EyBFDM",
        "colab_type": "text"
      },
      "source": [
        "```python\n",
        "# roi_helpers.pyより\n",
        "def rpn_to_roi(rpn_layer, regr_layer, C, dim_ordering, use_regr=True, max_boxes=300,overlap_thresh=0.9):\n",
        "\n",
        "    regr_layer = regr_layer / C.std_scaling\n",
        "\n",
        "    anchor_sizes = C.anchor_box_scales\n",
        "    anchor_ratios = C.anchor_box_ratios\n",
        "\n",
        "    assert rpn_layer.shape[0] == 1\n",
        "\n",
        "    if dim_ordering == 'channels_first':\n",
        "        (rows,cols) = rpn_layer.shape[2:]\n",
        "\n",
        "    elif dim_ordering == 'channels_last':\n",
        "        (rows, cols) = rpn_layer.shape[1:3]\n",
        "\n",
        "    curr_layer = 0\n",
        "    if dim_ordering == 'channels_last':\n",
        "        A = np.zeros((4, rpn_layer.shape[1], rpn_layer.shape[2], rpn_layer.shape[3]))\n",
        "    elif dim_ordering == 'channels_first':\n",
        "        A = np.zeros((4, rpn_layer.shape[2], rpn_layer.shape[3], rpn_layer.shape[1]))\n",
        "\n",
        "    for anchor_size in anchor_sizes:\n",
        "        for anchor_ratio in anchor_ratios:\n",
        "\n",
        "            anchor_x = (anchor_size * anchor_ratio[0])/C.rpn_stride\n",
        "            anchor_y = (anchor_size * anchor_ratio[1])/C.rpn_stride\n",
        "            if dim_ordering == 'channels_first':\n",
        "                regr = regr_layer[0, 4 * curr_layer:4 * curr_layer + 4, :, :]\n",
        "            else:\n",
        "                regr = regr_layer[0, :, :, 4 * curr_layer:4 * curr_layer + 4]\n",
        "                regr = np.transpose(regr, (2, 0, 1))\n",
        "\n",
        "            X, Y = np.meshgrid(np.arange(cols),np. arange(rows))\n",
        "\n",
        "            A[0, :, :, curr_layer] = X - anchor_x/2\n",
        "            A[1, :, :, curr_layer] = Y - anchor_y/2\n",
        "            A[2, :, :, curr_layer] = anchor_x\n",
        "            A[3, :, :, curr_layer] = anchor_y\n",
        "\n",
        "            if use_regr:\n",
        "                A[:, :, :, curr_layer] = apply_regr_np(A[:, :, :, curr_layer], regr)\n",
        "\n",
        "            A[2, :, :, curr_layer] = np.maximum(1, A[2, :, :, curr_layer])\n",
        "            A[3, :, :, curr_layer] = np.maximum(1, A[3, :, :, curr_layer])\n",
        "            A[2, :, :, curr_layer] += A[0, :, :, curr_layer]\n",
        "            A[3, :, :, curr_layer] += A[1, :, :, curr_layer]\n",
        "\n",
        "            A[0, :, :, curr_layer] = np.maximum(0, A[0, :, :, curr_layer])\n",
        "            A[1, :, :, curr_layer] = np.maximum(0, A[1, :, :, curr_layer])\n",
        "            A[2, :, :, curr_layer] = np.minimum(cols-1, A[2, :, :, curr_layer])\n",
        "            A[3, :, :, curr_layer] = np.minimum(rows-1, A[3, :, :, curr_layer])\n",
        "\n",
        "            curr_layer += 1\n",
        "\n",
        "    all_boxes = np.reshape(A.transpose((0, 3, 1,2)), (4, -1)).transpose((1, 0))\n",
        "    all_probs = rpn_layer.transpose((0, 3, 1, 2)).reshape((-1))\n",
        "\n",
        "    x1 = all_boxes[:, 0]\n",
        "    y1 = all_boxes[:, 1]\n",
        "    x2 = all_boxes[:, 2]\n",
        "    y2 = all_boxes[:, 3]\n",
        "\n",
        "    idxs = np.where((x1 - x2 >= 0) | (y1 - y2 >= 0))\n",
        "\n",
        "    all_boxes = np.delete(all_boxes, idxs, 0)\n",
        "    all_probs = np.delete(all_probs, idxs, 0)\n",
        "\n",
        "    result = non_max_suppression_fast(all_boxes, all_probs, overlap_thresh=overlap_thresh, max_boxes=max_boxes)[0]\n",
        "\n",
        "    return result\n",
        "\n",
        "```"
      ]
    },
    {
      "cell_type": "markdown",
      "metadata": {
        "id": "odT479_mCV11",
        "colab_type": "text"
      },
      "source": [
        "### 3.IOCの計算実装箇所"
      ]
    },
    {
      "cell_type": "markdown",
      "metadata": {
        "id": "-pzTtLy7CaEB",
        "colab_type": "text"
      },
      "source": [
        "```python\n",
        "#roi_helpers.pyより\n",
        "def calc_iou(R, img_data, C, class_mapping):\n",
        "    bboxes = img_data['bboxes']\n",
        "    (width, height) = (img_data['width'], img_data['height'])\n",
        "    # get image dimensions for resizing\n",
        "    resized_width, resized_height, _ = data_generators.get_new_img_size(width, height, C.im_size)\n",
        "\n",
        "    gta = np.zeros((len(bboxes), 4))\n",
        "\n",
        "    for bbox_num, bbox in enumerate(bboxes):\n",
        "        # get the GT box coordinates, and resize to account for image resizing\n",
        "        gta[bbox_num, 0] = int(round(bbox['x1'] * (resized_width / float(width))/C.rpn_stride))\n",
        "        gta[bbox_num, 1] = int(round(bbox['x2'] * (resized_width / float(width))/C.rpn_stride))\n",
        "        gta[bbox_num, 2] = int(round(bbox['y1'] * (resized_height / float(height))/C.rpn_stride))\n",
        "        gta[bbox_num, 3] = int(round(bbox['y2'] * (resized_height / float(height))/C.rpn_stride))\n",
        "\n",
        "    x_roi = []\n",
        "    y_class_num = []\n",
        "    y_class_regr_coords = []\n",
        "    y_class_regr_label = []\n",
        "\n",
        "    for ix in range(R.shape[0]):\n",
        "        (x1, y1, x2, y2) = R[ix, :]\n",
        "        x1 = int(round(x1))\n",
        "        y1 = int(round(y1))\n",
        "        x2 = int(round(x2))\n",
        "        y2 = int(round(y2))\n",
        "\n",
        "        best_iou = 0.0\n",
        "        best_bbox = -1\n",
        "        for bbox_num in range(len(bboxes)):\n",
        "            curr_iou = data_generators.iou([gta[bbox_num, 0], gta[bbox_num, 2], gta[bbox_num, 1], gta[bbox_num, 3]], [x1, y1, x2, y2])\n",
        "            if curr_iou > best_iou:\n",
        "                best_iou = curr_iou\n",
        "                best_bbox = bbox_num\n",
        "\n",
        "        if best_iou < C.classifier_min_overlap:\n",
        "                continue\n",
        "        else:\n",
        "            w = x2 - x1\n",
        "            h = y2 - y1\n",
        "            x_roi.append([x1, y1, w, h])\n",
        "\n",
        "            if C.classifier_min_overlap <= best_iou < C.classifier_max_overlap:\n",
        "                # hard negative example\n",
        "                cls_name = 'bg'\n",
        "            elif C.classifier_max_overlap <= best_iou:\n",
        "                cls_name = bboxes[best_bbox]['class']\n",
        "                cxg = (gta[best_bbox, 0] + gta[best_bbox, 1]) / 2.0\n",
        "                cyg = (gta[best_bbox, 2] + gta[best_bbox, 3]) / 2.0\n",
        "\n",
        "                cx = x1 + w / 2.0\n",
        "                cy = y1 + h / 2.0\n",
        "\n",
        "                tx = (cxg - cx) / float(w)\n",
        "                ty = (cyg - cy) / float(h)\n",
        "                tw = np.log((gta[best_bbox, 1] - gta[best_bbox, 0]) / float(w))\n",
        "                th = np.log((gta[best_bbox, 3] - gta[best_bbox, 2]) / float(h))\n",
        "            else:\n",
        "                print('roi = {}'.format(best_iou))\n",
        "                raise RuntimeError\n",
        "\n",
        "        class_num = class_mapping[cls_name]\n",
        "        class_label = len(class_mapping) * [0]\n",
        "        class_label[class_num] = 1\n",
        "        y_class_num.append(copy.deepcopy(class_label))\n",
        "        coords = [0] * 4 * (len(class_mapping) - 1)\n",
        "        labels = [0] * 4 * (len(class_mapping) - 1)\n",
        "        if cls_name != 'bg':\n",
        "            label_pos = 4 * class_num\n",
        "            sx, sy, sw, sh = C.classifier_regr_std\n",
        "            coords[label_pos:4+label_pos] = [sx*tx, sy*ty, sw*tw, sh*th]\n",
        "            labels[label_pos:4+label_pos] = [1, 1, 1, 1]\n",
        "            y_class_regr_coords.append(copy.deepcopy(coords))\n",
        "            y_class_regr_label.append(copy.deepcopy(labels))\n",
        "        else:\n",
        "            y_class_regr_coords.append(copy.deepcopy(coords))\n",
        "            y_class_regr_label.append(copy.deepcopy(labels))\n",
        "\n",
        "    if len(x_roi) == 0:\n",
        "        return None, None, None\n",
        "\n",
        "    X = np.array(x_roi)\n",
        "    Y1 = np.array(y_class_num)\n",
        "    Y2 = np.concatenate([np.array(y_class_regr_label),np.array(y_class_regr_coords)],axis=1)\n",
        "\n",
        "    return np.expand_dims(X, axis=0), np.expand_dims(Y1, axis=0), np.expand_dims(Y2, axis=0)\n",
        "```"
      ]
    },
    {
      "cell_type": "code",
      "metadata": {
        "id": "_zlkibwoClyt",
        "colab_type": "code",
        "colab": {}
      },
      "source": [
        ""
      ],
      "execution_count": null,
      "outputs": []
    }
  ]
}