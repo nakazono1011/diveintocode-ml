{
 "cells": [
  {
   "cell_type": "code",
   "execution_count": 52,
   "metadata": {},
   "outputs": [],
   "source": [
    "import numpy as np\n",
    "import matplotlib.pyplot as plt\n",
    "%matplotlib inline"
   ]
  },
  {
   "cell_type": "markdown",
   "metadata": {},
   "source": [
    "## 【問題1】1次関数\n",
    "$x$ が-50から50の範囲で次の式を考えます。\n",
    "\n",
    "$\n",
    "y=12x+1\n",
    "$\n",
    "\n",
    "-50から50まで0.1間隔のxを表すndarrayと、各要素に対するyを表すndarrayを作成してください。"
   ]
  },
  {
   "cell_type": "code",
   "execution_count": 53,
   "metadata": {},
   "outputs": [],
   "source": [
    "x = np.arange(-50, 50.1, 0.1)\n",
    "y = 0.5 * x + 1"
   ]
  },
  {
   "cell_type": "markdown",
   "metadata": {},
   "source": [
    "## 【問題2】配列の結合\n",
    "問題1で作成したndarrayを結合し、(1001, 2)の形の配列にしてください。\n",
    "\n",
    "0列目にx、1列目にyが来るようにします。"
   ]
  },
  {
   "cell_type": "code",
   "execution_count": 54,
   "metadata": {},
   "outputs": [],
   "source": [
    "x = x.reshape(-1, 1)\n",
    "y = y.reshape(-1, 1)\n",
    "\n",
    "xy = np.concatenate((x, y), axis=1)"
   ]
  },
  {
   "cell_type": "markdown",
   "metadata": {},
   "source": [
    "## 【問題3】勾配を求める\n",
    "各x座標における勾配を求めます。ここで勾配はyの変化量をxの変化量で割ることで計算します。\n",
    "\n",
    "<img src=\"https://t.gyazo.com/teams/diveintocode/7fd04c4808b8a0150a49c908e21f3cd2.png\">\n",
    "\n",
    "各変化量は以下の図のように隣同士の要素の差から近似的に求めます。\n",
    "\n",
    "<img src=\"https://t.gyazo.com/teams/diveintocode/398d8c5b4b1bd4151dea6488059226a1.png\">\n",
    "\n",
    "《注意》\n",
    "\n",
    "厳密に各点における勾配を求めるには極限（微分）を利用する必要があります\n",
    "勾配はx座標の間隔を使うので、xの要素数に対して一つ少なくなります"
   ]
  },
  {
   "cell_type": "code",
   "execution_count": 55,
   "metadata": {},
   "outputs": [],
   "source": [
    "dx = xy[1:, 0] - xy[:-1, 0]\n",
    "dy = xy[1:, 1] - xy[:-1, 1]\n",
    "\n",
    "grad = dy / dx"
   ]
  },
  {
   "cell_type": "markdown",
   "metadata": {},
   "source": [
    "## 【問題4】グラフを描く\n",
    "1次関数のグラフをMatplotlibを用いて描いてください。また、それとは別に横軸をx、縦軸を勾配としたグラフも描いてください。\n",
    "\n",
    "\n",
    "<a href=\"https://matplotlib.org/3.1.0/api/_as_gen/matplotlib.pyplot.plot.html\">matplotlib.pyplot.plot — Matplotlib 3.1.0 documentation</a>"
   ]
  },
  {
   "cell_type": "code",
   "execution_count": 56,
   "metadata": {},
   "outputs": [
    {
     "data": {
      "image/png": "[encoded data removed]",
      "text/plain": [
       "<Figure size 432x288 with 1 Axes>"
      ]
     },
     "metadata": {
      "needs_background": "light"
     },
     "output_type": "display_data"
    }
   ],
   "source": [
    "# 一次関数のグラフ\n",
    "plt.plot(x, y)\n",
    "\n",
    "# 横軸をx、縦軸を勾配としたグラフも描いてください。\n",
    "plt.plot(x[1:], grad)\n",
    "plt.grid()\n",
    "plt.show()"
   ]
  },
  {
   "cell_type": "markdown",
   "metadata": {},
   "source": [
    "## 【問題5】Pythonの関数化\n",
    "問題1から問題3までの範囲をまとめて行うPythonの関数を雛形を参考に作成してください。\n",
    "\n",
    "\n",
    "そして、以下の3式の勾配を0.1間隔で求めてndarrayで出力してください。\n",
    "\n",
    "$\n",
    "y=x^2(−50≤x≤50) \\\\\n",
    "y=2x^2+2x(−50≤x≤50) \\\\\n",
    "y=sin(x^{1/2})(0≤x≤50) \\\\\n",
    "$\n",
    "\n",
    "また、問題4と同様にグラフを描いてください。\n",
    "\n",
    "ndarrayに対して三角関数のsinの計算を行うには np.sin()を用います。\n"
   ]
  },
  {
   "cell_type": "code",
   "execution_count": 57,
   "metadata": {},
   "outputs": [],
   "source": [
    "def compute_gradient(function, x_range=(-50, 50.1, 0.1)):\n",
    "    \"\"\"\n",
    "      変化量を使い勾配を計算する。\n",
    "\n",
    "      Parameters\n",
    "      ----------------\n",
    "      function : function\n",
    "        求めたい関数、xのndarrayを入れるとyのndarrayを返すもの。\n",
    "      x_range : tuple\n",
    "        np.arange()の引数と同じ方法で範囲を指定する。\n",
    "\n",
    "      Returns\n",
    "      ----------------\n",
    "      array_xy : ndarray, shape(n, 2)\n",
    "        xとyを結合したもの。nはx_rangeに依存する。\n",
    "      gradient : ndarray, shape(n-1,)\n",
    "        関数の勾配。差をとるため要素は1つ減る\n",
    "     \"\"\"\n",
    "    x = np.arange(x_range[0], x_range[1], x_range[2]).reshape(-1, 1)\n",
    "    y = function(x).reshape(-1, 1)\n",
    "\n",
    "    array_xy = np.concatenate((x, y), axis=1)\n",
    "\n",
    "    dx = array_xy[1:, 0] - array_xy[:-1, 0]\n",
    "    dy = array_xy[1:, 1] - array_xy[:-1, 1]\n",
    "\n",
    "    gradient = dy / dx\n",
    "\n",
    "    return array_xy, gradient"
   ]
  },
  {
   "cell_type": "code",
   "execution_count": 58,
   "metadata": {},
   "outputs": [],
   "source": [
    "# y = x^2 の関数\n",
    "def f1(x):\n",
    "    return x ** 2\n",
    "\n",
    "# y = 2x^2 + 2^x の関数\n",
    "def f2(x):\n",
    "    return 2 * x ** 2 + 2**x\n",
    "\n",
    "# y = sin(x1/2) の関数\n",
    "def f3(x):\n",
    "    return np.sin(x ** 0.5)"
   ]
  },
  {
   "cell_type": "code",
   "execution_count": 59,
   "metadata": {},
   "outputs": [
    {
     "data": {
      "image/png": "[encoded data removed]",
      "text/plain": [
       "<Figure size 432x288 with 1 Axes>"
      ]
     },
     "metadata": {
      "needs_background": "light"
     },
     "output_type": "display_data"
    }
   ],
   "source": [
    "#各関数のX軸Y軸の座標および勾配を変数にセット\n",
    "f1_xy, f1_grad = compute_gradient(f1)\n",
    "f2_xy, f2_grad = compute_gradient(f2)\n",
    "f3_xy, f3_grad = compute_gradient(f3, (0, 50.1, 0.1))\n",
    "\n",
    "plt.plot(f1_xy[1:, 0], f1_grad, label=\"y=x^2\")\n",
    "plt.plot(f2_xy[1:, 0], f2_grad, label=\"y=2x^2+2^x\")\n",
    "plt.plot(f3_xy[1:, 0], f3_grad, label=\"y = sin(x1/2)\")\n",
    "plt.xlabel(\"x\")\n",
    "plt.ylabel(\"Gradient\")\n",
    "plt.grid()\n",
    "plt.legend()\n",
    "plt.show()"
   ]
  },
  {
   "cell_type": "markdown",
   "metadata": {},
   "source": [
    "## 【問題6】最小値を求める\n",
    "問題5で扱った関数のyの最小値を求めます。xの範囲も問題5と同様とします。\n",
    "\n",
    "今回は勾配降下法ではなく、ndarrayのminメソッド、argminメソッドを用いてください。\n",
    "\n",
    "minメソッドは最小値を、argminメソッドは最小値のインデックスを取得することができます。\n",
    "\n",
    "また、最小のyをとる前後の勾配を表示してください。"
   ]
  },
  {
   "cell_type": "code",
   "execution_count": 61,
   "metadata": {},
   "outputs": [
    {
     "name": "stdout",
     "output_type": "stream",
     "text": [
      "f1の最小値：0.00\n",
      "f1の最小値の前後の勾配： 前：-0.10　後：0.30\n",
      "\n",
      "f2の最小値：0.00\n",
      "f2の最小値の前後の勾配： 前：-0.50　後：-0.10\n",
      "\n",
      "f3の最小値：0.00\n",
      "f3の最小値の前後の勾配： 前：-55.50　後：-55.30\n"
     ]
    }
   ],
   "source": [
    "f1_min_val = np.min(f1_xy[:, 1])\n",
    "f1_min_idx = np.argmin(f1_xy[:, 1])\n",
    "print(\"f1の最小値：{:.2f}\".format(f1_min_val))\n",
    "print(\"f1の最小値の前後の勾配： 前：{:.2f}　後：{:.2f}\".format(f1_grad[f1_min_idx-1], f1_grad[f1_min_idx+1]))\n",
    "\n",
    "print()\n",
    "f2_min_val = np.min(f2_xy[:, 1])\n",
    "f2_min_idx = np.argmin(f2_xy[:, 1])\n",
    "print(\"f2の最小値：{:.2f}\".format(f1_min_val))\n",
    "print(\"f2の最小値の前後の勾配： 前：{:.2f}　後：{:.2f}\".format(f1_grad[f2_min_idx-1], f1_grad[f2_min_idx+1]))\n",
    "\n",
    "print()\n",
    "f3_min_val = np.min(f3_xy[:, 1])\n",
    "f3_min_idx = np.argmin(f3_xy[:, 1])\n",
    "print(\"f3の最小値：{:.2f}\".format(f1_min_val))\n",
    "print(\"f3の最小値の前後の勾配： 前：{:.2f}　後：{:.2f}\".format(f1_grad[f3_min_idx-1], f1_grad[f3_min_idx+1]))\n"
   ]
  }
 ],
 "metadata": {
  "kernelspec": {
   "display_name": "Python 3",
   "language": "python",
   "name": "python3"
  },
  "language_info": {
   "codemirror_mode": {
    "name": "ipython",
    "version": 3
   },
   "file_extension": ".py",
   "mimetype": "text/x-python",
   "name": "python",
   "nbconvert_exporter": "python",
   "pygments_lexer": "ipython3",
   "version": "3.7.4"
  },
  "toc": {
   "base_numbering": 1,
   "nav_menu": {},
   "number_sections": true,
   "sideBar": true,
   "skip_h1_title": false,
   "title_cell": "Table of Contents",
   "title_sidebar": "Contents",
   "toc_cell": false,
   "toc_position": {
    "height": "590.667px",
    "left": "1474.48px",
    "top": "109.778px",
    "width": "232.194px"
   },
   "toc_section_display": true,
   "toc_window_display": true
  },
  "varInspector": {
   "cols": {
    "lenName": 16,
    "lenType": 16,
    "lenVar": 40
   },
   "kernels_config": {
    "python": {
     "delete_cmd_postfix": "",
     "delete_cmd_prefix": "del ",
     "library": "var_list.py",
     "varRefreshCmd": "print(var_dic_list())"
    },
    "r": {
     "delete_cmd_postfix": ") ",
     "delete_cmd_prefix": "rm(",
     "library": "var_list.r",
     "varRefreshCmd": "cat(var_dic_list()) "
    }
   },
   "types_to_exclude": [
    "module",
    "function",
    "builtin_function_or_method",
    "instance",
    "_Feature"
   ],
   "window_display": false
  }
 },
 "nbformat": 4,
 "nbformat_minor": 2
}
