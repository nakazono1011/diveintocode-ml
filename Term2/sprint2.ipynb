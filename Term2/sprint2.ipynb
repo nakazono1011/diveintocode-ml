{
 "cells": [
  {
   "cell_type": "code",
   "execution_count": 2,
   "metadata": {},
   "outputs": [],
   "source": [
    "import numpy as np\n",
    "import pandas as pd\n",
    "import matplotlib.pyplot as plt\n",
    "%matplotlib inline\n",
    "import seaborn as sns"
   ]
  },
  {
   "cell_type": "markdown",
   "metadata": {},
   "source": [
    "# スクラッチ"
   ]
  },
  {
   "cell_type": "markdown",
   "metadata": {},
   "source": [
    "## 【問題1】train_test_splitのスクラッチ\n",
    "スクラッチの練習として、scikit-learnのtrain_test_splitを自作してみます。\n",
    "\n",
    "以下の雛形をベースとして関数を完成させてください。\n",
    "\n",
    "なお、作成した関数がscikit-learnのtrain_test_splitと同じ動作をしているか必ず確認をするようにしましょう。"
   ]
  },
  {
   "cell_type": "code",
   "execution_count": 54,
   "metadata": {},
   "outputs": [],
   "source": [
    "def scratch_train_test_split(X, y, random_state=0, train_size=0.75):\n",
    "    \"\"\"\n",
    "    検証データを分割する。\n",
    "\n",
    "    Parameters\n",
    "    ----------\n",
    "    X : 次の形のndarray, shape (n_samples, n_features)\n",
    "      訓練データ\n",
    "    y : 次の形のndarray, shape (n_samples, )\n",
    "      正解値\n",
    "    train_size : float (0<train_size<1)\n",
    "      何割をtrainとするか指定\n",
    "\n",
    "    Returns\n",
    "    ----------\n",
    "    X_train : 次の形のndarray, shape (n_samples, n_features)\n",
    "      訓練データ\n",
    "    X_test : 次の形のndarray, shape (n_samples, n_features)\n",
    "      検証データ\n",
    "    y_train : 次の形のndarray, shape (n_samples, )\n",
    "      訓練データの正解値\n",
    "    y_test : 次の形のndarray, shape (n_samples, )\n",
    "      検証データの正解値\n",
    "    \"\"\"\n",
    "    \n",
    "    #入力変数の整合性チェック\n",
    "    #行の不一致チェック\n",
    "    if len(X) != len(y):\n",
    "        raise ValueError(\"Found input variables with inconsistent numbers of samples: {}\".format((len(X), len(y))))\n",
    "    \n",
    "    #DataFrame型であれば型変換\n",
    "    if type(X) is pd.core.frame.DataFrame:\n",
    "        X = X.values\n",
    "    \n",
    "    if type(y) is  pd.core.frame.DataFrame:\n",
    "        y = y.values\n",
    "    \n",
    "    #学習データと検証データの行数を取得\n",
    "    num_all   = X.shape[0]\n",
    "    num_train = int(num_all * train_size)\n",
    "    num_test  = num_all - num_train\n",
    "    \n",
    "    #ランダムに振り分け\n",
    "    np.random.seed(random_state)\n",
    "    id_all = np.random.choice(num_all, num_all, replace=False)\n",
    "    id_train = id_all[:num_train]\n",
    "    id_test  = id_all[num_train:]\n",
    "    \n",
    "    #分割\n",
    "    X_train = X[id_train, :]\n",
    "    X_test  = X[id_test, :]\n",
    "    y_train = y[id_train]\n",
    "    y_test  = y[id_test]\n",
    "    \n",
    "    return X_train, X_test, y_train, y_test"
   ]
  },
  {
   "cell_type": "markdown",
   "metadata": {},
   "source": [
    "確認"
   ]
  },
  {
   "cell_type": "code",
   "execution_count": 62,
   "metadata": {},
   "outputs": [
    {
     "name": "stdout",
     "output_type": "stream",
     "text": [
      "sklearn.function \n",
      "\n",
      "\n",
      " [[10.28808714 12.90854701]\n",
      " [11.90017684  9.69728558]\n",
      " [10.6261354   8.29180852]\n",
      " [ 4.89402037 11.30723719]\n",
      " [14.53950925  7.09126865]\n",
      " [11.52207545 10.24335003]\n",
      " [10.88772647 10.66734865]] \n",
      "\n",
      " [[11.7288724   8.51566996]\n",
      " [ 9.7935623  10.821197  ]\n",
      " [12.98815815  9.58968347]] \n",
      "\n",
      " [[0.94374808 0.6818203 ]\n",
      " [0.0187898  0.6176355 ]\n",
      " [0.21038256 0.1289263 ]\n",
      " [0.31542835 0.36371077]\n",
      " [0.98837384 0.10204481]\n",
      " [0.3595079  0.43703195]\n",
      " [0.6976312  0.06022547]] \n",
      "\n",
      " [[0.57019677 0.43860151]\n",
      " [0.61209572 0.616934  ]\n",
      " [0.66676672 0.67063787]]\n",
      "****************************************\n",
      "scratch.function \n",
      "\n",
      "\n",
      " [[10.28808714 12.90854701]\n",
      " [11.7288724   8.51566996]\n",
      " [10.88772647 10.66734865]\n",
      " [14.53950925  7.09126865]\n",
      " [ 9.7935623  10.821197  ]\n",
      " [10.6261354   8.29180852]\n",
      " [ 4.89402037 11.30723719]] \n",
      "\n",
      " [[11.52207545 10.24335003]\n",
      " [11.90017684  9.69728558]\n",
      " [12.98815815  9.58968347]] \n",
      "\n",
      " [[0.94374808 0.6818203 ]\n",
      " [0.57019677 0.43860151]\n",
      " [0.6976312  0.06022547]\n",
      " [0.98837384 0.10204481]\n",
      " [0.61209572 0.616934  ]\n",
      " [0.21038256 0.1289263 ]\n",
      " [0.31542835 0.36371077]] \n",
      "\n",
      " [[0.3595079  0.43703195]\n",
      " [0.0187898  0.6176355 ]\n",
      " [0.66676672 0.67063787]]\n"
     ]
    }
   ],
   "source": [
    "from sklearn.model_selection import train_test_split\n",
    "\n",
    "X = np.random.normal(10, 2, (10, 2))\n",
    "y = np.random.rand(10,2)\n",
    "\n",
    "df_X = pd.DataFrame(data=X)\n",
    "df_y = pd.DataFrame(data=y)\n",
    "\n",
    "X_train, X_test, y_train, y_test = train_test_split(X, y)\n",
    "X_train_scratch, X_test_scratch, y_train_scratch, y_test_scratch = scratch_train_test_split(X, y)\n",
    "\n",
    "print(\"sklearn.function\", \"\\n\\n\\n\", X_train,\"\\n\\n\", X_test,\"\\n\\n\", y_train,\"\\n\\n\", y_test)\n",
    "print(\"*\"*40)\n",
    "print(\"scratch.function\", \"\\n\\n\\n\", X_train_scratch,\"\\n\\n\", X_test_scratch,\"\\n\\n\", y_train_scratch,\"\\n\\n\", y_test_scratch)"
   ]
  },
  {
   "cell_type": "markdown",
   "metadata": {},
   "source": [
    "# scikit-learnを用いて機械学習を行うコードを作成"
   ]
  },
  {
   "cell_type": "markdown",
   "metadata": {},
   "source": [
    "scikit-learnを使ったコードを作成していきます。\n",
    "\n",
    "\n",
    "検証データの分割には問題1で作成した自作の関数を用いてください。クロスバリデーションではなくホールドアウト法で構いません。\n",
    "\n",
    "\n",
    "分類問題\n",
    "分類は3種類の手法をスクラッチします。\n",
    "\n",
    "\n",
    "* ロジスティック回帰\n",
    "* SVM\n",
    "* 決定木\n",
    "\n",
    "ロジスティック回帰はscikit-learnにおいてLogisticRegressionクラスとSGDClassifierクラスの2種類から使用できます。\n",
    "ここでは勾配降下法を用いて計算するSGDClassifierクラスを利用してください。\n",
    "引数でloss=\"log\"とすることでロジスティック回帰の計算になります。\n",
    "\n",
    "\n",
    "データセットは3種類用意します。\n",
    "\n",
    "1つ目は事前学習期間同様にirisデータセットです。\n",
    "\n",
    "2値分類としたいため、以下の2つの目的変数のみ利用します。特徴量は4種類全て使います。\n",
    "\n",
    "* virgicolorとvirginica\n",
    "\n",
    "残り2つは特徴量が2つのデータセットを人工的に用意します。以下のコードで説明変数X,目的変数yが作成可能です。\n",
    "「シンプルデータセット1」「シンプルデータセット2」とします。特徴量が2つであるため可視化が容易です。"
   ]
  },
  {
   "cell_type": "markdown",
   "metadata": {},
   "source": [
    "## 【問題2】 分類問題を解くコードの作成\n",
    "上記3種類の手法で3種類のデータセットを学習・推定するコードを作成してください。"
   ]
  },
  {
   "cell_type": "markdown",
   "metadata": {},
   "source": [
    "### Irisデータセット"
   ]
  },
  {
   "cell_type": "code",
   "execution_count": 100,
   "metadata": {},
   "outputs": [],
   "source": [
    "from sklearn.datasets import load_iris\n",
    "from sklearn.linear_model import SGDClassifier\n",
    "from sklearn.svm import SVC\n",
    "from sklearn.tree import DecisionTreeClassifier\n",
    "from sklearn.metrics import confusion_matrix\n",
    "from sklearn.metrics import accuracy_score\n",
    "\n",
    "#データの準備\n",
    "iris_data = load_iris()\n",
    "X = iris_data.data[50:]\n",
    "y = iris_data.target[50:]"
   ]
  },
  {
   "cell_type": "code",
   "execution_count": 106,
   "metadata": {},
   "outputs": [
    {
     "name": "stdout",
     "output_type": "stream",
     "text": [
      "============ LogisticRegression ============\n",
      "confusion matrix: \n",
      " [[1 4]\n",
      " [3 2]]\n",
      "\n",
      "accuracy score; \n",
      " 0.3\n",
      "\n",
      "============ SVM ============\n",
      "confusion matrix: \n",
      " [[3 2]\n",
      " [2 3]]\n",
      "\n",
      "accuracy score; \n",
      " 0.6\n",
      "\n",
      "============ DecisionTree ============\n",
      "confusion matrix: \n",
      " [[5 0]\n",
      " [0 5]]\n",
      "\n",
      "accuracy score; \n",
      " 1.0\n",
      "\n"
     ]
    }
   ],
   "source": [
    "#ホールドアウト法での分割\n",
    "X_train, X_test, y_train, y_test = scratch_train_test_split(X, y)\n",
    "\n",
    "#ロジスティック回帰\n",
    "lr = SGDClassifier(loss=\"log\")\n",
    "lr.fit(X_train, y_train)\n",
    "pred = lr.predict(X_test)\n",
    "\n",
    "print(\"============ LogisticRegression ============\")\n",
    "print(\"confusion matrix:\",\"\\n\", confusion_matrix(y_test, pred))\n",
    "print()\n",
    "print(\"accuracy score;\",\"\\n\", accuracy_score(y_test, pred))\n",
    "print()\n",
    "\n",
    "#SVM\n",
    "svc = SVC()\n",
    "svc.fit(X_train, y_train)\n",
    "pred = svc.predict(X_test)\n",
    "\n",
    "print(\"============ SVM ============\")\n",
    "print(\"confusion matrix:\",\"\\n\", confusion_matrix(y_test, pred))\n",
    "print()\n",
    "print(\"accuracy score;\",\"\\n\", accuracy_score(y_test, pred))\n",
    "print()\n",
    "\n",
    "#決定木\n",
    "print(\"============ DecisionTree ============\")\n",
    "tree = DecisionTreeClassifier()\n",
    "tree.fit(X_train, y_train)\n",
    "pred = tree.predict(X_test)\n",
    "\n",
    "print(\"confusion matrix:\",\"\\n\", confusion_matrix(y_test, pred))\n",
    "print()\n",
    "print(\"accuracy score;\",\"\\n\", accuracy_score(y_test, pred))\n",
    "print()"
   ]
  },
  {
   "cell_type": "markdown",
   "metadata": {},
   "source": [
    "### シンプルデータセット作成コード１"
   ]
  },
  {
   "cell_type": "code",
   "execution_count": 114,
   "metadata": {},
   "outputs": [],
   "source": [
    "import numpy as np\n",
    "np.random.seed(seed=0)\n",
    "n_samples = 500\n",
    "f0 = [-1, 2]\n",
    "f1 = [2, -1]\n",
    "cov = [[1.0,0.8], [0.8, 1.0]]\n",
    "f0 = np.random.multivariate_normal(f0, cov, int(n_samples/2))\n",
    "f1 = np.random.multivariate_normal(f1, cov, int(n_samples/2))\n",
    "X = np.concatenate((f0, f1))\n",
    "y = np.concatenate((np.ones((int(n_samples/2))), np.ones((int(n_samples/2))) *(-1))).astype(np.int)\n",
    "random_index = np.random.permutation(np.arange(n_samples))\n",
    "X = X[random_index]\n",
    "y = y[random_index]"
   ]
  },
  {
   "cell_type": "code",
   "execution_count": 115,
   "metadata": {},
   "outputs": [
    {
     "name": "stdout",
     "output_type": "stream",
     "text": [
      "============ LogisticRegression ============\n",
      "confusion matrix: \n",
      " [[65  0]\n",
      " [ 0 60]]\n",
      "\n",
      "accuracy score; \n",
      " 1.0\n",
      "\n",
      "============ SVM ============\n",
      "confusion matrix: \n",
      " [[65  0]\n",
      " [ 0 60]]\n",
      "\n",
      "accuracy score; \n",
      " 1.0\n",
      "\n",
      "============ DecisionTree ============\n",
      "confusion matrix: \n",
      " [[65  0]\n",
      " [ 0 60]]\n",
      "\n",
      "accuracy score; \n",
      " 1.0\n",
      "\n"
     ]
    }
   ],
   "source": [
    "#ホールドアウト法での分割\n",
    "X_train, X_test, y_train, y_test = scratch_train_test_split(X, y)\n",
    "\n",
    "#ロジスティック回帰\n",
    "lr = SGDClassifier(loss=\"log\")\n",
    "lr.fit(X_train, y_train)\n",
    "pred = lr.predict(X_test)\n",
    "\n",
    "print(\"============ LogisticRegression ============\")\n",
    "print(\"confusion matrix:\",\"\\n\", confusion_matrix(y_test, pred))\n",
    "print()\n",
    "print(\"accuracy score;\",\"\\n\", accuracy_score(y_test, pred))\n",
    "print()\n",
    "\n",
    "#SVM\n",
    "svc = SVC()\n",
    "svc.fit(X_train, y_train)\n",
    "pred = svc.predict(X_test)\n",
    "\n",
    "print(\"============ SVM ============\")\n",
    "print(\"confusion matrix:\",\"\\n\", confusion_matrix(y_test, pred))\n",
    "print()\n",
    "print(\"accuracy score;\",\"\\n\", accuracy_score(y_test, pred))\n",
    "print()\n",
    "\n",
    "#決定木\n",
    "print(\"============ DecisionTree ============\")\n",
    "tree = DecisionTreeClassifier()\n",
    "tree.fit(X_train, y_train)\n",
    "pred = tree.predict(X_test)\n",
    "\n",
    "print(\"confusion matrix:\",\"\\n\", confusion_matrix(y_test, pred))\n",
    "print()\n",
    "print(\"accuracy score;\",\"\\n\", accuracy_score(y_test, pred))\n",
    "print()\n"
   ]
  },
  {
   "cell_type": "code",
   "execution_count": 121,
   "metadata": {},
   "outputs": [],
   "source": [
    "import matplotlib.pyplot as plt\n",
    "from matplotlib.colors import ListedColormap\n",
    "import matplotlib.patches as mpatches\n",
    "def decision_region(X, y, model, step=0.01, title='decision region', xlabel='xlabel', ylabel='ylabel', target_names=['0', '1']):\n",
    "    \"\"\"\n",
    "    2値分類を2次元の特徴量で学習したモデルの決定領域を描く。\n",
    "    背景の色が学習したモデルによる推定値から描画される。\n",
    "    散布図の点は訓練データまたは検証データである。\n",
    "\n",
    "    Parameters\n",
    "    ----------------\n",
    "    X : ndarray, shape(n_samples, 2)\n",
    "        特徴量\n",
    "    y : ndarray, shape(n_samples,)\n",
    "        ラベル\n",
    "    model : object\n",
    "        学習したモデルのインスンタスを入れる\n",
    "    step : float, (default : 0.1)\n",
    "        推定値を計算する間隔を設定する\n",
    "    title : str\n",
    "        グラフのタイトルの文章を与える\n",
    "    xlabel, ylabel : str\n",
    "        軸ラベルの文章を与える\n",
    "    target_names= : list of str\n",
    "        凡例の一覧を与える\n",
    "    \"\"\"\n",
    "    # setting\n",
    "    scatter_color = ['red', 'blue']\n",
    "    contourf_color = ['pink', 'skyblue']\n",
    "    n_class = 2\n",
    "    # pred\n",
    "    mesh_f0, mesh_f1  = np.meshgrid(np.arange(np.min(X[:,0])-0.5, np.max(X[:,0])+0.5, step), np.arange(np.min(X[:,1])-0.5, np.max(X[:,1])+0.5, step))\n",
    "    mesh = np.c_[np.ravel(mesh_f0),np.ravel(mesh_f1)]\n",
    "    y_pred = model.predict(mesh).reshape(mesh_f0.shape)\n",
    "    # plot\n",
    "    plt.title(title)\n",
    "    plt.xlabel(xlabel)\n",
    "    plt.ylabel(ylabel)\n",
    "    plt.contourf(mesh_f0, mesh_f1, y_pred, n_class-1, cmap=ListedColormap(contourf_color))\n",
    "    plt.contour(mesh_f0, mesh_f1, y_pred, n_class-1, colors='y', linewidths=3, alpha=0.5)\n",
    "    for i, target in enumerate(set(y)):\n",
    "        plt.scatter(X[y==target][:, 0], X[y==target][:, 1], s=80, color=scatter_color[i], label=target_names[i], marker='o')\n",
    "    patches = [mpatches.Patch(color=scatter_color[i], label=target_names[i]) for i in range(n_class)]\n",
    "    plt.legend(handles=patches)\n",
    "    plt.legend()\n",
    "    plt.show()\n"
   ]
  },
  {
   "cell_type": "code",
   "execution_count": 122,
   "metadata": {},
   "outputs": [
    {
     "data": {
      "image/png": "[encoded data removed]",
      "text/plain": [
       "<Figure size 432x288 with 1 Axes>"
      ]
     },
     "metadata": {
      "needs_background": "light"
     },
     "output_type": "display_data"
    },
    {
     "data": {
      "image/png": "[encoded data removed]",
      "text/plain": [
       "<Figure size 432x288 with 1 Axes>"
      ]
     },
     "metadata": {
      "needs_background": "light"
     },
     "output_type": "display_data"
    },
    {
     "data": {
      "image/png": "[encoded data removed]",
      "text/plain": [
       "<Figure size 432x288 with 1 Axes>"
      ]
     },
     "metadata": {
      "needs_background": "light"
     },
     "output_type": "display_data"
    }
   ],
   "source": [
    "decision_region(X_test, y_test, lr, title=\"Linear Legression\")\n",
    "decision_region(X_test, y_test, svc, title=\"SVM\")\n",
    "decision_region(X_test, y_test, tree, title=\"DecisionTree\")"
   ]
  },
  {
   "cell_type": "markdown",
   "metadata": {},
   "source": [
    "### シンプルデータセット２作成コード"
   ]
  },
  {
   "cell_type": "code",
   "execution_count": 123,
   "metadata": {},
   "outputs": [],
   "source": [
    "X = np.array([[-0.44699 , -2.8073  ],[-1.4621  , -2.4586  ],\n",
    "       [ 0.10645 ,  1.9242  ],[-3.5944  , -4.0112  ],\n",
    "       [-0.9888  ,  4.5718  ],[-3.1625  , -3.9606  ],\n",
    "       [ 0.56421 ,  0.72888 ],[-0.60216 ,  8.4636  ],\n",
    "       [-0.61251 , -0.75345 ],[-0.73535 , -2.2718  ],\n",
    "       [-0.80647 , -2.2135  ],[ 0.86291 ,  2.3946  ],\n",
    "       [-3.1108  ,  0.15394 ],[-2.9362  ,  2.5462  ],\n",
    "       [-0.57242 , -2.9915  ],[ 1.4771  ,  3.4896  ],\n",
    "       [ 0.58619 ,  0.37158 ],[ 0.6017  ,  4.3439  ],\n",
    "       [-2.1086  ,  8.3428  ],[-4.1013  , -4.353   ],\n",
    "       [-1.9948  , -1.3927  ],[ 0.35084 , -0.031994],\n",
    "       [ 0.96765 ,  7.8929  ],[-1.281   , 15.6824  ],\n",
    "       [ 0.96765 , 10.083   ],[ 1.3763  ,  1.3347  ],\n",
    "       [-2.234   , -2.5323  ],[-2.9452  , -1.8219  ],\n",
    "       [ 0.14654 , -0.28733 ],[ 0.5461  ,  5.8245  ],\n",
    "       [-0.65259 ,  9.3444  ],[ 0.59912 ,  5.3524  ],\n",
    "       [ 0.50214 , -0.31818 ],[-3.0603  , -3.6461  ],\n",
    "       [-6.6797  ,  0.67661 ],[-2.353   , -0.72261 ],\n",
    "       [ 1.1319  ,  2.4023  ],[-0.12243 ,  9.0162  ],\n",
    "       [-2.5677  , 13.1779  ],[ 0.057313,  5.4681  ]])\n",
    "y = np.array([0, 0, 0, 0, 0, 0, 0, 0, 0, 0, 0, 0, 0, 0, 0, 0, 0, 0, 0, 0, 1, 1,\n",
    "       1, 1, 1, 1, 1, 1, 1, 1, 1, 1, 1, 1, 1, 1, 1, 1, 1, 1])"
   ]
  },
  {
   "cell_type": "code",
   "execution_count": 124,
   "metadata": {},
   "outputs": [
    {
     "name": "stdout",
     "output_type": "stream",
     "text": [
      "============ LogisticRegression ============\n",
      "confusion matrix: \n",
      " [[1 4]\n",
      " [3 2]]\n",
      "\n",
      "accuracy score; \n",
      " 0.3\n",
      "\n",
      "============ SVM ============\n",
      "confusion matrix: \n",
      " [[3 2]\n",
      " [2 3]]\n",
      "\n",
      "accuracy score; \n",
      " 0.6\n",
      "\n",
      "============ DecisionTree ============\n",
      "confusion matrix: \n",
      " [[5 0]\n",
      " [0 5]]\n",
      "\n",
      "accuracy score; \n",
      " 1.0\n",
      "\n"
     ]
    }
   ],
   "source": [
    "#ホールドアウト法での分割\n",
    "X_train, X_test, y_train, y_test = scratch_train_test_split(X, y)\n",
    "\n",
    "#ロジスティック回帰\n",
    "lr = SGDClassifier(loss=\"log\")\n",
    "lr.fit(X_train, y_train)\n",
    "pred = lr.predict(X_test)\n",
    "\n",
    "print(\"============ LogisticRegression ============\")\n",
    "print(\"confusion matrix:\",\"\\n\", confusion_matrix(y_test, pred))\n",
    "print()\n",
    "print(\"accuracy score;\",\"\\n\", accuracy_score(y_test, pred))\n",
    "print()\n",
    "\n",
    "#SVM\n",
    "svc = SVC()\n",
    "svc.fit(X_train, y_train)\n",
    "pred = svc.predict(X_test)\n",
    "\n",
    "print(\"============ SVM ============\")\n",
    "print(\"confusion matrix:\",\"\\n\", confusion_matrix(y_test, pred))\n",
    "print()\n",
    "print(\"accuracy score;\",\"\\n\", accuracy_score(y_test, pred))\n",
    "print()\n",
    "\n",
    "#決定木\n",
    "print(\"============ DecisionTree ============\")\n",
    "tree = DecisionTreeClassifier()\n",
    "tree.fit(X_train, y_train)\n",
    "pred = tree.predict(X_test)\n",
    "\n",
    "print(\"confusion matrix:\",\"\\n\", confusion_matrix(y_test, pred))\n",
    "print()\n",
    "print(\"accuracy score;\",\"\\n\", accuracy_score(y_test, pred))\n",
    "print()\n"
   ]
  },
  {
   "cell_type": "code",
   "execution_count": 125,
   "metadata": {},
   "outputs": [
    {
     "data": {
      "image/png": "[encoded data removed]",
      "text/plain": [
       "<Figure size 432x288 with 1 Axes>"
      ]
     },
     "metadata": {
      "needs_background": "light"
     },
     "output_type": "display_data"
    },
    {
     "data": {
      "image/png": "[encoded data removed]",
      "text/plain": [
       "<Figure size 432x288 with 1 Axes>"
      ]
     },
     "metadata": {
      "needs_background": "light"
     },
     "output_type": "display_data"
    },
    {
     "data": {
      "image/png": "[encoded data removed]",
      "text/plain": [
       "<Figure size 432x288 with 1 Axes>"
      ]
     },
     "metadata": {
      "needs_background": "light"
     },
     "output_type": "display_data"
    }
   ],
   "source": [
    "decision_region(X_test, y_test, lr, title=\"Linear Legression\")\n",
    "decision_region(X_test, y_test, svc, title=\"SVM\")\n",
    "decision_region(X_test, y_test, tree, title=\"DecisionTree\")"
   ]
  },
  {
   "cell_type": "markdown",
   "metadata": {},
   "source": [
    "# 回帰問題\n",
    "回帰は1種類をスクラッチします。\n",
    "\n",
    "* 線形回帰\n",
    "\n",
    "線形回帰は勾配降下法を用いて計算するSGDRegressorクラスを利用してください。\n",
    "\n",
    "データセットは事前学習期間同様にHouse Pricesコンペティションのものを使います。\n",
    "\n",
    "[House Prices: Advanced Regression Techniques](https://www.kaggle.com/c/house-prices-advanced-regression-techniques/data)\n",
    "\n",
    "train.csvをダウンロードし、目的変数としてSalePrice、説明変数として、GrLivAreaとYearBuiltを使います。"
   ]
  },
  {
   "cell_type": "markdown",
   "metadata": {},
   "source": [
    "## 【問題3】 回帰問題を解くコードの作成\n",
    "線形回帰でHouse Pricesデータセットを学習・推定するコードを作成してください。"
   ]
  },
  {
   "cell_type": "code",
   "execution_count": 131,
   "metadata": {},
   "outputs": [],
   "source": [
    "train = pd.read_csv(\"train.csv\")\n",
    "X = train[[\"GrLivArea\", \"YearBuilt\"]]\n",
    "y = train[\"SalePrice\"]"
   ]
  },
  {
   "cell_type": "code",
   "execution_count": 132,
   "metadata": {},
   "outputs": [],
   "source": [
    "X_train, X_test, y_train, y_test = scratch_train_test_split(X, y)"
   ]
  },
  {
   "cell_type": "code",
   "execution_count": 133,
   "metadata": {},
   "outputs": [
    {
     "name": "stdout",
     "output_type": "stream",
     "text": [
      "========== LinearRegression ==========\n",
      "RMSE: \n",
      " 2376462963643899.5\n"
     ]
    }
   ],
   "source": [
    "from sklearn.linear_model import SGDRegressor\n",
    "from sklearn.metrics import mean_squared_error\n",
    "\n",
    "lrg = SGDRegressor()\n",
    "lrg.fit(X_train, y_train)\n",
    "pred = lrg.predict(X_test)\n",
    "\n",
    "rmse = np.sqrt(mean_squared_error(y_test, pred))\n",
    "print(\"========== LinearRegression ==========\")\n",
    "print(\"RMSE:\", \"\\n\", rmse)"
   ]
  }
 ],
 "metadata": {
  "kernelspec": {
   "display_name": "Python 3",
   "language": "python",
   "name": "python3"
  },
  "language_info": {
   "codemirror_mode": {
    "name": "ipython",
    "version": 3
   },
   "file_extension": ".py",
   "mimetype": "text/x-python",
   "name": "python",
   "nbconvert_exporter": "python",
   "pygments_lexer": "ipython3",
   "version": "3.7.4"
  },
  "toc": {
   "base_numbering": 1,
   "nav_menu": {},
   "number_sections": true,
   "sideBar": true,
   "skip_h1_title": false,
   "title_cell": "Table of Contents",
   "title_sidebar": "Contents",
   "toc_cell": false,
   "toc_position": {},
   "toc_section_display": true,
   "toc_window_display": false
  },
  "varInspector": {
   "cols": {
    "lenName": 16,
    "lenType": 16,
    "lenVar": 40
   },
   "kernels_config": {
    "python": {
     "delete_cmd_postfix": "",
     "delete_cmd_prefix": "del ",
     "library": "var_list.py",
     "varRefreshCmd": "print(var_dic_list())"
    },
    "r": {
     "delete_cmd_postfix": ") ",
     "delete_cmd_prefix": "rm(",
     "library": "var_list.r",
     "varRefreshCmd": "cat(var_dic_list()) "
    }
   },
   "types_to_exclude": [
    "module",
    "function",
    "builtin_function_or_method",
    "instance",
    "_Feature"
   ],
   "window_display": false
  }
 },
 "nbformat": 4,
 "nbformat_minor": 2
}
