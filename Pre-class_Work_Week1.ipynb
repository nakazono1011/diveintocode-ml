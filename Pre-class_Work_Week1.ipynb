{
 "cells": [
  {
   "cell_type": "markdown",
   "metadata": {},
   "source": [
    "### 【問題1】べき乗の算術演算子を使用して作成\n",
    "べき乗の算術演算子を使用したプログラムを作ってください。  \n",
    "\n",
    "雛形として紙を1回折った時の厚さを計算するコードを用意しました。  \n",
    "\n",
    "これを43回折った時のコードに書き換えてください。\n",
    "\n",
    "```python\n",
    "\"\"\"\n",
    "紙を1回折った時の厚さを計算するコード\n",
    "\"\"\"\n",
    "THICKNESS = 0.00008\n",
    "folded_thickness = THICKNESS*2\n",
    "print(\"厚さ： {}メートル\".format(folded_thickness))\n",
    "```"
   ]
  },
  {
   "cell_type": "code",
   "execution_count": 73,
   "metadata": {},
   "outputs": [
    {
     "name": "stdout",
     "output_type": "stream",
     "text": [
      "厚さ： 703687441.77664メートル\n"
     ]
    }
   ],
   "source": [
    "THICKNESS = 0.00008\n",
    "number_of_folds = 43\n",
    "folded_thickness = THICKNESS*2**number_of_folds\n",
    "print(\"厚さ： {}メートル\".format(folded_thickness))"
   ]
  },
  {
   "cell_type": "markdown",
   "metadata": {},
   "source": [
    "### 【問題2】単位の変換\n",
    "単位がメートルだと実感が湧きづらいので、◯◯万キロメートル に変換して表示させてください。\n",
    "\n",
    "サンプルとして ◯◯キロメートル に変換したコードを用意したので、参考にして取り組んでください。\n",
    "\n",
    "小数点以下は2桁まで表示されるようにも指定しています。\n",
    "\n",
    "```python\n",
    "# メートルをキロメートルに変換して小数点以下2桁で表示する\n",
    "print(\"厚さ： {:.2f}キロメートル\".format(folded_thickness/1000))\n",
    "\n",
    "```\n",
    "\n"
   ]
  },
  {
   "cell_type": "code",
   "execution_count": 74,
   "metadata": {},
   "outputs": [
    {
     "name": "stdout",
     "output_type": "stream",
     "text": [
      "厚さ： 703687.44キロメートル\n"
     ]
    }
   ],
   "source": [
    "THICKNESS = 0.00008\n",
    "number_of_folds = 43\n",
    "folded_thickness = THICKNESS*2**number_of_folds\n",
    "print(\"厚さ： {:.2f}キロメートル\".format(folded_thickness/1000))"
   ]
  },
  {
   "cell_type": "markdown",
   "metadata": {},
   "source": [
    "### 【問題3】for文を使用して作成\n",
    "次に、for文を使用したプログラムを作ってください。\n",
    "\n",
    "べき乗の算術演算子は使ってはいけません。算術演算子は四則演算**（+、-、*、/）**のみ使えます。\n",
    "\n",
    "《ヒント》\n",
    "\n",
    "べき乗は以下のように掛け算の繰り返しに置き換えることができます。\n",
    "\n",
    "$2^3=2×2×2\\\\\n",
    "2^5=2×2×2×2×2$"
   ]
  },
  {
   "cell_type": "code",
   "execution_count": 75,
   "metadata": {},
   "outputs": [
    {
     "name": "stdout",
     "output_type": "stream",
     "text": [
      "厚さ： 703687.44キロメートル\n"
     ]
    }
   ],
   "source": [
    "THICKNESS = 0.00008\n",
    "number_of_folds = 43\n",
    "folded_thickness = THICKNESS\n",
    "\n",
    "for _ in range(number_of_folds):\n",
    "    folded_thickness *= 2\n",
    "    \n",
    "print(\"厚さ： {:.2f}キロメートル\".format(folded_thickness/1000))"
   ]
  },
  {
   "cell_type": "markdown",
   "metadata": {},
   "source": [
    "### 【問題4】計算時間の比較\n",
    "2つの方法はどちらが正しいわけでもありませんが、コードの良さを評価する際には以下のような着目点があります。\n",
    "\n",
    "\n",
    "* 計算速度\n",
    "* メモリの使用量\n",
    "* 可読性\n",
    "* 拡張性\n",
    "* 再利用性\n",
    "\n",
    "今回は計算速度を比較してみます。以下の雛形を使用して、2つの方法の計算時間を出力してください。\n",
    "\n",
    "そして、それぞれの計算時間の関係を簡単に説明してください。どちらの書き方が良さそうでしょうか。\n",
    "\n",
    "なお、変数の定義やprint文など、どちらの方法でも使われている部分は除いた範囲の時間を比較してください。\n",
    "\n",
    "**《雛形》**\n",
    "\n",
    "timeモジュールを用いることで現在の時間を取得できます。比較したい箇所の前後の時間の差を計算することで、実行時間を求めます。\n",
    "\n",
    "```python\n",
    "import time\n",
    "start = time.time()\n",
    "#####\n",
    "# ここに比較したいコードを貼り付ける\n",
    "#####\n",
    "elapsed_time = time.time() - start\n",
    "print(\"time : {}[s]\".format(elapsed_time))\n",
    "```"
   ]
  },
  {
   "cell_type": "code",
   "execution_count": 124,
   "metadata": {},
   "outputs": [
    {
     "name": "stdout",
     "output_type": "stream",
     "text": [
      "べき乗計算による処理時間は : 0.0000000000[s]\n"
     ]
    }
   ],
   "source": [
    "import time\n",
    "#べき乗計算の場合\n",
    "start = time.time()\n",
    "\n",
    "THICKNESS = 0.00008\n",
    "number_of_folds = 1000\n",
    "folded_thickness = THICKNESS*2**number_of_folds\n",
    "\n",
    "elapsed_time = time.time() - start\n",
    "print(\"べき乗計算による処理時間は : {:.10f}[s]\".format(elapsed_time))\n"
   ]
  },
  {
   "cell_type": "code",
   "execution_count": 125,
   "metadata": {},
   "outputs": [
    {
     "name": "stdout",
     "output_type": "stream",
     "text": [
      "for 文計算による処理時間は : 0.0000000000[s]\n"
     ]
    }
   ],
   "source": [
    "import time\n",
    "#for文計算の場合\n",
    "start = time.time()\n",
    "\n",
    "THICKNESS = 0.00008\n",
    "number_of_folds = 1000\n",
    "folded_thickness = THICKNESS\n",
    "\n",
    "for _ in range(number_of_folds):\n",
    "    folded_thickness *= 2\n",
    "    \n",
    "elapsed_time = time.time() - start\n",
    "print(\"for 文計算による処理時間は : {:.10f}[s]\".format(elapsed_time))"
   ]
  },
  {
   "cell_type": "markdown",
   "metadata": {},
   "source": [
    "**《発展：マジックコマンドを使う》**\n",
    "\n",
    "計算時間は実行するたびに変化します。そのため、複数回計測することが一般的です。timeモジュールとfor文を組み合わせることで実現できる他、\n",
    "\n",
    "Jupyter Notebookでは%timeitという マジックコマンド でも計測が可能です。マジックコマンドはPythonのプログラムとは別に用意された、Jupyter \n",
    "\n",
    "Notebookを便利にするための機能です。"
   ]
  },
  {
   "cell_type": "code",
   "execution_count": 131,
   "metadata": {},
   "outputs": [
    {
     "name": "stdout",
     "output_type": "stream",
     "text": [
      "563 ns ± 172 ns per loop (mean ± std. dev. of 7 runs, 1000000 loops each)\n"
     ]
    }
   ],
   "source": [
    "%%timeit\n",
    "#####\n",
    "THICKNESS = 0.00008\n",
    "number_of_folds = 43\n",
    "folded_thickness = THICKNESS*2**number_of_folds\n",
    "#####"
   ]
  },
  {
   "cell_type": "code",
   "execution_count": 130,
   "metadata": {},
   "outputs": [
    {
     "name": "stdout",
     "output_type": "stream",
     "text": [
      "70.1 µs ± 23.4 µs per loop (mean ± std. dev. of 7 runs, 10000 loops each)\n"
     ]
    }
   ],
   "source": [
    "%%timeit\n",
    "#####\n",
    "THICKNESS = 0.00008\n",
    "number_of_folds = 43\n",
    "folded_thickness = THICKNESS\n",
    "\n",
    "for _ in range(number_of_folds):\n",
    "    folded_thickness *= 2\n",
    "#####"
   ]
  },
  {
   "cell_type": "markdown",
   "metadata": {},
   "source": [
    "# 過程の可視化\n",
    "\n",
    "折り曲げた時の厚さを毎回記録しておき、それを折れ線グラフで可視化してみます。\n",
    "\n",
    "\n",
    "数式を一般化し、n回折った紙の厚さ $t_{n}$ は以下のように表せます。\n",
    "\n",
    "\n",
    "$t_{n}$ = $t_{0}$ × $2^n$\n",
    "\n",
    "これは指数関数です。指数関数は値が急激に増加する性質があります。厚さが急激に増えて月に到達する様子をグラフで見てみましょう。"
   ]
  },
  {
   "cell_type": "markdown",
   "metadata": {},
   "source": [
    "### 【問題5】リストへの保存\n",
    "ここまでは43回折った後の最後の値だけを使用していましたが、グラフで可視化するためには過程の値も必要です。\n",
    "\n",
    "for文を使用したコードに、過程の値合計44個を記録するコードを加えてください。\n",
    "\n",
    "\n",
    "《ヒント》\n",
    "\n",
    "* 空のリストを作成する。\n",
    "* 折る前の値をリストに追加する。\n",
    "* for文の中でn回折った時の値をリストに追加していく。\n",
    "\n",
    "最終的にリストに44個の値が格納されていることをlen関数を用いて確認しておきましょう。"
   ]
  },
  {
   "cell_type": "code",
   "execution_count": 165,
   "metadata": {},
   "outputs": [
    {
     "name": "stdout",
     "output_type": "stream",
     "text": [
      "44\n"
     ]
    }
   ],
   "source": [
    "THICKNESS = 0.00008\n",
    "\n",
    "#n回折ったときのリストを作成する\n",
    "thickness_list = [THICKNESS * 2 ** i for i in range(0, 44)]\n",
    "\n",
    "#リストの格納数を確認\n",
    "print(len(thickness_list))"
   ]
  },
  {
   "cell_type": "markdown",
   "metadata": {},
   "source": [
    "### 【問題6】折れ線グラフの表示\n",
    "グラフの描画には Matplotlib という ライブラリ を用います。\n",
    "\n",
    "リストへ記録するコードの後ろで以下の雛形を使用してください。\n",
    "\n",
    "```python\n",
    "\"\"\"\n",
    "グラフを表示する。タイトルと軸ラベル名付き。\n",
    "\"\"\"\n",
    "import matplotlib.pyplot as plt\n",
    "%matplotlib inline\n",
    "plt.title(\"thickness of folded paper\")\n",
    "plt.xlabel(\"number of folds\")\n",
    "plt.ylabel(\"thickness[m]\")\n",
    "plt.plot(リスト名) # 「リスト名」のところにリストの変数名を入れる\n",
    "plt.show()\n",
    "```"
   ]
  },
  {
   "cell_type": "code",
   "execution_count": 168,
   "metadata": {},
   "outputs": [
    {
     "data": {
      "image/png": "[encoded data removed]",
      "text/plain": [
       "<Figure size 432x288 with 1 Axes>"
      ]
     },
     "metadata": {
      "needs_background": "light"
     },
     "output_type": "display_data"
    }
   ],
   "source": [
    "import matplotlib.pyplot as plt\n",
    "%matplotlib inline\n",
    "\n",
    "plt.title(\"thickness of folded paper\")\n",
    "plt.xlabel(\"number of folds\")\n",
    "plt.ylabel(\"thickness[m]\")\n",
    "plt.plot(thickness_list) \n",
    "plt.show()"
   ]
  },
  {
   "cell_type": "markdown",
   "metadata": {},
   "source": [
    "### 【問題7】グラフのカスタマイズ\n",
    "グラフをより見やすくカスタマイズしてみましょう。カスタマイズしたグラフを最低3種類作成してください。\n",
    "\n",
    "例えば以下のように書き換えることで、線の色を赤に変更できます。\n",
    "\n",
    "《サンプルコード》\n",
    "\n",
    "```python\n",
    "\"\"\"\n",
    "赤い折れ線グラフを表示する。\n",
    "\"\"\"\n",
    "plt.title(\"thickness of folded paper\")\n",
    "plt.xlabel(\"number of folds\")\n",
    "plt.ylabel(\"thickness[m]\")\n",
    "plt.plot(リスト名, color='red')\n",
    "plt.show()\n",
    "```\n",
    "**<参考URL>**\n",
    "\n",
    "<a href=\"https://matplotlib.org/2.1.1/api/_as_gen/matplotlib.pyplot.tick_params.html\">matplotlib.pyplot.tick_params — Matplotlib 2.1.1 documentation"
   ]
  },
  {
   "cell_type": "code",
   "execution_count": 184,
   "metadata": {},
   "outputs": [
    {
     "data": {
      "image/png": "[encoded data removed]",
      "text/plain": [
       "<Figure size 432x288 with 1 Axes>"
      ]
     },
     "metadata": {
      "needs_background": "light"
     },
     "output_type": "display_data"
    }
   ],
   "source": [
    "# △ マーカーを指定し黒色にしてみる\n",
    "\n",
    "import matplotlib.pyplot as plt\n",
    "%matplotlib inline\n",
    "\n",
    "plt.title(\"thickness of folded paper\")\n",
    "plt.xlabel(\"number of folds\")\n",
    "plt.ylabel(\"thickness[m]\")\n",
    "plt.plot(thickness_list, marker=\"^\", color=\"black\") \n",
    "plt.show()"
   ]
  },
  {
   "cell_type": "code",
   "execution_count": 175,
   "metadata": {},
   "outputs": [
    {
     "data": {
      "image/png": "[encoded data removed]",
      "text/plain": [
       "<Figure size 432x288 with 1 Axes>"
      ]
     },
     "metadata": {
      "needs_background": "light"
     },
     "output_type": "display_data"
    }
   ],
   "source": [
    "#タイトルの代わりに凡例をつける\n",
    "\n",
    "import matplotlib.pyplot as plt\n",
    "%matplotlib inline\n",
    "\n",
    "plt.xlabel(\"number of folds\")\n",
    "plt.ylabel(\"thickness[m]\")\n",
    "plt.plot(thickness_list, label=\"thickness of folded paper\") \n",
    "plt.legend()\n",
    "plt.show()"
   ]
  },
  {
   "cell_type": "code",
   "execution_count": 185,
   "metadata": {},
   "outputs": [
    {
     "data": {
      "image/png": "[encoded data removed]",
      "text/plain": [
       "<Figure size 432x288 with 1 Axes>"
      ]
     },
     "metadata": {
      "needs_background": "light"
     },
     "output_type": "display_data"
    }
   ],
   "source": [
    "# 線の種類を点線にする\n",
    "\n",
    "import matplotlib.pyplot as plt\n",
    "%matplotlib inline\n",
    "\n",
    "plt.title(\"thickness of folded paper\")\n",
    "plt.xlabel(\"number of folds\")\n",
    "plt.ylabel(\"thickness[m]\")\n",
    "plt.plot(thickness_list, linestyle=\"-.\") \n",
    "plt.show()"
   ]
  }
 ],
 "metadata": {
  "kernelspec": {
   "display_name": "Python 3",
   "language": "python",
   "name": "python3"
  },
  "language_info": {
   "codemirror_mode": {
    "name": "ipython",
    "version": 3
   },
   "file_extension": ".py",
   "mimetype": "text/x-python",
   "name": "python",
   "nbconvert_exporter": "python",
   "pygments_lexer": "ipython3",
   "version": "3.7.4"
  }
 },
 "nbformat": 4,
 "nbformat_minor": 2
}
